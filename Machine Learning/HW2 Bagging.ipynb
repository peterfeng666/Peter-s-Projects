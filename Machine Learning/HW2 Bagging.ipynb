{
 "cells": [
  {
   "cell_type": "code",
   "execution_count": 138,
   "metadata": {
    "ExecuteTime": {
     "end_time": "2020-01-27T20:44:20.271848Z",
     "start_time": "2020-01-27T20:44:16.145732Z"
    }
   },
   "outputs": [],
   "source": [
    "import pandas as pd\n",
    "import numpy as np\n",
    "import matplotlib.pyplot as plt\n",
    "%matplotlib inline\n",
    "from sklearn.metrics import accuracy_score, confusion_matrix\n",
    "from sklearn.tree import DecisionTreeClassifier\n",
    "from sklearn.ensemble import BaggingClassifier\n",
    "pd.set_option('use_inf_as_na', True)\n",
    "from collections import Counter\n",
    "from scipy.cluster import hierarchy as hc\n",
    "import scipy.stats"
   ]
  },
  {
   "cell_type": "code",
   "execution_count": 53,
   "metadata": {
    "ExecuteTime": {
     "end_time": "2020-01-27T20:44:22.744751Z",
     "start_time": "2020-01-27T20:44:21.440021Z"
    }
   },
   "outputs": [],
   "source": [
    "raw_data = pd.read_pickle(r'/Users/peterfeng/Downloads/UChicago 2022 Winter/Machine Learning/Week 2/HW1/dataset.pkl')"
   ]
  },
  {
   "cell_type": "code",
   "execution_count": 114,
   "metadata": {
    "ExecuteTime": {
     "end_time": "2020-01-27T20:44:27.724385Z",
     "start_time": "2020-01-27T20:44:27.133097Z"
    }
   },
   "outputs": [],
   "source": [
    "# restricting to companies with Market Cap > 1 Billion\n",
    "data = raw_data[raw_data['market_cap'] > 1000.0]\n",
    "data = data.copy()\n",
    "data.fillna(0.0,inplace=True)"
   ]
  },
  {
   "cell_type": "code",
   "execution_count": 116,
   "metadata": {
    "ExecuteTime": {
     "end_time": "2020-01-27T20:44:31.762862Z",
     "start_time": "2020-01-27T20:44:31.259862Z"
    }
   },
   "outputs": [
    {
     "data": {
      "text/html": [
       "<div>\n",
       "<style scoped>\n",
       "    .dataframe tbody tr th:only-of-type {\n",
       "        vertical-align: middle;\n",
       "    }\n",
       "\n",
       "    .dataframe tbody tr th {\n",
       "        vertical-align: top;\n",
       "    }\n",
       "\n",
       "    .dataframe thead th {\n",
       "        text-align: right;\n",
       "    }\n",
       "</style>\n",
       "<table border=\"1\" class=\"dataframe\">\n",
       "  <thead>\n",
       "    <tr style=\"text-align: right;\">\n",
       "      <th></th>\n",
       "      <th></th>\n",
       "      <th>actq</th>\n",
       "      <th>apq</th>\n",
       "      <th>atq</th>\n",
       "      <th>ceqq</th>\n",
       "      <th>cheq</th>\n",
       "      <th>cogsq</th>\n",
       "      <th>csh12q</th>\n",
       "      <th>cshfdq</th>\n",
       "      <th>cshiq</th>\n",
       "      <th>cshopq</th>\n",
       "      <th>...</th>\n",
       "      <th>sector_code_817.0</th>\n",
       "      <th>sector_code_822.0</th>\n",
       "      <th>sector_code_823.0</th>\n",
       "      <th>sector_code_825.0</th>\n",
       "      <th>sector_code_830.0</th>\n",
       "      <th>sector_code_835.0</th>\n",
       "      <th>sector_code_840.0</th>\n",
       "      <th>sector_code_845.0</th>\n",
       "      <th>sector_code_850.0</th>\n",
       "      <th>rel_performance</th>\n",
       "    </tr>\n",
       "    <tr>\n",
       "      <th>date</th>\n",
       "      <th>ticker</th>\n",
       "      <th></th>\n",
       "      <th></th>\n",
       "      <th></th>\n",
       "      <th></th>\n",
       "      <th></th>\n",
       "      <th></th>\n",
       "      <th></th>\n",
       "      <th></th>\n",
       "      <th></th>\n",
       "      <th></th>\n",
       "      <th></th>\n",
       "      <th></th>\n",
       "      <th></th>\n",
       "      <th></th>\n",
       "      <th></th>\n",
       "      <th></th>\n",
       "      <th></th>\n",
       "      <th></th>\n",
       "      <th></th>\n",
       "      <th></th>\n",
       "      <th></th>\n",
       "    </tr>\n",
       "  </thead>\n",
       "  <tbody>\n",
       "    <tr>\n",
       "      <th rowspan=\"2\" valign=\"top\">2000-02-09</th>\n",
       "      <th>CSCO</th>\n",
       "      <td>7722.000</td>\n",
       "      <td>482.000</td>\n",
       "      <td>21391.000</td>\n",
       "      <td>16523.000</td>\n",
       "      <td>3968.000</td>\n",
       "      <td>1422.000</td>\n",
       "      <td>3374.1250</td>\n",
       "      <td>3648.000</td>\n",
       "      <td>3445.000</td>\n",
       "      <td>0.000</td>\n",
       "      <td>...</td>\n",
       "      <td>0</td>\n",
       "      <td>0</td>\n",
       "      <td>0</td>\n",
       "      <td>0</td>\n",
       "      <td>0</td>\n",
       "      <td>0</td>\n",
       "      <td>0</td>\n",
       "      <td>0</td>\n",
       "      <td>0</td>\n",
       "      <td>-1</td>\n",
       "    </tr>\n",
       "    <tr>\n",
       "      <th>ROP</th>\n",
       "      <td>172.725</td>\n",
       "      <td>19.662</td>\n",
       "      <td>474.649</td>\n",
       "      <td>239.432</td>\n",
       "      <td>3.198</td>\n",
       "      <td>47.634</td>\n",
       "      <td>30.2688</td>\n",
       "      <td>31.217</td>\n",
       "      <td>0.000</td>\n",
       "      <td>0.000</td>\n",
       "      <td>...</td>\n",
       "      <td>0</td>\n",
       "      <td>0</td>\n",
       "      <td>0</td>\n",
       "      <td>0</td>\n",
       "      <td>0</td>\n",
       "      <td>0</td>\n",
       "      <td>0</td>\n",
       "      <td>0</td>\n",
       "      <td>0</td>\n",
       "      <td>1</td>\n",
       "    </tr>\n",
       "    <tr>\n",
       "      <th>2000-02-10</th>\n",
       "      <th>CMOS</th>\n",
       "      <td>240.767</td>\n",
       "      <td>27.044</td>\n",
       "      <td>376.536</td>\n",
       "      <td>209.411</td>\n",
       "      <td>68.625</td>\n",
       "      <td>43.023</td>\n",
       "      <td>21.4360</td>\n",
       "      <td>23.753</td>\n",
       "      <td>0.000</td>\n",
       "      <td>0.000</td>\n",
       "      <td>...</td>\n",
       "      <td>0</td>\n",
       "      <td>0</td>\n",
       "      <td>0</td>\n",
       "      <td>0</td>\n",
       "      <td>0</td>\n",
       "      <td>0</td>\n",
       "      <td>0</td>\n",
       "      <td>0</td>\n",
       "      <td>0</td>\n",
       "      <td>1</td>\n",
       "    </tr>\n",
       "    <tr>\n",
       "      <th>2000-02-11</th>\n",
       "      <th>DELL</th>\n",
       "      <td>7681.000</td>\n",
       "      <td>3538.000</td>\n",
       "      <td>11471.000</td>\n",
       "      <td>5308.000</td>\n",
       "      <td>4132.000</td>\n",
       "      <td>5452.000</td>\n",
       "      <td>2536.0000</td>\n",
       "      <td>2731.000</td>\n",
       "      <td>2575.000</td>\n",
       "      <td>0.000</td>\n",
       "      <td>...</td>\n",
       "      <td>0</td>\n",
       "      <td>0</td>\n",
       "      <td>0</td>\n",
       "      <td>0</td>\n",
       "      <td>0</td>\n",
       "      <td>0</td>\n",
       "      <td>0</td>\n",
       "      <td>0</td>\n",
       "      <td>0</td>\n",
       "      <td>1</td>\n",
       "    </tr>\n",
       "    <tr>\n",
       "      <th>2000-02-15</th>\n",
       "      <th>VAL</th>\n",
       "      <td>507.082</td>\n",
       "      <td>139.497</td>\n",
       "      <td>1094.080</td>\n",
       "      <td>402.382</td>\n",
       "      <td>27.605</td>\n",
       "      <td>221.366</td>\n",
       "      <td>43.1858</td>\n",
       "      <td>43.687</td>\n",
       "      <td>53.321</td>\n",
       "      <td>0.000</td>\n",
       "      <td>...</td>\n",
       "      <td>0</td>\n",
       "      <td>0</td>\n",
       "      <td>0</td>\n",
       "      <td>0</td>\n",
       "      <td>0</td>\n",
       "      <td>0</td>\n",
       "      <td>0</td>\n",
       "      <td>0</td>\n",
       "      <td>0</td>\n",
       "      <td>1</td>\n",
       "    </tr>\n",
       "    <tr>\n",
       "      <th>...</th>\n",
       "      <th>...</th>\n",
       "      <td>...</td>\n",
       "      <td>...</td>\n",
       "      <td>...</td>\n",
       "      <td>...</td>\n",
       "      <td>...</td>\n",
       "      <td>...</td>\n",
       "      <td>...</td>\n",
       "      <td>...</td>\n",
       "      <td>...</td>\n",
       "      <td>...</td>\n",
       "      <td>...</td>\n",
       "      <td>...</td>\n",
       "      <td>...</td>\n",
       "      <td>...</td>\n",
       "      <td>...</td>\n",
       "      <td>...</td>\n",
       "      <td>...</td>\n",
       "      <td>...</td>\n",
       "      <td>...</td>\n",
       "      <td>...</td>\n",
       "      <td>...</td>\n",
       "    </tr>\n",
       "    <tr>\n",
       "      <th rowspan=\"4\" valign=\"top\">2018-12-21</th>\n",
       "      <th>NKE</th>\n",
       "      <td>15566.000</td>\n",
       "      <td>2574.000</td>\n",
       "      <td>22677.000</td>\n",
       "      <td>8729.000</td>\n",
       "      <td>4041.000</td>\n",
       "      <td>5098.000</td>\n",
       "      <td>1601.1500</td>\n",
       "      <td>1620.700</td>\n",
       "      <td>1577.000</td>\n",
       "      <td>16.108</td>\n",
       "      <td>...</td>\n",
       "      <td>0</td>\n",
       "      <td>0</td>\n",
       "      <td>0</td>\n",
       "      <td>0</td>\n",
       "      <td>0</td>\n",
       "      <td>0</td>\n",
       "      <td>0</td>\n",
       "      <td>0</td>\n",
       "      <td>0</td>\n",
       "      <td>-1</td>\n",
       "    </tr>\n",
       "    <tr>\n",
       "      <th>SAFM</th>\n",
       "      <td>566.489</td>\n",
       "      <td>128.936</td>\n",
       "      <td>1659.440</td>\n",
       "      <td>1387.893</td>\n",
       "      <td>121.193</td>\n",
       "      <td>758.313</td>\n",
       "      <td>22.4290</td>\n",
       "      <td>22.191</td>\n",
       "      <td>22.100</td>\n",
       "      <td>0.884</td>\n",
       "      <td>...</td>\n",
       "      <td>0</td>\n",
       "      <td>0</td>\n",
       "      <td>0</td>\n",
       "      <td>0</td>\n",
       "      <td>0</td>\n",
       "      <td>0</td>\n",
       "      <td>0</td>\n",
       "      <td>0</td>\n",
       "      <td>0</td>\n",
       "      <td>-1</td>\n",
       "    </tr>\n",
       "    <tr>\n",
       "      <th>SCHL</th>\n",
       "      <td>1172.300</td>\n",
       "      <td>250.300</td>\n",
       "      <td>2081.900</td>\n",
       "      <td>1284.600</td>\n",
       "      <td>358.100</td>\n",
       "      <td>262.400</td>\n",
       "      <td>35.0420</td>\n",
       "      <td>35.863</td>\n",
       "      <td>0.000</td>\n",
       "      <td>0.000</td>\n",
       "      <td>...</td>\n",
       "      <td>0</td>\n",
       "      <td>0</td>\n",
       "      <td>0</td>\n",
       "      <td>0</td>\n",
       "      <td>0</td>\n",
       "      <td>0</td>\n",
       "      <td>0</td>\n",
       "      <td>0</td>\n",
       "      <td>0</td>\n",
       "      <td>-1</td>\n",
       "    </tr>\n",
       "    <tr>\n",
       "      <th>WBA</th>\n",
       "      <td>20083.000</td>\n",
       "      <td>14660.000</td>\n",
       "      <td>69941.000</td>\n",
       "      <td>25609.000</td>\n",
       "      <td>1183.000</td>\n",
       "      <td>25651.000</td>\n",
       "      <td>976.4750</td>\n",
       "      <td>951.400</td>\n",
       "      <td>1172.514</td>\n",
       "      <td>11.995</td>\n",
       "      <td>...</td>\n",
       "      <td>0</td>\n",
       "      <td>0</td>\n",
       "      <td>0</td>\n",
       "      <td>0</td>\n",
       "      <td>0</td>\n",
       "      <td>0</td>\n",
       "      <td>0</td>\n",
       "      <td>0</td>\n",
       "      <td>0</td>\n",
       "      <td>-1</td>\n",
       "    </tr>\n",
       "    <tr>\n",
       "      <th>2018-12-24</th>\n",
       "      <th>KMX</th>\n",
       "      <td>3057.419</td>\n",
       "      <td>558.324</td>\n",
       "      <td>18396.812</td>\n",
       "      <td>3435.113</td>\n",
       "      <td>461.662</td>\n",
       "      <td>3819.336</td>\n",
       "      <td>177.2235</td>\n",
       "      <td>175.321</td>\n",
       "      <td>171.785</td>\n",
       "      <td>3.658</td>\n",
       "      <td>...</td>\n",
       "      <td>0</td>\n",
       "      <td>0</td>\n",
       "      <td>0</td>\n",
       "      <td>0</td>\n",
       "      <td>0</td>\n",
       "      <td>0</td>\n",
       "      <td>0</td>\n",
       "      <td>0</td>\n",
       "      <td>0</td>\n",
       "      <td>-1</td>\n",
       "    </tr>\n",
       "  </tbody>\n",
       "</table>\n",
       "<p>111468 rows × 732 columns</p>\n",
       "</div>"
      ],
      "text/plain": [
       "                        actq        apq        atq       ceqq      cheq  \\\n",
       "date       ticker                                                         \n",
       "2000-02-09 CSCO     7722.000    482.000  21391.000  16523.000  3968.000   \n",
       "           ROP       172.725     19.662    474.649    239.432     3.198   \n",
       "2000-02-10 CMOS      240.767     27.044    376.536    209.411    68.625   \n",
       "2000-02-11 DELL     7681.000   3538.000  11471.000   5308.000  4132.000   \n",
       "2000-02-15 VAL       507.082    139.497   1094.080    402.382    27.605   \n",
       "...                      ...        ...        ...        ...       ...   \n",
       "2018-12-21 NKE     15566.000   2574.000  22677.000   8729.000  4041.000   \n",
       "           SAFM      566.489    128.936   1659.440   1387.893   121.193   \n",
       "           SCHL     1172.300    250.300   2081.900   1284.600   358.100   \n",
       "           WBA     20083.000  14660.000  69941.000  25609.000  1183.000   \n",
       "2018-12-24 KMX      3057.419    558.324  18396.812   3435.113   461.662   \n",
       "\n",
       "                       cogsq     csh12q    cshfdq     cshiq  cshopq  ...  \\\n",
       "date       ticker                                                    ...   \n",
       "2000-02-09 CSCO     1422.000  3374.1250  3648.000  3445.000   0.000  ...   \n",
       "           ROP        47.634    30.2688    31.217     0.000   0.000  ...   \n",
       "2000-02-10 CMOS       43.023    21.4360    23.753     0.000   0.000  ...   \n",
       "2000-02-11 DELL     5452.000  2536.0000  2731.000  2575.000   0.000  ...   \n",
       "2000-02-15 VAL       221.366    43.1858    43.687    53.321   0.000  ...   \n",
       "...                      ...        ...       ...       ...     ...  ...   \n",
       "2018-12-21 NKE      5098.000  1601.1500  1620.700  1577.000  16.108  ...   \n",
       "           SAFM      758.313    22.4290    22.191    22.100   0.884  ...   \n",
       "           SCHL      262.400    35.0420    35.863     0.000   0.000  ...   \n",
       "           WBA     25651.000   976.4750   951.400  1172.514  11.995  ...   \n",
       "2018-12-24 KMX      3819.336   177.2235   175.321   171.785   3.658  ...   \n",
       "\n",
       "                   sector_code_817.0  sector_code_822.0  sector_code_823.0  \\\n",
       "date       ticker                                                            \n",
       "2000-02-09 CSCO                    0                  0                  0   \n",
       "           ROP                     0                  0                  0   \n",
       "2000-02-10 CMOS                    0                  0                  0   \n",
       "2000-02-11 DELL                    0                  0                  0   \n",
       "2000-02-15 VAL                     0                  0                  0   \n",
       "...                              ...                ...                ...   \n",
       "2018-12-21 NKE                     0                  0                  0   \n",
       "           SAFM                    0                  0                  0   \n",
       "           SCHL                    0                  0                  0   \n",
       "           WBA                     0                  0                  0   \n",
       "2018-12-24 KMX                     0                  0                  0   \n",
       "\n",
       "                   sector_code_825.0  sector_code_830.0  sector_code_835.0  \\\n",
       "date       ticker                                                            \n",
       "2000-02-09 CSCO                    0                  0                  0   \n",
       "           ROP                     0                  0                  0   \n",
       "2000-02-10 CMOS                    0                  0                  0   \n",
       "2000-02-11 DELL                    0                  0                  0   \n",
       "2000-02-15 VAL                     0                  0                  0   \n",
       "...                              ...                ...                ...   \n",
       "2018-12-21 NKE                     0                  0                  0   \n",
       "           SAFM                    0                  0                  0   \n",
       "           SCHL                    0                  0                  0   \n",
       "           WBA                     0                  0                  0   \n",
       "2018-12-24 KMX                     0                  0                  0   \n",
       "\n",
       "                   sector_code_840.0  sector_code_845.0  sector_code_850.0  \\\n",
       "date       ticker                                                            \n",
       "2000-02-09 CSCO                    0                  0                  0   \n",
       "           ROP                     0                  0                  0   \n",
       "2000-02-10 CMOS                    0                  0                  0   \n",
       "2000-02-11 DELL                    0                  0                  0   \n",
       "2000-02-15 VAL                     0                  0                  0   \n",
       "...                              ...                ...                ...   \n",
       "2018-12-21 NKE                     0                  0                  0   \n",
       "           SAFM                    0                  0                  0   \n",
       "           SCHL                    0                  0                  0   \n",
       "           WBA                     0                  0                  0   \n",
       "2018-12-24 KMX                     0                  0                  0   \n",
       "\n",
       "                   rel_performance  \n",
       "date       ticker                   \n",
       "2000-02-09 CSCO                 -1  \n",
       "           ROP                   1  \n",
       "2000-02-10 CMOS                  1  \n",
       "2000-02-11 DELL                  1  \n",
       "2000-02-15 VAL                   1  \n",
       "...                            ...  \n",
       "2018-12-21 NKE                  -1  \n",
       "           SAFM                 -1  \n",
       "           SCHL                 -1  \n",
       "           WBA                  -1  \n",
       "2018-12-24 KMX                  -1  \n",
       "\n",
       "[111468 rows x 732 columns]"
      ]
     },
     "execution_count": 116,
     "metadata": {},
     "output_type": "execute_result"
    }
   ],
   "source": [
    "def f(x):\n",
    "    if x > 0:\n",
    "        return 1\n",
    "    else:\n",
    "        return -1\n",
    "data['rel_performance'] = data['pred_rel_return'].apply(f)\n",
    "data"
   ]
  },
  {
   "cell_type": "code",
   "execution_count": 120,
   "metadata": {},
   "outputs": [],
   "source": [
    "data.reset_index(inplace=True,)\n",
    "data.set_index('date',inplace=True)"
   ]
  },
  {
   "cell_type": "code",
   "execution_count": 121,
   "metadata": {
    "ExecuteTime": {
     "end_time": "2020-01-27T20:44:46.705487Z",
     "start_time": "2020-01-27T20:44:46.695777Z"
    }
   },
   "outputs": [],
   "source": [
    "# test_train_validation split\n",
    "df = data.loc['2007-01-01': '2010-01-01']\n",
    "df_valid = data.loc['2009-07-30': '2009-10-30']\n",
    "df_test = data.loc['2010-01-01': '2019-01-01']\n",
    "\n",
    "# train and validation\n",
    "train_original = df.reset_index().drop(['ticker','date', 'next_period_return', 'spy_next_period_return',\\\n",
    "    'rel_performance','pred_rel_return', 'return', 'cum_ret', 'spy_cum_ret'],axis=1)\n",
    "\n",
    "valid_original = df_valid.reset_index().drop(['ticker','date', 'next_period_return', 'spy_next_period_return',\\\n",
    "    'rel_performance','pred_rel_return', 'return', 'cum_ret', 'spy_cum_ret'],axis=1)\n",
    "\n",
    "test_original = df_test.reset_index().drop(['ticker','date', 'next_period_return', 'spy_next_period_return',\\\n",
    "    'rel_performance','pred_rel_return', 'return', 'cum_ret', 'spy_cum_ret'],axis=1)\n",
    "\n",
    "# stock returns \n",
    "train_ret = df['next_period_return']\n",
    "valid_ret = df_valid['next_period_return']\n",
    "test_ret = df_test['next_period_return']\n",
    "\n",
    "# target labels\n",
    "y_train = df['rel_performance'].values\n",
    "y_valid = df_valid['rel_performance'].values\n",
    "y_test = df_test['rel_performance'].values\n"
   ]
  },
  {
   "cell_type": "code",
   "execution_count": 123,
   "metadata": {
    "ExecuteTime": {
     "end_time": "2020-01-27T20:45:01.076459Z",
     "start_time": "2020-01-27T20:45:01.071460Z"
    }
   },
   "outputs": [
    {
     "data": {
      "text/plain": [
       "BaggingClassifier(base_estimator=DecisionTreeClassifier(max_depth=6,\n",
       "                                                        min_samples_leaf=800),\n",
       "                  n_estimators=40, n_jobs=1, oob_score=True, random_state=123)"
      ]
     },
     "execution_count": 123,
     "metadata": {},
     "output_type": "execute_result"
    }
   ],
   "source": [
    "t = DecisionTreeClassifier(max_depth = 6, min_samples_leaf = 800)\n",
    "bg = BaggingClassifier(t, n_estimators = 40, oob_score = True, random_state = 123, n_jobs = 1)\n",
    "bg.fit(train_original, y_train)"
   ]
  },
  {
   "cell_type": "code",
   "execution_count": 124,
   "metadata": {
    "ExecuteTime": {
     "end_time": "2020-01-28T02:22:22.827483Z",
     "start_time": "2020-01-28T02:22:22.819519Z"
    }
   },
   "outputs": [],
   "source": [
    "# bagging feature importance function\n",
    "def baggingtree_feat_importance(m, df):\n",
    "    feature_importances = []\n",
    "    for est in m.estimators_:\n",
    "        fi = est.feature_importances_\n",
    "        feature_importances.append(fi)\n",
    "    feature_importances = np.array(feature_importances)\n",
    "        \n",
    "    return pd.DataFrame({'cols':df.columns, 'feat_imp':np.mean(feature_importances,axis=0)}\n",
    "                       ).sort_values('feat_imp', ascending=False)\n",
    "\n",
    "# plot feature importance\n",
    "def plot_fi(fi): \n",
    "    return fi.plot('cols', 'feat_imp', 'barh', figsize=(12,7), legend=False)\n",
    "\n",
    "# profit importance function\n",
    "def profit_importance(t, df, rets):\n",
    "    np.random.seed(123)\n",
    "    profit = []\n",
    "    for col in df.columns:\n",
    "        prof = []\n",
    "        for _ in range(20):\n",
    "            X = df.copy()\n",
    "            X[col] = np.random.permutation(df[col].values)\n",
    "            prediction = t.predict(X)\n",
    "            prof.append((prediction * rets).sum())\n",
    "        profit.append(np.mean(prof))\n",
    "    return profit\n",
    "\n",
    "# bagging tree importance function\n",
    "def baggingtree_profit_importance(m, df,rets):\n",
    "    return pd.DataFrame({'cols':df.columns, 'pi_imp':profit_importance(m,df,rets)}\n",
    "                       ).sort_values('pi_imp', ascending=True)"
   ]
  },
  {
   "cell_type": "code",
   "execution_count": 125,
   "metadata": {
    "ExecuteTime": {
     "end_time": "2020-01-28T02:24:15.427630Z",
     "start_time": "2020-01-28T02:24:15.419558Z"
    }
   },
   "outputs": [
    {
     "data": {
      "text/html": [
       "<div>\n",
       "<style scoped>\n",
       "    .dataframe tbody tr th:only-of-type {\n",
       "        vertical-align: middle;\n",
       "    }\n",
       "\n",
       "    .dataframe tbody tr th {\n",
       "        vertical-align: top;\n",
       "    }\n",
       "\n",
       "    .dataframe thead th {\n",
       "        text-align: right;\n",
       "    }\n",
       "</style>\n",
       "<table border=\"1\" class=\"dataframe\">\n",
       "  <thead>\n",
       "    <tr style=\"text-align: right;\">\n",
       "      <th></th>\n",
       "      <th>cols</th>\n",
       "      <th>feat_imp</th>\n",
       "    </tr>\n",
       "  </thead>\n",
       "  <tbody>\n",
       "    <tr>\n",
       "      <th>105</th>\n",
       "      <td>cf_yield</td>\n",
       "      <td>0.291166</td>\n",
       "    </tr>\n",
       "    <tr>\n",
       "      <th>180</th>\n",
       "      <td>fqtr_2</td>\n",
       "      <td>0.136397</td>\n",
       "    </tr>\n",
       "    <tr>\n",
       "      <th>95</th>\n",
       "      <td>evmq</td>\n",
       "      <td>0.041092</td>\n",
       "    </tr>\n",
       "    <tr>\n",
       "      <th>160</th>\n",
       "      <td>debt_assetsq</td>\n",
       "      <td>0.034785</td>\n",
       "    </tr>\n",
       "    <tr>\n",
       "      <th>0</th>\n",
       "      <td>actq</td>\n",
       "      <td>0.030570</td>\n",
       "    </tr>\n",
       "    <tr>\n",
       "      <th>162</th>\n",
       "      <td>de_ratioq</td>\n",
       "      <td>0.024585</td>\n",
       "    </tr>\n",
       "    <tr>\n",
       "      <th>118</th>\n",
       "      <td>roaq</td>\n",
       "      <td>0.023756</td>\n",
       "    </tr>\n",
       "    <tr>\n",
       "      <th>147</th>\n",
       "      <td>debt_ebitdaq</td>\n",
       "      <td>0.020888</td>\n",
       "    </tr>\n",
       "    <tr>\n",
       "      <th>152</th>\n",
       "      <td>ocf_lctq</td>\n",
       "      <td>0.020653</td>\n",
       "    </tr>\n",
       "    <tr>\n",
       "      <th>145</th>\n",
       "      <td>rect_actq</td>\n",
       "      <td>0.018083</td>\n",
       "    </tr>\n",
       "    <tr>\n",
       "      <th>120</th>\n",
       "      <td>efftaxq</td>\n",
       "      <td>0.016616</td>\n",
       "    </tr>\n",
       "    <tr>\n",
       "      <th>80</th>\n",
       "      <td>txpdy</td>\n",
       "      <td>0.016014</td>\n",
       "    </tr>\n",
       "    <tr>\n",
       "      <th>151</th>\n",
       "      <td>profit_lctq</td>\n",
       "      <td>0.015160</td>\n",
       "    </tr>\n",
       "    <tr>\n",
       "      <th>156</th>\n",
       "      <td>fcf_yield</td>\n",
       "      <td>0.014779</td>\n",
       "    </tr>\n",
       "    <tr>\n",
       "      <th>135</th>\n",
       "      <td>pretret_earnatq</td>\n",
       "      <td>0.013460</td>\n",
       "    </tr>\n",
       "    <tr>\n",
       "      <th>87</th>\n",
       "      <td>prccq</td>\n",
       "      <td>0.011891</td>\n",
       "    </tr>\n",
       "    <tr>\n",
       "      <th>71</th>\n",
       "      <td>dpcy</td>\n",
       "      <td>0.011243</td>\n",
       "    </tr>\n",
       "    <tr>\n",
       "      <th>158</th>\n",
       "      <td>lt_ppentq</td>\n",
       "      <td>0.010375</td>\n",
       "    </tr>\n",
       "    <tr>\n",
       "      <th>31</th>\n",
       "      <td>lctq</td>\n",
       "      <td>0.010265</td>\n",
       "    </tr>\n",
       "  </tbody>\n",
       "</table>\n",
       "</div>"
      ],
      "text/plain": [
       "                cols  feat_imp\n",
       "105         cf_yield  0.291166\n",
       "180           fqtr_2  0.136397\n",
       "95              evmq  0.041092\n",
       "160     debt_assetsq  0.034785\n",
       "0               actq  0.030570\n",
       "162        de_ratioq  0.024585\n",
       "118             roaq  0.023756\n",
       "147     debt_ebitdaq  0.020888\n",
       "152         ocf_lctq  0.020653\n",
       "145        rect_actq  0.018083\n",
       "120          efftaxq  0.016616\n",
       "80             txpdy  0.016014\n",
       "151      profit_lctq  0.015160\n",
       "156        fcf_yield  0.014779\n",
       "135  pretret_earnatq  0.013460\n",
       "87             prccq  0.011891\n",
       "71              dpcy  0.011243\n",
       "158        lt_ppentq  0.010375\n",
       "31              lctq  0.010265"
      ]
     },
     "execution_count": 125,
     "metadata": {},
     "output_type": "execute_result"
    }
   ],
   "source": [
    "# first find useful features with feature importance function\n",
    "fi = baggingtree_feat_importance(bg, train_original)\n",
    "\n",
    "# find feafures selected above\n",
    "features = fi[(fi['feat_imp'] > 0.01)]\n",
    "features"
   ]
  },
  {
   "cell_type": "code",
   "execution_count": 126,
   "metadata": {
    "ExecuteTime": {
     "end_time": "2020-01-28T02:25:04.954992Z",
     "start_time": "2020-01-28T02:25:04.600992Z"
    },
    "scrolled": true
   },
   "outputs": [
    {
     "data": {
      "text/plain": [
       "<AxesSubplot:ylabel='cols'>"
      ]
     },
     "execution_count": 126,
     "metadata": {},
     "output_type": "execute_result"
    },
    {
     "data": {
      "image/png": "[encoded data removed]",
      "text/plain": [
       "<Figure size 864x504 with 1 Axes>"
      ]
     },
     "metadata": {
      "needs_background": "light"
     },
     "output_type": "display_data"
    }
   ],
   "source": [
    "plot_fi(features)"
   ]
  },
  {
   "cell_type": "code",
   "execution_count": 127,
   "metadata": {
    "ExecuteTime": {
     "end_time": "2020-01-28T02:25:45.997855Z",
     "start_time": "2020-01-28T02:25:45.991841Z"
    }
   },
   "outputs": [
    {
     "data": {
      "text/plain": [
       "19"
      ]
     },
     "execution_count": 127,
     "metadata": {},
     "output_type": "execute_result"
    }
   ],
   "source": [
    "# how many features we select in total\n",
    "len(features['cols'].values)\n"
   ]
  },
  {
   "cell_type": "code",
   "execution_count": 130,
   "metadata": {
    "ExecuteTime": {
     "end_time": "2020-01-28T02:25:53.314845Z",
     "start_time": "2020-01-28T02:25:53.295755Z"
    }
   },
   "outputs": [],
   "source": [
    "# truncate the dataframe\n",
    "train = train_original[features['cols'].values]\n",
    "valid = valid_original[features['cols'].values]"
   ]
  },
  {
   "cell_type": "code",
   "execution_count": 131,
   "metadata": {
    "ExecuteTime": {
     "end_time": "2020-01-28T02:25:57.905508Z",
     "start_time": "2020-01-28T02:25:54.411913Z"
    }
   },
   "outputs": [
    {
     "data": {
      "text/plain": [
       "BaggingClassifier(base_estimator=DecisionTreeClassifier(max_depth=6,\n",
       "                                                        min_samples_leaf=800),\n",
       "                  n_estimators=40, n_jobs=1, oob_score=True, random_state=123)"
      ]
     },
     "execution_count": 131,
     "metadata": {},
     "output_type": "execute_result"
    }
   ],
   "source": [
    "# train the bagging\n",
    "bg.fit(train, y_train)"
   ]
  },
  {
   "cell_type": "code",
   "execution_count": 132,
   "metadata": {},
   "outputs": [
    {
     "data": {
      "text/html": [
       "<div>\n",
       "<style scoped>\n",
       "    .dataframe tbody tr th:only-of-type {\n",
       "        vertical-align: middle;\n",
       "    }\n",
       "\n",
       "    .dataframe tbody tr th {\n",
       "        vertical-align: top;\n",
       "    }\n",
       "\n",
       "    .dataframe thead th {\n",
       "        text-align: right;\n",
       "    }\n",
       "</style>\n",
       "<table border=\"1\" class=\"dataframe\">\n",
       "  <thead>\n",
       "    <tr style=\"text-align: right;\">\n",
       "      <th></th>\n",
       "      <th>cols</th>\n",
       "      <th>pi_imp</th>\n",
       "    </tr>\n",
       "  </thead>\n",
       "  <tbody>\n",
       "    <tr>\n",
       "      <th>0</th>\n",
       "      <td>cf_yield</td>\n",
       "      <td>53.000932</td>\n",
       "    </tr>\n",
       "    <tr>\n",
       "      <th>2</th>\n",
       "      <td>evmq</td>\n",
       "      <td>67.525482</td>\n",
       "    </tr>\n",
       "    <tr>\n",
       "      <th>1</th>\n",
       "      <td>fqtr_2</td>\n",
       "      <td>69.231027</td>\n",
       "    </tr>\n",
       "    <tr>\n",
       "      <th>12</th>\n",
       "      <td>profit_lctq</td>\n",
       "      <td>70.595473</td>\n",
       "    </tr>\n",
       "    <tr>\n",
       "      <th>4</th>\n",
       "      <td>actq</td>\n",
       "      <td>71.340660</td>\n",
       "    </tr>\n",
       "    <tr>\n",
       "      <th>8</th>\n",
       "      <td>ocf_lctq</td>\n",
       "      <td>71.398592</td>\n",
       "    </tr>\n",
       "    <tr>\n",
       "      <th>10</th>\n",
       "      <td>efftaxq</td>\n",
       "      <td>71.448125</td>\n",
       "    </tr>\n",
       "    <tr>\n",
       "      <th>18</th>\n",
       "      <td>lctq</td>\n",
       "      <td>72.008898</td>\n",
       "    </tr>\n",
       "    <tr>\n",
       "      <th>7</th>\n",
       "      <td>debt_ebitdaq</td>\n",
       "      <td>72.068038</td>\n",
       "    </tr>\n",
       "    <tr>\n",
       "      <th>15</th>\n",
       "      <td>prccq</td>\n",
       "      <td>72.159340</td>\n",
       "    </tr>\n",
       "    <tr>\n",
       "      <th>16</th>\n",
       "      <td>dpcy</td>\n",
       "      <td>72.209517</td>\n",
       "    </tr>\n",
       "    <tr>\n",
       "      <th>14</th>\n",
       "      <td>pretret_earnatq</td>\n",
       "      <td>72.230987</td>\n",
       "    </tr>\n",
       "    <tr>\n",
       "      <th>13</th>\n",
       "      <td>fcf_yield</td>\n",
       "      <td>72.473339</td>\n",
       "    </tr>\n",
       "    <tr>\n",
       "      <th>6</th>\n",
       "      <td>roaq</td>\n",
       "      <td>72.595325</td>\n",
       "    </tr>\n",
       "    <tr>\n",
       "      <th>17</th>\n",
       "      <td>lt_ppentq</td>\n",
       "      <td>72.738197</td>\n",
       "    </tr>\n",
       "    <tr>\n",
       "      <th>11</th>\n",
       "      <td>txpdy</td>\n",
       "      <td>73.200118</td>\n",
       "    </tr>\n",
       "    <tr>\n",
       "      <th>5</th>\n",
       "      <td>de_ratioq</td>\n",
       "      <td>73.730527</td>\n",
       "    </tr>\n",
       "    <tr>\n",
       "      <th>9</th>\n",
       "      <td>rect_actq</td>\n",
       "      <td>74.541538</td>\n",
       "    </tr>\n",
       "    <tr>\n",
       "      <th>3</th>\n",
       "      <td>debt_assetsq</td>\n",
       "      <td>74.547538</td>\n",
       "    </tr>\n",
       "  </tbody>\n",
       "</table>\n",
       "</div>"
      ],
      "text/plain": [
       "               cols     pi_imp\n",
       "0          cf_yield  53.000932\n",
       "2              evmq  67.525482\n",
       "1            fqtr_2  69.231027\n",
       "12      profit_lctq  70.595473\n",
       "4              actq  71.340660\n",
       "8          ocf_lctq  71.398592\n",
       "10          efftaxq  71.448125\n",
       "18             lctq  72.008898\n",
       "7      debt_ebitdaq  72.068038\n",
       "15            prccq  72.159340\n",
       "16             dpcy  72.209517\n",
       "14  pretret_earnatq  72.230987\n",
       "13        fcf_yield  72.473339\n",
       "6              roaq  72.595325\n",
       "17        lt_ppentq  72.738197\n",
       "11            txpdy  73.200118\n",
       "5         de_ratioq  73.730527\n",
       "9         rect_actq  74.541538\n",
       "3      debt_assetsq  74.547538"
      ]
     },
     "execution_count": 132,
     "metadata": {},
     "output_type": "execute_result"
    }
   ],
   "source": [
    "# find the profit importance\n",
    "pi = baggingtree_profit_importance(bg, valid, valid_ret)\n",
    "pi"
   ]
  },
  {
   "cell_type": "code",
   "execution_count": 133,
   "metadata": {
    "ExecuteTime": {
     "end_time": "2020-01-27T20:51:24.428868Z",
     "start_time": "2020-01-27T20:47:54.822133Z"
    }
   },
   "outputs": [],
   "source": [
    "profits = []\n",
    "feat = []\n",
    "\n",
    "train_copy = train.copy()\n",
    "valid_copy = valid.copy()\n",
    "\n",
    "while len(train_copy.columns)>1:\n",
    "    \n",
    "    bg.fit(train_copy, y_train)\n",
    "    pi = baggingtree_profit_importance(bg, valid_copy, valid_ret)\n",
    "\n",
    "    col_to_drop = pi[pi['pi_imp'] == pi['pi_imp'].max()]['cols'].iloc[0]\n",
    "    train_copy.drop(col_to_drop,axis=1,inplace=True)\n",
    "    valid_copy.drop(col_to_drop,axis=1,inplace=True)\n",
    "    bg.fit(train_copy, y_train)\n",
    "    \n",
    "    fi = baggingtree_feat_importance(bg, train_copy)\n",
    "    features = fi[(fi['feat_imp'] > 0.00)]\n",
    "    train_copy = train_copy[features['cols'].values]\n",
    "    valid_copy = valid_copy[features['cols'].values]\n",
    "    bg.fit(train_copy, y_train)\n",
    "    \n",
    "    pred_valid = bg.predict(valid_copy)\n",
    "    profits.append((pred_valid * valid_ret).sum())\n",
    "    feat.append(features['cols'].values) "
   ]
  },
  {
   "cell_type": "code",
   "execution_count": 134,
   "metadata": {
    "ExecuteTime": {
     "end_time": "2020-01-27T20:51:29.730546Z",
     "start_time": "2020-01-27T20:51:29.572507Z"
    }
   },
   "outputs": [
    {
     "data": {
      "image/png": "[encoded data removed]",
      "text/plain": [
       "<Figure size 432x288 with 1 Axes>"
      ]
     },
     "metadata": {
      "needs_background": "light"
     },
     "output_type": "display_data"
    }
   ],
   "source": [
    "plt.plot(profits);"
   ]
  },
  {
   "cell_type": "code",
   "execution_count": 135,
   "metadata": {
    "ExecuteTime": {
     "end_time": "2020-01-28T02:31:40.816966Z",
     "start_time": "2020-01-28T02:31:40.813700Z"
    }
   },
   "outputs": [],
   "source": [
    "n = np.argmax(profits)\n",
    "optim_feats = feat[n]\n",
    "max_profits = profits[n]"
   ]
  },
  {
   "cell_type": "code",
   "execution_count": 136,
   "metadata": {
    "ExecuteTime": {
     "end_time": "2020-01-28T02:31:42.549517Z",
     "start_time": "2020-01-28T02:31:42.544493Z"
    }
   },
   "outputs": [
    {
     "name": "stdout",
     "output_type": "stream",
     "text": [
      "87.640215\n",
      "['cf_yield' 'evmq' 'lctq']\n"
     ]
    }
   ],
   "source": [
    "print(max_profits)\n",
    "print(optim_feats)"
   ]
  },
  {
   "cell_type": "code",
   "execution_count": 137,
   "metadata": {
    "ExecuteTime": {
     "end_time": "2020-01-28T02:33:56.360618Z",
     "start_time": "2020-01-28T02:33:55.193258Z"
    }
   },
   "outputs": [
    {
     "data": {
      "text/plain": [
       "1270.5631709999998"
      ]
     },
     "execution_count": 137,
     "metadata": {},
     "output_type": "execute_result"
    }
   ],
   "source": [
    "# see how the strategy with these features performs on the test set\n",
    "train_final = train[optim_feats]\n",
    "test_final = test_original[optim_feats]\n",
    "bg.fit(train_final, y_train)\n",
    "pred_test = bg.predict(test_final)\n",
    "(pred_test * test_ret).sum()"
   ]
  },
  {
   "cell_type": "code",
   "execution_count": 139,
   "metadata": {
    "ExecuteTime": {
     "end_time": "2020-01-27T20:52:09.247385Z",
     "start_time": "2020-01-27T20:52:09.175351Z"
    }
   },
   "outputs": [],
   "source": [
    "#### backtest using 2010 to 2018 data"
   ]
  },
  {
   "cell_type": "code",
   "execution_count": 140,
   "metadata": {
    "ExecuteTime": {
     "end_time": "2020-01-28T02:36:10.441419Z",
     "start_time": "2020-01-28T02:36:10.420401Z"
    }
   },
   "outputs": [],
   "source": [
    "# backtest the strategy\n",
    "start_dates = [pd.to_datetime('2007-01-01') + pd.DateOffset(months = 3 * i) for i in range(35)]\n",
    "end_dates = [d + pd.DateOffset(months = 36) for d in start_dates]\n",
    "\n",
    "# training dataframes\n",
    "training_frames = [data.loc[d:d+pd.DateOffset(months = 36)] for d in start_dates]\n",
    "test_frames = [data.loc[d + pd.DateOffset(months=3):d+pd.DateOffset(months = 6)] for d in end_dates]"
   ]
  },
  {
   "cell_type": "code",
   "execution_count": 141,
   "metadata": {
    "ExecuteTime": {
     "end_time": "2020-01-27T20:52:27.923812Z",
     "start_time": "2020-01-27T20:52:23.926384Z"
    }
   },
   "outputs": [],
   "source": [
    "# drop not useful features \n",
    "training_data = [d.reset_index().drop(['ticker','date','next_period_return','spy_next_period_return',\\\n",
    "    'rel_performance','pred_rel_return','return', 'cum_ret', 'spy_cum_ret'],axis=1) for d in training_frames]\n",
    "test_data = [d.reset_index().drop(['ticker','date','next_period_return','spy_next_period_return',\\\n",
    "    'rel_performance','pred_rel_return','return', 'cum_ret', 'spy_cum_ret'],axis=1) for d in test_frames]\n",
    "training_labels = [d['rel_performance'].values for d in training_frames]\n",
    "\n",
    "# select features\n",
    "opt_training_data = [t[optim_feats] for t in training_data]\n",
    "opt_test_data = [v[optim_feats] for v in test_data]"
   ]
  },
  {
   "cell_type": "code",
   "execution_count": 142,
   "metadata": {
    "ExecuteTime": {
     "end_time": "2020-01-27T20:53:54.419921Z",
     "start_time": "2020-01-27T20:52:45.421065Z"
    }
   },
   "outputs": [],
   "source": [
    "# back test\n",
    "P_L = []\n",
    "x = [1]\n",
    "ret = []\n",
    "\n",
    "for i in range(len(training_labels)):\n",
    "    bg.fit(opt_training_data[i],training_labels[i])\n",
    "    pred_i = bg.predict(opt_test_data[i])\n",
    "    profit_i = (pred_i * test_frames[i]['next_period_return']).sum()\n",
    "    P_L.append(profit_i)\n",
    "    num_positions = len(pred_i)\n",
    "    ret.append((1.0/num_positions) * profit_i)\n",
    "    x.append(x[i] + (x[i]/num_positions) * profit_i)"
   ]
  },
  {
   "cell_type": "code",
   "execution_count": 143,
   "metadata": {
    "ExecuteTime": {
     "end_time": "2020-01-27T20:53:58.978891Z",
     "start_time": "2020-01-27T20:53:58.812050Z"
    }
   },
   "outputs": [
    {
     "data": {
      "image/png": "[encoded data removed]",
      "text/plain": [
       "<Figure size 432x288 with 1 Axes>"
      ]
     },
     "metadata": {
      "needs_background": "light"
     },
     "output_type": "display_data"
    }
   ],
   "source": [
    "plt.plot(x);"
   ]
  },
  {
   "cell_type": "code",
   "execution_count": 158,
   "metadata": {
    "ExecuteTime": {
     "end_time": "2020-01-28T02:39:17.547486Z",
     "start_time": "2020-01-28T02:39:17.522402Z"
    }
   },
   "outputs": [],
   "source": [
    "# Obtain the SPY dataset\n",
    "SPY_cum_ret = pd.DataFrame(raw_data['spy_cum_ret'])\n",
    "SPY_cum_ret.reset_index(inplace = True)\n",
    "SPY_cum_ret.set_index('date', inplace = True)\n",
    "SPY_cum_ret.drop(['ticker'], axis = 1, inplace = True)\n",
    "SPY_cum_ret = SPY_cum_ret.drop_duplicates()\n",
    "\n",
    "# truncate the SPY data to the sample period\n",
    "SPY = SPY_cum_ret.loc['2010-01-01':]\n",
    "SPY = SPY.resample('Q').ffill()\n",
    "SPY['spy_cum_ret'] = (SPY['spy_cum_ret'] - SPY['spy_cum_ret'][0] + 1)\n",
    "SPY['strategy'] = x"
   ]
  },
  {
   "cell_type": "code",
   "execution_count": 159,
   "metadata": {
    "ExecuteTime": {
     "end_time": "2020-01-28T02:39:23.127112Z",
     "start_time": "2020-01-28T02:39:22.951601Z"
    },
    "scrolled": true
   },
   "outputs": [
    {
     "data": {
      "image/png": "[encoded data removed]",
      "text/plain": [
       "<Figure size 432x288 with 1 Axes>"
      ]
     },
     "metadata": {
      "needs_background": "light"
     },
     "output_type": "display_data"
    }
   ],
   "source": [
    "SPY.plot();"
   ]
  },
  {
   "cell_type": "code",
   "execution_count": 160,
   "metadata": {
    "ExecuteTime": {
     "end_time": "2020-01-28T02:40:02.929451Z",
     "start_time": "2020-01-28T02:40:02.923453Z"
    }
   },
   "outputs": [
    {
     "name": "stdout",
     "output_type": "stream",
     "text": [
      "Strategy Sharpe Ratio:  0.41229542630645705\n"
     ]
    }
   ],
   "source": [
    "### calculate ratios \n",
    "\n",
    "strategy_mean_ret = (SPY['strategy'] - 1).diff().mean()\n",
    "strategy_std = (SPY['strategy'] - 1).diff().std()\n",
    "strategy_sr = strategy_mean_ret/strategy_std\n",
    "print('Strategy Sharpe Ratio: ',strategy_sr)"
   ]
  },
  {
   "cell_type": "code",
   "execution_count": 161,
   "metadata": {
    "ExecuteTime": {
     "end_time": "2020-01-27T20:54:30.525391Z",
     "start_time": "2020-01-27T20:54:30.514395Z"
    }
   },
   "outputs": [
    {
     "name": "stdout",
     "output_type": "stream",
     "text": [
      "SP Sharpe Ratio:  0.457664765255242\n"
     ]
    }
   ],
   "source": [
    "(SPY['spy_cum_ret'] - 1).diff().mean()\n",
    "(SPY['spy_cum_ret'] - 1).diff().std()\n",
    "print('SP Sharpe Ratio: ',(SPY['spy_cum_ret'] - 1).diff().mean()/(SPY['spy_cum_ret'] - 1).diff().std())"
   ]
  },
  {
   "cell_type": "code",
   "execution_count": 162,
   "metadata": {
    "ExecuteTime": {
     "end_time": "2020-01-28T02:40:23.591764Z",
     "start_time": "2020-01-28T02:40:23.584764Z"
    }
   },
   "outputs": [
    {
     "data": {
      "text/plain": [
       "1.5698452388194373"
      ]
     },
     "execution_count": 162,
     "metadata": {},
     "output_type": "execute_result"
    }
   ],
   "source": [
    "x[-1]"
   ]
  },
  {
   "cell_type": "code",
   "execution_count": 163,
   "metadata": {
    "ExecuteTime": {
     "end_time": "2020-01-27T20:54:39.139484Z",
     "start_time": "2020-01-27T20:54:39.134486Z"
    }
   },
   "outputs": [
    {
     "data": {
      "text/plain": [
       "2.034179999999999"
      ]
     },
     "execution_count": 163,
     "metadata": {},
     "output_type": "execute_result"
    }
   ],
   "source": [
    "SPY['spy_cum_ret'][-1]"
   ]
  },
  {
   "cell_type": "code",
   "execution_count": 164,
   "metadata": {
    "ExecuteTime": {
     "end_time": "2020-01-28T02:41:14.814865Z",
     "start_time": "2020-01-28T02:41:14.804751Z"
    }
   },
   "outputs": [
    {
     "data": {
      "text/plain": [
       "0.23168687550953107"
      ]
     },
     "execution_count": 164,
     "metadata": {},
     "output_type": "execute_result"
    }
   ],
   "source": [
    "strategy_ret = (SPY['strategy'] - 1).diff().values[1:]\n",
    "spy_ret = (SPY['spy_cum_ret'] - 1).diff().values[1:]\n",
    "\n",
    "beta = (np.cov(spy_ret,strategy_ret)/np.var(spy_ret))[1,0]\n",
    "beta"
   ]
  },
  {
   "cell_type": "code",
   "execution_count": 165,
   "metadata": {
    "ExecuteTime": {
     "end_time": "2020-01-28T02:41:33.922710Z",
     "start_time": "2020-01-28T02:41:33.916710Z"
    }
   },
   "outputs": [
    {
     "data": {
      "text/plain": [
       "0.26069841639493385"
      ]
     },
     "execution_count": 165,
     "metadata": {},
     "output_type": "execute_result"
    }
   ],
   "source": [
    "residual_ret = strategy_ret - beta * spy_ret\n",
    "IR = np.mean(residual_ret)/np.std(residual_ret)\n",
    "IR"
   ]
  },
  {
   "cell_type": "code",
   "execution_count": 166,
   "metadata": {
    "ExecuteTime": {
     "end_time": "2020-01-28T02:42:04.932079Z",
     "start_time": "2020-01-28T02:42:04.927080Z"
    }
   },
   "outputs": [
    {
     "data": {
      "text/plain": [
       "0.00943540874014259"
      ]
     },
     "execution_count": 166,
     "metadata": {},
     "output_type": "execute_result"
    }
   ],
   "source": [
    "alpha = np.mean(residual_ret)\n",
    "alpha"
   ]
  },
  {
   "cell_type": "code",
   "execution_count": 168,
   "metadata": {},
   "outputs": [],
   "source": [
    "### Change hyper parameters\n",
    "\n",
    "# put everything in a function\n",
    "def tuning_parameters(max_depth, n_est):\n",
    "\n",
    "    # defind a tree and bagging classifier\n",
    "    t = DecisionTreeClassifier(max_depth = max_depth, min_samples_leaf = 800)\n",
    "    bg = BaggingClassifier(t, n_estimators = n_est, oob_score = True, random_state = 123, n_jobs = 1)\n",
    "\n",
    "    # fit the model\n",
    "    bg.fit(train_original, y_train)\n",
    "\n",
    "    # first find useful features with feature importance function\n",
    "    fi = baggingtree_feat_importance(bg, train_original)\n",
    "\n",
    "    # find feafures selected above\n",
    "    features = fi[(fi['feat_imp'] > 0.01)]\n",
    "\n",
    "    # truncate the dataframe\n",
    "    train = train_original[features['cols'].values]\n",
    "    valid = valid_original[features['cols'].values]\n",
    "\n",
    "    # remove features and re-train the tree\n",
    "    profits = []\n",
    "    feat = []\n",
    "\n",
    "    train_copy = train.copy()\n",
    "    valid_copy = valid.copy()\n",
    "\n",
    "    while len(train_copy.columns)>1:\n",
    "        \n",
    "        bg.fit(train_copy, y_train)\n",
    "        pi = baggingtree_profit_importance(bg, valid_copy, valid_ret)\n",
    "\n",
    "        col_to_drop = pi[pi['pi_imp'] == pi['pi_imp'].max()]['cols'].iloc[0]\n",
    "        train_copy.drop(col_to_drop,axis=1,inplace=True)\n",
    "        valid_copy.drop(col_to_drop,axis=1,inplace=True)\n",
    "        bg.fit(train_copy, y_train)\n",
    "        \n",
    "        fi = baggingtree_feat_importance(bg, train_copy)\n",
    "        features = fi[(fi['feat_imp'] > 0.00)]\n",
    "        train_copy = train_copy[features['cols'].values]\n",
    "        valid_copy = valid_copy[features['cols'].values]\n",
    "        bg.fit(train_copy, y_train)\n",
    "        \n",
    "        pred_valid = bg.predict(valid_copy)\n",
    "        profits.append((pred_valid * valid_ret).sum())\n",
    "        feat.append(features['cols'].values) \n",
    "\n",
    "    # find the final set of features after selection based on profit importance\n",
    "    n = np.argmax(profits)\n",
    "    optim_feats = feat[n]\n",
    "\n",
    "    # backtest the strategy\n",
    "    start_dates = [pd.to_datetime('2007-01-01') + pd.DateOffset(months = 3 * i) for i in range(35)]\n",
    "    end_dates = [d + pd.DateOffset(months = 36) for d in start_dates]\n",
    "\n",
    "    # training dataframes\n",
    "    training_frames = [data.loc[d:d+pd.DateOffset(months = 36)] for d in start_dates]\n",
    "    test_frames = [data.loc[d + pd.DateOffset(months=3):d+pd.DateOffset(months = 6)] for d in end_dates]\n",
    "\n",
    "    # drop not useful features \n",
    "    training_data = [d.reset_index().drop(['ticker','date','next_period_return','spy_next_period_return',\\\n",
    "        'rel_performance','pred_rel_return','return', 'cum_ret', 'spy_cum_ret'],axis=1) for d in training_frames]\n",
    "    test_data = [d.reset_index().drop(['ticker','date','next_period_return','spy_next_period_return',\\\n",
    "        'rel_performance','pred_rel_return','return', 'cum_ret', 'spy_cum_ret'],axis=1) for d in test_frames]\n",
    "    training_labels = [d['rel_performance'].values for d in training_frames]\n",
    "\n",
    "    # select features\n",
    "    opt_training_data = [t[optim_feats] for t in training_data]\n",
    "    opt_test_data = [v[optim_feats] for v in test_data]\n",
    "    \n",
    "    # back test\n",
    "    P_L = []\n",
    "    x = [1]\n",
    "    ret = []\n",
    "\n",
    "    for i in range(len(training_labels)):\n",
    "        bg.fit(opt_training_data[i],training_labels[i])\n",
    "        pred_i = bg.predict(opt_test_data[i])\n",
    "        profit_i = (pred_i * test_frames[i]['next_period_return']).sum()\n",
    "        P_L.append(profit_i)\n",
    "        num_positions = len(pred_i)\n",
    "        ret.append((1.0/num_positions) * profit_i)\n",
    "        x.append(x[i] + (x[i]/num_positions) * profit_i)\n",
    "\n",
    "    # compare it with SPY\n",
    "    SPY['strategy'] = x\n",
    "    \n",
    "    # Sharpe Ratio \n",
    "    strategy_mean_ret = (SPY['strategy'] - 1).diff().mean()\n",
    "    strategy_std = (SPY['strategy'] - 1).diff().std()\n",
    "    strategy_sr = strategy_mean_ret/strategy_std\n",
    "\n",
    "    # beta\n",
    "    strategy_ret = (SPY['strategy'] - 1).diff().values[1:]\n",
    "    spy_ret = (SPY['spy_cum_ret'] - 1).diff().values[1:]\n",
    "    beta = (np.cov(spy_ret,strategy_ret)/np.var(spy_ret))[1,0]\n",
    "\n",
    "    # Information Ratio\n",
    "    residual_ret = strategy_ret - beta * spy_ret\n",
    "    IR = np.mean(residual_ret)/np.std(residual_ret)\n",
    "\n",
    "    # alpha\n",
    "    alpha = np.mean(residual_ret)\n",
    "\n",
    "    return (x[-1], strategy_sr, beta, IR, alpha), x "
   ]
  },
  {
   "cell_type": "code",
   "execution_count": 171,
   "metadata": {},
   "outputs": [
    {
     "data": {
      "text/plain": [
       "(1.6301247784937032,\n",
       " 0.43858374207019835,\n",
       " 0.24993233656023245,\n",
       " 0.2839536913535313,\n",
       " 0.01061856441913835)"
      ]
     },
     "execution_count": 171,
     "metadata": {},
     "output_type": "execute_result"
    }
   ],
   "source": [
    "output_1, output_ts_1 = tuning_parameters(5, 50)\n",
    "output_1"
   ]
  },
  {
   "cell_type": "code",
   "execution_count": 173,
   "metadata": {},
   "outputs": [
    {
     "data": {
      "text/plain": [
       "(1.5934453843878813,\n",
       " 0.4159188931530594,\n",
       " 0.2345062859760753,\n",
       " 0.2675394305512813,\n",
       " 0.010026390673061254)"
      ]
     },
     "execution_count": 173,
     "metadata": {},
     "output_type": "execute_result"
    }
   ],
   "source": [
    "output_2, output_ts_2 = tuning_parameters(6, 50)\n",
    "output_2"
   ]
  },
  {
   "cell_type": "code",
   "execution_count": 174,
   "metadata": {},
   "outputs": [
    {
     "data": {
      "text/plain": [
       "(1.6446996848349773,\n",
       " 0.45661633760685694,\n",
       " 0.24759850552488252,\n",
       " 0.302571967142641,\n",
       " 0.011103950354035842)"
      ]
     },
     "execution_count": 174,
     "metadata": {},
     "output_type": "execute_result"
    }
   ],
   "source": [
    "output_3, output_ts_3 = tuning_parameters(5, 30)\n",
    "output_3"
   ]
  },
  {
   "cell_type": "code",
   "execution_count": 175,
   "metadata": {},
   "outputs": [
    {
     "data": {
      "text/plain": [
       "(1.5927999270211983,\n",
       " 0.43442123365768825,\n",
       " 0.2371844809760475,\n",
       " 0.2795083594215806,\n",
       " 0.009928813728153994)"
      ]
     },
     "execution_count": 175,
     "metadata": {},
     "output_type": "execute_result"
    }
   ],
   "source": [
    "output_4, output_ts_4 = tuning_parameters(6, 30)\n",
    "output_4"
   ]
  },
  {
   "cell_type": "code",
   "execution_count": null,
   "metadata": {},
   "outputs": [],
   "source": [
    "### question2 "
   ]
  },
  {
   "cell_type": "code",
   "execution_count": 177,
   "metadata": {},
   "outputs": [],
   "source": [
    "def f2(x):\n",
    "    if x > 0.05:\n",
    "        return 2\n",
    "    elif x > 0.01:\n",
    "        return 1\n",
    "    elif x > -0.01:\n",
    "        return 0\n",
    "    elif x > -0.05:\n",
    "        return -1\n",
    "    else:\n",
    "        return -2"
   ]
  },
  {
   "cell_type": "code",
   "execution_count": 179,
   "metadata": {},
   "outputs": [],
   "source": [
    "data['rel_performance'] = data['pred_rel_return'].apply(f2)"
   ]
  },
  {
   "cell_type": "code",
   "execution_count": 181,
   "metadata": {},
   "outputs": [
    {
     "data": {
      "text/plain": [
       "(2.6670761856561302,\n",
       " 0.3417316333691386,\n",
       " 0.5715335656100137,\n",
       " 0.2315716397572416,\n",
       " 0.030743074364959044)"
      ]
     },
     "execution_count": 181,
     "metadata": {},
     "output_type": "execute_result"
    }
   ],
   "source": [
    "output_5, output_ts_5 = tuning_parameters(6, 40)\n",
    "output_5"
   ]
  },
  {
   "cell_type": "code",
   "execution_count": 182,
   "metadata": {},
   "outputs": [
    {
     "data": {
      "text/plain": [
       "(2.689702013130694,\n",
       " 0.3370747157435504,\n",
       " 0.6038123113370908,\n",
       " 0.22355619970270718,\n",
       " 0.03043575419977433)"
      ]
     },
     "execution_count": 182,
     "metadata": {},
     "output_type": "execute_result"
    }
   ],
   "source": [
    "output_6, output_ts_6 = tuning_parameters(5, 30)\n",
    "output_6"
   ]
  },
  {
   "cell_type": "code",
   "execution_count": 183,
   "metadata": {},
   "outputs": [
    {
     "data": {
      "text/plain": [
       "(2.8898130743944304,\n",
       " 0.3617933194922182,\n",
       " 0.6106616616679632,\n",
       " 0.25286769204036924,\n",
       " 0.03595082848944733)"
      ]
     },
     "execution_count": 183,
     "metadata": {},
     "output_type": "execute_result"
    }
   ],
   "source": [
    "output_7, output_ts_7 = tuning_parameters(6, 50)\n",
    "output_7"
   ]
  },
  {
   "cell_type": "code",
   "execution_count": 184,
   "metadata": {},
   "outputs": [
    {
     "data": {
      "text/plain": [
       "(2.6604384384708175,\n",
       " 0.339058063920704,\n",
       " 0.5618305427716154,\n",
       " 0.23107084147533039,\n",
       " 0.03084012936420768)"
      ]
     },
     "execution_count": 184,
     "metadata": {},
     "output_type": "execute_result"
    }
   ],
   "source": [
    "output_8, output_ts_8 = tuning_parameters(5, 40)\n",
    "output_8"
   ]
  }
 ],
 "metadata": {
  "kernelspec": {
   "display_name": "Python 3 (ipykernel)",
   "language": "python",
   "name": "python3"
  },
  "language_info": {
   "codemirror_mode": {
    "name": "ipython",
    "version": 3
   },
   "file_extension": ".py",
   "mimetype": "text/x-python",
   "name": "python",
   "nbconvert_exporter": "python",
   "pygments_lexer": "ipython3",
   "version": "3.9.7"
  },
  "latex_envs": {
   "LaTeX_envs_menu_present": true,
   "autoclose": false,
   "autocomplete": true,
   "bibliofile": "biblio.bib",
   "cite_by": "apalike",
   "current_citInitial": 1,
   "eqLabelWithNumbers": true,
   "eqNumInitial": 1,
   "hotkeys": {
    "equation": "Ctrl-E",
    "itemize": "Ctrl-I"
   },
   "labels_anchors": false,
   "latex_user_defs": false,
   "report_style_numbering": false,
   "user_envs_cfg": false
  }
 },
 "nbformat": 4,
 "nbformat_minor": 2
}
