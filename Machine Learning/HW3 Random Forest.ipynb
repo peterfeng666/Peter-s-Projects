{
 "cells": [
  {
   "cell_type": "code",
   "execution_count": 19,
   "metadata": {
    "ExecuteTime": {
     "end_time": "2020-03-03T02:04:18.675044Z",
     "start_time": "2020-03-03T02:04:15.120387Z"
    }
   },
   "outputs": [],
   "source": [
    "import pandas as pd\n",
    "import numpy as np\n",
    "import matplotlib.pyplot as plt\n",
    "%matplotlib inline\n",
    "from sklearn.metrics import accuracy_score, confusion_matrix\n",
    "from sklearn.tree import DecisionTreeClassifier\n",
    "from sklearn.ensemble import RandomForestClassifier\n",
    "import sklearn\n",
    "pd.set_option('use_inf_as_na', True)\n",
    "from collections import Counter\n",
    "import pickle"
   ]
  },
  {
   "cell_type": "code",
   "execution_count": 2,
   "metadata": {
    "ExecuteTime": {
     "end_time": "2020-03-03T02:04:21.903526Z",
     "start_time": "2020-03-03T02:04:19.923963Z"
    }
   },
   "outputs": [],
   "source": [
    "raw_data = pd.read_pickle(r'/Users/peterfeng/Downloads/UChicago 2022 Winter/Machine Learning/Week 2/HW1/dataset.pkl')\n",
    "data = raw_data[raw_data['market_cap'] > 1000.0]\n",
    "data = data.copy()\n",
    "data.fillna(0.0,inplace=True)"
   ]
  },
  {
   "cell_type": "code",
   "execution_count": 3,
   "metadata": {
    "ExecuteTime": {
     "end_time": "2020-03-03T02:04:24.516696Z",
     "start_time": "2020-03-03T02:04:24.512695Z"
    }
   },
   "outputs": [],
   "source": [
    "def f(x):\n",
    "    if x > 0.01:\n",
    "        return 1\n",
    "    elif x < -0.01:\n",
    "        return -1\n",
    "    else:\n",
    "    \n",
    "        return 0"
   ]
  },
  {
   "cell_type": "code",
   "execution_count": 4,
   "metadata": {
    "ExecuteTime": {
     "end_time": "2020-03-03T02:04:30.421746Z",
     "start_time": "2020-03-03T02:04:30.370536Z"
    }
   },
   "outputs": [],
   "source": [
    "data['rel_performance'] = data['pred_rel_return'].apply(f)\n",
    "data.reset_index(inplace=True)\n",
    "data.set_index('date',inplace=True)"
   ]
  },
  {
   "cell_type": "code",
   "execution_count": 5,
   "metadata": {
    "ExecuteTime": {
     "end_time": "2020-03-03T02:04:34.295145Z",
     "start_time": "2020-03-03T02:04:34.274571Z"
    }
   },
   "outputs": [],
   "source": [
    "df_1 = data.loc['2000-01-01':'2003-01-01']\n",
    "df_valid = data.loc['2013-04-01':'2013-07-01']\n",
    "df_test = data.loc['2013-07-01':'2013-10-01']"
   ]
  },
  {
   "cell_type": "code",
   "execution_count": 26,
   "metadata": {
    "ExecuteTime": {
     "end_time": "2020-03-03T02:04:37.819124Z",
     "start_time": "2020-03-03T02:04:37.692118Z"
    }
   },
   "outputs": [
    {
     "data": {
      "text/html": [
       "<div>\n",
       "<style scoped>\n",
       "    .dataframe tbody tr th:only-of-type {\n",
       "        vertical-align: middle;\n",
       "    }\n",
       "\n",
       "    .dataframe tbody tr th {\n",
       "        vertical-align: top;\n",
       "    }\n",
       "\n",
       "    .dataframe thead th {\n",
       "        text-align: right;\n",
       "    }\n",
       "</style>\n",
       "<table border=\"1\" class=\"dataframe\">\n",
       "  <thead>\n",
       "    <tr style=\"text-align: right;\">\n",
       "      <th></th>\n",
       "      <th>actq</th>\n",
       "      <th>apq</th>\n",
       "      <th>atq</th>\n",
       "      <th>ceqq</th>\n",
       "      <th>cheq</th>\n",
       "      <th>cogsq</th>\n",
       "      <th>csh12q</th>\n",
       "      <th>cshfdq</th>\n",
       "      <th>cshiq</th>\n",
       "      <th>cshopq</th>\n",
       "      <th>...</th>\n",
       "      <th>sector_code_815.0</th>\n",
       "      <th>sector_code_817.0</th>\n",
       "      <th>sector_code_822.0</th>\n",
       "      <th>sector_code_823.0</th>\n",
       "      <th>sector_code_825.0</th>\n",
       "      <th>sector_code_830.0</th>\n",
       "      <th>sector_code_835.0</th>\n",
       "      <th>sector_code_840.0</th>\n",
       "      <th>sector_code_845.0</th>\n",
       "      <th>sector_code_850.0</th>\n",
       "    </tr>\n",
       "  </thead>\n",
       "  <tbody>\n",
       "    <tr>\n",
       "      <th>0</th>\n",
       "      <td>7722.000</td>\n",
       "      <td>482.000</td>\n",
       "      <td>21391.000</td>\n",
       "      <td>16523.000</td>\n",
       "      <td>3968.000</td>\n",
       "      <td>1422.000</td>\n",
       "      <td>3374.1250</td>\n",
       "      <td>3648.000</td>\n",
       "      <td>3445.000</td>\n",
       "      <td>0.0</td>\n",
       "      <td>...</td>\n",
       "      <td>0</td>\n",
       "      <td>0</td>\n",
       "      <td>0</td>\n",
       "      <td>0</td>\n",
       "      <td>0</td>\n",
       "      <td>0</td>\n",
       "      <td>0</td>\n",
       "      <td>0</td>\n",
       "      <td>0</td>\n",
       "      <td>0</td>\n",
       "    </tr>\n",
       "    <tr>\n",
       "      <th>1</th>\n",
       "      <td>172.725</td>\n",
       "      <td>19.662</td>\n",
       "      <td>474.649</td>\n",
       "      <td>239.432</td>\n",
       "      <td>3.198</td>\n",
       "      <td>47.634</td>\n",
       "      <td>30.2688</td>\n",
       "      <td>31.217</td>\n",
       "      <td>0.000</td>\n",
       "      <td>0.0</td>\n",
       "      <td>...</td>\n",
       "      <td>0</td>\n",
       "      <td>0</td>\n",
       "      <td>0</td>\n",
       "      <td>0</td>\n",
       "      <td>0</td>\n",
       "      <td>0</td>\n",
       "      <td>0</td>\n",
       "      <td>0</td>\n",
       "      <td>0</td>\n",
       "      <td>0</td>\n",
       "    </tr>\n",
       "    <tr>\n",
       "      <th>2</th>\n",
       "      <td>240.767</td>\n",
       "      <td>27.044</td>\n",
       "      <td>376.536</td>\n",
       "      <td>209.411</td>\n",
       "      <td>68.625</td>\n",
       "      <td>43.023</td>\n",
       "      <td>21.4360</td>\n",
       "      <td>23.753</td>\n",
       "      <td>0.000</td>\n",
       "      <td>0.0</td>\n",
       "      <td>...</td>\n",
       "      <td>0</td>\n",
       "      <td>0</td>\n",
       "      <td>0</td>\n",
       "      <td>0</td>\n",
       "      <td>0</td>\n",
       "      <td>0</td>\n",
       "      <td>0</td>\n",
       "      <td>0</td>\n",
       "      <td>0</td>\n",
       "      <td>0</td>\n",
       "    </tr>\n",
       "    <tr>\n",
       "      <th>3</th>\n",
       "      <td>7681.000</td>\n",
       "      <td>3538.000</td>\n",
       "      <td>11471.000</td>\n",
       "      <td>5308.000</td>\n",
       "      <td>4132.000</td>\n",
       "      <td>5452.000</td>\n",
       "      <td>2536.0000</td>\n",
       "      <td>2731.000</td>\n",
       "      <td>2575.000</td>\n",
       "      <td>0.0</td>\n",
       "      <td>...</td>\n",
       "      <td>0</td>\n",
       "      <td>0</td>\n",
       "      <td>0</td>\n",
       "      <td>0</td>\n",
       "      <td>0</td>\n",
       "      <td>0</td>\n",
       "      <td>0</td>\n",
       "      <td>0</td>\n",
       "      <td>0</td>\n",
       "      <td>0</td>\n",
       "    </tr>\n",
       "    <tr>\n",
       "      <th>4</th>\n",
       "      <td>507.082</td>\n",
       "      <td>139.497</td>\n",
       "      <td>1094.080</td>\n",
       "      <td>402.382</td>\n",
       "      <td>27.605</td>\n",
       "      <td>221.366</td>\n",
       "      <td>43.1858</td>\n",
       "      <td>43.687</td>\n",
       "      <td>53.321</td>\n",
       "      <td>0.0</td>\n",
       "      <td>...</td>\n",
       "      <td>0</td>\n",
       "      <td>0</td>\n",
       "      <td>0</td>\n",
       "      <td>0</td>\n",
       "      <td>0</td>\n",
       "      <td>0</td>\n",
       "      <td>0</td>\n",
       "      <td>0</td>\n",
       "      <td>0</td>\n",
       "      <td>0</td>\n",
       "    </tr>\n",
       "    <tr>\n",
       "      <th>...</th>\n",
       "      <td>...</td>\n",
       "      <td>...</td>\n",
       "      <td>...</td>\n",
       "      <td>...</td>\n",
       "      <td>...</td>\n",
       "      <td>...</td>\n",
       "      <td>...</td>\n",
       "      <td>...</td>\n",
       "      <td>...</td>\n",
       "      <td>...</td>\n",
       "      <td>...</td>\n",
       "      <td>...</td>\n",
       "      <td>...</td>\n",
       "      <td>...</td>\n",
       "      <td>...</td>\n",
       "      <td>...</td>\n",
       "      <td>...</td>\n",
       "      <td>...</td>\n",
       "      <td>...</td>\n",
       "      <td>...</td>\n",
       "      <td>...</td>\n",
       "    </tr>\n",
       "    <tr>\n",
       "      <th>10039</th>\n",
       "      <td>3293.843</td>\n",
       "      <td>897.120</td>\n",
       "      <td>6287.869</td>\n",
       "      <td>-483.813</td>\n",
       "      <td>236.962</td>\n",
       "      <td>2885.039</td>\n",
       "      <td>515.2413</td>\n",
       "      <td>515.124</td>\n",
       "      <td>515.115</td>\n",
       "      <td>0.0</td>\n",
       "      <td>...</td>\n",
       "      <td>0</td>\n",
       "      <td>0</td>\n",
       "      <td>0</td>\n",
       "      <td>0</td>\n",
       "      <td>0</td>\n",
       "      <td>0</td>\n",
       "      <td>0</td>\n",
       "      <td>0</td>\n",
       "      <td>0</td>\n",
       "      <td>0</td>\n",
       "    </tr>\n",
       "    <tr>\n",
       "      <th>10040</th>\n",
       "      <td>963.500</td>\n",
       "      <td>177.000</td>\n",
       "      <td>1857.200</td>\n",
       "      <td>751.900</td>\n",
       "      <td>8.100</td>\n",
       "      <td>281.800</td>\n",
       "      <td>38.6250</td>\n",
       "      <td>40.600</td>\n",
       "      <td>39.172</td>\n",
       "      <td>0.0</td>\n",
       "      <td>...</td>\n",
       "      <td>0</td>\n",
       "      <td>0</td>\n",
       "      <td>0</td>\n",
       "      <td>0</td>\n",
       "      <td>0</td>\n",
       "      <td>0</td>\n",
       "      <td>0</td>\n",
       "      <td>0</td>\n",
       "      <td>0</td>\n",
       "      <td>0</td>\n",
       "    </tr>\n",
       "    <tr>\n",
       "      <th>10041</th>\n",
       "      <td>6314.200</td>\n",
       "      <td>1472.100</td>\n",
       "      <td>10608.000</td>\n",
       "      <td>4721.400</td>\n",
       "      <td>1997.600</td>\n",
       "      <td>2435.400</td>\n",
       "      <td>822.8250</td>\n",
       "      <td>825.500</td>\n",
       "      <td>824.800</td>\n",
       "      <td>0.0</td>\n",
       "      <td>...</td>\n",
       "      <td>0</td>\n",
       "      <td>0</td>\n",
       "      <td>0</td>\n",
       "      <td>0</td>\n",
       "      <td>0</td>\n",
       "      <td>0</td>\n",
       "      <td>0</td>\n",
       "      <td>0</td>\n",
       "      <td>0</td>\n",
       "      <td>0</td>\n",
       "    </tr>\n",
       "    <tr>\n",
       "      <th>10042</th>\n",
       "      <td>1516.934</td>\n",
       "      <td>89.176</td>\n",
       "      <td>2969.655</td>\n",
       "      <td>667.721</td>\n",
       "      <td>931.795</td>\n",
       "      <td>715.809</td>\n",
       "      <td>134.1400</td>\n",
       "      <td>134.180</td>\n",
       "      <td>134.390</td>\n",
       "      <td>0.0</td>\n",
       "      <td>...</td>\n",
       "      <td>0</td>\n",
       "      <td>0</td>\n",
       "      <td>0</td>\n",
       "      <td>0</td>\n",
       "      <td>0</td>\n",
       "      <td>0</td>\n",
       "      <td>0</td>\n",
       "      <td>0</td>\n",
       "      <td>0</td>\n",
       "      <td>0</td>\n",
       "    </tr>\n",
       "    <tr>\n",
       "      <th>10043</th>\n",
       "      <td>7788.000</td>\n",
       "      <td>216.000</td>\n",
       "      <td>9752.000</td>\n",
       "      <td>5298.000</td>\n",
       "      <td>5481.000</td>\n",
       "      <td>517.000</td>\n",
       "      <td>5417.9000</td>\n",
       "      <td>5419.831</td>\n",
       "      <td>5269.000</td>\n",
       "      <td>0.0</td>\n",
       "      <td>...</td>\n",
       "      <td>0</td>\n",
       "      <td>0</td>\n",
       "      <td>0</td>\n",
       "      <td>0</td>\n",
       "      <td>0</td>\n",
       "      <td>0</td>\n",
       "      <td>0</td>\n",
       "      <td>0</td>\n",
       "      <td>0</td>\n",
       "      <td>0</td>\n",
       "    </tr>\n",
       "  </tbody>\n",
       "</table>\n",
       "<p>10044 rows × 725 columns</p>\n",
       "</div>"
      ],
      "text/plain": [
       "           actq       apq        atq       ceqq      cheq     cogsq  \\\n",
       "0      7722.000   482.000  21391.000  16523.000  3968.000  1422.000   \n",
       "1       172.725    19.662    474.649    239.432     3.198    47.634   \n",
       "2       240.767    27.044    376.536    209.411    68.625    43.023   \n",
       "3      7681.000  3538.000  11471.000   5308.000  4132.000  5452.000   \n",
       "4       507.082   139.497   1094.080    402.382    27.605   221.366   \n",
       "...         ...       ...        ...        ...       ...       ...   \n",
       "10039  3293.843   897.120   6287.869   -483.813   236.962  2885.039   \n",
       "10040   963.500   177.000   1857.200    751.900     8.100   281.800   \n",
       "10041  6314.200  1472.100  10608.000   4721.400  1997.600  2435.400   \n",
       "10042  1516.934    89.176   2969.655    667.721   931.795   715.809   \n",
       "10043  7788.000   216.000   9752.000   5298.000  5481.000   517.000   \n",
       "\n",
       "          csh12q    cshfdq     cshiq  cshopq  ...  sector_code_815.0  \\\n",
       "0      3374.1250  3648.000  3445.000     0.0  ...                  0   \n",
       "1        30.2688    31.217     0.000     0.0  ...                  0   \n",
       "2        21.4360    23.753     0.000     0.0  ...                  0   \n",
       "3      2536.0000  2731.000  2575.000     0.0  ...                  0   \n",
       "4        43.1858    43.687    53.321     0.0  ...                  0   \n",
       "...          ...       ...       ...     ...  ...                ...   \n",
       "10039   515.2413   515.124   515.115     0.0  ...                  0   \n",
       "10040    38.6250    40.600    39.172     0.0  ...                  0   \n",
       "10041   822.8250   825.500   824.800     0.0  ...                  0   \n",
       "10042   134.1400   134.180   134.390     0.0  ...                  0   \n",
       "10043  5417.9000  5419.831  5269.000     0.0  ...                  0   \n",
       "\n",
       "       sector_code_817.0  sector_code_822.0  sector_code_823.0  \\\n",
       "0                      0                  0                  0   \n",
       "1                      0                  0                  0   \n",
       "2                      0                  0                  0   \n",
       "3                      0                  0                  0   \n",
       "4                      0                  0                  0   \n",
       "...                  ...                ...                ...   \n",
       "10039                  0                  0                  0   \n",
       "10040                  0                  0                  0   \n",
       "10041                  0                  0                  0   \n",
       "10042                  0                  0                  0   \n",
       "10043                  0                  0                  0   \n",
       "\n",
       "       sector_code_825.0  sector_code_830.0  sector_code_835.0  \\\n",
       "0                      0                  0                  0   \n",
       "1                      0                  0                  0   \n",
       "2                      0                  0                  0   \n",
       "3                      0                  0                  0   \n",
       "4                      0                  0                  0   \n",
       "...                  ...                ...                ...   \n",
       "10039                  0                  0                  0   \n",
       "10040                  0                  0                  0   \n",
       "10041                  0                  0                  0   \n",
       "10042                  0                  0                  0   \n",
       "10043                  0                  0                  0   \n",
       "\n",
       "       sector_code_840.0  sector_code_845.0  sector_code_850.0  \n",
       "0                      0                  0                  0  \n",
       "1                      0                  0                  0  \n",
       "2                      0                  0                  0  \n",
       "3                      0                  0                  0  \n",
       "4                      0                  0                  0  \n",
       "...                  ...                ...                ...  \n",
       "10039                  0                  0                  0  \n",
       "10040                  0                  0                  0  \n",
       "10041                  0                  0                  0  \n",
       "10042                  0                  0                  0  \n",
       "10043                  0                  0                  0  \n",
       "\n",
       "[10044 rows x 725 columns]"
      ]
     },
     "execution_count": 26,
     "metadata": {},
     "output_type": "execute_result"
    }
   ],
   "source": [
    "train_1 = df_1.reset_index().drop(['ticker','date',\n",
    "                                   'next_period_return',\n",
    "                                   'spy_next_period_return',\n",
    "                                   'rel_performance','pred_rel_return',\n",
    "                                  'return', 'cum_ret', 'spy_cum_ret'],axis=1)\n",
    "\n",
    "valid = df_valid.reset_index().drop(['ticker','date',\n",
    "                                    'next_period_return',\n",
    "                                   'spy_next_period_return',\n",
    "                                   'rel_performance','pred_rel_return',\n",
    "                                  'return', 'cum_ret', 'spy_cum_ret'],axis=1)\n",
    "test = df_test.reset_index().drop(['ticker','date',\n",
    "                                   'next_period_return',\n",
    "                                   'spy_next_period_return',\n",
    "                                   'rel_performance','pred_rel_return',\n",
    "                                  'return', 'cum_ret', 'spy_cum_ret'],axis=1)"
   ]
  },
  {
   "cell_type": "code",
   "execution_count": 7,
   "metadata": {
    "ExecuteTime": {
     "end_time": "2020-03-03T02:04:41.533183Z",
     "start_time": "2020-03-03T02:04:41.527143Z"
    }
   },
   "outputs": [],
   "source": [
    "train_1_stock_returns = df_1['next_period_return']\n",
    "valid_stock_returns = df_valid['next_period_return']\n",
    "test_stock_returns = df_test['next_period_return']\n",
    "\n",
    "y_1 = df_1['rel_performance']\n",
    "y_valid = df_valid['rel_performance']\n",
    "y_test = df_test['rel_performance']\n",
    "\n",
    "y_1 = y_1.values\n",
    "y_valid = y_valid.values\n",
    "y_test = y_test.values"
   ]
  },
  {
   "cell_type": "markdown",
   "metadata": {},
   "source": [
    "## Importing Optuna and suppressing warning messages"
   ]
  },
  {
   "cell_type": "code",
   "execution_count": 8,
   "metadata": {
    "ExecuteTime": {
     "end_time": "2020-03-03T02:12:00.595366Z",
     "start_time": "2020-03-03T02:12:00.592375Z"
    }
   },
   "outputs": [],
   "source": [
    "import optuna\n",
    "from optuna.trial import Trial\n",
    "optuna.logging.set_verbosity(optuna.logging.FATAL)\n",
    "import warnings\n",
    "warnings.filterwarnings(\"ignore\")"
   ]
  },
  {
   "cell_type": "markdown",
   "metadata": {},
   "source": [
    "## Defining the Optuna objective function"
   ]
  },
  {
   "cell_type": "code",
   "execution_count": 9,
   "metadata": {},
   "outputs": [],
   "source": [
    "def objective(trial:Trial,train=None,labels=None,val=None,val_labels=None,val_rets=None):\n",
    "\n",
    "    rf_n_estimators = trial.suggest_int('n_estimators', 10,40,step=5)\n",
    "    rf_max_features = trial.suggest_categorical('max_features',['sqrt','log2'])\n",
    "    rf_min_samples_leaf = trial.suggest_int('min_samples_leaf',800,2400,step=800)\n",
    "    rf_max_depth = trial.suggest_int('max_depth',4,15)\n",
    "    \n",
    "    rf_clf = RandomForestClassifier(n_estimators=rf_n_estimators,\n",
    "                                    max_depth=rf_max_depth,\n",
    "                                    min_samples_leaf=rf_min_samples_leaf,\n",
    "                                    max_features=rf_max_features)\n",
    "    rf_clf.fit(train,labels)\n",
    "    accuracy = rf_clf.score(val,val_labels)\n",
    " \n",
    "    return accuracy"
   ]
  },
  {
   "cell_type": "code",
   "execution_count": 10,
   "metadata": {},
   "outputs": [],
   "source": [
    "study = optuna.create_study(direction=\"maximize\")"
   ]
  },
  {
   "cell_type": "code",
   "execution_count": 11,
   "metadata": {},
   "outputs": [],
   "source": [
    "from functools import partial"
   ]
  },
  {
   "cell_type": "markdown",
   "metadata": {},
   "source": [
    "Use the included 3 sets of optimal features over the holding period 2003-2018 and a RandomForestClassifier. Use Optuna to find hyper-parameters for the training period 2000-01-01 to 2003-01-01 and use these hyper-parameters and the sets of optimal features to compute the maximum drawdown for each of them."
   ]
  },
  {
   "cell_type": "code",
   "execution_count": 71,
   "metadata": {},
   "outputs": [],
   "source": [
    "start_dates = [pd.to_datetime('2000-01-01') + pd.DateOffset(months = 3 * i) for i in range(62)]\n",
    "end_dates = [d + pd.DateOffset(months = 36) for d in start_dates]\n",
    "\n",
    "training_frames = [data.loc[d:d+pd.DateOffset(months = 36)] for d in start_dates]\n",
    "validation_frames = [data.loc[d:d+pd.DateOffset(months = 3)] for d in end_dates]\n",
    "test_frames = [data.loc[d + pd.DateOffset(months=3):d+pd.DateOffset(months = 6)] for d in end_dates]\n",
    "\n",
    "training_data = [d.reset_index().drop\n",
    "                                 (['ticker','date',\n",
    "                                   'next_period_return',\n",
    "                                   'spy_next_period_return',\n",
    "                                   'rel_performance','pred_rel_return',\n",
    "                                  'return', 'cum_ret', 'spy_cum_ret'],axis=1) for d in training_frames]\n",
    "validation_data = [d.reset_index().drop(['ticker','date',\n",
    "                                   'next_period_return',\n",
    "                                   'spy_next_period_return',\n",
    "                                   'rel_performance','pred_rel_return',\n",
    "                                  'return', 'cum_ret', 'spy_cum_ret'],axis=1) for d in validation_frames]\n",
    "test_data = [d.reset_index().drop(['ticker','date',\n",
    "                                   'next_period_return',\n",
    "                                   'spy_next_period_return',\n",
    "                                   'rel_performance','pred_rel_return',\n",
    "                                  'return', 'cum_ret', 'spy_cum_ret'],axis=1) for d in test_frames]\n",
    "\n",
    "training_labels = [d['rel_performance'].values for d in training_frames]\n",
    "validation_labels = [d['rel_performance'].values for d in validation_frames]"
   ]
  },
  {
   "cell_type": "code",
   "execution_count": 55,
   "metadata": {},
   "outputs": [
    {
     "data": {
      "text/plain": [
       "[array([-1,  1,  1, ...,  1,  0,  1]),\n",
       " array([ 1, -1,  1, ...,  1,  1,  1]),\n",
       " array([-1,  1, -1, ..., -1,  1,  1]),\n",
       " array([ 1, -1,  1, ...,  1,  1,  1]),\n",
       " array([ 1,  1,  1, ...,  1,  1, -1]),\n",
       " array([ 1,  1, -1, ..., -1,  1,  1]),\n",
       " array([1, 1, 1, ..., 1, 1, 1]),\n",
       " array([-1, -1, -1, ..., -1,  1,  1]),\n",
       " array([-1,  1,  1, ..., -1, -1, -1]),\n",
       " array([ 1, -1, -1, ...,  1,  1, -1]),\n",
       " array([-1,  1,  0, ...,  1, -1, -1]),\n",
       " array([-1, -1,  1, ...,  1,  0, -1]),\n",
       " array([-1,  1, -1, ...,  0,  1,  1]),\n",
       " array([ 1,  1,  1, ..., -1,  1, -1]),\n",
       " array([ 1,  0, -1, ..., -1,  1, -1]),\n",
       " array([ 1,  1,  1, ..., -1, -1,  1]),\n",
       " array([-1,  1,  1, ..., -1,  0, -1]),\n",
       " array([ 1, -1,  0, ...,  1,  1,  0]),\n",
       " array([-1, -1,  1, ...,  0, -1, -1]),\n",
       " array([ 1, -1,  1, ...,  1, -1,  1]),\n",
       " array([1, 1, 1, ..., 1, 1, 1]),\n",
       " array([ 1, -1, -1, ...,  0,  1,  1]),\n",
       " array([-1, -1,  1, ...,  1,  1, -1]),\n",
       " array([ 1, -1,  0, ...,  0,  0,  1]),\n",
       " array([1, 1, 1, ..., 1, 1, 1]),\n",
       " array([ 1, -1, -1, ...,  1, -1,  1]),\n",
       " array([-1, -1,  1, ..., -1, -1, -1]),\n",
       " array([ 0,  1, -1, ..., -1, -1,  1]),\n",
       " array([ 1, -1, -1, ..., -1,  1, -1]),\n",
       " array([ 0,  1,  0, ...,  1, -1, -1]),\n",
       " array([-1,  0,  0, ..., -1,  1,  1]),\n",
       " array([ 1, -1, -1, ...,  1, -1, -1]),\n",
       " array([1, 1, 1, ..., 1, 1, 1]),\n",
       " array([ 1,  1,  1, ..., -1,  1,  1]),\n",
       " array([ 1, -1,  1, ..., -1,  1, -1]),\n",
       " array([ 0,  0,  0, ..., -1,  1,  1]),\n",
       " array([ 1, -1, -1, ...,  1,  1,  1]),\n",
       " array([-1,  1, -1, ..., -1,  1,  1]),\n",
       " array([-1, -1,  1, ...,  1, -1,  1]),\n",
       " array([ 1, -1, -1, ...,  1,  1, -1]),\n",
       " array([-1,  1,  1, ...,  0,  0,  1]),\n",
       " array([-1,  1,  1, ..., -1, -1, -1]),\n",
       " array([-1,  1, -1, ...,  1,  1,  1]),\n",
       " array([ 1, -1,  1, ...,  0,  1,  1]),\n",
       " array([ 0,  1, -1, ...,  0, -1,  1]),\n",
       " array([-1, -1,  1, ..., -1,  1, -1]),\n",
       " array([ 1, -1,  1, ..., -1, -1, -1]),\n",
       " array([-1,  1,  1, ...,  1, -1,  1]),\n",
       " array([ 1, -1, -1, ...,  1,  1, -1]),\n",
       " array([ 1, -1, -1, ...,  1,  1, -1]),\n",
       " array([ 1,  1, -1, ..., -1, -1, -1]),\n",
       " array([-1, -1,  1, ..., -1,  1,  1]),\n",
       " array([-1, -1,  1, ..., -1,  0,  1]),\n",
       " array([-1, -1, -1, ..., -1,  1, -1]),\n",
       " array([ 1,  1,  1, ...,  1, -1,  1]),\n",
       " array([ 1,  1, -1, ..., -1,  1,  0]),\n",
       " array([ 1,  1, -1, ..., -1,  1, -1]),\n",
       " array([ 1, -1, -1, ...,  1, -1, -1]),\n",
       " array([ 1,  1,  1, ..., -1,  1, -1]),\n",
       " array([ 1, -1, -1, ..., -1, -1,  1]),\n",
       " array([ 1, -1, -1, ...,  1, -1,  1]),\n",
       " array([-1,  1, -1, ..., -1,  0, -1])]"
      ]
     },
     "execution_count": 55,
     "metadata": {},
     "output_type": "execute_result"
    }
   ],
   "source": [
    "with open('/Users/peterfeng/Downloads/UChicago 2022 Winter/Machine Learning/Week 6/opt_feat_2.pkl','rb') as f:\n",
    "    optimal_features_1 = pickle.load(f)\n",
    "with open('/Users/peterfeng/Downloads/UChicago 2022 Winter/Machine Learning/Week 6/opt_feat_3.pkl','rb') as f:\n",
    "    optimal_features_2 = pickle.load(f)\n",
    "with open('/Users/peterfeng/Downloads/UChicago 2022 Winter/Machine Learning/Week 6/opt_feat_4.pkl','rb') as f:\n",
    "    optimal_features_3 = pickle.load(f)"
   ]
  },
  {
   "cell_type": "code",
   "execution_count": 67,
   "metadata": {},
   "outputs": [],
   "source": [
    "def Maxdrawdown(optimal_features):\n",
    "    P_L = []\n",
    "    x = [0,1]\n",
    "    ret = []\n",
    "\n",
    "    for i in range(1,len(optimal_features)-1):\n",
    "            study = optuna.create_study(direction=\"maximize\")\n",
    "            study.optimize(partial(objective,train=training_data[i].loc[:,optimal_features[i-1]],labels=training_labels[i],val=validation_data[i].loc[:,optimal_features[i-1]],val_labels=validation_labels[i],val_rets=valid_stock_returns), n_trials=200,n_jobs=-1)\n",
    "            rf_clf = RandomForestClassifier(**study.best_params)\n",
    "            rf_clf.fit(training_data[i].loc[:,optimal_features[i-1]],training_labels[i])\n",
    "            pred_i = rf_clf.predict(test_data[i][optimal_features[i-1]])\n",
    "\n",
    "            profit_i = (pred_i * test_frames[i]['next_period_return']).sum()\n",
    "            P_L.append(profit_i)\n",
    "            positions = np.sum(np.abs(pred_i))\n",
    "\n",
    "            ret.append((1.0/positions) * profit_i)\n",
    "            x.append(x[i] + (x[i]/positions) * profit_i)\n",
    "            \n",
    "            \n",
    "            \n",
    "    SPY = pd.read_pickle(r'/Users/peterfeng/Downloads/UChicago 2022 Winter/Machine Learning/Week 5/SPY_cum_ret.pkl')\n",
    "    SPY = SPY.loc['2003-10-01':]\n",
    "    SPY = SPY.resample('Q').ffill()\n",
    "    SPY['spy_cum_ret'] = (SPY['spy_cum_ret'] - SPY['spy_cum_ret'][0] + 1)\n",
    "    SPY['strategy'] = x[1:]\n",
    "    SPY = SPY.resample('A').bfill()\n",
    "\n",
    "    returns = SPY['strategy']\n",
    "\n",
    "    local_max = [n for n in range(len(returns)-1) if ((n==0) and (returns[0] > returns[1])) or \n",
    "       ((n > 0) and  (returns[n-1]<returns[n]) and (returns[n+1]<returns[n]))] \n",
    "\n",
    "    local_min = [n for n in range(1,len(returns)) if ((n == len(returns)-1) and (returns[-1] < returns[-2])) or\n",
    "            (returns[n-1]>returns[n]) and (returns[n+1]>returns[n])]\n",
    "\n",
    "    def next_local_min(n):\n",
    "        if [m for m in local_min if m > n]:\n",
    "            return [m for m in local_min if m > n][0]\n",
    "        else: return None\n",
    "\n",
    "    drawdowns = [(n,next_local_min(n)) for n in local_max]\n",
    "    drawdown_values = [returns[n] - returns[m] for (n,m) in drawdowns if m != None]\n",
    "    if drawdown_values:\n",
    "        return  np.max(drawdown_values)\n",
    "    else: return 0.0"
   ]
  },
  {
   "cell_type": "code",
   "execution_count": 68,
   "metadata": {},
   "outputs": [
    {
     "data": {
      "text/plain": [
       "0.14549549248844262"
      ]
     },
     "execution_count": 68,
     "metadata": {},
     "output_type": "execute_result"
    }
   ],
   "source": [
    "Maxdrawdown(optimal_features_1)     ## Maxdrawdown using opt_feat_2"
   ]
  },
  {
   "cell_type": "code",
   "execution_count": 69,
   "metadata": {},
   "outputs": [
    {
     "data": {
      "text/plain": [
       "0.3490585646126181"
      ]
     },
     "execution_count": 69,
     "metadata": {},
     "output_type": "execute_result"
    }
   ],
   "source": [
    "Maxdrawdown(optimal_features_2) ## Maxdrawdown using opt_feat_3"
   ]
  },
  {
   "cell_type": "code",
   "execution_count": 70,
   "metadata": {},
   "outputs": [
    {
     "data": {
      "text/plain": [
       "0.24455215827734555"
      ]
     },
     "execution_count": 70,
     "metadata": {},
     "output_type": "execute_result"
    }
   ],
   "source": [
    "Maxdrawdown(optimal_features_3) ## Maxdrawdown using opt_feat_4"
   ]
  },
  {
   "cell_type": "markdown",
   "metadata": {},
   "source": [
    "Try different Optuna objectives such as accuracy and max drawdown on the period 2000-01-01 to 2003-04-01"
   ]
  },
  {
   "cell_type": "code",
   "execution_count": 74,
   "metadata": {},
   "outputs": [],
   "source": [
    "start_dates = [pd.to_datetime('2000-01-01') + pd.DateOffset(months = 3 * i) for i in range(63)]\n",
    "end_dates = [d + pd.DateOffset(months = 39) for d in start_dates]\n",
    "\n",
    "training_frames = [data.loc[d:d+pd.DateOffset(months = 39)] for d in start_dates]\n",
    "validation_frames = [data.loc[d:d+pd.DateOffset(months = 3)] for d in end_dates]\n",
    "test_frames = [data.loc[d + pd.DateOffset(months=3):d+pd.DateOffset(months = 6)] for d in end_dates]\n",
    "\n",
    "training_data = [d.reset_index().drop\n",
    "                                 (['ticker','date',\n",
    "                                   'next_period_return',\n",
    "                                   'spy_next_period_return',\n",
    "                                   'rel_performance','pred_rel_return',\n",
    "                                  'return', 'cum_ret', 'spy_cum_ret'],axis=1) for d in training_frames]\n",
    "validation_data = [d.reset_index().drop(['ticker','date',\n",
    "                                   'next_period_return',\n",
    "                                   'spy_next_period_return',\n",
    "                                   'rel_performance','pred_rel_return',\n",
    "                                  'return', 'cum_ret', 'spy_cum_ret'],axis=1) for d in validation_frames]\n",
    "test_data = [d.reset_index().drop(['ticker','date',\n",
    "                                   'next_period_return',\n",
    "                                   'spy_next_period_return',\n",
    "                                   'rel_performance','pred_rel_return',\n",
    "                                  'return', 'cum_ret', 'spy_cum_ret'],axis=1) for d in test_frames]\n",
    "\n",
    "training_labels = [d['rel_performance'].values for d in training_frames]\n",
    "validation_labels = [d['rel_performance'].values for d in validation_frames]\n"
   ]
  },
  {
   "cell_type": "code",
   "execution_count": 75,
   "metadata": {},
   "outputs": [
    {
     "data": {
      "text/plain": [
       "0.6094104769274082"
      ]
     },
     "execution_count": 75,
     "metadata": {},
     "output_type": "execute_result"
    }
   ],
   "source": [
    "Maxdrawdown(optimal_features_1)   ###. period 2000-01-01 to 2003-04-01 maxdrawdown"
   ]
  },
  {
   "cell_type": "code",
   "execution_count": 77,
   "metadata": {},
   "outputs": [],
   "source": [
    "def sharpndrawdown(nestimatorstep, minsamplestep):\n",
    "    def objective(trial:Trial,train=None,labels=None,val=None,val_labels=None,val_rets=None):\n",
    "\n",
    "        rf_n_estimators = trial.suggest_int('n_estimators', 10,40,step=nestimatorstep)\n",
    "        rf_max_features = trial.suggest_categorical('max_features',['sqrt','log2'])\n",
    "        rf_min_samples_leaf = trial.suggest_int('min_samples_leaf',800,2400,step=minsamplestep)\n",
    "        rf_max_depth = trial.suggest_int('max_depth',4,15)\n",
    "\n",
    "        rf_clf = RandomForestClassifier(n_estimators=rf_n_estimators,\n",
    "                                        max_depth=rf_max_depth,\n",
    "                                        min_samples_leaf=rf_min_samples_leaf,\n",
    "                                        max_features=rf_max_features)\n",
    "        rf_clf.fit(train,labels)\n",
    "        accuracy = rf_clf.score(val,val_labels)\n",
    "\n",
    "        return accuracy\n",
    "\n",
    "    start_dates = [pd.to_datetime('2000-01-01') + pd.DateOffset(months = 3 * i) for i in range(62)]\n",
    "    end_dates = [d + pd.DateOffset(months = 36) for d in start_dates]\n",
    "\n",
    "    training_frames = [data.loc[d:d+pd.DateOffset(months = 36)] for d in start_dates]\n",
    "    validation_frames = [data.loc[d:d+pd.DateOffset(months = 3)] for d in end_dates]\n",
    "    test_frames = [data.loc[d + pd.DateOffset(months=3):d+pd.DateOffset(months = 6)] for d in end_dates]\n",
    "\n",
    "    training_data = [d.reset_index().drop\n",
    "                                     (['ticker','date',\n",
    "                                       'next_period_return',\n",
    "                                       'spy_next_period_return',\n",
    "                                       'rel_performance','pred_rel_return',\n",
    "                                      'return', 'cum_ret', 'spy_cum_ret'],axis=1) for d in training_frames]\n",
    "    validation_data = [d.reset_index().drop(['ticker','date',\n",
    "                                       'next_period_return',\n",
    "                                       'spy_next_period_return',\n",
    "                                       'rel_performance','pred_rel_return',\n",
    "                                      'return', 'cum_ret', 'spy_cum_ret'],axis=1) for d in validation_frames]\n",
    "    test_data = [d.reset_index().drop(['ticker','date',\n",
    "                                       'next_period_return',\n",
    "                                       'spy_next_period_return',\n",
    "                                       'rel_performance','pred_rel_return',\n",
    "                                      'return', 'cum_ret', 'spy_cum_ret'],axis=1) for d in test_frames]\n",
    "\n",
    "    training_labels = [d['rel_performance'].values for d in training_frames]\n",
    "    validation_labels = [d['rel_performance'].values for d in validation_frames]    \n",
    "    \n",
    "    P_L = []\n",
    "    x = [0,1]\n",
    "    ret = []\n",
    "\n",
    "    for i in range(1,len(optimal_features)-1):\n",
    "            study = optuna.create_study(direction=\"maximize\")\n",
    "            study.optimize(partial(objective,train=training_data[i].loc[:,optimal_features[i-1]],labels=training_labels[i],val=validation_data[i].loc[:,optimal_features[i-1]],val_labels=validation_labels[i],val_rets=valid_stock_returns), n_trials=200,n_jobs=-1)\n",
    "            rf_clf = RandomForestClassifier(**study.best_params)\n",
    "            rf_clf.fit(training_data[i].loc[:,optimal_features[i-1]],training_labels[i])\n",
    "            pred_i = rf_clf.predict(test_data[i][optimal_features[i-1]])\n",
    "\n",
    "            profit_i = (pred_i * test_frames[i]['next_period_return']).sum()\n",
    "            P_L.append(profit_i)\n",
    "            positions = np.sum(np.abs(pred_i))\n",
    "\n",
    "            ret.append((1.0/positions) * profit_i)\n",
    "            x.append(x[i] + (x[i]/positions) * profit_i)\n",
    "            \n",
    "            \n",
    "    SPY = pd.read_pickle(r'/Users/peterfeng/Downloads/UChicago 2022 Winter/Machine Learning/Week 5/SPY_cum_ret.pkl')\n",
    "    SPY = SPY.loc['2003-10-01':]\n",
    "    SPY = SPY.resample('Q').ffill()\n",
    "    SPY['spy_cum_ret'] = (SPY['spy_cum_ret'] - SPY['spy_cum_ret'][0] + 1)\n",
    "    SPY['strategy'] = x[1:]\n",
    "    SPY = SPY.resample('A').bfill()\n",
    "\n",
    "    returns = SPY['strategy']\n",
    "    strategy_mean_ret = (SPY['strategy'] - 1).diff().mean()\n",
    "    strategy_std = (SPY['strategy'] - 1).diff().std()\n",
    "    strategy_sr = strategy_mean_ret/strategy_std\n",
    "\n",
    "    local_max = [n for n in range(len(returns)-1) if ((n==0) and (returns[0] > returns[1])) or \n",
    "       ((n > 0) and  (returns[n-1]<returns[n]) and (returns[n+1]<returns[n]))] \n",
    "\n",
    "    local_min = [n for n in range(1,len(returns)) if ((n == len(returns)-1) and (returns[-1] < returns[-2])) or\n",
    "            (returns[n-1]>returns[n]) and (returns[n+1]>returns[n])]\n",
    "\n",
    "    def next_local_min(n):\n",
    "        if [m for m in local_min if m > n]:\n",
    "            return [m for m in local_min if m > n][0]\n",
    "        else: return None\n",
    "\n",
    "    drawdowns = [(n,next_local_min(n)) for n in local_max]\n",
    "    drawdown_values = [returns[n] - returns[m] for (n,m) in drawdowns if m != None]\n",
    "    if drawdown_values:\n",
    "        strategy_mdd = np.max(drawdown_values)\n",
    "    else: strategy_mdd = 0.0\n",
    "    \n",
    "    result = \"sharp ratio is: {}. max drawdown is: {}\".format(strategy_sr,strategy_mdd)\n",
    "    \n",
    "    return result\n"
   ]
  },
  {
   "cell_type": "code",
   "execution_count": 78,
   "metadata": {},
   "outputs": [
    {
     "data": {
      "text/plain": [
       "'sharp ratio is: 0.915512366349778. max drawdown is: 0.30572003763150724'"
      ]
     },
     "execution_count": 78,
     "metadata": {},
     "output_type": "execute_result"
    }
   ],
   "source": [
    "sharpndrawdown(10, 10)"
   ]
  },
  {
   "cell_type": "code",
   "execution_count": 79,
   "metadata": {},
   "outputs": [
    {
     "data": {
      "text/plain": [
       "'sharp ratio is: 1.0838751928161139. max drawdown is: 0.1966158326784515'"
      ]
     },
     "execution_count": 79,
     "metadata": {},
     "output_type": "execute_result"
    }
   ],
   "source": [
    "sharpndrawdown(20, 10)   ### nestimatorstep = 20, minsamplestep = 10 seems to have a better answer"
   ]
  },
  {
   "cell_type": "code",
   "execution_count": null,
   "metadata": {},
   "outputs": [],
   "source": [
    "sharpndrawdown(10, 20)"
   ]
  },
  {
   "cell_type": "code",
   "execution_count": null,
   "metadata": {},
   "outputs": [],
   "source": []
  }
 ],
 "metadata": {
  "kernelspec": {
   "display_name": "Python 3 (ipykernel)",
   "language": "python",
   "name": "python3"
  },
  "language_info": {
   "codemirror_mode": {
    "name": "ipython",
    "version": 3
   },
   "file_extension": ".py",
   "mimetype": "text/x-python",
   "name": "python",
   "nbconvert_exporter": "python",
   "pygments_lexer": "ipython3",
   "version": "3.9.7"
  },
  "latex_envs": {
   "LaTeX_envs_menu_present": true,
   "autoclose": false,
   "autocomplete": true,
   "bibliofile": "biblio.bib",
   "cite_by": "apalike",
   "current_citInitial": 1,
   "eqLabelWithNumbers": true,
   "eqNumInitial": 1,
   "hotkeys": {
    "equation": "Ctrl-E",
    "itemize": "Ctrl-I"
   },
   "labels_anchors": false,
   "latex_user_defs": false,
   "report_style_numbering": false,
   "user_envs_cfg": false
  }
 },
 "nbformat": 4,
 "nbformat_minor": 2
}
