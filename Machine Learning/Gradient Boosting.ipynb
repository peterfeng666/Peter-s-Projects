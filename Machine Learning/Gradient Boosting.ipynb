{
 "cells": [
  {
   "cell_type": "code",
   "execution_count": null,
   "id": "d41d926c",
   "metadata": {},
   "outputs": [],
   "source": [
    "# Since My Kernel Keeps dying when running the optimize function, I was not able to get the results; \n",
    "# However, I tried to write some codes based on my understanding about the question to at least show my efforts before the ddl\n",
    "# Will keep trying to see if I can improve further"
   ]
  },
  {
   "cell_type": "code",
   "execution_count": 1,
   "id": "dc0b0977",
   "metadata": {},
   "outputs": [],
   "source": [
    "from collections import Counter\n",
    "import pandas as pd\n",
    "import numpy as np\n",
    "import matplotlib.pyplot as plt\n",
    "%matplotlib inline\n",
    "pd.set_option('use_inf_as_na', True)\n",
    "import lightgbm as lgb\n",
    "import pickle\n",
    "\n",
    "\n",
    "import optuna\n",
    "from optuna.trial import Trial\n",
    "import optuna.integration.lightgbm as gbm\n",
    "\n",
    "from lightgbm import LGBMClassifier\n",
    "from lightgbm import early_stopping\n",
    "from lightgbm import log_evaluation\n",
    "import sklearn.datasets\n",
    "from sklearn.model_selection import train_test_split\n",
    "\n",
    "from functools import partial"
   ]
  },
  {
   "cell_type": "code",
   "execution_count": 2,
   "id": "023b0f78",
   "metadata": {},
   "outputs": [],
   "source": [
    "##P1 \n",
    "##find the 10 most common features and use those at the optimal features.\n",
    "with open('/Users/peterfeng/Downloads/UChicago 2022 Winter/Machine Learning/Week 7/gb_opt_feat_1.pkl','rb') as f:\n",
    "    optimal_features_1 = pickle.load(f)\n",
    "\n",
    "with open('/Users/peterfeng/Downloads/UChicago 2022 Winter/Machine Learning/Week 7/gb_opt_feat_2.pkl','rb') as f:\n",
    "    optimal_features_2 = pickle.load(f)\n",
    "\n",
    "with open('/Users/peterfeng/Downloads/UChicago 2022 Winter/Machine Learning/Week 7/gb_opt_feat_3.pkl','rb') as f:\n",
    "    optimal_features_3 = pickle.load(f)\n",
    "\n",
    "opt_1 = [np.array(optimal_features_1[i]) for i in range(len(optimal_features_1))]\n",
    "ordered_feat_1 = Counter(np.concatenate(opt_1,axis=0)).most_common()\n",
    "most_common_feats_1 = [x[0] for x in ordered_feat_1[0:9]]\n",
    "\n",
    "all_fea_1=[j for i in optimal_features_1 for j in i]\n",
    "most_common_1=[x[0] for x in Counter(all_fea_1).most_common(10)]\n",
    "all_fea_2=[j for i in optimal_features_2 for j in i]\n",
    "most_common_2=[x[0] for x in Counter(all_fea_2).most_common(10)]\n",
    "all_fea_3=[j for i in optimal_features_3 for j in i]\n",
    "most_common_3=[x[0] for x in Counter(all_fea_3).most_common(10)]"
   ]
  },
  {
   "cell_type": "code",
   "execution_count": 9,
   "id": "9d4e0315",
   "metadata": {},
   "outputs": [],
   "source": [
    "#Construct two Gradient Boosting classifiers\n",
    "raw_data = pd.read_pickle(r'/Users/peterfeng/Downloads/UChicago 2022 Winter/Machine Learning/Week 7/dataset.pkl')\n",
    "data = raw_data[raw_data['market_cap'] > 1000.0]\n",
    "data = data.copy()\n",
    "data.fillna(0.0,inplace=True)"
   ]
  },
  {
   "cell_type": "code",
   "execution_count": 10,
   "id": "a5c9074a",
   "metadata": {},
   "outputs": [],
   "source": [
    "def f(x):\n",
    "    if x > 0.01:\n",
    "        return 1\n",
    "    elif x < -0.01:\n",
    "        return -1\n",
    "    else:\n",
    "        return 0\n",
    "    \n",
    "data['rel_performance'] = data['pred_rel_return'].apply(f)\n",
    "data.reset_index(inplace=True,)\n",
    "data.set_index('date',inplace=True)"
   ]
  },
  {
   "cell_type": "code",
   "execution_count": 11,
   "id": "9e6b84b8",
   "metadata": {},
   "outputs": [],
   "source": [
    "df_1 = data.loc['2000-01-01':'2003-01-01']\n",
    "df_valid = data.loc['2003-01-01':'2003-04-01']\n",
    "\n",
    "train_1 = df_1.reset_index().drop(['ticker','date',\n",
    "                                   'next_period_return',\n",
    "                                   'spy_next_period_return',\n",
    "                                   'rel_performance','pred_rel_return',\n",
    "                                  'return', 'cum_ret', 'spy_cum_ret'],axis=1)\n",
    "\n",
    "valid = df_valid.reset_index().drop(['ticker','date',\n",
    "                                    'next_period_return',\n",
    "                                   'spy_next_period_return',\n",
    "                                   'rel_performance','pred_rel_return',\n",
    "                                  'return', 'cum_ret', 'spy_cum_ret'],axis=1)\n",
    "\n",
    "train_1_stock_returns = df_1['next_period_return']\n",
    "valid_stock_returns = df_valid['next_period_return']\n",
    "\n",
    "y_1 = df_1['rel_performance']\n",
    "y_valid = df_valid['rel_performance']\n",
    "\n",
    "y_1 = y_1.values\n",
    "y_valid = y_valid.values"
   ]
  },
  {
   "cell_type": "code",
   "execution_count": 13,
   "id": "ff8fc01c",
   "metadata": {},
   "outputs": [],
   "source": [
    "optuna.logging.set_verbosity(optuna.logging.FATAL)\n",
    "import warnings\n",
    "warnings.filterwarnings(\"ignore\")\n",
    "\n",
    "def objective(trial:Trial,train=None,labels=None,val=None,val_labels=None,val_rets=None):\n",
    "    \n",
    "    params = {\n",
    "        \"objective\": \"multi_class\",\n",
    "        \"verbosity\": -1,\n",
    "        \"boosting_type\": \"gbdt\",\n",
    "        \"reg_lambda\": trial.suggest_float(\"reg_lambda\", 1e-8, 10.0, log=True),\n",
    "        \"num_leaves\": trial.suggest_int(\"num_leaves\", 5, 25),\n",
    "        'min_data_in_leaf': trial.suggest_int('min_data_in_leaf',400,2400,step=400),\n",
    "        'learning_rate': trial.suggest_float('learning_rate',0.01,0.2,step=0.01)\n",
    "    }\n",
    "    \n",
    "    gb_clf = lgb.LGBMClassifier(**params)\n",
    "    gbm = gb_clf.fit(train,labels)\n",
    "    preds = gbm.predict(val)\n",
    "    profit = (preds*val_rets).sum()\n",
    "    return profit"
   ]
  },
  {
   "cell_type": "code",
   "execution_count": 14,
   "id": "ed9940b0",
   "metadata": {},
   "outputs": [],
   "source": [
    "study = optuna.create_study(direction=\"maximize\")"
   ]
  },
  {
   "cell_type": "code",
   "execution_count": null,
   "id": "05c6c4a8",
   "metadata": {},
   "outputs": [],
   "source": [
    "%%time\n",
    "study.optimize(partial(objective,train=train_1,labels=y_1,val=valid,val_labels=y_valid,val_rets=valid_stock_returns), n_trials=100,n_jobs=1)"
   ]
  },
  {
   "cell_type": "code",
   "execution_count": null,
   "id": "1ffc2d8a",
   "metadata": {},
   "outputs": [],
   "source": [
    "study.best_params"
   ]
  },
  {
   "cell_type": "code",
   "execution_count": 17,
   "id": "592f58cc",
   "metadata": {},
   "outputs": [],
   "source": [
    "gb_clf_1 = lgb.LGBMClassifier(**study.best_params)"
   ]
  },
  {
   "cell_type": "code",
   "execution_count": 29,
   "id": "6a064abb",
   "metadata": {},
   "outputs": [],
   "source": [
    "my_params = {'reg_lambda': 5\n",
    "                 ,'num_leaves': 10\n",
    "                 ,'min_data_in_leaf': 1500\n",
    "                 ,'learning_rate': 0.03}\n",
    "gb_clf_2 = lgb.LGBMClassifier(**my_params)"
   ]
  },
  {
   "cell_type": "code",
   "execution_count": 30,
   "id": "8412e174",
   "metadata": {},
   "outputs": [],
   "source": [
    "# p/l\n",
    "\n",
    "start_dates = [pd.to_datetime('2000-01-01') + pd.DateOffset(months = 3 * i) for i in range(62)]\n",
    "end_dates = [d + pd.DateOffset(months = 36) for d in start_dates]\n",
    "\n",
    "training_frames = [data.loc[d:d+pd.DateOffset(months = 36)] for d in start_dates]\n",
    "valid_frames = [data.loc[d:d+pd.DateOffset(months = 3)] for d in end_dates]\n",
    "test_frames =  [data.loc[d+pd.DateOffset(months = 3):d+pd.DateOffset(months = 6)] for d in end_dates]\n",
    "\n",
    "training_data = [d.reset_index().drop\n",
    "                                 (['ticker','date',\n",
    "                                   'next_period_return',\n",
    "                                   'spy_next_period_return',\n",
    "                                   'rel_performance','pred_rel_return',\n",
    "                                  'return', 'cum_ret', 'spy_cum_ret'],axis=1) for d in training_frames]\n",
    "\n",
    "valid_data = [d.reset_index().drop(['ticker','date',\n",
    "                                   'next_period_return',\n",
    "                                   'spy_next_period_return',\n",
    "                                   'rel_performance','pred_rel_return',\n",
    "                                  'return', 'cum_ret', 'spy_cum_ret'],axis=1) for d in valid_frames]\n",
    "\n",
    "test_data = [d.reset_index().drop(['ticker','date',\n",
    "                                   'next_period_return',\n",
    "                                   'spy_next_period_return',\n",
    "                                   'rel_performance','pred_rel_return',\n",
    "                                  'return', 'cum_ret', 'spy_cum_ret'],axis=1) for d in test_frames]\n",
    "\n",
    "training_labels = [d['rel_performance'].values for d in training_frames]\n",
    "validation_labels = [d['rel_performance'].values for d in valid_frames]"
   ]
  },
  {
   "cell_type": "code",
   "execution_count": null,
   "id": "c9946a79",
   "metadata": {},
   "outputs": [],
   "source": [
    "# most_common_1 and gb_clf_1\n",
    "\n",
    "x_1 = [1]\n",
    "\n",
    "for i in range(len(training_labels)):\n",
    "        gb_clf_1.fit(training_data[i][most_common_1[:-1]],training_labels[i])\n",
    "        pred_i = gb_clf_1.predict(test_data[i][most_common_feats_1])\n",
    "        profit_i = (pred_i * test_frames[i]['next_period_return']).sum()\n",
    "        num_positions = len(pred_i)\n",
    "        x_1.append(x_1[i] + (x_1[i]/num_positions) * profit_i)"
   ]
  },
  {
   "cell_type": "code",
   "execution_count": null,
   "id": "ea1cd2cd",
   "metadata": {},
   "outputs": [],
   "source": [
    "# most_common_1 and gb_clf_2\n",
    "\n",
    "x_2 = [1]\n",
    "\n",
    "for i in range(len(training_labels)):\n",
    "        gb_clf_2.fit(training_data[i][most_common_1[:-1]],training_labels[i])\n",
    "        pred_i = gb_clf_2.predict(test_data[i][most_common_feats_1])\n",
    "        profit_i = (pred_i * test_frames[i]['next_period_return']).sum()\n",
    "        num_positions = len(pred_i)\n",
    "        x_2.append(x_2[i] + (x_2[i]/num_positions) * profit_i)"
   ]
  },
  {
   "cell_type": "code",
   "execution_count": null,
   "id": "534ba72c",
   "metadata": {},
   "outputs": [],
   "source": [
    "SPY = pd.read_pickle('/Users/peterfeng/Downloads/UChicago 2022 Winter/Machine Learning/Week 7/SPY_cum_ret.pkl')\n",
    "SPY = SPY.loc['2003-04-01':'2018-12-31']\n",
    "SPY = SPY.resample('Q').ffill()\n",
    "SPY['spy_cum_ret'] = (SPY['spy_cum_ret'] - SPY['spy_cum_ret'][0] + 1)\n",
    "SPY['most_common_1 & gb_clf_1'] = x_1\n",
    "SPY['most_common_1 & gb_clf_2'] = x_2\n",
    "SPY.plot()"
   ]
  },
  {
   "cell_type": "code",
   "execution_count": null,
   "id": "ac8ea1e0",
   "metadata": {},
   "outputs": [],
   "source": [
    "#Most_common_2+gb_clf_1\n",
    "\n",
    "x_3 = [1]\n",
    "\n",
    "for i in range(len(training_labels)):\n",
    "        gb_clf_1.fit(training_data[i][most_common_2[:-1]],training_labels[i])\n",
    "        pred_i = gb_clf_1.predict(test_data[i][most_common_feats_1])\n",
    "        profit_i = (pred_i * test_frames[i]['next_period_return']).sum()\n",
    "        num_positions = len(pred_i)\n",
    "        x_3.append(x_1[i] + (x_1[i]/num_positions) * profit_i)"
   ]
  },
  {
   "cell_type": "code",
   "execution_count": null,
   "id": "838d13e9",
   "metadata": {},
   "outputs": [],
   "source": [
    "#Most_common_2+gb_clf_2\n",
    "\n",
    "x_4 = [1]\n",
    "\n",
    "for i in range(len(training_labels)):\n",
    "        gb_clf_1.fit(training_data[i][most_common_2[:-1]],training_labels[i])\n",
    "        pred_i = gb_clf_2.predict(test_data[i][most_common_feats_1])\n",
    "        profit_i = (pred_i * test_frames[i]['next_period_return']).sum()\n",
    "        num_positions = len(pred_i)\n",
    "        x_4.append(x_1[i] + (x_1[i]/num_positions) * profit_i)"
   ]
  },
  {
   "cell_type": "code",
   "execution_count": null,
   "id": "f1ebf07a",
   "metadata": {},
   "outputs": [],
   "source": [
    "SPY = pd.read_pickle('/Users/peterfeng/Downloads/UChicago 2022 Winter/Machine Learning/Week 7/SPY_cum_ret.pkl')\n",
    "SPY = SPY.loc['2003-04-01':'2018-12-31']\n",
    "SPY = SPY.resample('Q').ffill()\n",
    "SPY['spy_cum_ret'] = (SPY['spy_cum_ret'] - SPY['spy_cum_ret'][0] + 1)\n",
    "SPY['most_common_2 & gb_clf_1'] = x_3\n",
    "SPY['most_common_2 & gb_clf_2'] = x_4\n",
    "SPY.plot()"
   ]
  },
  {
   "cell_type": "code",
   "execution_count": null,
   "id": "51636cec",
   "metadata": {},
   "outputs": [],
   "source": [
    "#Most_common_3+gb_clf_1\n",
    "\n",
    "x_5 = [1]\n",
    "\n",
    "for i in range(len(training_labels)):\n",
    "        gb_clf_1.fit(training_data[i][most_common_3[:-1]],training_labels[i])\n",
    "        pred_i = gb_clf_1.predict(test_data[i][most_common_feats_1])\n",
    "        profit_i = (pred_i * test_frames[i]['next_period_return']).sum()\n",
    "        num_positions = len(pred_i)\n",
    "        x_5.append(x_1[i] + (x_1[i]/num_positions) * profit_i)"
   ]
  },
  {
   "cell_type": "code",
   "execution_count": null,
   "id": "caf89fe5",
   "metadata": {},
   "outputs": [],
   "source": [
    "#Most_common_3+gb_clf_2\n",
    "\n",
    "x_6 = [1]\n",
    "\n",
    "for i in range(len(training_labels)):\n",
    "        gb_clf_1.fit(training_data[i][most_common_3[:-1]],training_labels[i])\n",
    "        pred_i = gb_clf_2.predict(test_data[i][most_common_feats_1])\n",
    "        profit_i = (pred_i * test_frames[i]['next_period_return']).sum()\n",
    "        num_positions = len(pred_i)\n",
    "        x_6.append(x_1[i] + (x_1[i]/num_positions) * profit_i)"
   ]
  },
  {
   "cell_type": "code",
   "execution_count": null,
   "id": "9aeffc3e",
   "metadata": {},
   "outputs": [],
   "source": [
    "SPY = pd.read_pickle('/Users/peterfeng/Downloads/UChicago 2022 Winter/Machine Learning/Week 7/SPY_cum_ret.pkl')\n",
    "SPY = SPY.loc['2003-04-01':'2018-12-31']\n",
    "SPY = SPY.resample('Q').ffill()\n",
    "SPY['spy_cum_ret'] = (SPY['spy_cum_ret'] - SPY['spy_cum_ret'][0] + 1)\n",
    "SPY['most_common_3 & gb_clf_1'] = x_5\n",
    "SPY['most_common_3 & gb_clf_2'] = x_6\n",
    "SPY.plot()"
   ]
  },
  {
   "cell_type": "code",
   "execution_count": 45,
   "id": "d03f1909",
   "metadata": {},
   "outputs": [],
   "source": [
    "# P2\n",
    "\n",
    "from sklearn.ensemble import RandomForestClassifier\n",
    "\n",
    "def objective2(trial:Trial,train=None,labels=None,val=None,val_labels=None,val_rets=None):\n",
    "\n",
    "    rf_n_estimators = trial.suggest_int('n_estimators', 12,42,step=8)\n",
    "    rf_max_features = trial.suggest_categorical('max_features',['sqrt','log2'])\n",
    "    rf_min_samples_leaf = trial.suggest_int('min_samples_leaf',1000,2000,step=1000)\n",
    "    rf_max_depth = trial.suggest_int('max_depth',5,20)\n",
    "    \n",
    "    rf_clf = RandomForestClassifier(n_estimators=rf_n_estimators,\n",
    "                                    max_depth=rf_max_depth,\n",
    "                                    min_samples_leaf=rf_min_samples_leaf,\n",
    "                                    max_features=rf_max_features)\n",
    "    rf_clf.fit(train,labels)\n",
    "    preds = rf_clf.predict(val)\n",
    "    profit = (preds * val_rets).sum()\n",
    " \n",
    "    return profit"
   ]
  },
  {
   "cell_type": "code",
   "execution_count": 46,
   "id": "09d443b7",
   "metadata": {},
   "outputs": [],
   "source": [
    "study2 = optuna.create_study(direction=\"maximize\")"
   ]
  },
  {
   "cell_type": "code",
   "execution_count": null,
   "id": "3ad7099e",
   "metadata": {},
   "outputs": [],
   "source": [
    "%%time\n",
    "study2.optimize(partial(objective2,train=train_1,labels=y_1,val=valid,val_labels=y_valid,val_rets=valid_stock_returns), n_trials=200,n_jobs=-1)"
   ]
  },
  {
   "cell_type": "code",
   "execution_count": null,
   "id": "e4ac304f",
   "metadata": {},
   "outputs": [],
   "source": [
    "print(study2.best_params)\n",
    "rf_clf = RandomForestClassifier(**study2.best_params)"
   ]
  },
  {
   "cell_type": "code",
   "execution_count": 51,
   "id": "b168393a",
   "metadata": {},
   "outputs": [],
   "source": [
    "with open('/Users/peterfeng/Downloads/UChicago 2022 Winter/Machine Learning/Week 7/opt_feat_1.pkl','rb') as f:\n",
    "    rf_optimal_features_1 = pickle.load(f)\n",
    "\n",
    "with open('/Users/peterfeng/Downloads/UChicago 2022 Winter/Machine Learning/Week 7/opt_feat_2.pkl','rb') as f:\n",
    "    rf_optimal_features_2 = pickle.load(f)\n",
    "\n",
    "with open('/Users/peterfeng/Downloads/UChicago 2022 Winter/Machine Learning/Week 7/opt_feat_3.pkl','rb') as f:\n",
    "    rf_optimal_features_3 = pickle.load(f)"
   ]
  },
  {
   "cell_type": "code",
   "execution_count": null,
   "id": "293c667f",
   "metadata": {},
   "outputs": [],
   "source": [
    "%time\n",
    "rf_x1 = [1]\n",
    "\n",
    "for i in range(len(training_labels)):\n",
    "        rf_clf.fit(training_data[i][rf_optimal_features_1[i]],training_labels[i])\n",
    "        pred_i = rf_clf.predict(test_data[i][rf_optimal_features_1[i]])\n",
    "        profit_i = (pred_i * test_frames[i]['next_period_return']).sum()\n",
    "        num_positions = len(pred_i)\n",
    "        rf_x1.append(rf_x1[i] + (rf_x1[i]/num_positions) * profit_i)"
   ]
  },
  {
   "cell_type": "code",
   "execution_count": 53,
   "id": "e53bbc1e",
   "metadata": {},
   "outputs": [],
   "source": [
    "%time\n",
    "rf_x2 = [1]\n",
    "\n",
    "for i in range(len(training_labels)):\n",
    "        rf_clf.fit(training_data[i][rf_optimal_features_2[i]],training_labels[i])\n",
    "        pred_i = rf_clf.predict(test_data[i][rf_optimal_features_2[i]])\n",
    "        profit_i = (pred_i * test_frames[i]['next_period_return']).sum()\n",
    "        num_positions = len(pred_i)\n",
    "        rf_x2.append(rf_x2[i] + (rf_x2[i]/num_positions) * profit_i)"
   ]
  },
  {
   "cell_type": "code",
   "execution_count": 54,
   "id": "139bb6ad",
   "metadata": {},
   "outputs": [],
   "source": [
    "%time\n",
    "rf_x3 = [1]\n",
    "\n",
    "for i in range(len(training_labels)):\n",
    "        rf_clf.fit(training_data[i][rf_optimal_features_3[i]],training_labels[i])\n",
    "        pred_i = rf_clf.predict(test_data[i][rf_optimal_features_3[i]])\n",
    "        profit_i = (pred_i * test_frames[i]['next_period_return']).sum()\n",
    "        num_positions = len(pred_i)\n",
    "        rf_x3.append(rf_x3[i] + (rf_x3[i]/num_positions) * profit_i)"
   ]
  },
  {
   "cell_type": "code",
   "execution_count": null,
   "id": "5c6e3eb9",
   "metadata": {},
   "outputs": [],
   "source": [
    "SPY = pd.read_pickle('/Users/peterfeng/Downloads/UChicago 2022 Winter/Machine Learning/Week 7/SPY_cum_ret.pkl')\n",
    "SPY = SPY.loc['2003-04-01':'2018-12-31']\n",
    "SPY = SPY.resample('Q').ffill()\n",
    "SPY['spy_cum_ret'] = (SPY['spy_cum_ret'] - SPY['spy_cum_ret'][0] + 1)\n",
    "SPY['rf_opt_feat1'] = rf_x1\n",
    "SPY['rf_opt_feat2'] = rf_x2\n",
    "SPY['rf_opt_feat3'] = rf_x3\n",
    "SPY.plot()"
   ]
  },
  {
   "cell_type": "code",
   "execution_count": null,
   "id": "f9e3a019",
   "metadata": {},
   "outputs": [],
   "source": [
    "average_rf = (SPY['rf_opt_feat1'] + SPY['rf_opt_feat2'] + SPY['rf_opt_feat3'])/3\n",
    "SPY['average_rf'] = average_rf\n",
    "SPY.plot()"
   ]
  },
  {
   "cell_type": "code",
   "execution_count": 57,
   "id": "a6fea908",
   "metadata": {},
   "outputs": [],
   "source": [
    "# use most_common_1+gb_clf1 in my strategy\n",
    "\n",
    "gb_strat=pd.DataFrame(x_1)"
   ]
  },
  {
   "cell_type": "code",
   "execution_count": 85,
   "id": "d33b65be",
   "metadata": {},
   "outputs": [],
   "source": [
    "def performance(strat,SPY,strat_name):\n",
    "    strat=pd.DataFrame(strat)\n",
    "    strat_1_mean_ret = (strat - 1).diff().mean()\n",
    "    strat_1_std = (strat - 1).diff().std()\n",
    "    strat_1_sr = strat_1_mean_ret/strat_1_std\n",
    "    print(f'{strat_name} Sharpe Ratio: ',strat_1_sr.values)\n",
    "\n",
    "    strategy_ret = (SPY[strat_name] - 1).diff().values[1:]\n",
    "    spy_ret = (SPY['spy_cum_ret'] - 1).diff().values[1:]\n",
    "    beta = (np.cov(spy_ret,strategy_ret)/np.var(spy_ret))[1,0]\n",
    "    print('Beta: ',beta)\n",
    "\n",
    "    residual_ret = strategy_ret - beta * spy_ret\n",
    "    IR = np.mean(residual_ret)/np.std(residual_ret)\n",
    "    print('Information Ratio: ',IR)\n",
    "\n",
    "    alpha = np.mean(residual_ret)\n",
    "    print('Strategy alpha: ',alpha)\n",
    "\n",
    "    i = np.argmax(np.maximum.accumulate(strat) - strat)\n",
    "    j = np.argmax(strat[:i])\n",
    "    plt.plot(strat)\n",
    "    plt.plot([i, j], [strat[i], strat[j]], 'o', color='Red', markersize=10)\n",
    "    print('Max drawdown:',np.abs(strat[j] - strat[i]))"
   ]
  },
  {
   "cell_type": "code",
   "execution_count": 62,
   "id": "e0899fbc",
   "metadata": {},
   "outputs": [],
   "source": [
    "SPY2 = pd.read_pickle('/Users/peterfeng/Downloads/UChicago 2022 Winter/Machine Learning/Week 7/SPY_cum_ret.pkl')\n",
    "SPY2 = SPY2.loc['2003-04-01':'2018-12-31']\n",
    "SPY2 = SPY2.resample('Q').ffill()\n",
    "SPY2['spy_cum_ret'] = (SPY2['spy_cum_ret'] - SPY2['spy_cum_ret'][0] + 1)"
   ]
  },
  {
   "cell_type": "code",
   "execution_count": null,
   "id": "30700f92",
   "metadata": {},
   "outputs": [],
   "source": [
    "# 30% gradient boosting strategy and 70% random forest strategy\n",
    "strat_1 = 0.3 * gb_strat[0].values + 0.7 * average_rf.values\n",
    "SPY2['my_strategy_1'] = strat_1\n",
    "SPY2.plot()\n",
    "performance(strat_1,SPY2,'my_strategy_1')"
   ]
  },
  {
   "cell_type": "code",
   "execution_count": null,
   "id": "5607db09",
   "metadata": {},
   "outputs": [],
   "source": [
    "# 50% gradient boosting strategy and short 50% random forest strategy\n",
    "\n",
    "strat_2 = 0.5 * gb_strat[0].values - 0.5 * average_rf.values\n",
    "SPY2['my_strategy_2'] = strat_2\n",
    "SPY2.plot()\n",
    "performance(strat_2,SPY2,'my_strategy_2')"
   ]
  },
  {
   "cell_type": "code",
   "execution_count": null,
   "id": "cfb270db",
   "metadata": {},
   "outputs": [],
   "source": [
    "# 10% gradient boosting strategy and 90% random forest strategy\n",
    "\n",
    "strat_3 = 0.1 * gb_strat[0].values + 0.9 * average_rf.values\n",
    "SPY2['my_strategy_3'] = strat_3\n",
    "SPY2.plot()\n",
    "performance(strat_3,SPY2,'my_strategy_3')"
   ]
  }
 ],
 "metadata": {
  "kernelspec": {
   "display_name": "Python [conda env:ML]",
   "language": "python",
   "name": "conda-env-ML-py"
  },
  "language_info": {
   "codemirror_mode": {
    "name": "ipython",
    "version": 3
   },
   "file_extension": ".py",
   "mimetype": "text/x-python",
   "name": "python",
   "nbconvert_exporter": "python",
   "pygments_lexer": "ipython3",
   "version": "3.9.7"
  },
  "toc": {
   "base_numbering": 1,
   "nav_menu": {},
   "number_sections": false,
   "sideBar": true,
   "skip_h1_title": false,
   "title_cell": "Table of Contents",
   "title_sidebar": "Contents",
   "toc_cell": false,
   "toc_position": {},
   "toc_section_display": true,
   "toc_window_display": false
  },
  "varInspector": {
   "cols": {
    "lenName": 16,
    "lenType": 16,
    "lenVar": 40
   },
   "kernels_config": {
    "python": {
     "delete_cmd_postfix": "",
     "delete_cmd_prefix": "del ",
     "library": "var_list.py",
     "varRefreshCmd": "print(var_dic_list())"
    },
    "r": {
     "delete_cmd_postfix": ") ",
     "delete_cmd_prefix": "rm(",
     "library": "var_list.r",
     "varRefreshCmd": "cat(var_dic_list()) "
    }
   },
   "types_to_exclude": [
    "module",
    "function",
    "builtin_function_or_method",
    "instance",
    "_Feature"
   ],
   "window_display": false
  }
 },
 "nbformat": 4,
 "nbformat_minor": 5
}
