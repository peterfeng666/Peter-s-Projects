{
 "cells": [
  {
   "cell_type": "code",
   "execution_count": 2,
   "metadata": {
    "colab": {
     "base_uri": "https://localhost:8080/"
    },
    "id": "LCIRqjUydpqd",
    "outputId": "ac24cf7f-fa16-4568-dfe0-5e959be12f5a"
   },
   "outputs": [],
   "source": [
    "import numpy as np\n",
    "import pandas as pd\n",
    "import statsmodels.api as sm\n",
    "import matplotlib.pyplot as plt\n",
    "\n",
    "pd.set_option('display.float_format', lambda x: '%.4f' % x)"
   ]
  },
  {
   "cell_type": "markdown",
   "metadata": {},
   "source": [
    "# 2 Analyzing GMO\n",
    "\n",
    "Examine GMO’s performance. Use the risk-free rate to convert the total returns to excess returns"
   ]
  },
  {
   "cell_type": "code",
   "execution_count": 3,
   "metadata": {
    "id": "jHHsqa_5dpqe"
   },
   "outputs": [],
   "source": [
    "df_gmo = pd.read_excel('/Users/peterfeng/Downloads/积累/Previous Courses Materials/UChicago Past Courses/UChicago 2021 Fall/Portfolio Theory/hw data/gmo_analysis_data.xlsx', sheet_name = 'returns (total)').set_index('Date')\n",
    "df_risk_free = pd.read_excel('/Users/peterfeng/Downloads/积累/Previous Courses Materials/UChicago Past Courses/UChicago 2021 Fall/Portfolio Theory/hw data/gmo_analysis_data.xlsx', sheet_name = 'risk-free rate').set_index('Date').dropna()"
   ]
  },
  {
   "cell_type": "code",
   "execution_count": 4,
   "metadata": {
    "id": "CGpIzduJdpqf"
   },
   "outputs": [],
   "source": [
    "df_gmo_excess = df_gmo.dropna().subtract(df_risk_free['US3M'][list(df_gmo.dropna().index)[0]:], axis = 0)"
   ]
  },
  {
   "cell_type": "markdown",
   "metadata": {
    "id": "gd1k8I6mdXKU"
   },
   "source": [
    "## 1. Calculate the mean, volatility, and Sharpe ratio for GMWAX. Do this for three samples: \n",
    "\n",
    "• from inception through 2011\n",
    "\n",
    "• 2012-present\n",
    "\n",
    "• inception - present\n",
    "\n",
    "Has the mean, vol, and Sharpe changed much since the case?"
   ]
  },
  {
   "cell_type": "code",
   "execution_count": 6,
   "metadata": {
    "colab": {
     "base_uri": "https://localhost:8080/",
     "height": 142
    },
    "id": "raryVfrFdpqf",
    "outputId": "dedfab85-efb3-4725-fc62-b8bff2505b35"
   },
   "outputs": [
    {
     "data": {
      "text/html": [
       "<div>\n",
       "<style scoped>\n",
       "    .dataframe tbody tr th:only-of-type {\n",
       "        vertical-align: middle;\n",
       "    }\n",
       "\n",
       "    .dataframe tbody tr th {\n",
       "        vertical-align: top;\n",
       "    }\n",
       "\n",
       "    .dataframe thead th {\n",
       "        text-align: right;\n",
       "    }\n",
       "</style>\n",
       "<table border=\"1\" class=\"dataframe\">\n",
       "  <thead>\n",
       "    <tr style=\"text-align: right;\">\n",
       "      <th></th>\n",
       "      <th>mean</th>\n",
       "      <th>vol</th>\n",
       "      <th>Sharpe</th>\n",
       "    </tr>\n",
       "  </thead>\n",
       "  <tbody>\n",
       "    <tr>\n",
       "      <th>incept-2011</th>\n",
       "      <td>0.0158</td>\n",
       "      <td>0.1250</td>\n",
       "      <td>0.1266</td>\n",
       "    </tr>\n",
       "    <tr>\n",
       "      <th>2012-present</th>\n",
       "      <td>0.0593</td>\n",
       "      <td>0.0853</td>\n",
       "      <td>0.6952</td>\n",
       "    </tr>\n",
       "    <tr>\n",
       "      <th>all</th>\n",
       "      <td>0.0329</td>\n",
       "      <td>0.1111</td>\n",
       "      <td>0.2964</td>\n",
       "    </tr>\n",
       "  </tbody>\n",
       "</table>\n",
       "</div>"
      ],
      "text/plain": [
       "               mean    vol Sharpe\n",
       "incept-2011  0.0158 0.1250 0.1266\n",
       "2012-present 0.0593 0.0853 0.6952\n",
       "all          0.0329 0.1111 0.2964"
      ]
     },
     "execution_count": 6,
     "metadata": {},
     "output_type": "execute_result"
    }
   ],
   "source": [
    "stat_table_1 = pd.DataFrame(columns=['mean', 'vol', 'Sharpe'],\n",
    "        index = ['incept-2011', '2012-present', 'all'])\n",
    "\n",
    "stat_table_1.loc['incept-2011', 'mean'] = df_gmo_excess['GMWAX'][: '2011'].mean() * 12\n",
    "stat_table_1.loc['incept-2011', 'vol'] = df_gmo_excess['GMWAX'][: '2011'].std() * np.sqrt(12)\n",
    "stat_table_1.loc['incept-2011', 'Sharpe'] = stat_table_1.loc['incept-2011', 'mean'] / stat_table_1.loc['incept-2011', 'vol']\n",
    "\n",
    "stat_table_1.loc['2012-present', 'mean'] = df_gmo_excess['GMWAX']['2012': ].mean() * 12\n",
    "stat_table_1.loc['2012-present', 'vol'] = df_gmo_excess['GMWAX']['2012': ].std() * np.sqrt(12)\n",
    "stat_table_1.loc['2012-present', 'Sharpe'] = stat_table_1.loc['2012-present', 'mean'] / stat_table_1.loc['2012-present', 'vol']\n",
    "\n",
    "stat_table_1.loc['all', 'mean'] = df_gmo_excess['GMWAX'].mean() * 12\n",
    "stat_table_1.loc['all', 'vol'] = df_gmo_excess['GMWAX'].std() * np.sqrt(12)\n",
    "stat_table_1.loc['all', 'Sharpe'] = stat_table_1.loc['all', 'mean'] / stat_table_1.loc['all', 'vol']\n",
    "\n",
    "stat_table_1"
   ]
  },
  {
   "cell_type": "markdown",
   "metadata": {
    "id": "hD_vcusfdpqg"
   },
   "source": [
    "The mean and sharpe ratio increase since the case, while the volatility drops. Since the case, all the stats have become better. Mean increased to about 5 times, vol droped 30%, and sharpe ratio has an increase for more than 5 times. "
   ]
  },
  {
   "cell_type": "markdown",
   "metadata": {
    "id": "lZyipnzldlw7"
   },
   "source": [
    "## 2. GMO believes a risk premium is compensation for a security’s tendency to lose money at “bad times”. \n",
    "For all three samples, analyze extreme scenarios by looking at\n",
    "\n",
    "• Min return\n",
    "\n",
    "• 5th percentile (VaR-5th) \n",
    "\n",
    "• Maximum drawdown"
   ]
  },
  {
   "cell_type": "code",
   "execution_count": 7,
   "metadata": {
    "id": "I4Nn8-5Gdpqh"
   },
   "outputs": [],
   "source": [
    "def max_drawdown(df):\n",
    "    df_compound = (df + 1).cumprod()\n",
    "    df_currmax = df_compound.cummax()\n",
    "    df_max_drawdown_day = (df_compound - df_currmax) / df_currmax\n",
    "    return df_max_drawdown_day.min()"
   ]
  },
  {
   "cell_type": "code",
   "execution_count": 8,
   "metadata": {
    "colab": {
     "base_uri": "https://localhost:8080/",
     "height": 142
    },
    "id": "b-yVXJFadpqh",
    "outputId": "950c35c2-b667-404a-9450-ae2ffcab49a8"
   },
   "outputs": [
    {
     "data": {
      "text/html": [
       "<div>\n",
       "<style scoped>\n",
       "    .dataframe tbody tr th:only-of-type {\n",
       "        vertical-align: middle;\n",
       "    }\n",
       "\n",
       "    .dataframe tbody tr th {\n",
       "        vertical-align: top;\n",
       "    }\n",
       "\n",
       "    .dataframe thead th {\n",
       "        text-align: right;\n",
       "    }\n",
       "</style>\n",
       "<table border=\"1\" class=\"dataframe\">\n",
       "  <thead>\n",
       "    <tr style=\"text-align: right;\">\n",
       "      <th></th>\n",
       "      <th>min</th>\n",
       "      <th>VaR</th>\n",
       "      <th>max-drawdown</th>\n",
       "    </tr>\n",
       "  </thead>\n",
       "  <tbody>\n",
       "    <tr>\n",
       "      <th>incept-2011</th>\n",
       "      <td>-0.1492</td>\n",
       "      <td>-0.0598</td>\n",
       "      <td>-0.3552</td>\n",
       "    </tr>\n",
       "    <tr>\n",
       "      <th>2012-present</th>\n",
       "      <td>-0.1187</td>\n",
       "      <td>-0.0306</td>\n",
       "      <td>-0.1675</td>\n",
       "    </tr>\n",
       "    <tr>\n",
       "      <th>all</th>\n",
       "      <td>-0.1492</td>\n",
       "      <td>-0.0449</td>\n",
       "      <td>-0.3552</td>\n",
       "    </tr>\n",
       "  </tbody>\n",
       "</table>\n",
       "</div>"
      ],
      "text/plain": [
       "                 min     VaR max-drawdown\n",
       "incept-2011  -0.1492 -0.0598      -0.3552\n",
       "2012-present -0.1187 -0.0306      -0.1675\n",
       "all          -0.1492 -0.0449      -0.3552"
      ]
     },
     "execution_count": 8,
     "metadata": {},
     "output_type": "execute_result"
    }
   ],
   "source": [
    "stat_table_2 = pd.DataFrame(columns=['min', 'VaR', 'max-drawdown'],\n",
    "        index = ['incept-2011', '2012-present', 'all'])\n",
    "\n",
    "stat_table_2.loc['incept-2011', 'min'] = df_gmo_excess['GMWAX'][: '2011'].min()\n",
    "stat_table_2.loc['incept-2011', 'VaR'] = df_gmo_excess['GMWAX'][: '2011'].quantile(.05)\n",
    "stat_table_2.loc['incept-2011', 'max-drawdown'] = max_drawdown(df_gmo['GMWAX'][: '2011'])\n",
    "\n",
    "stat_table_2.loc['2012-present', 'min'] = df_gmo_excess['GMWAX']['2012': ].min() \n",
    "stat_table_2.loc['2012-present', 'VaR'] = df_gmo_excess['GMWAX']['2012': ].quantile(.05)\n",
    "stat_table_2.loc['2012-present', 'max-drawdown'] = max_drawdown(df_gmo['GMWAX']['2012': ])\n",
    "\n",
    "stat_table_2.loc['all', 'min'] = df_gmo_excess['GMWAX'].min() \n",
    "stat_table_2.loc['all', 'VaR'] = df_gmo_excess['GMWAX'].quantile(.05) \n",
    "stat_table_2.loc['all', 'max-drawdown'] = max_drawdown(df_gmo['GMWAX'])\n",
    "\n",
    "stat_table_2"
   ]
  },
  {
   "cell_type": "markdown",
   "metadata": {
    "id": "1eByzlL8dpqh"
   },
   "source": [
    "### (a) Does GMWAX have high or low tail-risk as seen by these stats? \n",
    "\n",
    "It has quite high tail risk given the statistics, where VaR and max-drawdown are much larger than the mean return in all periods. Looking at the entire historical data, it seems GMWAX has a high tail-risk. But if only look at the data since the case, its tail-risk decreases greatly. \n",
    "\n",
    "### (b) Does that vary much across the two subsamples?\n",
    "\n",
    "The Var and max-drawdown vary much in the two subsamples, with the 2012-after sample having much lower tail risk than the previous sample. "
   ]
  },
  {
   "cell_type": "markdown",
   "metadata": {},
   "source": [
    "## 3. For all three samples, regress excess returns of GMWAX on excess returns of SPY.\n",
    "### (a) Report the estimated alpha, beta, and r-squared."
   ]
  },
  {
   "cell_type": "code",
   "execution_count": 7,
   "metadata": {
    "colab": {
     "base_uri": "https://localhost:8080/",
     "height": 142
    },
    "id": "qEhuRYordpqi",
    "outputId": "a6a38ef2-0686-4bad-9fbb-375b35a19adf"
   },
   "outputs": [
    {
     "name": "stderr",
     "output_type": "stream",
     "text": [
      "/opt/anaconda3/lib/python3.7/site-packages/numpy/core/fromnumeric.py:2495: FutureWarning: Method .ptp is deprecated and will be removed in a future version. Use numpy.ptp instead.\n",
      "  return ptp(axis=axis, out=out, **kwargs)\n"
     ]
    },
    {
     "data": {
      "text/html": [
       "<div>\n",
       "<style scoped>\n",
       "    .dataframe tbody tr th:only-of-type {\n",
       "        vertical-align: middle;\n",
       "    }\n",
       "\n",
       "    .dataframe tbody tr th {\n",
       "        vertical-align: top;\n",
       "    }\n",
       "\n",
       "    .dataframe thead th {\n",
       "        text-align: right;\n",
       "    }\n",
       "</style>\n",
       "<table border=\"1\" class=\"dataframe\">\n",
       "  <thead>\n",
       "    <tr style=\"text-align: right;\">\n",
       "      <th></th>\n",
       "      <th>alpha</th>\n",
       "      <th>beta</th>\n",
       "      <th>r-squared</th>\n",
       "    </tr>\n",
       "  </thead>\n",
       "  <tbody>\n",
       "    <tr>\n",
       "      <td>incept-2011</td>\n",
       "      <td>-0.0005</td>\n",
       "      <td>0.5396</td>\n",
       "      <td>0.5071</td>\n",
       "    </tr>\n",
       "    <tr>\n",
       "      <td>2012-present</td>\n",
       "      <td>-0.0024</td>\n",
       "      <td>0.5683</td>\n",
       "      <td>0.7633</td>\n",
       "    </tr>\n",
       "    <tr>\n",
       "      <td>all</td>\n",
       "      <td>-0.0011</td>\n",
       "      <td>0.5461</td>\n",
       "      <td>0.5668</td>\n",
       "    </tr>\n",
       "  </tbody>\n",
       "</table>\n",
       "</div>"
      ],
      "text/plain": [
       "               alpha   beta r-squared\n",
       "incept-2011  -0.0005 0.5396    0.5071\n",
       "2012-present -0.0024 0.5683    0.7633\n",
       "all          -0.0011 0.5461    0.5668"
      ]
     },
     "execution_count": 7,
     "metadata": {},
     "output_type": "execute_result"
    }
   ],
   "source": [
    "stat_table_3 = pd.DataFrame(columns=['alpha', 'beta', 'r-squared'],\n",
    "        index = ['incept-2011', '2012-present', 'all'])\n",
    "\n",
    "X = sm.add_constant(df_gmo_excess['SPY'][:'2011'])\n",
    "y = df_gmo_excess['GMWAX'][:'2011']\n",
    "model = sm.OLS(y, X).fit()\n",
    "\n",
    "stat_table_3.loc['incept-2011', 'alpha'] = model.params[0]\n",
    "stat_table_3.loc['incept-2011', 'beta'] = model.params[1]\n",
    "stat_table_3.loc['incept-2011', 'r-squared'] = model.rsquared\n",
    "\n",
    "X = sm.add_constant(df_gmo_excess['SPY']['2012':])\n",
    "y = df_gmo_excess['GMWAX']['2012':]\n",
    "model = sm.OLS(y, X).fit()\n",
    "\n",
    "stat_table_3.loc['2012-present', 'alpha'] = model.params[0]\n",
    "stat_table_3.loc['2012-present', 'beta'] = model.params[1]\n",
    "stat_table_3.loc['2012-present', 'r-squared'] = model.rsquared\n",
    "\n",
    "X = sm.add_constant(df_gmo_excess['SPY'])\n",
    "y = df_gmo_excess['GMWAX']\n",
    "model = sm.OLS(y, X).fit()\n",
    "\n",
    "stat_table_3.loc['all', 'alpha'] = model.params[0]\n",
    "stat_table_3.loc['all', 'beta'] = model.params[1]\n",
    "stat_table_3.loc['all', 'r-squared'] = model.rsquared\n",
    "\n",
    "stat_table_3\n"
   ]
  },
  {
   "cell_type": "markdown",
   "metadata": {
    "id": "McBlgm1Mdpqi"
   },
   "source": [
    "### (b) Is GMWAX a low-beta strategy? Has that changed since the case?\n",
    "\n",
    "Yes, GMWAX is a low-beta strategy since it has beta constantly lower than 1. And since the case it remained almostly unchanged. \n",
    "\n",
    "### (c) Does GMWAX provide alpha? Has that changed across the subsamples?\n",
    "\n",
    "It does not provide alpha since the alpha is really small as seen from the above table. It also does not change much across the samples, although it increased a little since the case."
   ]
  },
  {
   "cell_type": "markdown",
   "metadata": {},
   "source": [
    "# 3 Forecast Regressions\n",
    "\n",
    "## 1. Consider the lagged regression, where the regressor, (X, ) is a period behind the target, ($ r^{SPY}$ ).\n",
    "\n",
    "$$ r^{SPY}_t = \\alpha^{SPY,X} + ( \\beta^{SPY,X})′ X_{t-1} + \\epsilon^{SPY,X}_t $$\n",
    "\n",
    "Estimate and report the R^2, as well as the OLS estimates for $\\alpha$ and $\\beta$. Do this for...\n",
    "\n",
    "• X as a single regressor, the dividend-price ratio.\n",
    "\n",
    "• X as a single regressor, the earnings-price ratio.\n",
    "\n",
    "• X as three regressors, the dividend-price ratio, the earnings-price ratio, and the 10-year yield.\n",
    "\n",
    "For each, report the r-squared.\n",
    "\n",
    "\n",
    "** See tables below"
   ]
  },
  {
   "cell_type": "markdown",
   "metadata": {},
   "source": [
    "## 2. For each of the three regressions, let’s try to utilize the resulting forecast in a trading strategy.\n",
    "\n",
    "Build the forecasted SPY returns: $ \\hat{r}^{SPY}_{t+1} $  . Note that this denotes the forecast made using $X_t$ to forecast the (t + 1) return.\n",
    "\n",
    "Set the scale of the investment in SPY equal to 100 times the forecasted value:\n",
    "\n",
    "$$ \\omega_t = 100 \\hat{r}^{SPY}_{t+1} $$\n",
    "\n",
    "We are not taking this scaling too seriously. We just want the strategy to go bigger in periods where the forecast is high and to withdraw in periods where the forecast is low, or even negative.\n",
    "\n",
    "Calculate the return on this strategy: \n",
    "\n",
    "$$ r^X_{t+1} = \\omega_t r^{SPY}_{t+1}$$\n",
    "\n",
    "For each strategy, estimate \n",
    "\n",
    "• mean, volatility, Sharpe, \n",
    "\n",
    "• max-drawdown\n",
    "\n",
    "• market alpha\n",
    "\n",
    "• market beta\n",
    "\n",
    "• market Information ratio\n",
    "\n",
    "** See tables below"
   ]
  },
  {
   "cell_type": "code",
   "execution_count": 8,
   "metadata": {
    "id": "Fw-wTZXedpqj"
   },
   "outputs": [],
   "source": [
    "df_signals = pd.read_excel('gmo_analysis_data.xlsx', sheet_name = 'signals').set_index('Date').dropna()\n",
    "df_gmo_excess = df_gmo.subtract(df_risk_free['US3M'], axis = 0)"
   ]
  },
  {
   "cell_type": "code",
   "execution_count": 9,
   "metadata": {
    "colab": {
     "base_uri": "https://localhost:8080/",
     "height": 450
    },
    "id": "u_bpTT-pdpqj",
    "outputId": "c868451f-c73f-44a4-8d57-672f7d96e2dc"
   },
   "outputs": [
    {
     "data": {
      "text/html": [
       "<div>\n",
       "<style scoped>\n",
       "    .dataframe tbody tr th:only-of-type {\n",
       "        vertical-align: middle;\n",
       "    }\n",
       "\n",
       "    .dataframe tbody tr th {\n",
       "        vertical-align: top;\n",
       "    }\n",
       "\n",
       "    .dataframe thead th {\n",
       "        text-align: right;\n",
       "    }\n",
       "</style>\n",
       "<table border=\"1\" class=\"dataframe\">\n",
       "  <thead>\n",
       "    <tr style=\"text-align: right;\">\n",
       "      <th></th>\n",
       "      <th>predicted</th>\n",
       "      <th>r-squared</th>\n",
       "      <th>alpha</th>\n",
       "      <th>beta</th>\n",
       "    </tr>\n",
       "    <tr>\n",
       "      <th>Date</th>\n",
       "      <th></th>\n",
       "      <th></th>\n",
       "      <th></th>\n",
       "      <th></th>\n",
       "    </tr>\n",
       "  </thead>\n",
       "  <tbody>\n",
       "    <tr>\n",
       "      <td>1993-03-31</td>\n",
       "      <td>NaN</td>\n",
       "      <td>NaN</td>\n",
       "      <td>NaN</td>\n",
       "      <td>NaN</td>\n",
       "    </tr>\n",
       "    <tr>\n",
       "      <td>1993-04-30</td>\n",
       "      <td>NaN</td>\n",
       "      <td>NaN</td>\n",
       "      <td>NaN</td>\n",
       "      <td>NaN</td>\n",
       "    </tr>\n",
       "    <tr>\n",
       "      <td>1993-05-31</td>\n",
       "      <td>NaN</td>\n",
       "      <td>NaN</td>\n",
       "      <td>NaN</td>\n",
       "      <td>NaN</td>\n",
       "    </tr>\n",
       "    <tr>\n",
       "      <td>1993-06-30</td>\n",
       "      <td>-0.1853</td>\n",
       "      <td>1.0000</td>\n",
       "      <td>-7.0860</td>\n",
       "      <td>1.6004</td>\n",
       "    </tr>\n",
       "    <tr>\n",
       "      <td>1993-07-31</td>\n",
       "      <td>-0.0212</td>\n",
       "      <td>0.9942</td>\n",
       "      <td>-7.4103</td>\n",
       "      <td>1.6740</td>\n",
       "    </tr>\n",
       "    <tr>\n",
       "      <td>...</td>\n",
       "      <td>...</td>\n",
       "      <td>...</td>\n",
       "      <td>...</td>\n",
       "      <td>...</td>\n",
       "    </tr>\n",
       "    <tr>\n",
       "      <td>2021-06-30</td>\n",
       "      <td>0.0027</td>\n",
       "      <td>0.0083</td>\n",
       "      <td>-0.0069</td>\n",
       "      <td>0.0031</td>\n",
       "    </tr>\n",
       "    <tr>\n",
       "      <td>2021-07-31</td>\n",
       "      <td>-0.0002</td>\n",
       "      <td>0.0082</td>\n",
       "      <td>-0.0067</td>\n",
       "      <td>0.0030</td>\n",
       "    </tr>\n",
       "    <tr>\n",
       "      <td>2021-08-31</td>\n",
       "      <td>0.0108</td>\n",
       "      <td>0.0081</td>\n",
       "      <td>-0.0065</td>\n",
       "      <td>0.0030</td>\n",
       "    </tr>\n",
       "    <tr>\n",
       "      <td>2021-09-30</td>\n",
       "      <td>0.0067</td>\n",
       "      <td>0.0076</td>\n",
       "      <td>-0.0060</td>\n",
       "      <td>0.0029</td>\n",
       "    </tr>\n",
       "    <tr>\n",
       "      <td>2021-10-31</td>\n",
       "      <td>-0.0131</td>\n",
       "      <td>0.0074</td>\n",
       "      <td>-0.0057</td>\n",
       "      <td>0.0029</td>\n",
       "    </tr>\n",
       "  </tbody>\n",
       "</table>\n",
       "<p>344 rows × 4 columns</p>\n",
       "</div>"
      ],
      "text/plain": [
       "           predicted r-squared   alpha   beta\n",
       "Date                                         \n",
       "1993-03-31       NaN       NaN     NaN    NaN\n",
       "1993-04-30       NaN       NaN     NaN    NaN\n",
       "1993-05-31       NaN       NaN     NaN    NaN\n",
       "1993-06-30   -0.1853    1.0000 -7.0860 1.6004\n",
       "1993-07-31   -0.0212    0.9942 -7.4103 1.6740\n",
       "...              ...       ...     ...    ...\n",
       "2021-06-30    0.0027    0.0083 -0.0069 0.0031\n",
       "2021-07-31   -0.0002    0.0082 -0.0067 0.0030\n",
       "2021-08-31    0.0108    0.0081 -0.0065 0.0030\n",
       "2021-09-30    0.0067    0.0076 -0.0060 0.0029\n",
       "2021-10-31   -0.0131    0.0074 -0.0057 0.0029\n",
       "\n",
       "[344 rows x 4 columns]"
      ]
     },
     "metadata": {},
     "output_type": "display_data"
    }
   ],
   "source": [
    "ep_predict = pd.DataFrame(columns = ['predicted', 'r-squared', 'alpha', 'beta'], index = df_gmo_excess['SPY'][1:].index)\n",
    "all_stats_table = pd.DataFrame(columns = ['mean', 'vol', 'Sharpe', \n",
    "                                   'market alpha', 'market beta', 'information ratio', 'max drawdown'], \n",
    "                        index = ['ep_table', 'dp_table', 'all_table'])\n",
    "\n",
    "\n",
    "for i in range(3, df_gmo_excess['SPY'][1:].shape[0]):\n",
    "    X = sm.add_constant(df_signals['EP'].iloc[:i].shift(1))\n",
    "    y = df_gmo_excess['SPY'].iloc[: i]\n",
    "    model_ep = sm.OLS(y, X, missing = 'drop').fit()\n",
    "    ep_predict.iloc[i]['r-squared'] = model_ep.rsquared\n",
    "    predicted = model_ep.predict(np.asarray([1, df_signals['EP'][i]], dtype = float)) * df_gmo_excess['SPY'].iloc[i] * 100\n",
    "    ep_predict.iloc[i]['predicted'] = predicted[0]\n",
    "    ep_predict['alpha'].iloc[i] = model_ep.params[0]\n",
    "    ep_predict['beta'].iloc[i] = model_ep.params[1]\n",
    "\n",
    "display(ep_predict)\n",
    "    \n",
    "predictions = ep_predict['Dec 1996':'Oct 2020']['predicted'].dropna()\n",
    "all_stats_table.loc['ep_table', 'mean'] = predictions.mean() * 12\n",
    "all_stats_table.loc['ep_table', 'vol'] = predictions.std() * np.sqrt(12)\n",
    "all_stats_table.loc['ep_table', 'Sharpe'] = all_stats_table.loc['ep_table', 'mean'] / all_stats_table.loc['ep_table', 'vol']\n",
    "market_model = sm.OLS(np.asarray(df_gmo_excess['SPY'][predictions.index], dtype = float), \n",
    "                      sm.add_constant(np.asarray(predictions, dtype = float))).fit()\n",
    "all_stats_table.loc['ep_table', 'market alpha'] = market_model.params[0]\n",
    "all_stats_table.loc['ep_table', 'market beta'] = market_model.params[1]\n",
    "all_stats_table.loc['ep_table', 'information ratio'] = market_model.params[0] / market_model.resid.std()\n",
    "all_stats_table.loc['ep_table', 'max drawdown'] = max_drawdown(predictions)"
   ]
  },
  {
   "cell_type": "code",
   "execution_count": 10,
   "metadata": {
    "colab": {
     "base_uri": "https://localhost:8080/",
     "height": 450
    },
    "id": "aBKcZnUvdpqk",
    "outputId": "6bd1e76b-74bf-4eaf-8c53-a491bff0f8b1"
   },
   "outputs": [
    {
     "data": {
      "text/html": [
       "<div>\n",
       "<style scoped>\n",
       "    .dataframe tbody tr th:only-of-type {\n",
       "        vertical-align: middle;\n",
       "    }\n",
       "\n",
       "    .dataframe tbody tr th {\n",
       "        vertical-align: top;\n",
       "    }\n",
       "\n",
       "    .dataframe thead th {\n",
       "        text-align: right;\n",
       "    }\n",
       "</style>\n",
       "<table border=\"1\" class=\"dataframe\">\n",
       "  <thead>\n",
       "    <tr style=\"text-align: right;\">\n",
       "      <th></th>\n",
       "      <th>predicted</th>\n",
       "      <th>r-squared</th>\n",
       "      <th>alpha</th>\n",
       "      <th>beta</th>\n",
       "    </tr>\n",
       "    <tr>\n",
       "      <th>Date</th>\n",
       "      <th></th>\n",
       "      <th></th>\n",
       "      <th></th>\n",
       "      <th></th>\n",
       "    </tr>\n",
       "  </thead>\n",
       "  <tbody>\n",
       "    <tr>\n",
       "      <td>1993-03-31</td>\n",
       "      <td>NaN</td>\n",
       "      <td>NaN</td>\n",
       "      <td>NaN</td>\n",
       "      <td>NaN</td>\n",
       "    </tr>\n",
       "    <tr>\n",
       "      <td>1993-04-30</td>\n",
       "      <td>NaN</td>\n",
       "      <td>NaN</td>\n",
       "      <td>NaN</td>\n",
       "      <td>NaN</td>\n",
       "    </tr>\n",
       "    <tr>\n",
       "      <td>1993-05-31</td>\n",
       "      <td>NaN</td>\n",
       "      <td>NaN</td>\n",
       "      <td>NaN</td>\n",
       "      <td>NaN</td>\n",
       "    </tr>\n",
       "    <tr>\n",
       "      <td>1993-06-30</td>\n",
       "      <td>0.0252</td>\n",
       "      <td>1.0000</td>\n",
       "      <td>-2.6880</td>\n",
       "      <td>0.9603</td>\n",
       "    </tr>\n",
       "    <tr>\n",
       "      <td>1993-07-31</td>\n",
       "      <td>-0.0009</td>\n",
       "      <td>0.9942</td>\n",
       "      <td>-2.8102</td>\n",
       "      <td>1.0044</td>\n",
       "    </tr>\n",
       "    <tr>\n",
       "      <td>...</td>\n",
       "      <td>...</td>\n",
       "      <td>...</td>\n",
       "      <td>...</td>\n",
       "      <td>...</td>\n",
       "    </tr>\n",
       "    <tr>\n",
       "      <td>2021-06-30</td>\n",
       "      <td>0.0013</td>\n",
       "      <td>0.0095</td>\n",
       "      <td>-0.0110</td>\n",
       "      <td>0.0094</td>\n",
       "    </tr>\n",
       "    <tr>\n",
       "      <td>2021-07-31</td>\n",
       "      <td>0.0043</td>\n",
       "      <td>0.0095</td>\n",
       "      <td>-0.0109</td>\n",
       "      <td>0.0094</td>\n",
       "    </tr>\n",
       "    <tr>\n",
       "      <td>2021-08-31</td>\n",
       "      <td>0.0043</td>\n",
       "      <td>0.0092</td>\n",
       "      <td>-0.0105</td>\n",
       "      <td>0.0092</td>\n",
       "    </tr>\n",
       "    <tr>\n",
       "      <td>2021-09-30</td>\n",
       "      <td>0.0053</td>\n",
       "      <td>0.0088</td>\n",
       "      <td>-0.0101</td>\n",
       "      <td>0.0090</td>\n",
       "    </tr>\n",
       "    <tr>\n",
       "      <td>2021-10-31</td>\n",
       "      <td>-0.0094</td>\n",
       "      <td>0.0084</td>\n",
       "      <td>-0.0095</td>\n",
       "      <td>0.0088</td>\n",
       "    </tr>\n",
       "  </tbody>\n",
       "</table>\n",
       "<p>344 rows × 4 columns</p>\n",
       "</div>"
      ],
      "text/plain": [
       "           predicted r-squared   alpha   beta\n",
       "Date                                         \n",
       "1993-03-31       NaN       NaN     NaN    NaN\n",
       "1993-04-30       NaN       NaN     NaN    NaN\n",
       "1993-05-31       NaN       NaN     NaN    NaN\n",
       "1993-06-30    0.0252    1.0000 -2.6880 0.9603\n",
       "1993-07-31   -0.0009    0.9942 -2.8102 1.0044\n",
       "...              ...       ...     ...    ...\n",
       "2021-06-30    0.0013    0.0095 -0.0110 0.0094\n",
       "2021-07-31    0.0043    0.0095 -0.0109 0.0094\n",
       "2021-08-31    0.0043    0.0092 -0.0105 0.0092\n",
       "2021-09-30    0.0053    0.0088 -0.0101 0.0090\n",
       "2021-10-31   -0.0094    0.0084 -0.0095 0.0088\n",
       "\n",
       "[344 rows x 4 columns]"
      ]
     },
     "metadata": {},
     "output_type": "display_data"
    }
   ],
   "source": [
    "dp_predict = pd.DataFrame(columns = ['predicted', 'r-squared','alpha','beta'], index = df_gmo_excess['SPY'][1:].index)\n",
    "\n",
    "for i in range(3, df_gmo_excess['SPY'][1:].shape[0]):\n",
    "    X = sm.add_constant(df_signals['DP'].iloc[:i].shift(1))\n",
    "    y = df_gmo_excess['SPY'].iloc[:i]\n",
    "    model_dp = sm.OLS(y, X, missing = 'drop').fit()\n",
    "    dp_predict.iloc[i]['r-squared'] = model_dp.rsquared\n",
    "    predicted = model_dp.predict(np.asarray([1, df_signals['DP'].iloc[i]])) * df_gmo_excess['SPY'].iloc[i] * 100\n",
    "    dp_predict.iloc[i]['predicted'] = predicted[0]\n",
    "    dp_predict.iloc[i]['alpha'] = model_dp.params[0]\n",
    "    dp_predict.iloc[i]['beta'] = model_dp.params[1]\n",
    "    \n",
    "display(dp_predict)\n",
    "\n",
    "predictions = dp_predict['predicted'].dropna()\n",
    "all_stats_table.loc['dp_table', 'mean'] = predictions.mean() * 12\n",
    "all_stats_table.loc['dp_table', 'vol'] = predictions.std() * np.sqrt(12)\n",
    "all_stats_table.loc['dp_table', 'Sharpe'] = all_stats_table.loc['dp_table', 'mean'] / all_stats_table.loc['dp_table', 'vol']\n",
    "market_model = sm.OLS(np.asarray(df_gmo_excess['SPY'][predictions.index], dtype = float), \n",
    "                      sm.add_constant(np.asarray(predictions, dtype = float))).fit()\n",
    "all_stats_table.loc['dp_table', 'market alpha'] = market_model.params[0]\n",
    "all_stats_table.loc['dp_table', 'market beta'] = market_model.params[1]\n",
    "all_stats_table.loc['dp_table', 'information ratio'] = market_model.params[0] / market_model.resid.std()\n",
    "all_stats_table.loc['dp_table', 'max drawdown'] = max_drawdown(predictions)"
   ]
  },
  {
   "cell_type": "code",
   "execution_count": 11,
   "metadata": {
    "colab": {
     "base_uri": "https://localhost:8080/",
     "height": 575
    },
    "id": "PEWyl55edpqk",
    "outputId": "1809ec0d-8251-4386-e007-1bbf1b76d3bb"
   },
   "outputs": [
    {
     "data": {
      "text/html": [
       "<div>\n",
       "<style scoped>\n",
       "    .dataframe tbody tr th:only-of-type {\n",
       "        vertical-align: middle;\n",
       "    }\n",
       "\n",
       "    .dataframe tbody tr th {\n",
       "        vertical-align: top;\n",
       "    }\n",
       "\n",
       "    .dataframe thead th {\n",
       "        text-align: right;\n",
       "    }\n",
       "</style>\n",
       "<table border=\"1\" class=\"dataframe\">\n",
       "  <thead>\n",
       "    <tr style=\"text-align: right;\">\n",
       "      <th></th>\n",
       "      <th>predicted</th>\n",
       "      <th>r-squared</th>\n",
       "      <th>alpha</th>\n",
       "      <th>beta</th>\n",
       "    </tr>\n",
       "    <tr>\n",
       "      <th>Date</th>\n",
       "      <th></th>\n",
       "      <th></th>\n",
       "      <th></th>\n",
       "      <th></th>\n",
       "    </tr>\n",
       "  </thead>\n",
       "  <tbody>\n",
       "    <tr>\n",
       "      <td>1993-03-31</td>\n",
       "      <td>NaN</td>\n",
       "      <td>NaN</td>\n",
       "      <td>NaN</td>\n",
       "      <td>NaN</td>\n",
       "    </tr>\n",
       "    <tr>\n",
       "      <td>1993-04-30</td>\n",
       "      <td>NaN</td>\n",
       "      <td>NaN</td>\n",
       "      <td>NaN</td>\n",
       "      <td>NaN</td>\n",
       "    </tr>\n",
       "    <tr>\n",
       "      <td>1993-05-31</td>\n",
       "      <td>NaN</td>\n",
       "      <td>NaN</td>\n",
       "      <td>NaN</td>\n",
       "      <td>NaN</td>\n",
       "    </tr>\n",
       "    <tr>\n",
       "      <td>1993-06-30</td>\n",
       "      <td>-0.0452</td>\n",
       "      <td>1.0000</td>\n",
       "      <td>1.8131</td>\n",
       "      <td>-2.3715</td>\n",
       "    </tr>\n",
       "    <tr>\n",
       "      <td>1993-07-31</td>\n",
       "      <td>-0.7058</td>\n",
       "      <td>1.0000</td>\n",
       "      <td>24.2807</td>\n",
       "      <td>2.5341</td>\n",
       "    </tr>\n",
       "    <tr>\n",
       "      <td>...</td>\n",
       "      <td>...</td>\n",
       "      <td>...</td>\n",
       "      <td>...</td>\n",
       "      <td>...</td>\n",
       "    </tr>\n",
       "    <tr>\n",
       "      <td>2021-06-30</td>\n",
       "      <td>0.0235</td>\n",
       "      <td>0.0050</td>\n",
       "      <td>0.0115</td>\n",
       "      <td>-0.0027</td>\n",
       "    </tr>\n",
       "    <tr>\n",
       "      <td>2021-07-31</td>\n",
       "      <td>0.0214</td>\n",
       "      <td>0.0050</td>\n",
       "      <td>0.0114</td>\n",
       "      <td>-0.0027</td>\n",
       "    </tr>\n",
       "    <tr>\n",
       "      <td>2021-08-31</td>\n",
       "      <td>0.0337</td>\n",
       "      <td>0.0050</td>\n",
       "      <td>0.0120</td>\n",
       "      <td>-0.0028</td>\n",
       "    </tr>\n",
       "    <tr>\n",
       "      <td>2021-09-30</td>\n",
       "      <td>-0.0488</td>\n",
       "      <td>0.0053</td>\n",
       "      <td>0.0124</td>\n",
       "      <td>-0.0029</td>\n",
       "    </tr>\n",
       "    <tr>\n",
       "      <td>2021-10-31</td>\n",
       "      <td>0.0750</td>\n",
       "      <td>0.0055</td>\n",
       "      <td>0.0132</td>\n",
       "      <td>-0.0030</td>\n",
       "    </tr>\n",
       "  </tbody>\n",
       "</table>\n",
       "<p>344 rows × 4 columns</p>\n",
       "</div>"
      ],
      "text/plain": [
       "           predicted r-squared   alpha    beta\n",
       "Date                                          \n",
       "1993-03-31       NaN       NaN     NaN     NaN\n",
       "1993-04-30       NaN       NaN     NaN     NaN\n",
       "1993-05-31       NaN       NaN     NaN     NaN\n",
       "1993-06-30   -0.0452    1.0000  1.8131 -2.3715\n",
       "1993-07-31   -0.7058    1.0000 24.2807  2.5341\n",
       "...              ...       ...     ...     ...\n",
       "2021-06-30    0.0235    0.0050  0.0115 -0.0027\n",
       "2021-07-31    0.0214    0.0050  0.0114 -0.0027\n",
       "2021-08-31    0.0337    0.0050  0.0120 -0.0028\n",
       "2021-09-30   -0.0488    0.0053  0.0124 -0.0029\n",
       "2021-10-31    0.0750    0.0055  0.0132 -0.0030\n",
       "\n",
       "[344 rows x 4 columns]"
      ]
     },
     "metadata": {},
     "output_type": "display_data"
    },
    {
     "data": {
      "text/html": [
       "<div>\n",
       "<style scoped>\n",
       "    .dataframe tbody tr th:only-of-type {\n",
       "        vertical-align: middle;\n",
       "    }\n",
       "\n",
       "    .dataframe tbody tr th {\n",
       "        vertical-align: top;\n",
       "    }\n",
       "\n",
       "    .dataframe thead th {\n",
       "        text-align: right;\n",
       "    }\n",
       "</style>\n",
       "<table border=\"1\" class=\"dataframe\">\n",
       "  <thead>\n",
       "    <tr style=\"text-align: right;\">\n",
       "      <th></th>\n",
       "      <th>mean</th>\n",
       "      <th>vol</th>\n",
       "      <th>Sharpe</th>\n",
       "      <th>market alpha</th>\n",
       "      <th>market beta</th>\n",
       "      <th>information ratio</th>\n",
       "      <th>max drawdown</th>\n",
       "    </tr>\n",
       "  </thead>\n",
       "  <tbody>\n",
       "    <tr>\n",
       "      <td>ep_table</td>\n",
       "      <td>0.0387</td>\n",
       "      <td>0.1468</td>\n",
       "      <td>0.2636</td>\n",
       "      <td>0.0064</td>\n",
       "      <td>-0.1498</td>\n",
       "      <td>0.1461</td>\n",
       "      <td>-0.6090</td>\n",
       "    </tr>\n",
       "    <tr>\n",
       "      <td>dp_table</td>\n",
       "      <td>0.0304</td>\n",
       "      <td>0.1529</td>\n",
       "      <td>0.1987</td>\n",
       "      <td>0.0074</td>\n",
       "      <td>-0.0043</td>\n",
       "      <td>0.1746</td>\n",
       "      <td>-0.6377</td>\n",
       "    </tr>\n",
       "    <tr>\n",
       "      <td>all_table</td>\n",
       "      <td>0.0493</td>\n",
       "      <td>0.2956</td>\n",
       "      <td>0.1666</td>\n",
       "      <td>0.0071</td>\n",
       "      <td>0.0756</td>\n",
       "      <td>0.1689</td>\n",
       "      <td>-0.9097</td>\n",
       "    </tr>\n",
       "  </tbody>\n",
       "</table>\n",
       "</div>"
      ],
      "text/plain": [
       "            mean    vol Sharpe market alpha market beta information ratio  \\\n",
       "ep_table  0.0387 0.1468 0.2636       0.0064     -0.1498            0.1461   \n",
       "dp_table  0.0304 0.1529 0.1987       0.0074     -0.0043            0.1746   \n",
       "all_table 0.0493 0.2956 0.1666       0.0071      0.0756            0.1689   \n",
       "\n",
       "          max drawdown  \n",
       "ep_table       -0.6090  \n",
       "dp_table       -0.6377  \n",
       "all_table      -0.9097  "
      ]
     },
     "metadata": {},
     "output_type": "display_data"
    }
   ],
   "source": [
    "all_predict = pd.DataFrame(columns = ['predicted', 'r-squared','alpha','beta'], index = df_gmo_excess['SPY'][1:].index)\n",
    "\n",
    "for i in range(3, df_gmo_excess['SPY'][1:].shape[0]):\n",
    "    X = sm.add_constant(df_signals.iloc[: i], prepend = True, has_constant = 'add')\n",
    "    y = df_gmo_excess['SPY'].iloc[:i]\n",
    "    model_all = sm.OLS(np.asarray(y, dtype = float), np.asarray(X, dtype = float), missing = 'drop').fit()\n",
    "    all_predict.iloc[i]['r-squared'] = model_all.rsquared\n",
    "    predicted = ((model_all.params[1:] * df_signals.iloc[i]).sum() + model_all.params[0]) * 100 * df_gmo_excess['SPY'].iloc[i + 1]\n",
    "    all_predict.iloc[i]['predicted'] = predicted\n",
    "    all_predict.iloc[i]['alpha'] = model_all.params[0]\n",
    "    all_predict.iloc[i]['beta'] = model_all.params[1]\n",
    "\n",
    "display(all_predict) \n",
    "    \n",
    "predictions = all_predict['predicted'].dropna()\n",
    "all_stats_table.loc['all_table', 'mean'] = predictions.mean() * 12\n",
    "all_stats_table.loc['all_table', 'vol'] = predictions.std() * np.sqrt(12)\n",
    "all_stats_table.loc['all_table', 'Sharpe'] = all_stats_table.loc['all_table', 'mean'] / all_stats_table.loc['all_table', 'vol']\n",
    "market_model = sm.OLS(np.asarray(df_gmo_excess['SPY'][predictions.index], dtype = float), \n",
    "                      sm.add_constant(np.asarray(predictions, dtype = float))).fit()\n",
    "all_stats_table.loc['all_table', 'market alpha'] = market_model.params[0]\n",
    "all_stats_table.loc['all_table', 'market beta'] = market_model.params[1]\n",
    "all_stats_table.loc['all_table', 'information ratio'] = market_model.params[0] / market_model.resid.std()\n",
    "all_stats_table.loc['all_table', 'max drawdown'] = max_drawdown(predictions)\n",
    "\n",
    "display(all_stats_table)"
   ]
  },
  {
   "cell_type": "markdown",
   "metadata": {},
   "source": [
    "## 3. GMO believes a risk premium is compensation for a security’s tendency to lose money at “bad times”. Let’s consider risk characteristics.\n",
    "\n",
    "### (a) For both strategies, the market, and GMO, calculate the monthly VaR for π = .05. Just use the quantile of the historic data for this VaR calculation."
   ]
  },
  {
   "cell_type": "code",
   "execution_count": 12,
   "metadata": {
    "colab": {
     "base_uri": "https://localhost:8080/"
    },
    "id": "tpE8QQB9dpqk",
    "outputId": "55ef9ee0-224f-4131-ead6-a37e543ffe9f",
    "scrolled": true
   },
   "outputs": [
    {
     "name": "stdout",
     "output_type": "stream",
     "text": [
      "SPY VaR -0.06958505455369124\n",
      "GMO VaR -0.044914532965437855\n",
      "EP VaR -0.055111833318239246\n",
      "DP VaR -0.06918605553394627\n",
      "All VaR -0.06336452493693702\n"
     ]
    }
   ],
   "source": [
    "print('SPY VaR', df_gmo_excess['SPY'].quantile(.05))\n",
    "print('GMO VaR', df_gmo_excess['GMWAX'].dropna().quantile(.05))\n",
    "\n",
    "print('EP VaR', ep_predict['predicted'].dropna().quantile(.05))\n",
    "print('DP VaR', dp_predict['predicted'].dropna().quantile(.05))\n",
    "\n",
    "print('All VaR', all_predict['predicted'].dropna().quantile(.05))"
   ]
  },
  {
   "cell_type": "markdown",
   "metadata": {},
   "source": [
    "### (b) The GMO case mentions that stocks under-performed short-term bonds from 2000-2011. Does the dynamic portfolio above under-perform the risk-free rate over this time?"
   ]
  },
  {
   "cell_type": "code",
   "execution_count": 13,
   "metadata": {
    "colab": {
     "base_uri": "https://localhost:8080/"
    },
    "id": "oZQm3vGcdpql",
    "outputId": "ad7bc619-6a52-423b-e7ac-6e41f5e5e141"
   },
   "outputs": [
    {
     "name": "stdout",
     "output_type": "stream",
     "text": [
      "SPY Mean -0.0049036843992595214\n",
      "GMO Mean 0.03306084278085366\n",
      "EP Mean -0.017868121178441124\n",
      "DP Mean -0.07068101842017308\n",
      "All Mean -0.03051203921606162\n"
     ]
    }
   ],
   "source": [
    "print('SPY Mean', df_gmo_excess['SPY']['2000': '2011'].mean() * 12)\n",
    "print('GMO Mean', df_gmo_excess['GMWAX']['2000': '2011'].dropna().mean() * 12)\n",
    "\n",
    "print('EP Mean', 12 * (ep_predict['predicted']['2000': '2011'].mean() - df_risk_free['US3M']['2000': '2011'].mean())) \n",
    "print('DP Mean', 12 * (dp_predict['predicted']['2000': '2011'].mean() - df_risk_free['US3M']['2000': '2011'].mean()))\n",
    "\n",
    "print('All Mean', 12 * (all_predict['predicted']['2000': '2011'].mean() - df_risk_free['US3M']['2000': '2011'].mean()))"
   ]
  },
  {
   "cell_type": "markdown",
   "metadata": {
    "id": "NVhmooxIdpql"
   },
   "source": [
    "These strategies actually outperforms the risk-free rate given that the market is down. "
   ]
  },
  {
   "cell_type": "markdown",
   "metadata": {},
   "source": [
    "### (c) Based on the regression estimates, in how many periods do we estimate a negative risk premium?"
   ]
  },
  {
   "cell_type": "code",
   "execution_count": 14,
   "metadata": {
    "colab": {
     "base_uri": "https://localhost:8080/"
    },
    "id": "mnDmnQYgdpql",
    "outputId": "67b18693-007f-445c-88cd-a9c5bfb4ebc1"
   },
   "outputs": [
    {
     "data": {
      "text/plain": [
       "15"
      ]
     },
     "execution_count": 14,
     "metadata": {},
     "output_type": "execute_result"
    }
   ],
   "source": [
    "(dp_predict['alpha'] + dp_predict['beta'] * df_signals.DP).apply(lambda x: 1 if x < 0 else 0).sum()"
   ]
  },
  {
   "cell_type": "code",
   "execution_count": 15,
   "metadata": {
    "colab": {
     "base_uri": "https://localhost:8080/"
    },
    "id": "JujCXBQGdpql",
    "outputId": "3f60d4b0-c2ed-461b-8f34-3ae6d9352db5"
   },
   "outputs": [
    {
     "data": {
      "text/plain": [
       "55"
      ]
     },
     "execution_count": 15,
     "metadata": {},
     "output_type": "execute_result"
    }
   ],
   "source": [
    "(ep_predict['alpha'] + ep_predict['beta'] * df_signals.EP).apply(lambda x: 1 if x < 0 else 0).sum()"
   ]
  },
  {
   "cell_type": "markdown",
   "metadata": {
    "id": "58FDqRsqdpqm"
   },
   "source": [
    "The dynamic portfolio would predict some negative period over time, with EP prediction having more than DP prediction. "
   ]
  },
  {
   "cell_type": "markdown",
   "metadata": {},
   "source": [
    "### (d) Do you believe the dynamic strategy takes on extra risk??"
   ]
  },
  {
   "cell_type": "code",
   "execution_count": 16,
   "metadata": {
    "colab": {
     "base_uri": "https://localhost:8080/",
     "height": 142
    },
    "id": "T07Wx-nedpqm",
    "outputId": "185aa0ab-0f52-4bab-f01e-2dc46a372c12"
   },
   "outputs": [
    {
     "data": {
      "text/html": [
       "<div>\n",
       "<style scoped>\n",
       "    .dataframe tbody tr th:only-of-type {\n",
       "        vertical-align: middle;\n",
       "    }\n",
       "\n",
       "    .dataframe tbody tr th {\n",
       "        vertical-align: top;\n",
       "    }\n",
       "\n",
       "    .dataframe thead th {\n",
       "        text-align: right;\n",
       "    }\n",
       "</style>\n",
       "<table border=\"1\" class=\"dataframe\">\n",
       "  <thead>\n",
       "    <tr style=\"text-align: right;\">\n",
       "      <th></th>\n",
       "      <th>mean</th>\n",
       "      <th>vol</th>\n",
       "      <th>Sharpe</th>\n",
       "    </tr>\n",
       "  </thead>\n",
       "  <tbody>\n",
       "    <tr>\n",
       "      <td>incept-2011</td>\n",
       "      <td>0.0538</td>\n",
       "      <td>0.1526</td>\n",
       "      <td>0.3528</td>\n",
       "    </tr>\n",
       "    <tr>\n",
       "      <td>2012-present</td>\n",
       "      <td>0.1545</td>\n",
       "      <td>0.1311</td>\n",
       "      <td>1.1785</td>\n",
       "    </tr>\n",
       "    <tr>\n",
       "      <td>all</td>\n",
       "      <td>0.0883</td>\n",
       "      <td>0.1461</td>\n",
       "      <td>0.6044</td>\n",
       "    </tr>\n",
       "  </tbody>\n",
       "</table>\n",
       "</div>"
      ],
      "text/plain": [
       "               mean    vol Sharpe\n",
       "incept-2011  0.0538 0.1526 0.3528\n",
       "2012-present 0.1545 0.1311 1.1785\n",
       "all          0.0883 0.1461 0.6044"
      ]
     },
     "execution_count": 16,
     "metadata": {},
     "output_type": "execute_result"
    }
   ],
   "source": [
    "stat_table_4 = pd.DataFrame(columns=['mean', 'vol', 'Sharpe'],\n",
    "        index = ['incept-2011', '2012-present', 'all'])\n",
    "\n",
    "stat_table_4.loc['incept-2011', 'mean'] = df_gmo_excess['SPY'][: '2011'].mean() * 12\n",
    "stat_table_4.loc['incept-2011', 'vol'] = df_gmo_excess['SPY'][: '2011'].std() * np.sqrt(12)\n",
    "stat_table_4.loc['incept-2011', 'Sharpe'] = stat_table_4.loc['incept-2011', 'mean'] / stat_table_4.loc['incept-2011', 'vol']\n",
    "\n",
    "stat_table_4.loc['2012-present', 'mean'] = df_gmo_excess['SPY']['2012': ].mean() * 12\n",
    "stat_table_4.loc['2012-present', 'vol'] = df_gmo_excess['SPY']['2012': ].std() * np.sqrt(12)\n",
    "stat_table_4.loc['2012-present', 'Sharpe'] = stat_table_4.loc['2012-present', 'mean'] / stat_table_4.loc['2012-present', 'vol']\n",
    "\n",
    "stat_table_4.loc['all', 'mean'] = df_gmo_excess['SPY'].mean() * 12\n",
    "stat_table_4.loc['all', 'vol'] = df_gmo_excess['SPY'].std() * np.sqrt(12)\n",
    "stat_table_4.loc['all', 'Sharpe'] = stat_table_4.loc['all', 'mean'] / stat_table_4.loc['all', 'vol']\n",
    "\n",
    "stat_table_4"
   ]
  },
  {
   "cell_type": "markdown",
   "metadata": {
    "id": "2nfiVX3Adpqm"
   },
   "source": [
    "I think that the dynamic strategy doesn't take on extra risk, as the volatility of GWMAX is lower than the market volatility in all three periods. "
   ]
  },
  {
   "cell_type": "markdown",
   "metadata": {},
   "source": [
    "# 4 Out-of-Sample Forecasting\n",
    "\n",
    "## 1. Report the out-of-sample R2 :\n",
    "\n",
    "$$ R^2_{OOS} = 1 - \\frac{\\sum^T_{i=61} (e^x_i)^2}{\\sum^T_{i=61} (e^0_i)^2}$$\n",
    "\n",
    "Note that unlike an in-sample r-squared, the out-of-sample r-squared can be anywhere between\n",
    "(−∞, 1].\n",
    "\n",
    "Did this forecasting strategy produce a positive OOS r-squared?"
   ]
  },
  {
   "cell_type": "code",
   "execution_count": 17,
   "metadata": {
    "colab": {
     "base_uri": "https://localhost:8080/",
     "height": 450
    },
    "id": "F-PZ_xR_dpqm",
    "outputId": "d0f381a3-4391-4c7a-adb7-7c0365fb564e"
   },
   "outputs": [
    {
     "data": {
      "text/html": [
       "<div>\n",
       "<style scoped>\n",
       "    .dataframe tbody tr th:only-of-type {\n",
       "        vertical-align: middle;\n",
       "    }\n",
       "\n",
       "    .dataframe tbody tr th {\n",
       "        vertical-align: top;\n",
       "    }\n",
       "\n",
       "    .dataframe thead th {\n",
       "        text-align: right;\n",
       "    }\n",
       "</style>\n",
       "<table border=\"1\" class=\"dataframe\">\n",
       "  <thead>\n",
       "    <tr style=\"text-align: right;\">\n",
       "      <th></th>\n",
       "      <th>beta</th>\n",
       "      <th>alpha</th>\n",
       "      <th>error</th>\n",
       "      <th>null error</th>\n",
       "      <th>predicted</th>\n",
       "    </tr>\n",
       "    <tr>\n",
       "      <th>Date</th>\n",
       "      <th></th>\n",
       "      <th></th>\n",
       "      <th></th>\n",
       "      <th></th>\n",
       "      <th></th>\n",
       "    </tr>\n",
       "  </thead>\n",
       "  <tbody>\n",
       "    <tr>\n",
       "      <td>1998-02-28</td>\n",
       "      <td>0.0067</td>\n",
       "      <td>-0.0235</td>\n",
       "      <td>-0.0623</td>\n",
       "      <td>0.0529</td>\n",
       "      <td>0.0164</td>\n",
       "    </tr>\n",
       "    <tr>\n",
       "      <td>1998-03-31</td>\n",
       "      <td>0.0047</td>\n",
       "      <td>-0.0121</td>\n",
       "      <td>-0.0391</td>\n",
       "      <td>0.0316</td>\n",
       "      <td>0.0237</td>\n",
       "    </tr>\n",
       "    <tr>\n",
       "      <td>1998-04-30</td>\n",
       "      <td>0.0033</td>\n",
       "      <td>-0.0040</td>\n",
       "      <td>-0.0009</td>\n",
       "      <td>-0.0047</td>\n",
       "      <td>0.0067</td>\n",
       "    </tr>\n",
       "    <tr>\n",
       "      <td>1998-05-31</td>\n",
       "      <td>0.0033</td>\n",
       "      <td>-0.0039</td>\n",
       "      <td>0.0327</td>\n",
       "      <td>-0.0382</td>\n",
       "      <td>-0.0194</td>\n",
       "    </tr>\n",
       "    <tr>\n",
       "      <td>1998-06-30</td>\n",
       "      <td>0.0046</td>\n",
       "      <td>-0.0111</td>\n",
       "      <td>-0.0333</td>\n",
       "      <td>0.0257</td>\n",
       "      <td>0.0194</td>\n",
       "    </tr>\n",
       "    <tr>\n",
       "      <td>...</td>\n",
       "      <td>...</td>\n",
       "      <td>...</td>\n",
       "      <td>...</td>\n",
       "      <td>...</td>\n",
       "      <td>...</td>\n",
       "    </tr>\n",
       "    <tr>\n",
       "      <td>2021-05-31</td>\n",
       "      <td>0.0031</td>\n",
       "      <td>-0.0069</td>\n",
       "      <td>-0.0025</td>\n",
       "      <td>-0.0006</td>\n",
       "      <td>0.0027</td>\n",
       "    </tr>\n",
       "    <tr>\n",
       "      <td>2021-06-30</td>\n",
       "      <td>0.0030</td>\n",
       "      <td>-0.0067</td>\n",
       "      <td>-0.0225</td>\n",
       "      <td>0.0153</td>\n",
       "      <td>-0.0002</td>\n",
       "    </tr>\n",
       "    <tr>\n",
       "      <td>2021-07-31</td>\n",
       "      <td>0.0030</td>\n",
       "      <td>-0.0065</td>\n",
       "      <td>-0.0199</td>\n",
       "      <td>0.0171</td>\n",
       "      <td>0.0108</td>\n",
       "    </tr>\n",
       "    <tr>\n",
       "      <td>2021-08-31</td>\n",
       "      <td>0.0029</td>\n",
       "      <td>-0.0060</td>\n",
       "      <td>-0.0275</td>\n",
       "      <td>0.0225</td>\n",
       "      <td>0.0067</td>\n",
       "    </tr>\n",
       "    <tr>\n",
       "      <td>2021-09-30</td>\n",
       "      <td>0.0029</td>\n",
       "      <td>-0.0057</td>\n",
       "      <td>0.0494</td>\n",
       "      <td>-0.0539</td>\n",
       "      <td>-0.0131</td>\n",
       "    </tr>\n",
       "  </tbody>\n",
       "</table>\n",
       "<p>284 rows × 5 columns</p>\n",
       "</div>"
      ],
      "text/plain": [
       "             beta   alpha   error null error predicted\n",
       "Date                                                  \n",
       "1998-02-28 0.0067 -0.0235 -0.0623     0.0529    0.0164\n",
       "1998-03-31 0.0047 -0.0121 -0.0391     0.0316    0.0237\n",
       "1998-04-30 0.0033 -0.0040 -0.0009    -0.0047    0.0067\n",
       "1998-05-31 0.0033 -0.0039  0.0327    -0.0382   -0.0194\n",
       "1998-06-30 0.0046 -0.0111 -0.0333     0.0257    0.0194\n",
       "...           ...     ...     ...        ...       ...\n",
       "2021-05-31 0.0031 -0.0069 -0.0025    -0.0006    0.0027\n",
       "2021-06-30 0.0030 -0.0067 -0.0225     0.0153   -0.0002\n",
       "2021-07-31 0.0030 -0.0065 -0.0199     0.0171    0.0108\n",
       "2021-08-31 0.0029 -0.0060 -0.0275     0.0225    0.0067\n",
       "2021-09-30 0.0029 -0.0057  0.0494    -0.0539   -0.0131\n",
       "\n",
       "[284 rows x 5 columns]"
      ]
     },
     "execution_count": 17,
     "metadata": {},
     "output_type": "execute_result"
    }
   ],
   "source": [
    "oos_table = pd.DataFrame(columns = ['beta', 'alpha', 'error', 'null error', 'predicted'], index = df_gmo['SPY'].index)\n",
    "for i in range(60, df_gmo['SPY'].shape[0] - 1):\n",
    "    X = sm.add_constant(df_signals['EP'].iloc[: i - 1])\n",
    "    y = df_gmo_excess['SPY'].iloc[1: i]\n",
    "    model = sm.OLS(np.asarray(y), \n",
    "                   np.asarray(X)).fit()\n",
    "    predicted = model.predict([1, df_signals['EP'].iloc[i]])[0]\n",
    "    error = predicted - df_gmo_excess['SPY'].iloc[i]\n",
    "    oos_table['predicted'].iloc[i] = predicted * 100 * df_gmo_excess['SPY'].iloc[i]\n",
    "    oos_table['error'].iloc[i] = error\n",
    "    r_bar = y.mean()\n",
    "    null_error = df_gmo_excess['SPY'].iloc[i] - r_bar\n",
    "    oos_table['null error'].iloc[i] = null_error\n",
    "    oos_table['alpha'].iloc[i] = model.params[0]\n",
    "    oos_table['beta'].iloc[i] = model.params[1]\n",
    "\n",
    "    \n",
    "oos_table.dropna()"
   ]
  },
  {
   "cell_type": "code",
   "execution_count": 18,
   "metadata": {
    "colab": {
     "base_uri": "https://localhost:8080/"
    },
    "id": "JGVfTRYydpqm",
    "outputId": "9179e987-0448-406d-f68f-8a68a699df44"
   },
   "outputs": [
    {
     "data": {
      "text/plain": [
       "-0.023613091904505"
      ]
     },
     "execution_count": 18,
     "metadata": {},
     "output_type": "execute_result"
    }
   ],
   "source": [
    "oos_rsquared = 1 - (oos_table['error'] ** 2).mean() / (oos_table['null error'] ** 2).mean()\n",
    "oos_rsquared"
   ]
  },
  {
   "cell_type": "markdown",
   "metadata": {
    "id": "3HRWP0T4dpqm"
   },
   "source": [
    "No, it doens't produce a positive r-squared. "
   ]
  },
  {
   "cell_type": "markdown",
   "metadata": {},
   "source": [
    "## 2. Re-do problem 3.2 using this OOS forecast. How much better/worse is the OOS Earnings-Price ratio strategy compared to the in-sample version of 3.2?"
   ]
  },
  {
   "cell_type": "code",
   "execution_count": 19,
   "metadata": {
    "colab": {
     "base_uri": "https://localhost:8080/",
     "height": 80
    },
    "id": "gH9H4p21dpqn",
    "outputId": "41460060-3184-4279-f19a-6dae44c08fa8"
   },
   "outputs": [
    {
     "data": {
      "text/html": [
       "<div>\n",
       "<style scoped>\n",
       "    .dataframe tbody tr th:only-of-type {\n",
       "        vertical-align: middle;\n",
       "    }\n",
       "\n",
       "    .dataframe tbody tr th {\n",
       "        vertical-align: top;\n",
       "    }\n",
       "\n",
       "    .dataframe thead th {\n",
       "        text-align: right;\n",
       "    }\n",
       "</style>\n",
       "<table border=\"1\" class=\"dataframe\">\n",
       "  <thead>\n",
       "    <tr style=\"text-align: right;\">\n",
       "      <th></th>\n",
       "      <th>mean</th>\n",
       "      <th>vol</th>\n",
       "      <th>Sharpe</th>\n",
       "      <th>market alpha</th>\n",
       "      <th>market beta</th>\n",
       "      <th>information ratio</th>\n",
       "      <th>max drawdown</th>\n",
       "    </tr>\n",
       "  </thead>\n",
       "  <tbody>\n",
       "    <tr>\n",
       "      <td>oos_table</td>\n",
       "      <td>0.0335</td>\n",
       "      <td>0.1461</td>\n",
       "      <td>0.2295</td>\n",
       "      <td>0.0055</td>\n",
       "      <td>0.2402</td>\n",
       "      <td>0.1285</td>\n",
       "      <td>-0.6090</td>\n",
       "    </tr>\n",
       "  </tbody>\n",
       "</table>\n",
       "</div>"
      ],
      "text/plain": [
       "            mean    vol Sharpe market alpha market beta information ratio  \\\n",
       "oos_table 0.0335 0.1461 0.2295       0.0055      0.2402            0.1285   \n",
       "\n",
       "          max drawdown  \n",
       "oos_table      -0.6090  "
      ]
     },
     "metadata": {},
     "output_type": "display_data"
    }
   ],
   "source": [
    "all_stats_table_1 = pd.DataFrame(columns = ['mean', 'vol', 'Sharpe', \n",
    "                                   'market alpha', 'market beta', 'information ratio', 'max drawdown'], \n",
    "                        index = ['oos_table'])\n",
    "\n",
    "predictions = oos_table['predicted'].dropna()\n",
    "\n",
    "all_stats_table_1.loc['oos_table', 'mean'] = predictions.mean() * 12\n",
    "all_stats_table_1.loc['oos_table', 'vol'] = predictions.std() * np.sqrt(12)\n",
    "all_stats_table_1.loc['oos_table', 'Sharpe'] = all_stats_table_1.loc['oos_table', 'mean'] / all_stats_table_1.loc['oos_table', 'vol']\n",
    "market_model = sm.OLS(np.asarray(df_gmo_excess['SPY'][predictions.index], dtype = float), \n",
    "                      sm.add_constant(np.asarray(predictions, dtype = float))).fit()\n",
    "all_stats_table_1.loc['oos_table', 'market alpha'] = market_model.params[0]\n",
    "all_stats_table_1.loc['oos_table', 'market beta'] = market_model.params[1]\n",
    "all_stats_table_1.loc['oos_table', 'information ratio'] = market_model.params[0] / market_model.resid.std()\n",
    "all_stats_table_1.loc['oos_table', 'max drawdown'] = max_drawdown(predictions)\n",
    "\n",
    "display(all_stats_table_1)"
   ]
  },
  {
   "cell_type": "code",
   "execution_count": 20,
   "metadata": {
    "colab": {
     "base_uri": "https://localhost:8080/"
    },
    "id": "eKQN3QxBdpqn",
    "outputId": "0e1e307e-3397-4528-f12e-94b471677f3e"
   },
   "outputs": [
    {
     "data": {
      "text/plain": [
       "mean                -0.1332\n",
       "vol                 -0.0048\n",
       "Sharpe              -0.1290\n",
       "market alpha        -0.1345\n",
       "market beta         -2.6033\n",
       "information ratio   -0.1203\n",
       "max drawdown        -0.0000\n",
       "dtype: object"
      ]
     },
     "execution_count": 20,
     "metadata": {},
     "output_type": "execute_result"
    }
   ],
   "source": [
    "(all_stats_table_1.loc['oos_table', :] - all_stats_table.loc['ep_table', :]) / all_stats_table.loc['ep_table', :]"
   ]
  },
  {
   "cell_type": "markdown",
   "metadata": {
    "id": "aUFqOfIBdpqn"
   },
   "source": [
    "It doesn't perform too much worse compared to the in-sample forecast. "
   ]
  },
  {
   "cell_type": "markdown",
   "metadata": {},
   "source": [
    "## 3. Re-do problem 3.3 using this OOS forecast. Is the point-in-time version of the strategy riskier?"
   ]
  },
  {
   "cell_type": "code",
   "execution_count": 21,
   "metadata": {
    "colab": {
     "base_uri": "https://localhost:8080/"
    },
    "id": "kXjcsHVtdpqn",
    "outputId": "0c51ed00-6a8a-4a74-fce2-b5a4ea0274f2"
   },
   "outputs": [
    {
     "data": {
      "text/plain": [
       "-0.055021987103332"
      ]
     },
     "execution_count": 21,
     "metadata": {},
     "output_type": "execute_result"
    }
   ],
   "source": [
    "predictions.dropna().quantile(.05)"
   ]
  },
  {
   "cell_type": "code",
   "execution_count": 22,
   "metadata": {
    "colab": {
     "base_uri": "https://localhost:8080/"
    },
    "id": "qvATFIYgdpqn",
    "outputId": "9e06b5fd-c29c-439b-f99d-6d4003df7e19"
   },
   "outputs": [
    {
     "data": {
      "text/plain": [
       "-0.02056525585751419"
      ]
     },
     "execution_count": 22,
     "metadata": {},
     "output_type": "execute_result"
    }
   ],
   "source": [
    "12 * (predictions['2000': '2011'] -  df_risk_free['US3M']['2000': '2011']).mean()"
   ]
  },
  {
   "cell_type": "markdown",
   "metadata": {
    "id": "XYA_oOY7dpqn"
   },
   "source": [
    "No, it is not riskier. Both the VaR and the risk premium during the loss period are smaller. "
   ]
  }
 ],
 "metadata": {
  "colab": {
   "collapsed_sections": [],
   "name": "HW7.ipynb",
   "provenance": []
  },
  "kernelspec": {
   "display_name": "Python 3 (ipykernel)",
   "language": "python",
   "name": "python3"
  },
  "language_info": {
   "codemirror_mode": {
    "name": "ipython",
    "version": 3
   },
   "file_extension": ".py",
   "mimetype": "text/x-python",
   "name": "python",
   "nbconvert_exporter": "python",
   "pygments_lexer": "ipython3",
   "version": "3.9.7"
  }
 },
 "nbformat": 4,
 "nbformat_minor": 1
}
