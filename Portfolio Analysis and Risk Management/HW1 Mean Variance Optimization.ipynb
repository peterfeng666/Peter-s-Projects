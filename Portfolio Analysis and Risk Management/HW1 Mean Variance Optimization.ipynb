{
 "cells": [
  {
   "cell_type": "markdown",
   "metadata": {},
   "source": [
    "# Section 2 Mean Variance Optimization"
   ]
  },
  {
   "cell_type": "code",
   "execution_count": 1,
   "metadata": {},
   "outputs": [],
   "source": [
    "# packages that are used\n",
    "\n",
    "import pandas as pd\n",
    "import numpy as np\n",
    "import seaborn as sns\n",
    "import matplotlib.pyplot as plt\n",
    "from matplotlib.pyplot import rcParams\n",
    "rcParams['figure.figsize'] = 16, 8"
   ]
  },
  {
   "cell_type": "markdown",
   "metadata": {},
   "source": [
    "## Part 1\n",
    "### Reading and cleaning the data"
   ]
  },
  {
   "cell_type": "markdown",
   "metadata": {},
   "source": [
    "* Reading and checking if the data types are correct\n",
    "* General Data checking and cleaning operations"
   ]
  },
  {
   "cell_type": "code",
   "execution_count": 2,
   "metadata": {},
   "outputs": [],
   "source": [
    "# reading in the data\n",
    "\n",
    "data = pd.read_excel(r\"/Users/peterfeng/Downloads/积累/Previous Courses Materials/UChicago Past Courses/UChicago 2021 Fall/Portfolio Theory/hw data/multi_asset_etf_data.xlsx\",\n",
    "                    sheet_name = 'excess returns')"
   ]
  },
  {
   "cell_type": "code",
   "execution_count": 3,
   "metadata": {},
   "outputs": [
    {
     "data": {
      "text/html": [
       "<div>\n",
       "<style scoped>\n",
       "    .dataframe tbody tr th:only-of-type {\n",
       "        vertical-align: middle;\n",
       "    }\n",
       "\n",
       "    .dataframe tbody tr th {\n",
       "        vertical-align: top;\n",
       "    }\n",
       "\n",
       "    .dataframe thead th {\n",
       "        text-align: right;\n",
       "    }\n",
       "</style>\n",
       "<table border=\"1\" class=\"dataframe\">\n",
       "  <thead>\n",
       "    <tr style=\"text-align: right;\">\n",
       "      <th></th>\n",
       "      <th>Date</th>\n",
       "      <th>BWX</th>\n",
       "      <th>DBC</th>\n",
       "      <th>EEM</th>\n",
       "      <th>EFA</th>\n",
       "      <th>HYG</th>\n",
       "      <th>IEF</th>\n",
       "      <th>IYR</th>\n",
       "      <th>PSP</th>\n",
       "      <th>QAI</th>\n",
       "      <th>SPY</th>\n",
       "      <th>TIP</th>\n",
       "    </tr>\n",
       "  </thead>\n",
       "  <tbody>\n",
       "    <tr>\n",
       "      <th>0</th>\n",
       "      <td>2009-04-30</td>\n",
       "      <td>0.008439</td>\n",
       "      <td>-0.001554</td>\n",
       "      <td>0.155029</td>\n",
       "      <td>0.114637</td>\n",
       "      <td>0.137906</td>\n",
       "      <td>-0.028005</td>\n",
       "      <td>0.295597</td>\n",
       "      <td>0.229649</td>\n",
       "      <td>0.022329</td>\n",
       "      <td>0.098792</td>\n",
       "      <td>-0.018505</td>\n",
       "    </tr>\n",
       "    <tr>\n",
       "      <th>1</th>\n",
       "      <td>2009-05-31</td>\n",
       "      <td>0.054144</td>\n",
       "      <td>0.163135</td>\n",
       "      <td>0.159872</td>\n",
       "      <td>0.132390</td>\n",
       "      <td>0.029027</td>\n",
       "      <td>-0.020301</td>\n",
       "      <td>0.023200</td>\n",
       "      <td>0.054364</td>\n",
       "      <td>0.028337</td>\n",
       "      <td>0.058925</td>\n",
       "      <td>0.020438</td>\n",
       "    </tr>\n",
       "    <tr>\n",
       "      <th>2</th>\n",
       "      <td>2009-06-30</td>\n",
       "      <td>0.004549</td>\n",
       "      <td>-0.026858</td>\n",
       "      <td>-0.023094</td>\n",
       "      <td>-0.014648</td>\n",
       "      <td>0.032918</td>\n",
       "      <td>-0.006171</td>\n",
       "      <td>-0.025463</td>\n",
       "      <td>0.044849</td>\n",
       "      <td>-0.004036</td>\n",
       "      <td>-0.001254</td>\n",
       "      <td>0.001382</td>\n",
       "    </tr>\n",
       "    <tr>\n",
       "      <th>3</th>\n",
       "      <td>2009-07-31</td>\n",
       "      <td>0.031311</td>\n",
       "      <td>0.018595</td>\n",
       "      <td>0.110173</td>\n",
       "      <td>0.100442</td>\n",
       "      <td>0.069217</td>\n",
       "      <td>0.008345</td>\n",
       "      <td>0.105826</td>\n",
       "      <td>0.143274</td>\n",
       "      <td>0.015353</td>\n",
       "      <td>0.074633</td>\n",
       "      <td>0.000906</td>\n",
       "    </tr>\n",
       "    <tr>\n",
       "      <th>4</th>\n",
       "      <td>2009-08-31</td>\n",
       "      <td>0.007193</td>\n",
       "      <td>-0.040800</td>\n",
       "      <td>-0.013571</td>\n",
       "      <td>0.044595</td>\n",
       "      <td>-0.017405</td>\n",
       "      <td>0.007198</td>\n",
       "      <td>0.131503</td>\n",
       "      <td>0.032977</td>\n",
       "      <td>-0.004587</td>\n",
       "      <td>0.036505</td>\n",
       "      <td>0.007978</td>\n",
       "    </tr>\n",
       "  </tbody>\n",
       "</table>\n",
       "</div>"
      ],
      "text/plain": [
       "        Date       BWX       DBC       EEM       EFA       HYG       IEF  \\\n",
       "0 2009-04-30  0.008439 -0.001554  0.155029  0.114637  0.137906 -0.028005   \n",
       "1 2009-05-31  0.054144  0.163135  0.159872  0.132390  0.029027 -0.020301   \n",
       "2 2009-06-30  0.004549 -0.026858 -0.023094 -0.014648  0.032918 -0.006171   \n",
       "3 2009-07-31  0.031311  0.018595  0.110173  0.100442  0.069217  0.008345   \n",
       "4 2009-08-31  0.007193 -0.040800 -0.013571  0.044595 -0.017405  0.007198   \n",
       "\n",
       "        IYR       PSP       QAI       SPY       TIP  \n",
       "0  0.295597  0.229649  0.022329  0.098792 -0.018505  \n",
       "1  0.023200  0.054364  0.028337  0.058925  0.020438  \n",
       "2 -0.025463  0.044849 -0.004036 -0.001254  0.001382  \n",
       "3  0.105826  0.143274  0.015353  0.074633  0.000906  \n",
       "4  0.131503  0.032977 -0.004587  0.036505  0.007978  "
      ]
     },
     "execution_count": 3,
     "metadata": {},
     "output_type": "execute_result"
    }
   ],
   "source": [
    "data.head()"
   ]
  },
  {
   "cell_type": "code",
   "execution_count": 4,
   "metadata": {},
   "outputs": [],
   "source": [
    "#Setting the index as date\n",
    "\n",
    "data.set_index('Date',inplace = True)"
   ]
  },
  {
   "cell_type": "code",
   "execution_count": 5,
   "metadata": {},
   "outputs": [
    {
     "data": {
      "text/html": [
       "<div>\n",
       "<style scoped>\n",
       "    .dataframe tbody tr th:only-of-type {\n",
       "        vertical-align: middle;\n",
       "    }\n",
       "\n",
       "    .dataframe tbody tr th {\n",
       "        vertical-align: top;\n",
       "    }\n",
       "\n",
       "    .dataframe thead th {\n",
       "        text-align: right;\n",
       "    }\n",
       "</style>\n",
       "<table border=\"1\" class=\"dataframe\">\n",
       "  <thead>\n",
       "    <tr style=\"text-align: right;\">\n",
       "      <th></th>\n",
       "      <th>BWX</th>\n",
       "      <th>DBC</th>\n",
       "      <th>EEM</th>\n",
       "      <th>EFA</th>\n",
       "      <th>HYG</th>\n",
       "      <th>IEF</th>\n",
       "      <th>IYR</th>\n",
       "      <th>PSP</th>\n",
       "      <th>QAI</th>\n",
       "      <th>SPY</th>\n",
       "      <th>TIP</th>\n",
       "    </tr>\n",
       "    <tr>\n",
       "      <th>Date</th>\n",
       "      <th></th>\n",
       "      <th></th>\n",
       "      <th></th>\n",
       "      <th></th>\n",
       "      <th></th>\n",
       "      <th></th>\n",
       "      <th></th>\n",
       "      <th></th>\n",
       "      <th></th>\n",
       "      <th></th>\n",
       "      <th></th>\n",
       "    </tr>\n",
       "  </thead>\n",
       "  <tbody>\n",
       "    <tr>\n",
       "      <th>2009-04-30</th>\n",
       "      <td>0.008439</td>\n",
       "      <td>-0.001554</td>\n",
       "      <td>0.155029</td>\n",
       "      <td>0.114637</td>\n",
       "      <td>0.137906</td>\n",
       "      <td>-0.028005</td>\n",
       "      <td>0.295597</td>\n",
       "      <td>0.229649</td>\n",
       "      <td>0.022329</td>\n",
       "      <td>0.098792</td>\n",
       "      <td>-0.018505</td>\n",
       "    </tr>\n",
       "    <tr>\n",
       "      <th>2009-05-31</th>\n",
       "      <td>0.054144</td>\n",
       "      <td>0.163135</td>\n",
       "      <td>0.159872</td>\n",
       "      <td>0.132390</td>\n",
       "      <td>0.029027</td>\n",
       "      <td>-0.020301</td>\n",
       "      <td>0.023200</td>\n",
       "      <td>0.054364</td>\n",
       "      <td>0.028337</td>\n",
       "      <td>0.058925</td>\n",
       "      <td>0.020438</td>\n",
       "    </tr>\n",
       "    <tr>\n",
       "      <th>2009-06-30</th>\n",
       "      <td>0.004549</td>\n",
       "      <td>-0.026858</td>\n",
       "      <td>-0.023094</td>\n",
       "      <td>-0.014648</td>\n",
       "      <td>0.032918</td>\n",
       "      <td>-0.006171</td>\n",
       "      <td>-0.025463</td>\n",
       "      <td>0.044849</td>\n",
       "      <td>-0.004036</td>\n",
       "      <td>-0.001254</td>\n",
       "      <td>0.001382</td>\n",
       "    </tr>\n",
       "    <tr>\n",
       "      <th>2009-07-31</th>\n",
       "      <td>0.031311</td>\n",
       "      <td>0.018595</td>\n",
       "      <td>0.110173</td>\n",
       "      <td>0.100442</td>\n",
       "      <td>0.069217</td>\n",
       "      <td>0.008345</td>\n",
       "      <td>0.105826</td>\n",
       "      <td>0.143274</td>\n",
       "      <td>0.015353</td>\n",
       "      <td>0.074633</td>\n",
       "      <td>0.000906</td>\n",
       "    </tr>\n",
       "    <tr>\n",
       "      <th>2009-08-31</th>\n",
       "      <td>0.007193</td>\n",
       "      <td>-0.040800</td>\n",
       "      <td>-0.013571</td>\n",
       "      <td>0.044595</td>\n",
       "      <td>-0.017405</td>\n",
       "      <td>0.007198</td>\n",
       "      <td>0.131503</td>\n",
       "      <td>0.032977</td>\n",
       "      <td>-0.004587</td>\n",
       "      <td>0.036505</td>\n",
       "      <td>0.007978</td>\n",
       "    </tr>\n",
       "  </tbody>\n",
       "</table>\n",
       "</div>"
      ],
      "text/plain": [
       "                 BWX       DBC       EEM       EFA       HYG       IEF  \\\n",
       "Date                                                                     \n",
       "2009-04-30  0.008439 -0.001554  0.155029  0.114637  0.137906 -0.028005   \n",
       "2009-05-31  0.054144  0.163135  0.159872  0.132390  0.029027 -0.020301   \n",
       "2009-06-30  0.004549 -0.026858 -0.023094 -0.014648  0.032918 -0.006171   \n",
       "2009-07-31  0.031311  0.018595  0.110173  0.100442  0.069217  0.008345   \n",
       "2009-08-31  0.007193 -0.040800 -0.013571  0.044595 -0.017405  0.007198   \n",
       "\n",
       "                 IYR       PSP       QAI       SPY       TIP  \n",
       "Date                                                          \n",
       "2009-04-30  0.295597  0.229649  0.022329  0.098792 -0.018505  \n",
       "2009-05-31  0.023200  0.054364  0.028337  0.058925  0.020438  \n",
       "2009-06-30 -0.025463  0.044849 -0.004036 -0.001254  0.001382  \n",
       "2009-07-31  0.105826  0.143274  0.015353  0.074633  0.000906  \n",
       "2009-08-31  0.131503  0.032977 -0.004587  0.036505  0.007978  "
      ]
     },
     "execution_count": 5,
     "metadata": {},
     "output_type": "execute_result"
    }
   ],
   "source": [
    "data.head()"
   ]
  },
  {
   "cell_type": "markdown",
   "metadata": {},
   "source": [
    "### 1a."
   ]
  },
  {
   "cell_type": "code",
   "execution_count": 7,
   "metadata": {},
   "outputs": [
    {
     "data": {
      "text/html": [
       "<div>\n",
       "<style scoped>\n",
       "    .dataframe tbody tr th:only-of-type {\n",
       "        vertical-align: middle;\n",
       "    }\n",
       "\n",
       "    .dataframe tbody tr th {\n",
       "        vertical-align: top;\n",
       "    }\n",
       "\n",
       "    .dataframe thead th {\n",
       "        text-align: right;\n",
       "    }\n",
       "</style>\n",
       "<table border=\"1\" class=\"dataframe\">\n",
       "  <thead>\n",
       "    <tr style=\"text-align: right;\">\n",
       "      <th></th>\n",
       "      <th>Avg Return</th>\n",
       "      <th>Avg Volatility</th>\n",
       "      <th>Sharpe Ratio</th>\n",
       "    </tr>\n",
       "  </thead>\n",
       "  <tbody>\n",
       "    <tr>\n",
       "      <th>BWX</th>\n",
       "      <td>0.020819</td>\n",
       "      <td>0.074304</td>\n",
       "      <td>0.280189</td>\n",
       "    </tr>\n",
       "    <tr>\n",
       "      <th>DBC</th>\n",
       "      <td>0.010053</td>\n",
       "      <td>0.177327</td>\n",
       "      <td>0.056689</td>\n",
       "    </tr>\n",
       "    <tr>\n",
       "      <th>EEM</th>\n",
       "      <td>0.093103</td>\n",
       "      <td>0.196190</td>\n",
       "      <td>0.474556</td>\n",
       "    </tr>\n",
       "    <tr>\n",
       "      <th>EFA</th>\n",
       "      <td>0.099239</td>\n",
       "      <td>0.161319</td>\n",
       "      <td>0.615174</td>\n",
       "    </tr>\n",
       "    <tr>\n",
       "      <th>HYG</th>\n",
       "      <td>0.081193</td>\n",
       "      <td>0.085989</td>\n",
       "      <td>0.944231</td>\n",
       "    </tr>\n",
       "    <tr>\n",
       "      <th>IEF</th>\n",
       "      <td>0.033424</td>\n",
       "      <td>0.056895</td>\n",
       "      <td>0.587473</td>\n",
       "    </tr>\n",
       "    <tr>\n",
       "      <th>IYR</th>\n",
       "      <td>0.164311</td>\n",
       "      <td>0.180085</td>\n",
       "      <td>0.912408</td>\n",
       "    </tr>\n",
       "    <tr>\n",
       "      <th>PSP</th>\n",
       "      <td>0.170243</td>\n",
       "      <td>0.213412</td>\n",
       "      <td>0.797721</td>\n",
       "    </tr>\n",
       "    <tr>\n",
       "      <th>QAI</th>\n",
       "      <td>0.027795</td>\n",
       "      <td>0.047800</td>\n",
       "      <td>0.581490</td>\n",
       "    </tr>\n",
       "    <tr>\n",
       "      <th>SPY</th>\n",
       "      <td>0.164907</td>\n",
       "      <td>0.139166</td>\n",
       "      <td>1.184963</td>\n",
       "    </tr>\n",
       "    <tr>\n",
       "      <th>TIP</th>\n",
       "      <td>0.037242</td>\n",
       "      <td>0.045151</td>\n",
       "      <td>0.824835</td>\n",
       "    </tr>\n",
       "  </tbody>\n",
       "</table>\n",
       "</div>"
      ],
      "text/plain": [
       "     Avg Return  Avg Volatility  Sharpe Ratio\n",
       "BWX    0.020819        0.074304      0.280189\n",
       "DBC    0.010053        0.177327      0.056689\n",
       "EEM    0.093103        0.196190      0.474556\n",
       "EFA    0.099239        0.161319      0.615174\n",
       "HYG    0.081193        0.085989      0.944231\n",
       "IEF    0.033424        0.056895      0.587473\n",
       "IYR    0.164311        0.180085      0.912408\n",
       "PSP    0.170243        0.213412      0.797721\n",
       "QAI    0.027795        0.047800      0.581490\n",
       "SPY    0.164907        0.139166      1.184963\n",
       "TIP    0.037242        0.045151      0.824835"
      ]
     },
     "execution_count": 7,
     "metadata": {},
     "output_type": "execute_result"
    }
   ],
   "source": [
    "def summary_stats(df):\n",
    "    \n",
    "    \"\"\"\n",
    "    Avg Return : Show the annualized return\n",
    "    Avg Volatility : Show the annulized volatility\n",
    "    Sharpe Ratio : The ratio of avg return and avg volatility\n",
    "\n",
    "    \"\"\"\n",
    "    \n",
    "    mean_return = df.mean() * 12\n",
    "    vol = df.std() * np.sqrt(12)\n",
    "    sharpe = mean_return / vol\n",
    "    \n",
    "    stats = pd.DataFrame({\n",
    "        'Avg Return' : mean_return,\n",
    "        'Avg Volatility' : vol,\n",
    "        'Sharpe Ratio' : sharpe\n",
    "    })\n",
    "    \n",
    "    return stats\n",
    "\n",
    "summ = summary_stats(data)\n",
    "summ"
   ]
  },
  {
   "cell_type": "code",
   "execution_count": 7,
   "metadata": {},
   "outputs": [
    {
     "data": {
      "text/plain": [
       "Text(0.5, 1.0, 'Annualized Sharpe Ratio')"
      ]
     },
     "execution_count": 7,
     "metadata": {},
     "output_type": "execute_result"
    },
    {
     "data": {
      "image/png": "[encoded data removed]",
      "text/plain": [
       "<Figure size 1152x576 with 1 Axes>"
      ]
     },
     "metadata": {
      "needs_background": "light"
     },
     "output_type": "display_data"
    }
   ],
   "source": [
    "fig = plt.figure()\n",
    "ax =plt.axes()\n",
    "\n",
    "ax.bar(summ.index, summ['Sharpe Ratio'], color='royalblue', alpha=0.75)\n",
    "ax.set_title('Annualized Sharpe Ratio')"
   ]
  },
  {
   "cell_type": "markdown",
   "metadata": {},
   "source": [
    "### 1b."
   ]
  },
  {
   "cell_type": "markdown",
   "metadata": {},
   "source": [
    "* Highest and Lowest Sharpe Ratio"
   ]
  },
  {
   "cell_type": "code",
   "execution_count": 10,
   "metadata": {
    "scrolled": true
   },
   "outputs": [
    {
     "name": "stdout",
     "output_type": "stream",
     "text": [
      "This asset has the highest sharpe ratio: SPY\n",
      "This asset has the lowest sharpe ratio: DBC\n"
     ]
    }
   ],
   "source": [
    "print(f\"This asset has the highest sharpe ratio: {summ['Sharpe Ratio'].idxmax()}\")\n",
    "\n",
    "print(f\"This asset has the lowest sharpe ratio: {summ['Sharpe Ratio'].idxmin()}\")"
   ]
  },
  {
   "cell_type": "markdown",
   "metadata": {},
   "source": [
    "## Part 2"
   ]
  },
  {
   "cell_type": "markdown",
   "metadata": {},
   "source": [
    "### 2a."
   ]
  },
  {
   "cell_type": "code",
   "execution_count": 11,
   "metadata": {},
   "outputs": [],
   "source": [
    "corr = data.corr()"
   ]
  },
  {
   "cell_type": "code",
   "execution_count": 12,
   "metadata": {},
   "outputs": [
    {
     "data": {
      "image/png": "[encoded data removed]",
      "text/plain": [
       "<Figure size 1152x576 with 2 Axes>"
      ]
     },
     "metadata": {
      "needs_background": "light"
     },
     "output_type": "display_data"
    }
   ],
   "source": [
    "hm = sns.heatmap(corr,\n",
    "                 cbar=True,\n",
    "                 annot=True,\n",
    "                 square=True,\n",
    "                 fmt='.4f',\n",
    "                 annot_kws={'size': 9},\n",
    "                 yticklabels=corr.columns,\n",
    "                 xticklabels=corr.columns,cmap=\"RdBu\")\n",
    "plt.title('Correlation matrix heatmap')\n",
    "plt.tight_layout()\n",
    "plt.show()"
   ]
  },
  {
   "cell_type": "code",
   "execution_count": 15,
   "metadata": {},
   "outputs": [
    {
     "data": {
      "text/plain": [
       "('IEF', 'SPY')"
      ]
     },
     "execution_count": 15,
     "metadata": {},
     "output_type": "execute_result"
    }
   ],
   "source": [
    "# Finding the minimum correlation in the matrix\n",
    "corr.unstack().idxmin()"
   ]
  },
  {
   "cell_type": "code",
   "execution_count": 12,
   "metadata": {},
   "outputs": [],
   "source": [
    "# Defining the unstacked correlation matrix through which we can parse\n",
    "\n",
    "unstacked_corr = pd.DataFrame(corr.unstack(),columns = ['Correlation'])"
   ]
  },
  {
   "cell_type": "code",
   "execution_count": 13,
   "metadata": {},
   "outputs": [
    {
     "data": {
      "text/plain": [
       "Correlation    (EFA, PSP)\n",
       "dtype: object"
      ]
     },
     "execution_count": 13,
     "metadata": {},
     "output_type": "execute_result"
    }
   ],
   "source": [
    "# Finding the maximum of all correlations less than 1 to avoid the 1.0 correlations on the diagonal\n",
    "\n",
    "unstacked_corr.loc[unstacked_corr['Correlation'] < 1].idxmax()"
   ]
  },
  {
   "cell_type": "markdown",
   "metadata": {},
   "source": [
    "### 2b."
   ]
  },
  {
   "cell_type": "code",
   "execution_count": 14,
   "metadata": {},
   "outputs": [
    {
     "name": "stdout",
     "output_type": "stream",
     "text": [
      "Mean Difference:  0.003818093833510512 , Volatility Difference:  -0.011743606840574808 , Sharpe Ratio Difference:  0.23736270040370688\n"
     ]
    }
   ],
   "source": [
    "# Calculating the difference between TIPS and IEF (domestic bond ETF)\n",
    "\n",
    "def spread(df, security1, security2, category):\n",
    "    \n",
    "    \"\"\"\n",
    "    Helper function to calculate the spread in a given category of two securities.\n",
    "    \n",
    "    \"\"\"\n",
    "    \n",
    "    return (df.loc[security1, category] - df.loc[security2, category])\n",
    "\n",
    "def spread_info(df, security1, security2):\n",
    "    \n",
    "    \"\"\"\n",
    "    Print out the difference in mean returns, volatility, and sharpe ratio of\n",
    "    two securities, given a data set.\n",
    "    \n",
    "    \"\"\"\n",
    "    \n",
    "    mean_spread = spread(df, security1, security2, 'Avg Return')\n",
    "    vol_spread = spread(df, security1, security2, 'Avg Volatility')\n",
    "    sharpe_spread = spread(df, security1, security2, 'Sharpe Ratio')\n",
    "    \n",
    "    print('Mean Difference: ', mean_spread, ', Volatility Difference: ', vol_spread, ', Sharpe Ratio Difference: ', sharpe_spread)\n",
    "    \n",
    "spread_info(summ, 'TIP', 'IEF')"
   ]
  },
  {
   "cell_type": "markdown",
   "metadata": {},
   "source": [
    "* TIPS on average returns 0.38% (38bps) greater yields compared to domestic bond ETF, denoted by IEF. TIPS also had a lower volatility of about 1.17% (117bps). This amounted to a difference in the Sharpe Ratio of 0.237."
   ]
  },
  {
   "cell_type": "code",
   "execution_count": 15,
   "metadata": {},
   "outputs": [
    {
     "name": "stdout",
     "output_type": "stream",
     "text": [
      "Mean Difference:  0.016423001795042812 , Volatility Difference:  -0.029152830140359798 , Sharpe Ratio Difference:  0.5446467051601502\n"
     ]
    }
   ],
   "source": [
    "# Calculating the difference between TIPS and BWX (foreign bond ETF)\n",
    "\n",
    "spread_info(summ, 'TIP', 'BWX')"
   ]
  },
  {
   "cell_type": "markdown",
   "metadata": {},
   "source": [
    "* TIPS on average returns 1.64% (164bps) greater yield compared to foreign bonds ETF, denoted by BWX. TIPS also had a lower volatility of about 2.92% (292bps). This amounted to a difference in the Sharpe Ratio of 0.545."
   ]
  },
  {
   "cell_type": "markdown",
   "metadata": {},
   "source": [
    "### 2c."
   ]
  },
  {
   "cell_type": "code",
   "execution_count": 16,
   "metadata": {},
   "outputs": [
    {
     "data": {
      "text/plain": [
       "BWX    0.526797\n",
       "DBC    0.137627\n",
       "EEM    0.221171\n",
       "EFA    0.138746\n",
       "HYG    0.208048\n",
       "IEF    0.649038\n",
       "IYR    0.283457\n",
       "PSP    0.135455\n",
       "QAI    0.337546\n",
       "SPY    0.103265\n",
       "TIP    1.000000\n",
       "Name: TIP, dtype: float64"
      ]
     },
     "execution_count": 16,
     "metadata": {},
     "output_type": "execute_result"
    }
   ],
   "source": [
    "corr['TIP']"
   ]
  },
  {
   "cell_type": "markdown",
   "metadata": {},
   "source": [
    "Harvard should consider TIPS to be a separate asset class from the other ten asset classes listed. This is for two reasons: (i) the relatively low correlation and (ii) the differing performance metrics relative to domestic and foreign bonds. First, the correlation between TIPS and IEF (the domestic bond ETF) is 0.649 and the correlation between TIPS and BWX (the foreign bond ETF) is 0.527. While these numbers on their own are high, compared to other correlations across the asset classes, they are quite benign. When looking at the \"Correlation matrix heatmap\" provided above, the large majority of asset classes have a 0.500+ correlation with one another. As such, TIPS is not heavily correlated to domestic and foreign bonds relative to the correlations seen across other distinct asset classes. In addition, TIPS has very low correlation with the other asset classes in the HMC portfolio.\n",
    "\n",
    "In addition, one must consider the yield differential between TIPS and the two bond ETFs. The yield spread between TIPS and IEF (the domestic bond ETF) is somewhat trivial, ending up at only 38bps. However, when compared to BWX (the foreign bond ETF), the yield spread is in excess of 160bps. In addition, the volatility of TIPS is c. 1.2% lower than domestic bonds and c. 2.9% lower than foreign bonds. All of this amounts to a difference in the Sharpe Ratio of c. 0.24 and 0.55 compared to domestic and foreign bonds, respectively. As such, given the moderate correlation and significant differences in the mean returns, volatility, and Sharpe Ratio, we believe that TIPS should be considered as a separate asset class from HMC's perspective."
   ]
  },
  {
   "cell_type": "markdown",
   "metadata": {},
   "source": [
    "## Part 3"
   ]
  },
  {
   "cell_type": "markdown",
   "metadata": {},
   "source": [
    "### 3a."
   ]
  },
  {
   "cell_type": "code",
   "execution_count": 17,
   "metadata": {},
   "outputs": [],
   "source": [
    "def compute_tangency(df):\n",
    "    \n",
    "    \"\"\"\n",
    "    Given a set of excess returns, calculate:\n",
    "    \n",
    "    1. The weights for the tangency portfolio\n",
    "    2. Covariance matrix\n",
    "    \n",
    "    \"\"\"\n",
    "    \n",
    "    Sigma = df.cov()\n",
    "    Sigma_inv = np.linalg.inv(Sigma.copy())\n",
    "    \n",
    "    mu_tilde = np.array(df.mean())\n",
    "    \n",
    "    one_vector = np.ones((1, len(Sigma)))\n",
    "    \n",
    "    w_tangent = 1/(one_vector @ Sigma_inv @ mu_tilde) * (Sigma_inv @ mu_tilde)\n",
    "    \n",
    "    return w_tangent\n",
    "\n",
    "w_tangent = compute_tangency(data)"
   ]
  },
  {
   "cell_type": "code",
   "execution_count": 18,
   "metadata": {
    "scrolled": true
   },
   "outputs": [
    {
     "data": {
      "text/html": [
       "<div>\n",
       "<style scoped>\n",
       "    .dataframe tbody tr th:only-of-type {\n",
       "        vertical-align: middle;\n",
       "    }\n",
       "\n",
       "    .dataframe tbody tr th {\n",
       "        vertical-align: top;\n",
       "    }\n",
       "\n",
       "    .dataframe thead th {\n",
       "        text-align: right;\n",
       "    }\n",
       "</style>\n",
       "<table border=\"1\" class=\"dataframe\">\n",
       "  <thead>\n",
       "    <tr style=\"text-align: right;\">\n",
       "      <th></th>\n",
       "      <th>Stocks</th>\n",
       "      <th>Weight</th>\n",
       "    </tr>\n",
       "  </thead>\n",
       "  <tbody>\n",
       "    <tr>\n",
       "      <th>0</th>\n",
       "      <td>BWX</td>\n",
       "      <td>-0.259236</td>\n",
       "    </tr>\n",
       "    <tr>\n",
       "      <th>1</th>\n",
       "      <td>DBC</td>\n",
       "      <td>-0.049786</td>\n",
       "    </tr>\n",
       "    <tr>\n",
       "      <th>2</th>\n",
       "      <td>EEM</td>\n",
       "      <td>0.068120</td>\n",
       "    </tr>\n",
       "    <tr>\n",
       "      <th>3</th>\n",
       "      <td>EFA</td>\n",
       "      <td>-0.157671</td>\n",
       "    </tr>\n",
       "    <tr>\n",
       "      <th>4</th>\n",
       "      <td>HYG</td>\n",
       "      <td>0.775635</td>\n",
       "    </tr>\n",
       "    <tr>\n",
       "      <th>5</th>\n",
       "      <td>IEF</td>\n",
       "      <td>1.734962</td>\n",
       "    </tr>\n",
       "    <tr>\n",
       "      <th>6</th>\n",
       "      <td>IYR</td>\n",
       "      <td>-0.366667</td>\n",
       "    </tr>\n",
       "    <tr>\n",
       "      <th>7</th>\n",
       "      <td>PSP</td>\n",
       "      <td>-0.000685</td>\n",
       "    </tr>\n",
       "    <tr>\n",
       "      <th>8</th>\n",
       "      <td>QAI</td>\n",
       "      <td>-2.477194</td>\n",
       "    </tr>\n",
       "    <tr>\n",
       "      <th>9</th>\n",
       "      <td>SPY</td>\n",
       "      <td>1.540749</td>\n",
       "    </tr>\n",
       "    <tr>\n",
       "      <th>10</th>\n",
       "      <td>TIP</td>\n",
       "      <td>0.191773</td>\n",
       "    </tr>\n",
       "  </tbody>\n",
       "</table>\n",
       "</div>"
      ],
      "text/plain": [
       "   Stocks    Weight\n",
       "0     BWX -0.259236\n",
       "1     DBC -0.049786\n",
       "2     EEM  0.068120\n",
       "3     EFA -0.157671\n",
       "4     HYG  0.775635\n",
       "5     IEF  1.734962\n",
       "6     IYR -0.366667\n",
       "7     PSP -0.000685\n",
       "8     QAI -2.477194\n",
       "9     SPY  1.540749\n",
       "10    TIP  0.191773"
      ]
     },
     "execution_count": 18,
     "metadata": {},
     "output_type": "execute_result"
    }
   ],
   "source": [
    "\"\"\"\n",
    "Placing weights in a dataframe\n",
    "\n",
    "\"\"\"\n",
    "\n",
    "tangent_portfolio = pd.DataFrame({'Stocks':summ.index, 'Weight':w_tangent})\n",
    "tangent_portfolio"
   ]
  },
  {
   "cell_type": "markdown",
   "metadata": {},
   "source": [
    "### 3b."
   ]
  },
  {
   "cell_type": "code",
   "execution_count": 19,
   "metadata": {},
   "outputs": [
    {
     "data": {
      "text/plain": [
       "array([0.23776716, 0.10480198, 2.26872781])"
      ]
     },
     "execution_count": 19,
     "metadata": {},
     "output_type": "execute_result"
    }
   ],
   "source": [
    "def portfolio_info(df, w_portfolio):\n",
    "    \n",
    "    \"\"\"\n",
    "    Given a set of excess returns and weight allocation of a portfolio,\n",
    "    output the return, volatility, and Sharpe Ratio of the portfolio.\n",
    "    \n",
    "    \"\"\"\n",
    "    \n",
    "    summ_df = summary_stats(df)\n",
    "    \n",
    "    Sigma = df.cov()\n",
    "    \n",
    "    portfolio_return = (w_portfolio @ summ_df['Avg Return'])\n",
    "    portfolio_vol = np.sqrt(w_portfolio.T @ Sigma @ w_portfolio) * np.sqrt(12)\n",
    "    portfolio_sharpe = portfolio_return / portfolio_vol\n",
    "    \n",
    "    return np.array([portfolio_return, portfolio_vol, portfolio_sharpe])\n",
    "\n",
    "def print_portfolio_info(df, w_portfolio):\n",
    "    \n",
    "    \"\"\"\n",
    "    Given a set of excess returns and weight allocation of a portfolio,\n",
    "    print out a statement regarding the return, volatility, and Sharpe Ratio of the portfolio.\n",
    "    \n",
    "    \"\"\"\n",
    "    \n",
    "    portfolio_stats = portfolio_info(df, w_portfolio)\n",
    "    \n",
    "    print('Return: ', portfolio_stats[0], ', Volatility: ', portfolio_stats[1], ', Sharpe Ratio: ', portfolio_stats[2])\n",
    "\n",
    "portfolio_info(data, w_tangent)"
   ]
  },
  {
   "cell_type": "code",
   "execution_count": 20,
   "metadata": {},
   "outputs": [
    {
     "name": "stdout",
     "output_type": "stream",
     "text": [
      "Return:  0.23776716339549853 , Volatility:  0.10480197847812861 , Sharpe Ratio:  2.268727812663563\n"
     ]
    }
   ],
   "source": [
    "print_portfolio_info(data, w_tangent)"
   ]
  },
  {
   "cell_type": "markdown",
   "metadata": {},
   "source": [
    "## Part 4"
   ]
  },
  {
   "cell_type": "markdown",
   "metadata": {},
   "source": [
    "### 4a."
   ]
  },
  {
   "cell_type": "code",
   "execution_count": 21,
   "metadata": {},
   "outputs": [],
   "source": [
    "def compute_mv_portfolio(df, target_return):\n",
    "    \n",
    "    \"\"\"\n",
    "    Given a set of excess returns, calculate the portfolio weight allocation required\n",
    "    to achieve the target return.\n",
    "    \n",
    "    \"\"\"\n",
    "    \n",
    "    # Defining the necessary variables for the formula\n",
    "    Sigma = df.cov()\n",
    "    Sigma_inv = np.linalg.inv(Sigma.copy())\n",
    "    \n",
    "    mu_tilde = df.mean() * 12\n",
    "    \n",
    "    one_vector = np.ones((1, len(Sigma)))\n",
    "    \n",
    "    w_tan = compute_tangency(df)\n",
    "    \n",
    "    # Calculating the scaling factor for weight allocations to w_tan based on the target return\n",
    "    \n",
    "    delta_tilde = ((one_vector @ Sigma_inv @ mu_tilde) / (mu_tilde.T @ Sigma_inv @ mu_tilde)) * target_return\n",
    "    \n",
    "    # Calculating weights of MV portfolio\n",
    "    \n",
    "    mv_portfolio = delta_tilde * w_tan\n",
    "    \n",
    "    return mv_portfolio\n",
    "\n",
    "mv_weights = compute_mv_portfolio(data, 0.12)"
   ]
  },
  {
   "cell_type": "code",
   "execution_count": 22,
   "metadata": {},
   "outputs": [
    {
     "data": {
      "text/html": [
       "<div>\n",
       "<style scoped>\n",
       "    .dataframe tbody tr th:only-of-type {\n",
       "        vertical-align: middle;\n",
       "    }\n",
       "\n",
       "    .dataframe tbody tr th {\n",
       "        vertical-align: top;\n",
       "    }\n",
       "\n",
       "    .dataframe thead th {\n",
       "        text-align: right;\n",
       "    }\n",
       "</style>\n",
       "<table border=\"1\" class=\"dataframe\">\n",
       "  <thead>\n",
       "    <tr style=\"text-align: right;\">\n",
       "      <th></th>\n",
       "      <th>Stocks</th>\n",
       "      <th>Weight</th>\n",
       "    </tr>\n",
       "  </thead>\n",
       "  <tbody>\n",
       "    <tr>\n",
       "      <th>0</th>\n",
       "      <td>BWX</td>\n",
       "      <td>-0.130835</td>\n",
       "    </tr>\n",
       "    <tr>\n",
       "      <th>1</th>\n",
       "      <td>DBC</td>\n",
       "      <td>-0.025127</td>\n",
       "    </tr>\n",
       "    <tr>\n",
       "      <th>2</th>\n",
       "      <td>EEM</td>\n",
       "      <td>0.034380</td>\n",
       "    </tr>\n",
       "    <tr>\n",
       "      <th>3</th>\n",
       "      <td>EFA</td>\n",
       "      <td>-0.079576</td>\n",
       "    </tr>\n",
       "    <tr>\n",
       "      <th>4</th>\n",
       "      <td>HYG</td>\n",
       "      <td>0.391459</td>\n",
       "    </tr>\n",
       "    <tr>\n",
       "      <th>5</th>\n",
       "      <td>IEF</td>\n",
       "      <td>0.875628</td>\n",
       "    </tr>\n",
       "    <tr>\n",
       "      <th>6</th>\n",
       "      <td>IYR</td>\n",
       "      <td>-0.185055</td>\n",
       "    </tr>\n",
       "    <tr>\n",
       "      <th>7</th>\n",
       "      <td>PSP</td>\n",
       "      <td>-0.000346</td>\n",
       "    </tr>\n",
       "    <tr>\n",
       "      <th>8</th>\n",
       "      <td>QAI</td>\n",
       "      <td>-1.250228</td>\n",
       "    </tr>\n",
       "    <tr>\n",
       "      <th>9</th>\n",
       "      <td>SPY</td>\n",
       "      <td>0.777609</td>\n",
       "    </tr>\n",
       "    <tr>\n",
       "      <th>10</th>\n",
       "      <td>TIP</td>\n",
       "      <td>0.096787</td>\n",
       "    </tr>\n",
       "  </tbody>\n",
       "</table>\n",
       "</div>"
      ],
      "text/plain": [
       "   Stocks    Weight\n",
       "0     BWX -0.130835\n",
       "1     DBC -0.025127\n",
       "2     EEM  0.034380\n",
       "3     EFA -0.079576\n",
       "4     HYG  0.391459\n",
       "5     IEF  0.875628\n",
       "6     IYR -0.185055\n",
       "7     PSP -0.000346\n",
       "8     QAI -1.250228\n",
       "9     SPY  0.777609\n",
       "10    TIP  0.096787"
      ]
     },
     "execution_count": 22,
     "metadata": {},
     "output_type": "execute_result"
    }
   ],
   "source": [
    "weight_adjusted = pd.DataFrame({'Stocks':summ.index, 'Weight':mv_weights})\n",
    "\n",
    "weight_adjusted"
   ]
  },
  {
   "cell_type": "markdown",
   "metadata": {},
   "source": [
    "### 4b."
   ]
  },
  {
   "cell_type": "code",
   "execution_count": 23,
   "metadata": {},
   "outputs": [
    {
     "name": "stdout",
     "output_type": "stream",
     "text": [
      "Return:  0.11999999999999997 , Volatility:  0.05289307925357335 , Sharpe Ratio:  2.2687278126635633\n"
     ]
    }
   ],
   "source": [
    "print_portfolio_info(data, mv_weights)"
   ]
  },
  {
   "cell_type": "markdown",
   "metadata": {},
   "source": [
    "### 4c."
   ]
  },
  {
   "cell_type": "markdown",
   "metadata": {},
   "source": [
    "* When we compare the weight adjusted portfolio with the tangent portfolio, it has cut the weights by half. This has the result of cutting the return and volatility in half. The Sharpe Ratio has stayed the same given the proportional reductions across the return and volatility.\n",
    "\n",
    "* The weight adjusted portfolio's top 3 long positions are SPY, IEF, and HYG. The top 3 short positions of the portfolio are in QAI, IYR, and BWX. If we look at the weights of weight adjusted portfolio for the top 3 long postions, they are nearly half of the weights from the tangent portfolio. The same goes for the top 3 short positions."
   ]
  },
  {
   "cell_type": "markdown",
   "metadata": {},
   "source": [
    "### 4d."
   ]
  },
  {
   "cell_type": "markdown",
   "metadata": {},
   "source": [
    "* To a certain extent yes, but it also depends on the correlation/covariances between the assets. For example, of the ETFs with the  five highest Sharpe Ratios (SPY, HYG, IYR, TIP, and PSP), the portfolio is long three of the securities and short two of the securities. In addition, of the ETFs with the five lowest Sharpe Ratios (DBC, BWX, EEM, QAI, and IEF), the portfolio is long two of the securities and short three of the securities."
   ]
  },
  {
   "cell_type": "code",
   "execution_count": 24,
   "metadata": {},
   "outputs": [
    {
     "data": {
      "text/html": [
       "<div>\n",
       "<style scoped>\n",
       "    .dataframe tbody tr th:only-of-type {\n",
       "        vertical-align: middle;\n",
       "    }\n",
       "\n",
       "    .dataframe tbody tr th {\n",
       "        vertical-align: top;\n",
       "    }\n",
       "\n",
       "    .dataframe thead th {\n",
       "        text-align: right;\n",
       "    }\n",
       "</style>\n",
       "<table border=\"1\" class=\"dataframe\">\n",
       "  <thead>\n",
       "    <tr style=\"text-align: right;\">\n",
       "      <th></th>\n",
       "      <th>Sharpe Ratio</th>\n",
       "      <th>Weight</th>\n",
       "    </tr>\n",
       "  </thead>\n",
       "  <tbody>\n",
       "    <tr>\n",
       "      <th>DBC</th>\n",
       "      <td>0.056689</td>\n",
       "      <td>-0.025127</td>\n",
       "    </tr>\n",
       "    <tr>\n",
       "      <th>BWX</th>\n",
       "      <td>0.280189</td>\n",
       "      <td>-0.130835</td>\n",
       "    </tr>\n",
       "    <tr>\n",
       "      <th>EEM</th>\n",
       "      <td>0.474556</td>\n",
       "      <td>0.034380</td>\n",
       "    </tr>\n",
       "    <tr>\n",
       "      <th>QAI</th>\n",
       "      <td>0.581490</td>\n",
       "      <td>-1.250228</td>\n",
       "    </tr>\n",
       "    <tr>\n",
       "      <th>IEF</th>\n",
       "      <td>0.587473</td>\n",
       "      <td>0.875628</td>\n",
       "    </tr>\n",
       "    <tr>\n",
       "      <th>EFA</th>\n",
       "      <td>0.615174</td>\n",
       "      <td>-0.079576</td>\n",
       "    </tr>\n",
       "    <tr>\n",
       "      <th>PSP</th>\n",
       "      <td>0.797721</td>\n",
       "      <td>-0.000346</td>\n",
       "    </tr>\n",
       "    <tr>\n",
       "      <th>TIP</th>\n",
       "      <td>0.824835</td>\n",
       "      <td>0.096787</td>\n",
       "    </tr>\n",
       "    <tr>\n",
       "      <th>IYR</th>\n",
       "      <td>0.912408</td>\n",
       "      <td>-0.185055</td>\n",
       "    </tr>\n",
       "    <tr>\n",
       "      <th>HYG</th>\n",
       "      <td>0.944231</td>\n",
       "      <td>0.391459</td>\n",
       "    </tr>\n",
       "    <tr>\n",
       "      <th>SPY</th>\n",
       "      <td>1.184963</td>\n",
       "      <td>0.777609</td>\n",
       "    </tr>\n",
       "  </tbody>\n",
       "</table>\n",
       "</div>"
      ],
      "text/plain": [
       "     Sharpe Ratio    Weight\n",
       "DBC      0.056689 -0.025127\n",
       "BWX      0.280189 -0.130835\n",
       "EEM      0.474556  0.034380\n",
       "QAI      0.581490 -1.250228\n",
       "IEF      0.587473  0.875628\n",
       "EFA      0.615174 -0.079576\n",
       "PSP      0.797721 -0.000346\n",
       "TIP      0.824835  0.096787\n",
       "IYR      0.912408 -0.185055\n",
       "HYG      0.944231  0.391459\n",
       "SPY      1.184963  0.777609"
      ]
     },
     "execution_count": 24,
     "metadata": {},
     "output_type": "execute_result"
    }
   ],
   "source": [
    "# Table comparing the Sharpe Ratios to weight allocated according to the weight adjusted portfolio, \n",
    "# sorted in ascending order by Sharpe Ratio.\n",
    "\n",
    "pd.DataFrame({'Sharpe Ratio':summ['Sharpe Ratio'], 'Weight':mv_weights}).sort_values(by='Sharpe Ratio', ascending = True)"
   ]
  },
  {
   "cell_type": "markdown",
   "metadata": {},
   "source": [
    "## Part 5"
   ]
  },
  {
   "cell_type": "markdown",
   "metadata": {},
   "source": [
    "### 5a."
   ]
  },
  {
   "cell_type": "code",
   "execution_count": 25,
   "metadata": {},
   "outputs": [
    {
     "data": {
      "text/plain": [
       "array([0.09090909, 0.09090909, 0.09090909, 0.09090909, 0.09090909,\n",
       "       0.09090909, 0.09090909, 0.09090909, 0.09090909, 0.09090909,\n",
       "       0.09090909])"
      ]
     },
     "execution_count": 25,
     "metadata": {},
     "output_type": "execute_result"
    }
   ],
   "source": [
    "# Creating array of weights\n",
    "\n",
    "equally_weighted = np.array([1/11]*11)\n",
    "\n",
    "equally_weighted"
   ]
  },
  {
   "cell_type": "code",
   "execution_count": 26,
   "metadata": {},
   "outputs": [
    {
     "name": "stdout",
     "output_type": "stream",
     "text": [
      "Return:  0.0820299518246152 , Volatility:  0.0981325212646509 , Sharpe Ratio:  0.8359099589767074\n"
     ]
    }
   ],
   "source": [
    "# Performance of the equally weighted portfolio, using weights of 1/11.\n",
    "\n",
    "print_portfolio_info(data, equally_weighted)"
   ]
  },
  {
   "cell_type": "code",
   "execution_count": 27,
   "metadata": {},
   "outputs": [
    {
     "data": {
      "text/plain": [
       "1.462880293488005"
      ]
     },
     "execution_count": 27,
     "metadata": {},
     "output_type": "execute_result"
    }
   ],
   "source": [
    "# Scaling factor required to achieve 1% monthly returns (12% annualized) using the equally weighted portfolio\n",
    "\n",
    "delta_tilde = 0.12 / portfolio_info(data, equally_weighted)[0]\n",
    "\n",
    "delta_tilde"
   ]
  },
  {
   "cell_type": "code",
   "execution_count": 28,
   "metadata": {},
   "outputs": [],
   "source": [
    "# Creating weights for portfolio with target mean monthly return of 0.01 (0.12 annualized)\n",
    "\n",
    "equally_weighted_adj = delta_tilde * equally_weighted"
   ]
  },
  {
   "cell_type": "code",
   "execution_count": 29,
   "metadata": {},
   "outputs": [
    {
     "data": {
      "text/plain": [
       "1.4628802934880047"
      ]
     },
     "execution_count": 29,
     "metadata": {},
     "output_type": "execute_result"
    }
   ],
   "source": [
    "# Portion of portfolio being allocated under equally_weighted_adj\n",
    "\n",
    "equally_weighted_adj.sum()"
   ]
  },
  {
   "cell_type": "code",
   "execution_count": 30,
   "metadata": {},
   "outputs": [
    {
     "name": "stdout",
     "output_type": "stream",
     "text": [
      "Return:  0.11999999999999998 , Volatility:  0.1435561315083504 , Sharpe Ratio:  0.8359099589767074\n"
     ]
    }
   ],
   "source": [
    "# Performance of the scaled equally weighted portfolio\n",
    "\n",
    "print_portfolio_info(data, equally_weighted_adj)"
   ]
  },
  {
   "cell_type": "markdown",
   "metadata": {},
   "source": [
    "### 5b."
   ]
  },
  {
   "cell_type": "code",
   "execution_count": 31,
   "metadata": {},
   "outputs": [
    {
     "data": {
      "text/html": [
       "<div>\n",
       "<style scoped>\n",
       "    .dataframe tbody tr th:only-of-type {\n",
       "        vertical-align: middle;\n",
       "    }\n",
       "\n",
       "    .dataframe tbody tr th {\n",
       "        vertical-align: top;\n",
       "    }\n",
       "\n",
       "    .dataframe thead th {\n",
       "        text-align: right;\n",
       "    }\n",
       "</style>\n",
       "<table border=\"1\" class=\"dataframe\">\n",
       "  <thead>\n",
       "    <tr style=\"text-align: right;\">\n",
       "      <th></th>\n",
       "      <th>Avg Return</th>\n",
       "      <th>Avg Volatility</th>\n",
       "      <th>Sharpe Ratio</th>\n",
       "    </tr>\n",
       "  </thead>\n",
       "  <tbody>\n",
       "    <tr>\n",
       "      <th>BWX</th>\n",
       "      <td>0.020819</td>\n",
       "      <td>0.074304</td>\n",
       "      <td>0.280189</td>\n",
       "    </tr>\n",
       "    <tr>\n",
       "      <th>DBC</th>\n",
       "      <td>0.010053</td>\n",
       "      <td>0.177327</td>\n",
       "      <td>0.056689</td>\n",
       "    </tr>\n",
       "    <tr>\n",
       "      <th>EEM</th>\n",
       "      <td>0.093103</td>\n",
       "      <td>0.196190</td>\n",
       "      <td>0.474556</td>\n",
       "    </tr>\n",
       "    <tr>\n",
       "      <th>EFA</th>\n",
       "      <td>0.099239</td>\n",
       "      <td>0.161319</td>\n",
       "      <td>0.615174</td>\n",
       "    </tr>\n",
       "    <tr>\n",
       "      <th>HYG</th>\n",
       "      <td>0.081193</td>\n",
       "      <td>0.085989</td>\n",
       "      <td>0.944231</td>\n",
       "    </tr>\n",
       "    <tr>\n",
       "      <th>IEF</th>\n",
       "      <td>0.033424</td>\n",
       "      <td>0.056895</td>\n",
       "      <td>0.587473</td>\n",
       "    </tr>\n",
       "    <tr>\n",
       "      <th>IYR</th>\n",
       "      <td>0.164311</td>\n",
       "      <td>0.180085</td>\n",
       "      <td>0.912408</td>\n",
       "    </tr>\n",
       "    <tr>\n",
       "      <th>PSP</th>\n",
       "      <td>0.170243</td>\n",
       "      <td>0.213412</td>\n",
       "      <td>0.797721</td>\n",
       "    </tr>\n",
       "    <tr>\n",
       "      <th>QAI</th>\n",
       "      <td>0.027795</td>\n",
       "      <td>0.047800</td>\n",
       "      <td>0.581490</td>\n",
       "    </tr>\n",
       "    <tr>\n",
       "      <th>SPY</th>\n",
       "      <td>0.164907</td>\n",
       "      <td>0.139166</td>\n",
       "      <td>1.184963</td>\n",
       "    </tr>\n",
       "    <tr>\n",
       "      <th>TIP</th>\n",
       "      <td>0.037242</td>\n",
       "      <td>0.045151</td>\n",
       "      <td>0.824835</td>\n",
       "    </tr>\n",
       "  </tbody>\n",
       "</table>\n",
       "</div>"
      ],
      "text/plain": [
       "     Avg Return  Avg Volatility  Sharpe Ratio\n",
       "BWX    0.020819        0.074304      0.280189\n",
       "DBC    0.010053        0.177327      0.056689\n",
       "EEM    0.093103        0.196190      0.474556\n",
       "EFA    0.099239        0.161319      0.615174\n",
       "HYG    0.081193        0.085989      0.944231\n",
       "IEF    0.033424        0.056895      0.587473\n",
       "IYR    0.164311        0.180085      0.912408\n",
       "PSP    0.170243        0.213412      0.797721\n",
       "QAI    0.027795        0.047800      0.581490\n",
       "SPY    0.164907        0.139166      1.184963\n",
       "TIP    0.037242        0.045151      0.824835"
      ]
     },
     "execution_count": 31,
     "metadata": {},
     "output_type": "execute_result"
    }
   ],
   "source": [
    "summ"
   ]
  },
  {
   "cell_type": "code",
   "execution_count": 32,
   "metadata": {},
   "outputs": [
    {
     "data": {
      "text/html": [
       "<div>\n",
       "<style scoped>\n",
       "    .dataframe tbody tr th:only-of-type {\n",
       "        vertical-align: middle;\n",
       "    }\n",
       "\n",
       "    .dataframe tbody tr th {\n",
       "        vertical-align: top;\n",
       "    }\n",
       "\n",
       "    .dataframe thead th {\n",
       "        text-align: right;\n",
       "    }\n",
       "</style>\n",
       "<table border=\"1\" class=\"dataframe\">\n",
       "  <thead>\n",
       "    <tr style=\"text-align: right;\">\n",
       "      <th></th>\n",
       "      <th>Weight</th>\n",
       "    </tr>\n",
       "  </thead>\n",
       "  <tbody>\n",
       "    <tr>\n",
       "      <th>BWX</th>\n",
       "      <td>13.458273</td>\n",
       "    </tr>\n",
       "    <tr>\n",
       "      <th>DBC</th>\n",
       "      <td>5.639304</td>\n",
       "    </tr>\n",
       "    <tr>\n",
       "      <th>EEM</th>\n",
       "      <td>5.097089</td>\n",
       "    </tr>\n",
       "    <tr>\n",
       "      <th>EFA</th>\n",
       "      <td>6.198894</td>\n",
       "    </tr>\n",
       "    <tr>\n",
       "      <th>HYG</th>\n",
       "      <td>11.629453</td>\n",
       "    </tr>\n",
       "    <tr>\n",
       "      <th>IEF</th>\n",
       "      <td>17.576387</td>\n",
       "    </tr>\n",
       "    <tr>\n",
       "      <th>IYR</th>\n",
       "      <td>5.552929</td>\n",
       "    </tr>\n",
       "    <tr>\n",
       "      <th>PSP</th>\n",
       "      <td>4.685769</td>\n",
       "    </tr>\n",
       "    <tr>\n",
       "      <th>QAI</th>\n",
       "      <td>20.920679</td>\n",
       "    </tr>\n",
       "    <tr>\n",
       "      <th>SPY</th>\n",
       "      <td>7.185656</td>\n",
       "    </tr>\n",
       "    <tr>\n",
       "      <th>TIP</th>\n",
       "      <td>22.147948</td>\n",
       "    </tr>\n",
       "  </tbody>\n",
       "</table>\n",
       "</div>"
      ],
      "text/plain": [
       "        Weight\n",
       "BWX  13.458273\n",
       "DBC   5.639304\n",
       "EEM   5.097089\n",
       "EFA   6.198894\n",
       "HYG  11.629453\n",
       "IEF  17.576387\n",
       "IYR   5.552929\n",
       "PSP   4.685769\n",
       "QAI  20.920679\n",
       "SPY   7.185656\n",
       "TIP  22.147948"
      ]
     },
     "execution_count": 32,
     "metadata": {},
     "output_type": "execute_result"
    }
   ],
   "source": [
    "# Calculating 1 / the volatility of each security\n",
    "\n",
    "risk_parity_initial = 1/summ['Avg Volatility']\n",
    "\n",
    "pd.DataFrame({'Weight':risk_parity_initial})"
   ]
  },
  {
   "cell_type": "code",
   "execution_count": 33,
   "metadata": {},
   "outputs": [
    {
     "data": {
      "text/plain": [
       "120.09238172868065"
      ]
     },
     "execution_count": 33,
     "metadata": {},
     "output_type": "execute_result"
    }
   ],
   "source": [
    "parity_sum = risk_parity_initial.sum()\n",
    "\n",
    "parity_sum"
   ]
  },
  {
   "cell_type": "code",
   "execution_count": 34,
   "metadata": {},
   "outputs": [
    {
     "data": {
      "text/plain": [
       "0.016529543627949735"
      ]
     },
     "execution_count": 34,
     "metadata": {},
     "output_type": "execute_result"
    }
   ],
   "source": [
    "# Scaling factor to achieve 1% monthly returns (12% annualized) using the risk parity portfolio\n",
    "\n",
    "risk_parity_scaling = 0.12 / portfolio_info(data, risk_parity_initial)[0]\n",
    "\n",
    "risk_parity_scaling"
   ]
  },
  {
   "cell_type": "code",
   "execution_count": 35,
   "metadata": {},
   "outputs": [
    {
     "data": {
      "text/html": [
       "<div>\n",
       "<style scoped>\n",
       "    .dataframe tbody tr th:only-of-type {\n",
       "        vertical-align: middle;\n",
       "    }\n",
       "\n",
       "    .dataframe tbody tr th {\n",
       "        vertical-align: top;\n",
       "    }\n",
       "\n",
       "    .dataframe thead th {\n",
       "        text-align: right;\n",
       "    }\n",
       "</style>\n",
       "<table border=\"1\" class=\"dataframe\">\n",
       "  <thead>\n",
       "    <tr style=\"text-align: right;\">\n",
       "      <th></th>\n",
       "      <th>Weight</th>\n",
       "    </tr>\n",
       "  </thead>\n",
       "  <tbody>\n",
       "    <tr>\n",
       "      <th>BWX</th>\n",
       "      <td>0.222459</td>\n",
       "    </tr>\n",
       "    <tr>\n",
       "      <th>DBC</th>\n",
       "      <td>0.093215</td>\n",
       "    </tr>\n",
       "    <tr>\n",
       "      <th>EEM</th>\n",
       "      <td>0.084253</td>\n",
       "    </tr>\n",
       "    <tr>\n",
       "      <th>EFA</th>\n",
       "      <td>0.102465</td>\n",
       "    </tr>\n",
       "    <tr>\n",
       "      <th>HYG</th>\n",
       "      <td>0.192230</td>\n",
       "    </tr>\n",
       "    <tr>\n",
       "      <th>IEF</th>\n",
       "      <td>0.290530</td>\n",
       "    </tr>\n",
       "    <tr>\n",
       "      <th>IYR</th>\n",
       "      <td>0.091787</td>\n",
       "    </tr>\n",
       "    <tr>\n",
       "      <th>PSP</th>\n",
       "      <td>0.077454</td>\n",
       "    </tr>\n",
       "    <tr>\n",
       "      <th>QAI</th>\n",
       "      <td>0.345809</td>\n",
       "    </tr>\n",
       "    <tr>\n",
       "      <th>SPY</th>\n",
       "      <td>0.118776</td>\n",
       "    </tr>\n",
       "    <tr>\n",
       "      <th>TIP</th>\n",
       "      <td>0.366095</td>\n",
       "    </tr>\n",
       "  </tbody>\n",
       "</table>\n",
       "</div>"
      ],
      "text/plain": [
       "       Weight\n",
       "BWX  0.222459\n",
       "DBC  0.093215\n",
       "EEM  0.084253\n",
       "EFA  0.102465\n",
       "HYG  0.192230\n",
       "IEF  0.290530\n",
       "IYR  0.091787\n",
       "PSP  0.077454\n",
       "QAI  0.345809\n",
       "SPY  0.118776\n",
       "TIP  0.366095"
      ]
     },
     "execution_count": 35,
     "metadata": {},
     "output_type": "execute_result"
    }
   ],
   "source": [
    "# Calculating the weight allocation vector to achieve 12% annualized returns\n",
    "\n",
    "risk_parity_weight = risk_parity_scaling * risk_parity_initial\n",
    "\n",
    "pd.DataFrame({'Weight':risk_parity_weight})"
   ]
  },
  {
   "cell_type": "code",
   "execution_count": 36,
   "metadata": {},
   "outputs": [
    {
     "data": {
      "text/plain": [
       "1.9850722631686204"
      ]
     },
     "execution_count": 36,
     "metadata": {},
     "output_type": "execute_result"
    }
   ],
   "source": [
    "# Checking how much of the portfolio allocation we're using\n",
    "\n",
    "risk_parity_weight.sum()"
   ]
  },
  {
   "cell_type": "code",
   "execution_count": 37,
   "metadata": {},
   "outputs": [
    {
     "name": "stdout",
     "output_type": "stream",
     "text": [
      "Return:  0.12000000000000002 , Volatility:  0.12835250527091432 , Sharpe Ratio:  0.9349252649702113\n"
     ]
    }
   ],
   "source": [
    "# Performance of the scaled risk parity portfolio\n",
    "\n",
    "print_portfolio_info(data, risk_parity_weight)"
   ]
  },
  {
   "cell_type": "markdown",
   "metadata": {},
   "source": [
    "### 5c."
   ]
  },
  {
   "cell_type": "code",
   "execution_count": 38,
   "metadata": {},
   "outputs": [
    {
     "data": {
      "text/html": [
       "<div>\n",
       "<style scoped>\n",
       "    .dataframe tbody tr th:only-of-type {\n",
       "        vertical-align: middle;\n",
       "    }\n",
       "\n",
       "    .dataframe tbody tr th {\n",
       "        vertical-align: top;\n",
       "    }\n",
       "\n",
       "    .dataframe thead th {\n",
       "        text-align: right;\n",
       "    }\n",
       "</style>\n",
       "<table border=\"1\" class=\"dataframe\">\n",
       "  <thead>\n",
       "    <tr style=\"text-align: right;\">\n",
       "      <th></th>\n",
       "      <th>MV Weights</th>\n",
       "      <th>Risk Parity</th>\n",
       "      <th>Volatility</th>\n",
       "      <th>Sharpe</th>\n",
       "    </tr>\n",
       "  </thead>\n",
       "  <tbody>\n",
       "    <tr>\n",
       "      <th>BWX</th>\n",
       "      <td>-0.130835</td>\n",
       "      <td>0.222459</td>\n",
       "      <td>0.074304</td>\n",
       "      <td>0.280189</td>\n",
       "    </tr>\n",
       "    <tr>\n",
       "      <th>DBC</th>\n",
       "      <td>-0.025127</td>\n",
       "      <td>0.093215</td>\n",
       "      <td>0.177327</td>\n",
       "      <td>0.056689</td>\n",
       "    </tr>\n",
       "    <tr>\n",
       "      <th>EEM</th>\n",
       "      <td>0.034380</td>\n",
       "      <td>0.084253</td>\n",
       "      <td>0.196190</td>\n",
       "      <td>0.474556</td>\n",
       "    </tr>\n",
       "    <tr>\n",
       "      <th>EFA</th>\n",
       "      <td>-0.079576</td>\n",
       "      <td>0.102465</td>\n",
       "      <td>0.161319</td>\n",
       "      <td>0.615174</td>\n",
       "    </tr>\n",
       "    <tr>\n",
       "      <th>HYG</th>\n",
       "      <td>0.391459</td>\n",
       "      <td>0.192230</td>\n",
       "      <td>0.085989</td>\n",
       "      <td>0.944231</td>\n",
       "    </tr>\n",
       "    <tr>\n",
       "      <th>IEF</th>\n",
       "      <td>0.875628</td>\n",
       "      <td>0.290530</td>\n",
       "      <td>0.056895</td>\n",
       "      <td>0.587473</td>\n",
       "    </tr>\n",
       "    <tr>\n",
       "      <th>IYR</th>\n",
       "      <td>-0.185055</td>\n",
       "      <td>0.091787</td>\n",
       "      <td>0.180085</td>\n",
       "      <td>0.912408</td>\n",
       "    </tr>\n",
       "    <tr>\n",
       "      <th>PSP</th>\n",
       "      <td>-0.000346</td>\n",
       "      <td>0.077454</td>\n",
       "      <td>0.213412</td>\n",
       "      <td>0.797721</td>\n",
       "    </tr>\n",
       "    <tr>\n",
       "      <th>QAI</th>\n",
       "      <td>-1.250228</td>\n",
       "      <td>0.345809</td>\n",
       "      <td>0.047800</td>\n",
       "      <td>0.581490</td>\n",
       "    </tr>\n",
       "    <tr>\n",
       "      <th>SPY</th>\n",
       "      <td>0.777609</td>\n",
       "      <td>0.118776</td>\n",
       "      <td>0.139166</td>\n",
       "      <td>1.184963</td>\n",
       "    </tr>\n",
       "    <tr>\n",
       "      <th>TIP</th>\n",
       "      <td>0.096787</td>\n",
       "      <td>0.366095</td>\n",
       "      <td>0.045151</td>\n",
       "      <td>0.824835</td>\n",
       "    </tr>\n",
       "  </tbody>\n",
       "</table>\n",
       "</div>"
      ],
      "text/plain": [
       "     MV Weights  Risk Parity  Volatility    Sharpe\n",
       "BWX   -0.130835     0.222459    0.074304  0.280189\n",
       "DBC   -0.025127     0.093215    0.177327  0.056689\n",
       "EEM    0.034380     0.084253    0.196190  0.474556\n",
       "EFA   -0.079576     0.102465    0.161319  0.615174\n",
       "HYG    0.391459     0.192230    0.085989  0.944231\n",
       "IEF    0.875628     0.290530    0.056895  0.587473\n",
       "IYR   -0.185055     0.091787    0.180085  0.912408\n",
       "PSP   -0.000346     0.077454    0.213412  0.797721\n",
       "QAI   -1.250228     0.345809    0.047800  0.581490\n",
       "SPY    0.777609     0.118776    0.139166  1.184963\n",
       "TIP    0.096787     0.366095    0.045151  0.824835"
      ]
     },
     "execution_count": 38,
     "metadata": {},
     "output_type": "execute_result"
    }
   ],
   "source": [
    "pd.DataFrame({'MV Weights':mv_weights, 'Risk Parity':risk_parity_weight, 'Volatility':summ['Avg Volatility'], 'Sharpe':summ['Sharpe Ratio']})"
   ]
  },
  {
   "cell_type": "code",
   "execution_count": 39,
   "metadata": {},
   "outputs": [
    {
     "name": "stdout",
     "output_type": "stream",
     "text": [
      "Return:  0.11999999999999997 , Volatility:  0.05289307925357335 , Sharpe Ratio:  2.2687278126635633\n",
      "Return:  0.12000000000000002 , Volatility:  0.12835250527091432 , Sharpe Ratio:  0.9349252649702113\n"
     ]
    }
   ],
   "source": [
    "print_portfolio_info(data, mv_weights)\n",
    "\n",
    "print_portfolio_info(data, risk_parity_weight)"
   ]
  },
  {
   "cell_type": "code",
   "execution_count": 40,
   "metadata": {},
   "outputs": [
    {
     "data": {
      "text/plain": [
       "1.9850722631686204"
      ]
     },
     "execution_count": 40,
     "metadata": {},
     "output_type": "execute_result"
    }
   ],
   "source": [
    "risk_parity_weight.sum()"
   ]
  },
  {
   "cell_type": "markdown",
   "metadata": {},
   "source": [
    "The MV portfolio attempts to take advantage of the Sharpe Ratios of each security, as well as the correlations between assets. The MV portfolio also enables short positions, which the risk parity portfolio cannot take. The risk parity portfolio is also hindered by the fact that it only is determined by the volatility of each security. As such, we get a more efficient portfolio through the MV portfolio.\n",
    "\n",
    "The efficiency of the MV portfolio is also seen through the volatility and Sharpe Ratio of the portfolio as a whole, relative to the risk parity portfolio. Both portfolios achieve mean returns of 12% annualized, but the MV portfolio has volatility of 5.3% (translating to a 2.27x Sharpe Ratio), whereas the risk parity portfolio has volatility of 12.8% (translating to a 0.93x Sharpe Ratio). In addition, the MV portfolio only requires c. 50% of the portfolio's total allocation to achieve mean returns, whereas the risk parity portfolio would require HMC to borrow 100% of their portfolio's amount."
   ]
  },
  {
   "cell_type": "markdown",
   "metadata": {},
   "source": [
    "## Part 6"
   ]
  },
  {
   "cell_type": "markdown",
   "metadata": {},
   "source": [
    "### 6a."
   ]
  },
  {
   "cell_type": "code",
   "execution_count": 41,
   "metadata": {},
   "outputs": [],
   "source": [
    "data_2020 = data[:'2020-12-31']"
   ]
  },
  {
   "cell_type": "code",
   "execution_count": 42,
   "metadata": {},
   "outputs": [
    {
     "data": {
      "text/html": [
       "<div>\n",
       "<style scoped>\n",
       "    .dataframe tbody tr th:only-of-type {\n",
       "        vertical-align: middle;\n",
       "    }\n",
       "\n",
       "    .dataframe tbody tr th {\n",
       "        vertical-align: top;\n",
       "    }\n",
       "\n",
       "    .dataframe thead th {\n",
       "        text-align: right;\n",
       "    }\n",
       "</style>\n",
       "<table border=\"1\" class=\"dataframe\">\n",
       "  <thead>\n",
       "    <tr style=\"text-align: right;\">\n",
       "      <th></th>\n",
       "      <th>Avg Return</th>\n",
       "      <th>Avg Volatility</th>\n",
       "      <th>Sharpe Ratio</th>\n",
       "    </tr>\n",
       "  </thead>\n",
       "  <tbody>\n",
       "    <tr>\n",
       "      <th>BWX</th>\n",
       "      <td>0.026264</td>\n",
       "      <td>0.074810</td>\n",
       "      <td>0.351078</td>\n",
       "    </tr>\n",
       "    <tr>\n",
       "      <th>DBC</th>\n",
       "      <td>-0.013293</td>\n",
       "      <td>0.177400</td>\n",
       "      <td>-0.074935</td>\n",
       "    </tr>\n",
       "    <tr>\n",
       "      <th>EEM</th>\n",
       "      <td>0.097666</td>\n",
       "      <td>0.200406</td>\n",
       "      <td>0.487339</td>\n",
       "    </tr>\n",
       "    <tr>\n",
       "      <th>EFA</th>\n",
       "      <td>0.094954</td>\n",
       "      <td>0.165263</td>\n",
       "      <td>0.574562</td>\n",
       "    </tr>\n",
       "    <tr>\n",
       "      <th>HYG</th>\n",
       "      <td>0.082958</td>\n",
       "      <td>0.088244</td>\n",
       "      <td>0.940101</td>\n",
       "    </tr>\n",
       "    <tr>\n",
       "      <th>IEF</th>\n",
       "      <td>0.036644</td>\n",
       "      <td>0.056994</td>\n",
       "      <td>0.642946</td>\n",
       "    </tr>\n",
       "    <tr>\n",
       "      <th>IYR</th>\n",
       "      <td>0.152249</td>\n",
       "      <td>0.183305</td>\n",
       "      <td>0.830578</td>\n",
       "    </tr>\n",
       "    <tr>\n",
       "      <th>PSP</th>\n",
       "      <td>0.159878</td>\n",
       "      <td>0.218017</td>\n",
       "      <td>0.733331</td>\n",
       "    </tr>\n",
       "    <tr>\n",
       "      <th>QAI</th>\n",
       "      <td>0.028576</td>\n",
       "      <td>0.049016</td>\n",
       "      <td>0.583006</td>\n",
       "    </tr>\n",
       "    <tr>\n",
       "      <th>SPY</th>\n",
       "      <td>0.157143</td>\n",
       "      <td>0.141906</td>\n",
       "      <td>1.107370</td>\n",
       "    </tr>\n",
       "    <tr>\n",
       "      <th>TIP</th>\n",
       "      <td>0.035650</td>\n",
       "      <td>0.045310</td>\n",
       "      <td>0.786793</td>\n",
       "    </tr>\n",
       "  </tbody>\n",
       "</table>\n",
       "</div>"
      ],
      "text/plain": [
       "     Avg Return  Avg Volatility  Sharpe Ratio\n",
       "BWX    0.026264        0.074810      0.351078\n",
       "DBC   -0.013293        0.177400     -0.074935\n",
       "EEM    0.097666        0.200406      0.487339\n",
       "EFA    0.094954        0.165263      0.574562\n",
       "HYG    0.082958        0.088244      0.940101\n",
       "IEF    0.036644        0.056994      0.642946\n",
       "IYR    0.152249        0.183305      0.830578\n",
       "PSP    0.159878        0.218017      0.733331\n",
       "QAI    0.028576        0.049016      0.583006\n",
       "SPY    0.157143        0.141906      1.107370\n",
       "TIP    0.035650        0.045310      0.786793"
      ]
     },
     "execution_count": 42,
     "metadata": {},
     "output_type": "execute_result"
    }
   ],
   "source": [
    "summ_2020 = summary_stats(data_2020)\n",
    "\n",
    "summ_2020"
   ]
  },
  {
   "cell_type": "code",
   "execution_count": 43,
   "metadata": {},
   "outputs": [
    {
     "data": {
      "text/html": [
       "<div>\n",
       "<style scoped>\n",
       "    .dataframe tbody tr th:only-of-type {\n",
       "        vertical-align: middle;\n",
       "    }\n",
       "\n",
       "    .dataframe tbody tr th {\n",
       "        vertical-align: top;\n",
       "    }\n",
       "\n",
       "    .dataframe thead th {\n",
       "        text-align: right;\n",
       "    }\n",
       "</style>\n",
       "<table border=\"1\" class=\"dataframe\">\n",
       "  <thead>\n",
       "    <tr style=\"text-align: right;\">\n",
       "      <th></th>\n",
       "      <th>Stocks</th>\n",
       "      <th>Weights</th>\n",
       "    </tr>\n",
       "  </thead>\n",
       "  <tbody>\n",
       "    <tr>\n",
       "      <th>0</th>\n",
       "      <td>BWX</td>\n",
       "      <td>-0.039015</td>\n",
       "    </tr>\n",
       "    <tr>\n",
       "      <th>1</th>\n",
       "      <td>DBC</td>\n",
       "      <td>-0.070831</td>\n",
       "    </tr>\n",
       "    <tr>\n",
       "      <th>2</th>\n",
       "      <td>EEM</td>\n",
       "      <td>0.027148</td>\n",
       "    </tr>\n",
       "    <tr>\n",
       "      <th>3</th>\n",
       "      <td>EFA</td>\n",
       "      <td>-0.076195</td>\n",
       "    </tr>\n",
       "    <tr>\n",
       "      <th>4</th>\n",
       "      <td>HYG</td>\n",
       "      <td>0.461413</td>\n",
       "    </tr>\n",
       "    <tr>\n",
       "      <th>5</th>\n",
       "      <td>IEF</td>\n",
       "      <td>0.844823</td>\n",
       "    </tr>\n",
       "    <tr>\n",
       "      <th>6</th>\n",
       "      <td>IYR</td>\n",
       "      <td>-0.209008</td>\n",
       "    </tr>\n",
       "    <tr>\n",
       "      <th>7</th>\n",
       "      <td>PSP</td>\n",
       "      <td>-0.024835</td>\n",
       "    </tr>\n",
       "    <tr>\n",
       "      <th>8</th>\n",
       "      <td>QAI</td>\n",
       "      <td>-1.197772</td>\n",
       "    </tr>\n",
       "    <tr>\n",
       "      <th>9</th>\n",
       "      <td>SPY</td>\n",
       "      <td>0.785429</td>\n",
       "    </tr>\n",
       "    <tr>\n",
       "      <th>10</th>\n",
       "      <td>TIP</td>\n",
       "      <td>0.056842</td>\n",
       "    </tr>\n",
       "  </tbody>\n",
       "</table>\n",
       "</div>"
      ],
      "text/plain": [
       "   Stocks   Weights\n",
       "0     BWX -0.039015\n",
       "1     DBC -0.070831\n",
       "2     EEM  0.027148\n",
       "3     EFA -0.076195\n",
       "4     HYG  0.461413\n",
       "5     IEF  0.844823\n",
       "6     IYR -0.209008\n",
       "7     PSP -0.024835\n",
       "8     QAI -1.197772\n",
       "9     SPY  0.785429\n",
       "10    TIP  0.056842"
      ]
     },
     "execution_count": 43,
     "metadata": {},
     "output_type": "execute_result"
    }
   ],
   "source": [
    "mv_weights_2020 = compute_mv_portfolio(data_2020, 0.12)\n",
    "\n",
    "pd.DataFrame({'Stocks':summ_2020.index, 'Weights': mv_weights_2020})"
   ]
  },
  {
   "cell_type": "markdown",
   "metadata": {},
   "source": [
    "### 6b."
   ]
  },
  {
   "cell_type": "code",
   "execution_count": 44,
   "metadata": {},
   "outputs": [
    {
     "name": "stdout",
     "output_type": "stream",
     "text": [
      "Return:  0.11999999999999995 , Volatility:  0.0524051149792124 , Sharpe Ratio:  2.2898528139400227\n"
     ]
    }
   ],
   "source": [
    "print_portfolio_info(data_2020, mv_weights_2020)"
   ]
  },
  {
   "cell_type": "markdown",
   "metadata": {},
   "source": [
    "### 6c."
   ]
  },
  {
   "cell_type": "code",
   "execution_count": 45,
   "metadata": {},
   "outputs": [],
   "source": [
    "data_2021 = data['2021':]"
   ]
  },
  {
   "cell_type": "code",
   "execution_count": 46,
   "metadata": {},
   "outputs": [],
   "source": [
    "summ_2021 = summary_stats(data_2021)"
   ]
  },
  {
   "cell_type": "code",
   "execution_count": 47,
   "metadata": {},
   "outputs": [
    {
     "data": {
      "text/html": [
       "<div>\n",
       "<style scoped>\n",
       "    .dataframe tbody tr th:only-of-type {\n",
       "        vertical-align: middle;\n",
       "    }\n",
       "\n",
       "    .dataframe tbody tr th {\n",
       "        vertical-align: top;\n",
       "    }\n",
       "\n",
       "    .dataframe thead th {\n",
       "        text-align: right;\n",
       "    }\n",
       "</style>\n",
       "<table border=\"1\" class=\"dataframe\">\n",
       "  <thead>\n",
       "    <tr style=\"text-align: right;\">\n",
       "      <th></th>\n",
       "      <th>Avg Return</th>\n",
       "      <th>Avg Volatility</th>\n",
       "      <th>Sharpe Ratio</th>\n",
       "    </tr>\n",
       "  </thead>\n",
       "  <tbody>\n",
       "    <tr>\n",
       "      <th>BWX</th>\n",
       "      <td>-0.075151</td>\n",
       "      <td>0.062231</td>\n",
       "      <td>-1.207609</td>\n",
       "    </tr>\n",
       "    <tr>\n",
       "      <th>DBC</th>\n",
       "      <td>0.421525</td>\n",
       "      <td>0.135573</td>\n",
       "      <td>3.109202</td>\n",
       "    </tr>\n",
       "    <tr>\n",
       "      <th>EEM</th>\n",
       "      <td>0.012691</td>\n",
       "      <td>0.099501</td>\n",
       "      <td>0.127551</td>\n",
       "    </tr>\n",
       "    <tr>\n",
       "      <th>EFA</th>\n",
       "      <td>0.174767</td>\n",
       "      <td>0.058345</td>\n",
       "      <td>2.995415</td>\n",
       "    </tr>\n",
       "    <tr>\n",
       "      <th>HYG</th>\n",
       "      <td>0.050089</td>\n",
       "      <td>0.022254</td>\n",
       "      <td>2.250824</td>\n",
       "    </tr>\n",
       "    <tr>\n",
       "      <th>IEF</th>\n",
       "      <td>-0.023330</td>\n",
       "      <td>0.056113</td>\n",
       "      <td>-0.415769</td>\n",
       "    </tr>\n",
       "    <tr>\n",
       "      <th>IYR</th>\n",
       "      <td>0.376899</td>\n",
       "      <td>0.095458</td>\n",
       "      <td>3.948319</td>\n",
       "    </tr>\n",
       "    <tr>\n",
       "      <th>PSP</th>\n",
       "      <td>0.352927</td>\n",
       "      <td>0.094666</td>\n",
       "      <td>3.728117</td>\n",
       "    </tr>\n",
       "    <tr>\n",
       "      <th>QAI</th>\n",
       "      <td>0.014022</td>\n",
       "      <td>0.015413</td>\n",
       "      <td>0.909770</td>\n",
       "    </tr>\n",
       "    <tr>\n",
       "      <th>SPY</th>\n",
       "      <td>0.301742</td>\n",
       "      <td>0.069606</td>\n",
       "      <td>4.335005</td>\n",
       "    </tr>\n",
       "    <tr>\n",
       "      <th>TIP</th>\n",
       "      <td>0.065303</td>\n",
       "      <td>0.044293</td>\n",
       "      <td>1.474323</td>\n",
       "    </tr>\n",
       "  </tbody>\n",
       "</table>\n",
       "</div>"
      ],
      "text/plain": [
       "     Avg Return  Avg Volatility  Sharpe Ratio\n",
       "BWX   -0.075151        0.062231     -1.207609\n",
       "DBC    0.421525        0.135573      3.109202\n",
       "EEM    0.012691        0.099501      0.127551\n",
       "EFA    0.174767        0.058345      2.995415\n",
       "HYG    0.050089        0.022254      2.250824\n",
       "IEF   -0.023330        0.056113     -0.415769\n",
       "IYR    0.376899        0.095458      3.948319\n",
       "PSP    0.352927        0.094666      3.728117\n",
       "QAI    0.014022        0.015413      0.909770\n",
       "SPY    0.301742        0.069606      4.335005\n",
       "TIP    0.065303        0.044293      1.474323"
      ]
     },
     "execution_count": 47,
     "metadata": {},
     "output_type": "execute_result"
    }
   ],
   "source": [
    "summ_2021"
   ]
  },
  {
   "cell_type": "code",
   "execution_count": 48,
   "metadata": {},
   "outputs": [
    {
     "name": "stdout",
     "output_type": "stream",
     "text": [
      "Return:  0.09987864015561183 , Volatility:  0.06615860010125084 , Sharpe Ratio:  1.5096849087307618\n"
     ]
    }
   ],
   "source": [
    "print_portfolio_info(data_2021, mv_weights_2020)"
   ]
  },
  {
   "cell_type": "code",
   "execution_count": 49,
   "metadata": {},
   "outputs": [
    {
     "name": "stdout",
     "output_type": "stream",
     "text": [
      "Return:  0.23776716339549853 , Volatility:  0.10480197847812861 , Sharpe Ratio:  2.268727812663563\n"
     ]
    }
   ],
   "source": [
    "print_portfolio_info(data, w_tangent)"
   ]
  },
  {
   "cell_type": "code",
   "execution_count": null,
   "metadata": {},
   "outputs": [],
   "source": []
  }
 ],
 "metadata": {
  "kernelspec": {
   "display_name": "Python 3 (ipykernel)",
   "language": "python",
   "name": "python3"
  },
  "language_info": {
   "codemirror_mode": {
    "name": "ipython",
    "version": 3
   },
   "file_extension": ".py",
   "mimetype": "text/x-python",
   "name": "python",
   "nbconvert_exporter": "python",
   "pygments_lexer": "ipython3",
   "version": "3.9.7"
  }
 },
 "nbformat": 4,
 "nbformat_minor": 4
}
