{
 "cells": [
  {
   "cell_type": "code",
   "execution_count": 1,
   "id": "18304869",
   "metadata": {},
   "outputs": [],
   "source": [
    "# import everything\n",
    "import pandas as pd\n",
    "import numpy as np\n",
    "import seaborn as sns\n",
    "import statsmodels.api as sm\n",
    "import matplotlib.pyplot as plt\n",
    "import math"
   ]
  },
  {
   "cell_type": "markdown",
   "id": "90bd55b1",
   "metadata": {},
   "source": [
    "# 2 The Factors\n",
    "\n",
    "Use the data found in ‘factor pricing data.xlsx’.\n",
    "• FACTORS: Monthly excess return data for the overall equity market, ˜r\n",
    "MKT. The sheet also\n",
    "contains data on five additional factors. All factor data is already provided as excess returns.\n",
    "2\n",
    "\n"
   ]
  },
  {
   "cell_type": "code",
   "execution_count": 2,
   "id": "4352740c",
   "metadata": {},
   "outputs": [
    {
     "data": {
      "text/html": [
       "<div>\n",
       "<style scoped>\n",
       "    .dataframe tbody tr th:only-of-type {\n",
       "        vertical-align: middle;\n",
       "    }\n",
       "\n",
       "    .dataframe tbody tr th {\n",
       "        vertical-align: top;\n",
       "    }\n",
       "\n",
       "    .dataframe thead th {\n",
       "        text-align: right;\n",
       "    }\n",
       "</style>\n",
       "<table border=\"1\" class=\"dataframe\">\n",
       "  <thead>\n",
       "    <tr style=\"text-align: right;\">\n",
       "      <th></th>\n",
       "      <th>MKT</th>\n",
       "      <th>SMB</th>\n",
       "      <th>HML</th>\n",
       "      <th>RMW</th>\n",
       "      <th>CMA</th>\n",
       "      <th>UMD</th>\n",
       "    </tr>\n",
       "    <tr>\n",
       "      <th>Date</th>\n",
       "      <th></th>\n",
       "      <th></th>\n",
       "      <th></th>\n",
       "      <th></th>\n",
       "      <th></th>\n",
       "      <th></th>\n",
       "    </tr>\n",
       "  </thead>\n",
       "  <tbody>\n",
       "    <tr>\n",
       "      <th>1980-01-31</th>\n",
       "      <td>0.0551</td>\n",
       "      <td>0.0182</td>\n",
       "      <td>0.0175</td>\n",
       "      <td>-0.0169</td>\n",
       "      <td>0.0171</td>\n",
       "      <td>0.0755</td>\n",
       "    </tr>\n",
       "    <tr>\n",
       "      <th>1980-02-29</th>\n",
       "      <td>-0.0122</td>\n",
       "      <td>-0.0158</td>\n",
       "      <td>0.0061</td>\n",
       "      <td>0.0007</td>\n",
       "      <td>0.0270</td>\n",
       "      <td>0.0788</td>\n",
       "    </tr>\n",
       "    <tr>\n",
       "      <th>1980-03-31</th>\n",
       "      <td>-0.1290</td>\n",
       "      <td>-0.0692</td>\n",
       "      <td>-0.0101</td>\n",
       "      <td>0.0145</td>\n",
       "      <td>-0.0116</td>\n",
       "      <td>-0.0955</td>\n",
       "    </tr>\n",
       "    <tr>\n",
       "      <th>1980-04-30</th>\n",
       "      <td>0.0397</td>\n",
       "      <td>0.0105</td>\n",
       "      <td>0.0108</td>\n",
       "      <td>-0.0206</td>\n",
       "      <td>0.0027</td>\n",
       "      <td>-0.0043</td>\n",
       "    </tr>\n",
       "    <tr>\n",
       "      <th>1980-05-31</th>\n",
       "      <td>0.0526</td>\n",
       "      <td>0.0210</td>\n",
       "      <td>0.0038</td>\n",
       "      <td>0.0032</td>\n",
       "      <td>-0.0032</td>\n",
       "      <td>-0.0112</td>\n",
       "    </tr>\n",
       "    <tr>\n",
       "      <th>...</th>\n",
       "      <td>...</td>\n",
       "      <td>...</td>\n",
       "      <td>...</td>\n",
       "      <td>...</td>\n",
       "      <td>...</td>\n",
       "      <td>...</td>\n",
       "    </tr>\n",
       "    <tr>\n",
       "      <th>2021-05-31</th>\n",
       "      <td>0.0029</td>\n",
       "      <td>0.0119</td>\n",
       "      <td>0.0704</td>\n",
       "      <td>0.0234</td>\n",
       "      <td>0.0310</td>\n",
       "      <td>0.0088</td>\n",
       "    </tr>\n",
       "    <tr>\n",
       "      <th>2021-06-30</th>\n",
       "      <td>0.0275</td>\n",
       "      <td>-0.0025</td>\n",
       "      <td>-0.0776</td>\n",
       "      <td>-0.0214</td>\n",
       "      <td>-0.0099</td>\n",
       "      <td>0.0224</td>\n",
       "    </tr>\n",
       "    <tr>\n",
       "      <th>2021-07-31</th>\n",
       "      <td>0.0127</td>\n",
       "      <td>-0.0456</td>\n",
       "      <td>-0.0175</td>\n",
       "      <td>0.0536</td>\n",
       "      <td>-0.0055</td>\n",
       "      <td>-0.0229</td>\n",
       "    </tr>\n",
       "    <tr>\n",
       "      <th>2021-08-31</th>\n",
       "      <td>0.0290</td>\n",
       "      <td>-0.0079</td>\n",
       "      <td>-0.0013</td>\n",
       "      <td>-0.0025</td>\n",
       "      <td>-0.0167</td>\n",
       "      <td>0.0252</td>\n",
       "    </tr>\n",
       "    <tr>\n",
       "      <th>2021-09-30</th>\n",
       "      <td>-0.0437</td>\n",
       "      <td>0.0125</td>\n",
       "      <td>0.0509</td>\n",
       "      <td>-0.0193</td>\n",
       "      <td>0.0208</td>\n",
       "      <td>0.0157</td>\n",
       "    </tr>\n",
       "  </tbody>\n",
       "</table>\n",
       "<p>501 rows × 6 columns</p>\n",
       "</div>"
      ],
      "text/plain": [
       "               MKT     SMB     HML     RMW     CMA     UMD\n",
       "Date                                                      \n",
       "1980-01-31  0.0551  0.0182  0.0175 -0.0169  0.0171  0.0755\n",
       "1980-02-29 -0.0122 -0.0158  0.0061  0.0007  0.0270  0.0788\n",
       "1980-03-31 -0.1290 -0.0692 -0.0101  0.0145 -0.0116 -0.0955\n",
       "1980-04-30  0.0397  0.0105  0.0108 -0.0206  0.0027 -0.0043\n",
       "1980-05-31  0.0526  0.0210  0.0038  0.0032 -0.0032 -0.0112\n",
       "...            ...     ...     ...     ...     ...     ...\n",
       "2021-05-31  0.0029  0.0119  0.0704  0.0234  0.0310  0.0088\n",
       "2021-06-30  0.0275 -0.0025 -0.0776 -0.0214 -0.0099  0.0224\n",
       "2021-07-31  0.0127 -0.0456 -0.0175  0.0536 -0.0055 -0.0229\n",
       "2021-08-31  0.0290 -0.0079 -0.0013 -0.0025 -0.0167  0.0252\n",
       "2021-09-30 -0.0437  0.0125  0.0509 -0.0193  0.0208  0.0157\n",
       "\n",
       "[501 rows x 6 columns]"
      ]
     },
     "execution_count": 2,
     "metadata": {},
     "output_type": "execute_result"
    }
   ],
   "source": [
    "factors = pd.read_excel(r'/Users/peterfeng/Downloads/积累/Previous Courses Materials/UChicago Past Courses/UChicago 2021 Fall/Portfolio Theory/hw data/factor_pricing_data.xlsx',sheet_name=1,index_col='Date',parse_dates=['Date'])\n",
    "factors"
   ]
  },
  {
   "cell_type": "markdown",
   "id": "e4e95ff2",
   "metadata": {},
   "source": [
    "## 1. Analyze the factors, similar to how you analyzed the three Fama-French factors in Homework 4.\n",
    "You now have three additional factors, so let’s compare there univariate statistics.\n",
    "\n",
    "• mean\n",
    "\n",
    "• volatility\n",
    "\n",
    "• Sharpe"
   ]
  },
  {
   "cell_type": "code",
   "execution_count": 3,
   "id": "56fd7b2c",
   "metadata": {},
   "outputs": [
    {
     "data": {
      "text/html": [
       "<div>\n",
       "<style scoped>\n",
       "    .dataframe tbody tr th:only-of-type {\n",
       "        vertical-align: middle;\n",
       "    }\n",
       "\n",
       "    .dataframe tbody tr th {\n",
       "        vertical-align: top;\n",
       "    }\n",
       "\n",
       "    .dataframe thead th {\n",
       "        text-align: right;\n",
       "    }\n",
       "</style>\n",
       "<table border=\"1\" class=\"dataframe\">\n",
       "  <thead>\n",
       "    <tr style=\"text-align: right;\">\n",
       "      <th></th>\n",
       "      <th>Mean</th>\n",
       "      <th>Vol</th>\n",
       "      <th>Sharpe</th>\n",
       "    </tr>\n",
       "  </thead>\n",
       "  <tbody>\n",
       "    <tr>\n",
       "      <th>MKT</th>\n",
       "      <td>0.087296</td>\n",
       "      <td>0.155369</td>\n",
       "      <td>0.561860</td>\n",
       "    </tr>\n",
       "    <tr>\n",
       "      <th>SMB</th>\n",
       "      <td>0.013454</td>\n",
       "      <td>0.100968</td>\n",
       "      <td>0.133249</td>\n",
       "    </tr>\n",
       "    <tr>\n",
       "      <th>HML</th>\n",
       "      <td>0.022893</td>\n",
       "      <td>0.106119</td>\n",
       "      <td>0.215733</td>\n",
       "    </tr>\n",
       "    <tr>\n",
       "      <th>RMW</th>\n",
       "      <td>0.042479</td>\n",
       "      <td>0.082724</td>\n",
       "      <td>0.513502</td>\n",
       "    </tr>\n",
       "    <tr>\n",
       "      <th>CMA</th>\n",
       "      <td>0.029578</td>\n",
       "      <td>0.068561</td>\n",
       "      <td>0.431417</td>\n",
       "    </tr>\n",
       "    <tr>\n",
       "      <th>UMD</th>\n",
       "      <td>0.064606</td>\n",
       "      <td>0.155688</td>\n",
       "      <td>0.414970</td>\n",
       "    </tr>\n",
       "  </tbody>\n",
       "</table>\n",
       "</div>"
      ],
      "text/plain": [
       "         Mean       Vol    Sharpe\n",
       "MKT  0.087296  0.155369  0.561860\n",
       "SMB  0.013454  0.100968  0.133249\n",
       "HML  0.022893  0.106119  0.215733\n",
       "RMW  0.042479  0.082724  0.513502\n",
       "CMA  0.029578  0.068561  0.431417\n",
       "UMD  0.064606  0.155688  0.414970"
      ]
     },
     "execution_count": 3,
     "metadata": {},
     "output_type": "execute_result"
    }
   ],
   "source": [
    "stats = pd.DataFrame()\n",
    "stats['Mean'] = factors.mean() *12\n",
    "stats['Vol'] = factors.std() *math.sqrt(12)\n",
    "stats['Sharpe'] = stats['Mean'] / stats['Vol']\n",
    "stats"
   ]
  },
  {
   "cell_type": "markdown",
   "id": "de19eefc",
   "metadata": {},
   "source": [
    "## 2. Based on the factor statistics above, answer the following\n",
    "### (a) Does each factor have a positive risk premium (positive expected excess return)?\n"
   ]
  },
  {
   "cell_type": "markdown",
   "id": "af17811b",
   "metadata": {},
   "source": [
    "Yes, at least when considering the full time period."
   ]
  },
  {
   "cell_type": "markdown",
   "id": "938e5076",
   "metadata": {},
   "source": [
    "### (b) How have the factors performed since the time of the case, (2015-present)?"
   ]
  },
  {
   "cell_type": "code",
   "execution_count": 4,
   "id": "13854d66",
   "metadata": {},
   "outputs": [
    {
     "data": {
      "text/html": [
       "<div>\n",
       "<style scoped>\n",
       "    .dataframe tbody tr th:only-of-type {\n",
       "        vertical-align: middle;\n",
       "    }\n",
       "\n",
       "    .dataframe tbody tr th {\n",
       "        vertical-align: top;\n",
       "    }\n",
       "\n",
       "    .dataframe thead th {\n",
       "        text-align: right;\n",
       "    }\n",
       "</style>\n",
       "<table border=\"1\" class=\"dataframe\">\n",
       "  <thead>\n",
       "    <tr style=\"text-align: right;\">\n",
       "      <th></th>\n",
       "      <th>Mean 2015-</th>\n",
       "      <th>Vol 2015-</th>\n",
       "      <th>Sharpe 2015-</th>\n",
       "    </tr>\n",
       "  </thead>\n",
       "  <tbody>\n",
       "    <tr>\n",
       "      <th>MKT</th>\n",
       "      <td>0.135985</td>\n",
       "      <td>0.151894</td>\n",
       "      <td>0.895265</td>\n",
       "    </tr>\n",
       "    <tr>\n",
       "      <th>SMB</th>\n",
       "      <td>-0.000741</td>\n",
       "      <td>0.100365</td>\n",
       "      <td>-0.007380</td>\n",
       "    </tr>\n",
       "    <tr>\n",
       "      <th>HML</th>\n",
       "      <td>-0.053511</td>\n",
       "      <td>0.120598</td>\n",
       "      <td>-0.443716</td>\n",
       "    </tr>\n",
       "    <tr>\n",
       "      <th>RMW</th>\n",
       "      <td>0.024044</td>\n",
       "      <td>0.062164</td>\n",
       "      <td>0.386792</td>\n",
       "    </tr>\n",
       "    <tr>\n",
       "      <th>CMA</th>\n",
       "      <td>-0.025185</td>\n",
       "      <td>0.061172</td>\n",
       "      <td>-0.411709</td>\n",
       "    </tr>\n",
       "    <tr>\n",
       "      <th>UMD</th>\n",
       "      <td>0.015022</td>\n",
       "      <td>0.142403</td>\n",
       "      <td>0.105491</td>\n",
       "    </tr>\n",
       "  </tbody>\n",
       "</table>\n",
       "</div>"
      ],
      "text/plain": [
       "     Mean 2015-  Vol 2015-  Sharpe 2015-\n",
       "MKT    0.135985   0.151894      0.895265\n",
       "SMB   -0.000741   0.100365     -0.007380\n",
       "HML   -0.053511   0.120598     -0.443716\n",
       "RMW    0.024044   0.062164      0.386792\n",
       "CMA   -0.025185   0.061172     -0.411709\n",
       "UMD    0.015022   0.142403      0.105491"
      ]
     },
     "execution_count": 4,
     "metadata": {},
     "output_type": "execute_result"
    }
   ],
   "source": [
    "stats = pd.DataFrame()\n",
    "stats['Mean 2015-'] = factors.loc['2015':].mean() *12\n",
    "stats['Vol 2015-'] = factors.loc['2015':].std() *math.sqrt(12)\n",
    "stats['Sharpe 2015-'] = stats['Mean 2015-'] / stats['Vol 2015-']\n",
    "stats"
   ]
  },
  {
   "cell_type": "markdown",
   "id": "47c75415",
   "metadata": {},
   "source": [
    "The market still remains strong. RMW and UMD are slightly positive. SMB, HML, and CMA now have negative expected excess returns."
   ]
  },
  {
   "cell_type": "markdown",
   "id": "901376a7",
   "metadata": {},
   "source": [
    "## 3. Report the correlation matrix across the six factors\n",
    "\n"
   ]
  },
  {
   "cell_type": "markdown",
   "id": "56e6fc74",
   "metadata": {},
   "source": [
    "### (a) Does the construction method succeed in keeping correlations small?"
   ]
  },
  {
   "cell_type": "code",
   "execution_count": 5,
   "id": "eb2967bf",
   "metadata": {},
   "outputs": [
    {
     "data": {
      "image/png": "[encoded data removed]",
      "text/plain": [
       "<Figure size 432x288 with 2 Axes>"
      ]
     },
     "metadata": {
      "needs_background": "light"
     },
     "output_type": "display_data"
    }
   ],
   "source": [
    "overall_correlation = factors.corr()\n",
    "overall_correlation\n",
    "sns.heatmap(factors.corr(),annot=True,cmap='coolwarm',linewidths=3,linecolor='black')\n",
    "plt.title('Six Factors Correlation')\n",
    "plt.show()\n"
   ]
  },
  {
   "cell_type": "markdown",
   "id": "c6a8adde",
   "metadata": {},
   "source": [
    "Most of the correlations are relatively small. The main exception is the correlation between HML and CMA."
   ]
  },
  {
   "cell_type": "markdown",
   "id": "cbc31737",
   "metadata": {},
   "source": [
    "### (b) Fama and French say that HML is somewhat redundant in their 5-factor model. Does this seem to be the case?"
   ]
  },
  {
   "cell_type": "markdown",
   "id": "c41b6c6d",
   "metadata": {},
   "source": [
    "It does have a relatively high correlation with CMA (0.66). This does suggest some redudancy. "
   ]
  },
  {
   "cell_type": "markdown",
   "id": "85b5fd9d",
   "metadata": {},
   "source": [
    "## 4. Report the tangency weights for a portfolio of these 6 factors."
   ]
  },
  {
   "cell_type": "markdown",
   "id": "dace4c43",
   "metadata": {},
   "source": [
    "### (a) Which factors seem most important? And Least?"
   ]
  },
  {
   "cell_type": "code",
   "execution_count": 6,
   "id": "ace716a0",
   "metadata": {},
   "outputs": [
    {
     "data": {
      "text/html": [
       "<div>\n",
       "<style scoped>\n",
       "    .dataframe tbody tr th:only-of-type {\n",
       "        vertical-align: middle;\n",
       "    }\n",
       "\n",
       "    .dataframe tbody tr th {\n",
       "        vertical-align: top;\n",
       "    }\n",
       "\n",
       "    .dataframe thead th {\n",
       "        text-align: right;\n",
       "    }\n",
       "</style>\n",
       "<table border=\"1\" class=\"dataframe\">\n",
       "  <thead>\n",
       "    <tr style=\"text-align: right;\">\n",
       "      <th></th>\n",
       "      <th>w_t</th>\n",
       "    </tr>\n",
       "  </thead>\n",
       "  <tbody>\n",
       "    <tr>\n",
       "      <th>MKT</th>\n",
       "      <td>0.207840</td>\n",
       "    </tr>\n",
       "    <tr>\n",
       "      <th>SMB</th>\n",
       "      <td>0.076570</td>\n",
       "    </tr>\n",
       "    <tr>\n",
       "      <th>HML</th>\n",
       "      <td>-0.054888</td>\n",
       "    </tr>\n",
       "    <tr>\n",
       "      <th>RMW</th>\n",
       "      <td>0.287032</td>\n",
       "    </tr>\n",
       "    <tr>\n",
       "      <th>CMA</th>\n",
       "      <td>0.387464</td>\n",
       "    </tr>\n",
       "    <tr>\n",
       "      <th>UMD</th>\n",
       "      <td>0.095982</td>\n",
       "    </tr>\n",
       "  </tbody>\n",
       "</table>\n",
       "</div>"
      ],
      "text/plain": [
       "          w_t\n",
       "MKT  0.207840\n",
       "SMB  0.076570\n",
       "HML -0.054888\n",
       "RMW  0.287032\n",
       "CMA  0.387464\n",
       "UMD  0.095982"
      ]
     },
     "execution_count": 6,
     "metadata": {},
     "output_type": "execute_result"
    }
   ],
   "source": [
    "sigma = factors.cov()\n",
    "sigma_inv = np.linalg.inv(sigma)\n",
    "mu_tilde = factors.mean()\n",
    "ones = np.ones(sigma_inv.shape[0])\n",
    "w_t = sigma_inv @ mu_tilde / (ones @ sigma_inv @ mu_tilde)\n",
    "w_t = pd.DataFrame(w_t, index = sigma.index,columns=['w_t'])\n",
    "w_t"
   ]
  },
  {
   "cell_type": "markdown",
   "id": "e630084e",
   "metadata": {},
   "source": [
    "The market, RMW, CMA have the highest magntidues. HML has the lowest magnitude."
   ]
  },
  {
   "cell_type": "markdown",
   "id": "d857ae41",
   "metadata": {},
   "source": [
    "### (b) Are the factors with low mean returns still useful?"
   ]
  },
  {
   "cell_type": "markdown",
   "id": "f2c62121",
   "metadata": {},
   "source": [
    "Yes, CMA has one of the lower mean returns but the highest allocation.\n",
    "\n"
   ]
  },
  {
   "cell_type": "markdown",
   "id": "7b71301e",
   "metadata": {},
   "source": [
    "### (c) Re-do the tangency portfolio, but this time only include MKT, SMB, HML, and UMD.\n",
    "Which factors get high/low tangency weights now?"
   ]
  },
  {
   "cell_type": "code",
   "execution_count": 7,
   "id": "1270b17b",
   "metadata": {},
   "outputs": [
    {
     "data": {
      "text/html": [
       "<div>\n",
       "<style scoped>\n",
       "    .dataframe tbody tr th:only-of-type {\n",
       "        vertical-align: middle;\n",
       "    }\n",
       "\n",
       "    .dataframe tbody tr th {\n",
       "        vertical-align: top;\n",
       "    }\n",
       "\n",
       "    .dataframe thead th {\n",
       "        text-align: right;\n",
       "    }\n",
       "</style>\n",
       "<table border=\"1\" class=\"dataframe\">\n",
       "  <thead>\n",
       "    <tr style=\"text-align: right;\">\n",
       "      <th></th>\n",
       "      <th>MKT</th>\n",
       "      <th>SMB</th>\n",
       "      <th>HML</th>\n",
       "      <th>UMD</th>\n",
       "    </tr>\n",
       "    <tr>\n",
       "      <th>Date</th>\n",
       "      <th></th>\n",
       "      <th></th>\n",
       "      <th></th>\n",
       "      <th></th>\n",
       "    </tr>\n",
       "  </thead>\n",
       "  <tbody>\n",
       "    <tr>\n",
       "      <th>1980-01-31</th>\n",
       "      <td>0.0551</td>\n",
       "      <td>0.0182</td>\n",
       "      <td>0.0175</td>\n",
       "      <td>0.0755</td>\n",
       "    </tr>\n",
       "    <tr>\n",
       "      <th>1980-02-29</th>\n",
       "      <td>-0.0122</td>\n",
       "      <td>-0.0158</td>\n",
       "      <td>0.0061</td>\n",
       "      <td>0.0788</td>\n",
       "    </tr>\n",
       "    <tr>\n",
       "      <th>1980-03-31</th>\n",
       "      <td>-0.1290</td>\n",
       "      <td>-0.0692</td>\n",
       "      <td>-0.0101</td>\n",
       "      <td>-0.0955</td>\n",
       "    </tr>\n",
       "    <tr>\n",
       "      <th>1980-04-30</th>\n",
       "      <td>0.0397</td>\n",
       "      <td>0.0105</td>\n",
       "      <td>0.0108</td>\n",
       "      <td>-0.0043</td>\n",
       "    </tr>\n",
       "    <tr>\n",
       "      <th>1980-05-31</th>\n",
       "      <td>0.0526</td>\n",
       "      <td>0.0210</td>\n",
       "      <td>0.0038</td>\n",
       "      <td>-0.0112</td>\n",
       "    </tr>\n",
       "    <tr>\n",
       "      <th>...</th>\n",
       "      <td>...</td>\n",
       "      <td>...</td>\n",
       "      <td>...</td>\n",
       "      <td>...</td>\n",
       "    </tr>\n",
       "    <tr>\n",
       "      <th>2021-05-31</th>\n",
       "      <td>0.0029</td>\n",
       "      <td>0.0119</td>\n",
       "      <td>0.0704</td>\n",
       "      <td>0.0088</td>\n",
       "    </tr>\n",
       "    <tr>\n",
       "      <th>2021-06-30</th>\n",
       "      <td>0.0275</td>\n",
       "      <td>-0.0025</td>\n",
       "      <td>-0.0776</td>\n",
       "      <td>0.0224</td>\n",
       "    </tr>\n",
       "    <tr>\n",
       "      <th>2021-07-31</th>\n",
       "      <td>0.0127</td>\n",
       "      <td>-0.0456</td>\n",
       "      <td>-0.0175</td>\n",
       "      <td>-0.0229</td>\n",
       "    </tr>\n",
       "    <tr>\n",
       "      <th>2021-08-31</th>\n",
       "      <td>0.0290</td>\n",
       "      <td>-0.0079</td>\n",
       "      <td>-0.0013</td>\n",
       "      <td>0.0252</td>\n",
       "    </tr>\n",
       "    <tr>\n",
       "      <th>2021-09-30</th>\n",
       "      <td>-0.0437</td>\n",
       "      <td>0.0125</td>\n",
       "      <td>0.0509</td>\n",
       "      <td>0.0157</td>\n",
       "    </tr>\n",
       "  </tbody>\n",
       "</table>\n",
       "<p>501 rows × 4 columns</p>\n",
       "</div>"
      ],
      "text/plain": [
       "               MKT     SMB     HML     UMD\n",
       "Date                                      \n",
       "1980-01-31  0.0551  0.0182  0.0175  0.0755\n",
       "1980-02-29 -0.0122 -0.0158  0.0061  0.0788\n",
       "1980-03-31 -0.1290 -0.0692 -0.0101 -0.0955\n",
       "1980-04-30  0.0397  0.0105  0.0108 -0.0043\n",
       "1980-05-31  0.0526  0.0210  0.0038 -0.0112\n",
       "...            ...     ...     ...     ...\n",
       "2021-05-31  0.0029  0.0119  0.0704  0.0088\n",
       "2021-06-30  0.0275 -0.0025 -0.0776  0.0224\n",
       "2021-07-31  0.0127 -0.0456 -0.0175 -0.0229\n",
       "2021-08-31  0.0290 -0.0079 -0.0013  0.0252\n",
       "2021-09-30 -0.0437  0.0125  0.0509  0.0157\n",
       "\n",
       "[501 rows x 4 columns]"
      ]
     },
     "execution_count": 7,
     "metadata": {},
     "output_type": "execute_result"
    }
   ],
   "source": [
    "factors_4c = factors.copy()\n",
    "factors_4c.drop('RMW',axis=1,inplace=True)\n",
    "factors_4c.drop('CMA',axis=1,inplace=True)\n",
    "factors_4c"
   ]
  },
  {
   "cell_type": "code",
   "execution_count": 8,
   "id": "a8748171",
   "metadata": {},
   "outputs": [
    {
     "data": {
      "text/html": [
       "<div>\n",
       "<style scoped>\n",
       "    .dataframe tbody tr th:only-of-type {\n",
       "        vertical-align: middle;\n",
       "    }\n",
       "\n",
       "    .dataframe tbody tr th {\n",
       "        vertical-align: top;\n",
       "    }\n",
       "\n",
       "    .dataframe thead th {\n",
       "        text-align: right;\n",
       "    }\n",
       "</style>\n",
       "<table border=\"1\" class=\"dataframe\">\n",
       "  <thead>\n",
       "    <tr style=\"text-align: right;\">\n",
       "      <th></th>\n",
       "      <th>w_t_4c</th>\n",
       "    </tr>\n",
       "  </thead>\n",
       "  <tbody>\n",
       "    <tr>\n",
       "      <th>MKT</th>\n",
       "      <td>0.345463</td>\n",
       "    </tr>\n",
       "    <tr>\n",
       "      <th>SMB</th>\n",
       "      <td>0.004106</td>\n",
       "    </tr>\n",
       "    <tr>\n",
       "      <th>HML</th>\n",
       "      <td>0.353157</td>\n",
       "    </tr>\n",
       "    <tr>\n",
       "      <th>UMD</th>\n",
       "      <td>0.297273</td>\n",
       "    </tr>\n",
       "  </tbody>\n",
       "</table>\n",
       "</div>"
      ],
      "text/plain": [
       "       w_t_4c\n",
       "MKT  0.345463\n",
       "SMB  0.004106\n",
       "HML  0.353157\n",
       "UMD  0.297273"
      ]
     },
     "execution_count": 8,
     "metadata": {},
     "output_type": "execute_result"
    }
   ],
   "source": [
    "sigma_4c = factors_4c.cov()\n",
    "sigma_inv_4c = np.linalg.inv(sigma_4c)\n",
    "mu_tilde_4c = factors_4c.mean()\n",
    "ones = np.ones(sigma_inv_4c.shape[0])\n",
    "w_t_4c = sigma_inv_4c @ mu_tilde_4c / (ones @ sigma_inv_4c @ mu_tilde_4c)\n",
    "w_t_4c = pd.DataFrame(w_t_4c, index = sigma_4c.index,columns=['w_t_4c'])\n",
    "w_t_4c"
   ]
  },
  {
   "cell_type": "markdown",
   "id": "01485fd0",
   "metadata": {},
   "source": [
    "UMD and HML have a much higher weight now. SMB remains low.  MKT remains high."
   ]
  },
  {
   "cell_type": "markdown",
   "id": "5fd26bd1",
   "metadata": {},
   "source": [
    "### What do you conclude about the importance or unimportance of these styles?\n"
   ]
  },
  {
   "cell_type": "markdown",
   "id": "a8ff61c9",
   "metadata": {},
   "source": [
    "We can conclude that the importance of these styles is very much based on correlation between the factors.\n",
    "\n"
   ]
  },
  {
   "cell_type": "markdown",
   "id": "790d5915",
   "metadata": {},
   "source": [
    "# 3 Testing Modern LPMs"
   ]
  },
  {
   "cell_type": "markdown",
   "id": "1531c53e",
   "metadata": {},
   "source": [
    "Consider the following factor models:\n",
    "    \n",
    "• CAPM: MKT\n",
    "    \n",
    "• Fama-French 3F: MKT, SMB, HML\n",
    "    \n",
    "• Fama-French 5F: MKT, SMB, HML, RMW, CMA\n",
    "    \n",
    "• AQR: MKT, HML, RMW, UMD"
   ]
  },
  {
   "cell_type": "markdown",
   "id": "4fd5131d",
   "metadata": {},
   "source": [
    "1. Test the AQR 4-Factor Model using the time-series test. (We are not doing the cross-sectional\n",
    "regression tests.)"
   ]
  },
  {
   "cell_type": "markdown",
   "id": "8e76139e",
   "metadata": {},
   "source": [
    "### (a) For each regression, report the estimated α and r-squared."
   ]
  },
  {
   "cell_type": "code",
   "execution_count": 9,
   "id": "a1f7833f",
   "metadata": {},
   "outputs": [
    {
     "name": "stderr",
     "output_type": "stream",
     "text": [
      "C:\\Users\\John\\anaconda3\\lib\\site-packages\\statsmodels\\tsa\\tsatools.py:142: FutureWarning: In a future version of pandas all arguments of concat except for the argument 'objs' will be keyword-only\n",
      "  x = pd.concat(x[::order], 1)\n"
     ]
    },
    {
     "data": {
      "text/html": [
       "<div>\n",
       "<style scoped>\n",
       "    .dataframe tbody tr th:only-of-type {\n",
       "        vertical-align: middle;\n",
       "    }\n",
       "\n",
       "    .dataframe tbody tr th {\n",
       "        vertical-align: top;\n",
       "    }\n",
       "\n",
       "    .dataframe thead th {\n",
       "        text-align: right;\n",
       "    }\n",
       "</style>\n",
       "<table border=\"1\" class=\"dataframe\">\n",
       "  <thead>\n",
       "    <tr style=\"text-align: right;\">\n",
       "      <th></th>\n",
       "      <th>Alpha</th>\n",
       "      <th>Rsquared</th>\n",
       "    </tr>\n",
       "  </thead>\n",
       "  <tbody>\n",
       "    <tr>\n",
       "      <th>Agric</th>\n",
       "      <td>0.006173</td>\n",
       "      <td>0.333989</td>\n",
       "    </tr>\n",
       "    <tr>\n",
       "      <th>Food</th>\n",
       "      <td>0.011492</td>\n",
       "      <td>0.481227</td>\n",
       "    </tr>\n",
       "    <tr>\n",
       "      <th>Soda</th>\n",
       "      <td>0.019708</td>\n",
       "      <td>0.314837</td>\n",
       "    </tr>\n",
       "    <tr>\n",
       "      <th>Beer</th>\n",
       "      <td>0.023215</td>\n",
       "      <td>0.427681</td>\n",
       "    </tr>\n",
       "    <tr>\n",
       "      <th>Smoke</th>\n",
       "      <td>0.039668</td>\n",
       "      <td>0.266289</td>\n",
       "    </tr>\n",
       "    <tr>\n",
       "      <th>Toys</th>\n",
       "      <td>-0.015532</td>\n",
       "      <td>0.504204</td>\n",
       "    </tr>\n",
       "    <tr>\n",
       "      <th>Fun</th>\n",
       "      <td>0.035061</td>\n",
       "      <td>0.609556</td>\n",
       "    </tr>\n",
       "    <tr>\n",
       "      <th>Books</th>\n",
       "      <td>-0.027048</td>\n",
       "      <td>0.687783</td>\n",
       "    </tr>\n",
       "    <tr>\n",
       "      <th>Hshld</th>\n",
       "      <td>-0.000708</td>\n",
       "      <td>0.57967</td>\n",
       "    </tr>\n",
       "    <tr>\n",
       "      <th>Clths</th>\n",
       "      <td>0.003485</td>\n",
       "      <td>0.616345</td>\n",
       "    </tr>\n",
       "    <tr>\n",
       "      <th>Hlth</th>\n",
       "      <td>-0.032479</td>\n",
       "      <td>0.44185</td>\n",
       "    </tr>\n",
       "    <tr>\n",
       "      <th>MedEq</th>\n",
       "      <td>0.02989</td>\n",
       "      <td>0.597203</td>\n",
       "    </tr>\n",
       "    <tr>\n",
       "      <th>Drugs</th>\n",
       "      <td>0.032961</td>\n",
       "      <td>0.51367</td>\n",
       "    </tr>\n",
       "    <tr>\n",
       "      <th>Chems</th>\n",
       "      <td>-0.021324</td>\n",
       "      <td>0.741593</td>\n",
       "    </tr>\n",
       "    <tr>\n",
       "      <th>Rubbr</th>\n",
       "      <td>0.005431</td>\n",
       "      <td>0.643079</td>\n",
       "    </tr>\n",
       "    <tr>\n",
       "      <th>Txtls</th>\n",
       "      <td>-0.017343</td>\n",
       "      <td>0.563842</td>\n",
       "    </tr>\n",
       "    <tr>\n",
       "      <th>BldMt</th>\n",
       "      <td>-0.033817</td>\n",
       "      <td>0.765741</td>\n",
       "    </tr>\n",
       "    <tr>\n",
       "      <th>Cnstr</th>\n",
       "      <td>-0.047931</td>\n",
       "      <td>0.634241</td>\n",
       "    </tr>\n",
       "    <tr>\n",
       "      <th>Steel</th>\n",
       "      <td>-0.037505</td>\n",
       "      <td>0.644221</td>\n",
       "    </tr>\n",
       "    <tr>\n",
       "      <th>FabPr</th>\n",
       "      <td>-0.024903</td>\n",
       "      <td>0.448964</td>\n",
       "    </tr>\n",
       "    <tr>\n",
       "      <th>Mach</th>\n",
       "      <td>-0.00062</td>\n",
       "      <td>0.747355</td>\n",
       "    </tr>\n",
       "    <tr>\n",
       "      <th>ElcEq</th>\n",
       "      <td>0.003513</td>\n",
       "      <td>0.749201</td>\n",
       "    </tr>\n",
       "    <tr>\n",
       "      <th>Autos</th>\n",
       "      <td>0.00088</td>\n",
       "      <td>0.595384</td>\n",
       "    </tr>\n",
       "    <tr>\n",
       "      <th>Aero</th>\n",
       "      <td>-0.012025</td>\n",
       "      <td>0.61294</td>\n",
       "    </tr>\n",
       "    <tr>\n",
       "      <th>Ships</th>\n",
       "      <td>-0.045749</td>\n",
       "      <td>0.500737</td>\n",
       "    </tr>\n",
       "    <tr>\n",
       "      <th>Guns</th>\n",
       "      <td>-0.000393</td>\n",
       "      <td>0.34746</td>\n",
       "    </tr>\n",
       "    <tr>\n",
       "      <th>Gold</th>\n",
       "      <td>0.004821</td>\n",
       "      <td>0.049931</td>\n",
       "    </tr>\n",
       "    <tr>\n",
       "      <th>Mines</th>\n",
       "      <td>-0.017782</td>\n",
       "      <td>0.437431</td>\n",
       "    </tr>\n",
       "    <tr>\n",
       "      <th>Coal</th>\n",
       "      <td>-0.057262</td>\n",
       "      <td>0.221788</td>\n",
       "    </tr>\n",
       "    <tr>\n",
       "      <th>Oil</th>\n",
       "      <td>-0.032535</td>\n",
       "      <td>0.456046</td>\n",
       "    </tr>\n",
       "    <tr>\n",
       "      <th>Util</th>\n",
       "      <td>0.006463</td>\n",
       "      <td>0.342424</td>\n",
       "    </tr>\n",
       "    <tr>\n",
       "      <th>Telcm</th>\n",
       "      <td>0.015988</td>\n",
       "      <td>0.607933</td>\n",
       "    </tr>\n",
       "    <tr>\n",
       "      <th>PerSv</th>\n",
       "      <td>-0.054959</td>\n",
       "      <td>0.573228</td>\n",
       "    </tr>\n",
       "    <tr>\n",
       "      <th>BusSv</th>\n",
       "      <td>0.006154</td>\n",
       "      <td>0.856466</td>\n",
       "    </tr>\n",
       "    <tr>\n",
       "      <th>Hardw</th>\n",
       "      <td>0.044855</td>\n",
       "      <td>0.67615</td>\n",
       "    </tr>\n",
       "    <tr>\n",
       "      <th>Softw</th>\n",
       "      <td>0.070076</td>\n",
       "      <td>0.738011</td>\n",
       "    </tr>\n",
       "    <tr>\n",
       "      <th>Chips</th>\n",
       "      <td>0.058793</td>\n",
       "      <td>0.759545</td>\n",
       "    </tr>\n",
       "    <tr>\n",
       "      <th>LabEq</th>\n",
       "      <td>0.034865</td>\n",
       "      <td>0.739768</td>\n",
       "    </tr>\n",
       "    <tr>\n",
       "      <th>Paper</th>\n",
       "      <td>-0.028162</td>\n",
       "      <td>0.67725</td>\n",
       "    </tr>\n",
       "    <tr>\n",
       "      <th>Boxes</th>\n",
       "      <td>0.007793</td>\n",
       "      <td>0.578209</td>\n",
       "    </tr>\n",
       "    <tr>\n",
       "      <th>Trans</th>\n",
       "      <td>-0.018137</td>\n",
       "      <td>0.696365</td>\n",
       "    </tr>\n",
       "    <tr>\n",
       "      <th>Whlsl</th>\n",
       "      <td>-0.018611</td>\n",
       "      <td>0.754875</td>\n",
       "    </tr>\n",
       "    <tr>\n",
       "      <th>Rtail</th>\n",
       "      <td>0.020452</td>\n",
       "      <td>0.675315</td>\n",
       "    </tr>\n",
       "    <tr>\n",
       "      <th>Meals</th>\n",
       "      <td>0.001636</td>\n",
       "      <td>0.637465</td>\n",
       "    </tr>\n",
       "    <tr>\n",
       "      <th>Banks</th>\n",
       "      <td>-0.018389</td>\n",
       "      <td>0.769035</td>\n",
       "    </tr>\n",
       "    <tr>\n",
       "      <th>Insur</th>\n",
       "      <td>-0.011296</td>\n",
       "      <td>0.698624</td>\n",
       "    </tr>\n",
       "    <tr>\n",
       "      <th>RlEst</th>\n",
       "      <td>-0.055144</td>\n",
       "      <td>0.593112</td>\n",
       "    </tr>\n",
       "    <tr>\n",
       "      <th>Fin</th>\n",
       "      <td>0.019963</td>\n",
       "      <td>0.810228</td>\n",
       "    </tr>\n",
       "    <tr>\n",
       "      <th>Other</th>\n",
       "      <td>-0.053883</td>\n",
       "      <td>0.60181</td>\n",
       "    </tr>\n",
       "  </tbody>\n",
       "</table>\n",
       "</div>"
      ],
      "text/plain": [
       "          Alpha  Rsquared\n",
       "Agric  0.006173  0.333989\n",
       "Food   0.011492  0.481227\n",
       "Soda   0.019708  0.314837\n",
       "Beer   0.023215  0.427681\n",
       "Smoke  0.039668  0.266289\n",
       "Toys  -0.015532  0.504204\n",
       "Fun    0.035061  0.609556\n",
       "Books -0.027048  0.687783\n",
       "Hshld -0.000708   0.57967\n",
       "Clths  0.003485  0.616345\n",
       "Hlth  -0.032479   0.44185\n",
       "MedEq   0.02989  0.597203\n",
       "Drugs  0.032961   0.51367\n",
       "Chems -0.021324  0.741593\n",
       "Rubbr  0.005431  0.643079\n",
       "Txtls -0.017343  0.563842\n",
       "BldMt -0.033817  0.765741\n",
       "Cnstr -0.047931  0.634241\n",
       "Steel -0.037505  0.644221\n",
       "FabPr -0.024903  0.448964\n",
       "Mach   -0.00062  0.747355\n",
       "ElcEq  0.003513  0.749201\n",
       "Autos   0.00088  0.595384\n",
       "Aero  -0.012025   0.61294\n",
       "Ships -0.045749  0.500737\n",
       "Guns  -0.000393   0.34746\n",
       "Gold   0.004821  0.049931\n",
       "Mines -0.017782  0.437431\n",
       "Coal  -0.057262  0.221788\n",
       "Oil   -0.032535  0.456046\n",
       "Util   0.006463  0.342424\n",
       "Telcm  0.015988  0.607933\n",
       "PerSv -0.054959  0.573228\n",
       "BusSv  0.006154  0.856466\n",
       "Hardw  0.044855   0.67615\n",
       "Softw  0.070076  0.738011\n",
       "Chips  0.058793  0.759545\n",
       "LabEq  0.034865  0.739768\n",
       "Paper -0.028162   0.67725\n",
       "Boxes  0.007793  0.578209\n",
       "Trans -0.018137  0.696365\n",
       "Whlsl -0.018611  0.754875\n",
       "Rtail  0.020452  0.675315\n",
       "Meals  0.001636  0.637465\n",
       "Banks -0.018389  0.769035\n",
       "Insur -0.011296  0.698624\n",
       "RlEst -0.055144  0.593112\n",
       "Fin    0.019963  0.810228\n",
       "Other -0.053883   0.60181"
      ]
     },
     "execution_count": 9,
     "metadata": {},
     "output_type": "execute_result"
    }
   ],
   "source": [
    "AQR = pd.DataFrame(columns=['Alpha','Rsquared'])\n",
    "portfolios = pd.read_excel('factor_pricing_data.xlsx',sheet_name=2,index_col='Date',parse_dates=['Date'])\n",
    "for stock in portfolios.columns:\n",
    "    X = sm.add_constant(factors[['MKT','HML','RMW','UMD']])\n",
    "    Y = portfolios[stock]\n",
    "    estimation = sm.OLS(Y,X,missing='drop').fit()\n",
    "#     print(stock)\n",
    "#     print(estimation.params)\n",
    "    AQR.loc[stock,'Alpha'] = estimation.params[0] * 12 # annualized\n",
    "    AQR.loc[stock,'Rsquared'] = estimation.rsquared\n",
    "    \n",
    "    \n",
    "#     print(estimation.params)\n",
    "    \n",
    "AQR\n",
    "# portfolios"
   ]
  },
  {
   "cell_type": "markdown",
   "id": "31075b63",
   "metadata": {},
   "source": [
    "### (b) Calculate the mean-absolute-error of the estimated alphas, (one for each security, ˜ri.)"
   ]
  },
  {
   "cell_type": "markdown",
   "id": "bd336e3a",
   "metadata": {},
   "source": [
    "If the pricing model worked, should these alpha estimates be large or small? Why? Based\n",
    "on your MAE stat, does this seem to support the pricing model or not?"
   ]
  },
  {
   "cell_type": "code",
   "execution_count": 15,
   "id": "14321af1",
   "metadata": {},
   "outputs": [
    {
     "name": "stdout",
     "output_type": "stream",
     "text": [
      "AQR MAE: 0.024221843075269613\n"
     ]
    }
   ],
   "source": [
    "MAE = abs(AQR['Alpha']).mean()\n",
    "print('AQR MAE:',MAE)"
   ]
  },
  {
   "cell_type": "markdown",
   "id": "59146649",
   "metadata": {},
   "source": [
    "The MAE is 2.4%, which is a non-negligible annual return. This suggests that the pricing model does not capture everything."
   ]
  },
  {
   "cell_type": "markdown",
   "id": "ec154788",
   "metadata": {},
   "source": [
    "###  2. Test the CAPM, FF 3-Factor Model and the the FF 5-Factor Model. Report the MAE statistic for each of these models and compare it with the AQR Model MAE. Which model fits best?"
   ]
  },
  {
   "cell_type": "code",
   "execution_count": 16,
   "id": "1e739f68",
   "metadata": {},
   "outputs": [
    {
     "name": "stdout",
     "output_type": "stream",
     "text": [
      "CAPM MAE: 0.021964453655304642\n"
     ]
    }
   ],
   "source": [
    "CAPM = pd.DataFrame(columns=['Alpha','Rsquared'])\n",
    "portfolios = pd.read_excel('factor_pricing_data.xlsx',sheet_name=2,index_col='Date',parse_dates=['Date'])\n",
    "for stock in portfolios.columns:\n",
    "    X = sm.add_constant(factors[['MKT']])\n",
    "    Y = portfolios[stock]\n",
    "    estimation = sm.OLS(Y,X,missing='drop').fit()\n",
    "#     print(stock)\n",
    "#     print(estimation.params)\n",
    "    CAPM.loc[stock,'Alpha'] = estimation.params[0] * 12 # annualized\n",
    "    CAPM.loc[stock,'Rsquared'] = estimation.rsquared\n",
    "    \n",
    "    \n",
    "#     print(estimation.params)\n",
    "    \n",
    "CAPM\n",
    "\n",
    "MAE_CAPM = abs(CAPM['Alpha']).mean()\n",
    "print(\"CAPM MAE:\",MAE_CAPM)"
   ]
  },
  {
   "cell_type": "code",
   "execution_count": 17,
   "id": "9c2c7600",
   "metadata": {},
   "outputs": [
    {
     "name": "stdout",
     "output_type": "stream",
     "text": [
      "Fama-French 3 Factor MAE: 0.02616339720836356\n"
     ]
    }
   ],
   "source": [
    "ff3 = pd.DataFrame(columns=['Alpha','Rsquared'])\n",
    "portfolios = pd.read_excel('factor_pricing_data.xlsx',sheet_name=2,index_col='Date',parse_dates=['Date'])\n",
    "for stock in portfolios.columns:\n",
    "    X = sm.add_constant(factors[['MKT','SMB','HML']])\n",
    "    Y = portfolios[stock]\n",
    "    estimation = sm.OLS(Y,X,missing='drop').fit()\n",
    "#     print(stock)\n",
    "#     print(estimation.params)\n",
    "    ff3.loc[stock,'Alpha'] = estimation.params[0] * 12 # annualized\n",
    "    ff3.loc[stock,'Rsquared'] = estimation.rsquared\n",
    "    \n",
    "    \n",
    "#     print(estimation.params)\n",
    "    \n",
    "ff3\n",
    "MAE_ff3 = abs(ff3['Alpha']).mean()\n",
    "print('Fama-French 3 Factor MAE:',MAE_ff3)"
   ]
  },
  {
   "cell_type": "code",
   "execution_count": 18,
   "id": "416b871a",
   "metadata": {},
   "outputs": [
    {
     "name": "stdout",
     "output_type": "stream",
     "text": [
      "Fama-French 5 Factor MAE: 0.03318698636578202\n"
     ]
    }
   ],
   "source": [
    "ff5 = pd.DataFrame(columns=['Alpha','Rsquared'])\n",
    "portfolios = pd.read_excel('factor_pricing_data.xlsx',sheet_name=2,index_col='Date',parse_dates=['Date'])\n",
    "for stock in portfolios.columns:\n",
    "    X = sm.add_constant(factors[['MKT','SMB','HML','RMW', 'CMA']])\n",
    "    Y = portfolios[stock]\n",
    "    estimation = sm.OLS(Y,X,missing='drop').fit()\n",
    "#     print(stock)\n",
    "#     print(estimation.params)\n",
    "    ff5.loc[stock,'Alpha'] = estimation.params[0] * 12 # annualized\n",
    "    ff5.loc[stock,'Rsquared'] = estimation.rsquared\n",
    "    \n",
    "    \n",
    "#     print(estimation.params)\n",
    "    \n",
    "ff5\n",
    "\n",
    "MAE_ff5 = abs(ff5['Alpha']).mean()\n",
    "print('Fama-French 5 Factor MAE:',MAE_ff5)"
   ]
  },
  {
   "cell_type": "code",
   "execution_count": 19,
   "id": "f871bfa1",
   "metadata": {},
   "outputs": [
    {
     "name": "stdout",
     "output_type": "stream",
     "text": [
      "AQR MAE: 0.024221843075269613\n",
      "CAPM MAE: 0.021964453655304642\n",
      "Fama-French 3 Factor MAE: 0.02616339720836356\n",
      "Fama-French 5 Factor MAE: 0.03318698636578202\n"
     ]
    }
   ],
   "source": [
    "print('AQR MAE:',MAE)\n",
    "print(\"CAPM MAE:\",MAE_CAPM)\n",
    "print('Fama-French 3 Factor MAE:',MAE_ff3)\n",
    "print('Fama-French 5 Factor MAE:',MAE_ff5)"
   ]
  },
  {
   "cell_type": "markdown",
   "id": "ade5a793",
   "metadata": {},
   "source": [
    "CAPM has the lowest MAE, which is surprising given its simplicity."
   ]
  },
  {
   "cell_type": "markdown",
   "id": "b97eeb10",
   "metadata": {},
   "source": [
    "### 3. Does any particular factor seem especially important or unimportant for pricing? Do you think Fama and French should use the Momentum Factor?"
   ]
  },
  {
   "cell_type": "markdown",
   "id": "21659671",
   "metadata": {},
   "source": [
    "The market factor seems very important for pricing as all models include it and the CAPM performs the best. I think Fama and French should consider using the momentum factor as AQR uses it and their model performs better in terms of MAE."
   ]
  },
  {
   "cell_type": "markdown",
   "id": "2e8080bb",
   "metadata": {},
   "source": [
    "### 4. This does not matter for pricing, but report the average (across n estimations) of the time-seriesregression r-squared statistics. Do this for each of the three models you tested. Do these models lead to high time-series r-squared stats? That is, would these factors be good in a Linear Factor Decomposition of the assets?"
   ]
  },
  {
   "cell_type": "code",
   "execution_count": 14,
   "id": "d6a5571a",
   "metadata": {},
   "outputs": [
    {
     "name": "stdout",
     "output_type": "stream",
     "text": [
      "CAPM: 0.5282945549650855\n",
      "AQR: 0.5779606685201429\n",
      "FF3: 0.5724526806694274\n",
      "FF5: 0.5986241808537986\n"
     ]
    }
   ],
   "source": [
    "avg_r2_CAPM = CAPM['Rsquared'].mean()\n",
    "avg_r2_CAPM\n",
    "avg_r2_AQR = AQR['Rsquared'].mean()\n",
    "avg_r2_ff3 = ff3['Rsquared'].mean()\n",
    "avg_r2_ff5 = ff5['Rsquared'].mean()\n",
    "print('CAPM:',avg_r2_CAPM)\n",
    "print(\"AQR:\",avg_r2_AQR)\n",
    "print(\"FF3:\",avg_r2_ff3)\n",
    "print(\"FF5:\" ,avg_r2_ff5)\n"
   ]
  },
  {
   "cell_type": "markdown",
   "id": "6a197f3e",
   "metadata": {},
   "source": [
    "These all have moderately high R^2 values, so they would . The addition of other factors doesn't significantly incrase the R squared compared to CAPM"
   ]
  },
  {
   "cell_type": "code",
   "execution_count": null,
   "id": "df8c85c1",
   "metadata": {},
   "outputs": [],
   "source": []
  }
 ],
 "metadata": {
  "kernelspec": {
   "display_name": "Python 3 (ipykernel)",
   "language": "python",
   "name": "python3"
  },
  "language_info": {
   "codemirror_mode": {
    "name": "ipython",
    "version": 3
   },
   "file_extension": ".py",
   "mimetype": "text/x-python",
   "name": "python",
   "nbconvert_exporter": "python",
   "pygments_lexer": "ipython3",
   "version": "3.9.7"
  }
 },
 "nbformat": 4,
 "nbformat_minor": 5
}
