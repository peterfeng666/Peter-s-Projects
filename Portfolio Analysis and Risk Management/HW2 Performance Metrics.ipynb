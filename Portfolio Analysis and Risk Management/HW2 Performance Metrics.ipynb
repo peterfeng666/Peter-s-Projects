{
 "cells": [
  {
   "cell_type": "code",
   "execution_count": 52,
   "id": "6d001b8a",
   "metadata": {},
   "outputs": [],
   "source": [
    "import pandas as pd\n",
    "import numpy as np\n",
    "import seaborn as sns\n",
    "import statsmodels.api as sm\n",
    "from statsmodels.regression.rolling import RollingOLS\n",
    "import datetime\n",
    "from sklearn import linear_model\n",
    "import matplotlib.pyplot as plt\n",
    "from matplotlib.pyplot import rcParams\n",
    "rcParams['figure.figsize'] = 16, 8\n",
    "import warnings\n",
    "warnings.filterwarnings(\"ignore\", category=DeprecationWarning) "
   ]
  },
  {
   "cell_type": "code",
   "execution_count": 28,
   "id": "f7aedd52",
   "metadata": {},
   "outputs": [],
   "source": [
    "data = pd.read_excel(r\"/Users/peterfeng/Downloads/积累/Previous Courses Materials/UChicago Past Courses/UChicago 2021 Fall/Portfolio Theory/hw data/proshares_analysis_data.xlsx\", sheet_name = 'hedge_fund_series')\n",
    "data.set_index('date',inplace=True)\n",
    "data.head()\n",
    "\n",
    "factor_data = pd.read_excel(r\"/Users/peterfeng/Downloads/积累/Previous Courses Materials/UChicago Past Courses/UChicago 2021 Fall/Portfolio Theory/hw data/proshares_analysis_data.xlsx\", sheet_name = 'merrill_factors')\n",
    "factor_data = factor_data.set_index('date')"
   ]
  },
  {
   "cell_type": "markdown",
   "id": "7a1ad1a8",
   "metadata": {},
   "source": [
    "## Section 2\n",
    "## 1.\n",
    "\n",
    "1. For the series in the “hedge fund series” tab, report the following summary statistics:\n",
    "\n",
    "    (a) mean\n",
    "    \n",
    "    (b) volatility\n",
    "    \n",
    "    (c) Sharpe ratio\n",
    "    \n",
    "    Annualize these statistics"
   ]
  },
  {
   "cell_type": "code",
   "execution_count": 69,
   "id": "9409e077",
   "metadata": {},
   "outputs": [
    {
     "data": {
      "text/html": [
       "<div>\n",
       "<style scoped>\n",
       "    .dataframe tbody tr th:only-of-type {\n",
       "        vertical-align: middle;\n",
       "    }\n",
       "\n",
       "    .dataframe tbody tr th {\n",
       "        vertical-align: top;\n",
       "    }\n",
       "\n",
       "    .dataframe thead th {\n",
       "        text-align: right;\n",
       "    }\n",
       "</style>\n",
       "<table border=\"1\" class=\"dataframe\">\n",
       "  <thead>\n",
       "    <tr style=\"text-align: right;\">\n",
       "      <th></th>\n",
       "      <th>Avg Return</th>\n",
       "      <th>Avg Volatility</th>\n",
       "      <th>Sharpe Ratio</th>\n",
       "    </tr>\n",
       "  </thead>\n",
       "  <tbody>\n",
       "    <tr>\n",
       "      <th>HFRIFWI Index</th>\n",
       "      <td>0.050784</td>\n",
       "      <td>0.061507</td>\n",
       "      <td>0.825665</td>\n",
       "    </tr>\n",
       "    <tr>\n",
       "      <th>MLEIFCTR Index</th>\n",
       "      <td>0.038821</td>\n",
       "      <td>0.053848</td>\n",
       "      <td>0.720933</td>\n",
       "    </tr>\n",
       "    <tr>\n",
       "      <th>MLEIFCTX Index</th>\n",
       "      <td>0.037330</td>\n",
       "      <td>0.053682</td>\n",
       "      <td>0.695382</td>\n",
       "    </tr>\n",
       "    <tr>\n",
       "      <th>HDG US Equity</th>\n",
       "      <td>0.028100</td>\n",
       "      <td>0.056380</td>\n",
       "      <td>0.498407</td>\n",
       "    </tr>\n",
       "    <tr>\n",
       "      <th>QAI US Equity</th>\n",
       "      <td>0.025491</td>\n",
       "      <td>0.045484</td>\n",
       "      <td>0.560434</td>\n",
       "    </tr>\n",
       "  </tbody>\n",
       "</table>\n",
       "</div>"
      ],
      "text/plain": [
       "                Avg Return  Avg Volatility  Sharpe Ratio\n",
       "HFRIFWI Index     0.050784        0.061507      0.825665\n",
       "MLEIFCTR Index    0.038821        0.053848      0.720933\n",
       "MLEIFCTX Index    0.037330        0.053682      0.695382\n",
       "HDG US Equity     0.028100        0.056380      0.498407\n",
       "QAI US Equity     0.025491        0.045484      0.560434"
      ]
     },
     "execution_count": 69,
     "metadata": {},
     "output_type": "execute_result"
    }
   ],
   "source": [
    "def summary_stats(df):\n",
    "     \n",
    "    mean_return = df.mean() * 12   # scaling by 12\n",
    "    vol = df.std() * np.sqrt(12)  # scaling by sqrt of 12\n",
    "    sharpe = mean_return / vol   \n",
    "    \n",
    "    stats = pd.DataFrame({\n",
    "        'Avg Return' : mean_return,\n",
    "        'Avg Volatility' : vol,\n",
    "        'Sharpe Ratio' : sharpe\n",
    "    })\n",
    "    \n",
    "    return stats\n",
    "\n",
    "summ = summary_stats(data)\n",
    "\n",
    "summ\n"
   ]
  },
  {
   "cell_type": "markdown",
   "id": "f60cbc81",
   "metadata": {},
   "source": [
    "## 2.  (a), (b), (c)\n",
    "\n",
    "2. For the series in the “hedge fund series” tab, , calculate the following statistics related to tailrisk.\n",
    "\n",
    "    (a) Skewness\n",
    "    \n",
    "    (b) Excess Kurtosis (in excess of 3)\n",
    "    \n",
    "    (c) VaR (.05) - the fifth quantile of historic returns\n",
    "    \n",
    "    (d) CVaR (.05) - the mean of the returns at or below the fifth quantile\n",
    "    \n",
    "    (e) Maximum drawdown - include the dates of the max/min/recovery within the max drawdown"
   ]
  },
  {
   "cell_type": "code",
   "execution_count": 34,
   "id": "3a7364cd",
   "metadata": {},
   "outputs": [
    {
     "name": "stdout",
     "output_type": "stream",
     "text": [
      "2011-08-31    0.967851\n",
      "2011-09-30    0.967851\n",
      "2011-10-31    0.967851\n",
      "2011-11-30    0.967851\n",
      "2011-12-31    0.967851\n",
      "                ...   \n",
      "2019-11-30    1.310816\n",
      "2019-12-31    1.335573\n",
      "2020-01-31    1.335573\n",
      "2020-02-29    1.335573\n",
      "2020-03-31    1.335573\n",
      "Name: HFRIFWI Index, Length: 104, dtype: float64\n",
      "2011-08-31    0.974412\n",
      "2011-09-30    0.974412\n",
      "2011-10-31    0.983928\n",
      "2011-11-30    0.983928\n",
      "2011-12-31    0.983928\n",
      "                ...   \n",
      "2019-11-30    1.294499\n",
      "2019-12-31    1.312616\n",
      "2020-01-31    1.312616\n",
      "2020-02-29    1.312616\n",
      "2020-03-31    1.312616\n",
      "Name: MLEIFCTR Index, Length: 104, dtype: float64\n",
      "2011-08-31    0.974311\n",
      "2011-09-30    0.974311\n",
      "2011-10-31    0.983387\n",
      "2011-11-30    0.983387\n",
      "2011-12-31    0.983387\n",
      "                ...   \n",
      "2019-11-30    1.274815\n",
      "2019-12-31    1.292571\n",
      "2020-01-31    1.292571\n",
      "2020-02-29    1.292571\n",
      "2020-03-31    1.292571\n",
      "Name: MLEIFCTX Index, Length: 104, dtype: float64\n",
      "2011-08-31    0.972965\n",
      "2011-09-30    0.972965\n",
      "2011-10-31    0.988946\n",
      "2011-11-30    0.988946\n",
      "2011-12-31    0.988946\n",
      "                ...   \n",
      "2019-11-30    1.176143\n",
      "2019-12-31    1.189034\n",
      "2020-01-31    1.189567\n",
      "2020-02-29    1.189567\n",
      "2020-03-31    1.189567\n",
      "Name: HDG US Equity, Length: 104, dtype: float64\n",
      "2011-08-31    0.993509\n",
      "2011-09-30    0.993509\n",
      "2011-10-31    0.996033\n",
      "2011-11-30    0.996033\n",
      "2011-12-31    0.996033\n",
      "                ...   \n",
      "2019-11-30    1.198626\n",
      "2019-12-31    1.219124\n",
      "2020-01-31    1.219124\n",
      "2020-02-29    1.219124\n",
      "2020-03-31    1.219124\n",
      "Name: QAI US Equity, Length: 104, dtype: float64\n"
     ]
    },
    {
     "data": {
      "text/html": [
       "<div>\n",
       "<style scoped>\n",
       "    .dataframe tbody tr th:only-of-type {\n",
       "        vertical-align: middle;\n",
       "    }\n",
       "\n",
       "    .dataframe tbody tr th {\n",
       "        vertical-align: top;\n",
       "    }\n",
       "\n",
       "    .dataframe thead th {\n",
       "        text-align: right;\n",
       "    }\n",
       "</style>\n",
       "<table border=\"1\" class=\"dataframe\">\n",
       "  <thead>\n",
       "    <tr style=\"text-align: right;\">\n",
       "      <th></th>\n",
       "      <th>HFRIFWI Index</th>\n",
       "      <th>MLEIFCTR Index</th>\n",
       "      <th>MLEIFCTX Index</th>\n",
       "      <th>HDG US Equity</th>\n",
       "      <th>QAI US Equity</th>\n",
       "    </tr>\n",
       "  </thead>\n",
       "  <tbody>\n",
       "    <tr>\n",
       "      <th>Skewness</th>\n",
       "      <td>-1.109248</td>\n",
       "      <td>-0.186692</td>\n",
       "      <td>-0.171632</td>\n",
       "      <td>-0.179641</td>\n",
       "      <td>-0.545085</td>\n",
       "    </tr>\n",
       "    <tr>\n",
       "      <th>Excess Kurtosis</th>\n",
       "      <td>6.730109</td>\n",
       "      <td>2.429484</td>\n",
       "      <td>2.375597</td>\n",
       "      <td>2.581654</td>\n",
       "      <td>2.669553</td>\n",
       "    </tr>\n",
       "    <tr>\n",
       "      <th>VaR</th>\n",
       "      <td>-0.025311</td>\n",
       "      <td>-0.025527</td>\n",
       "      <td>-0.025629</td>\n",
       "      <td>-0.028529</td>\n",
       "      <td>-0.016172</td>\n",
       "    </tr>\n",
       "    <tr>\n",
       "      <th>Expected Shortfall</th>\n",
       "      <td>-0.038757</td>\n",
       "      <td>-0.032779</td>\n",
       "      <td>-0.032724</td>\n",
       "      <td>-0.034782</td>\n",
       "      <td>-0.026348</td>\n",
       "    </tr>\n",
       "    <tr>\n",
       "      <th>Max Drawdown</th>\n",
       "      <td>-0.115473</td>\n",
       "      <td>-0.0845</td>\n",
       "      <td>-0.083673</td>\n",
       "      <td>-0.088245</td>\n",
       "      <td>-0.075649</td>\n",
       "    </tr>\n",
       "    <tr>\n",
       "      <th>MDD Start</th>\n",
       "      <td>2019-12-31</td>\n",
       "      <td>2019-12-31</td>\n",
       "      <td>2019-12-31</td>\n",
       "      <td>2020-01-31</td>\n",
       "      <td>2019-12-31</td>\n",
       "    </tr>\n",
       "    <tr>\n",
       "      <th>MDD End</th>\n",
       "      <td>2020-03-31</td>\n",
       "      <td>2020-03-31</td>\n",
       "      <td>2020-03-31</td>\n",
       "      <td>2020-03-31</td>\n",
       "      <td>2020-03-31</td>\n",
       "    </tr>\n",
       "    <tr>\n",
       "      <th>Recovery Date</th>\n",
       "      <td>2020-08-31</td>\n",
       "      <td>2020-11-30</td>\n",
       "      <td>2020-11-30</td>\n",
       "      <td>2020-11-30</td>\n",
       "      <td>2020-07-31</td>\n",
       "    </tr>\n",
       "    <tr>\n",
       "      <th>Recovery period (days)</th>\n",
       "      <td>244</td>\n",
       "      <td>335</td>\n",
       "      <td>335</td>\n",
       "      <td>304</td>\n",
       "      <td>213</td>\n",
       "    </tr>\n",
       "  </tbody>\n",
       "</table>\n",
       "</div>"
      ],
      "text/plain": [
       "                       HFRIFWI Index MLEIFCTR Index MLEIFCTX Index  \\\n",
       "Skewness                   -1.109248      -0.186692      -0.171632   \n",
       "Excess Kurtosis             6.730109       2.429484       2.375597   \n",
       "VaR                        -0.025311      -0.025527      -0.025629   \n",
       "Expected Shortfall         -0.038757      -0.032779      -0.032724   \n",
       "Max Drawdown               -0.115473        -0.0845      -0.083673   \n",
       "MDD Start                 2019-12-31     2019-12-31     2019-12-31   \n",
       "MDD End                   2020-03-31     2020-03-31     2020-03-31   \n",
       "Recovery Date             2020-08-31     2020-11-30     2020-11-30   \n",
       "Recovery period (days)           244            335            335   \n",
       "\n",
       "                       HDG US Equity QAI US Equity  \n",
       "Skewness                   -0.179641     -0.545085  \n",
       "Excess Kurtosis             2.581654      2.669553  \n",
       "VaR                        -0.028529     -0.016172  \n",
       "Expected Shortfall         -0.034782     -0.026348  \n",
       "Max Drawdown               -0.088245     -0.075649  \n",
       "MDD Start                 2020-01-31    2019-12-31  \n",
       "MDD End                   2020-03-31    2020-03-31  \n",
       "Recovery Date             2020-11-30    2020-07-31  \n",
       "Recovery period (days)           304           213  "
      ]
     },
     "execution_count": 34,
     "metadata": {},
     "output_type": "execute_result"
    }
   ],
   "source": [
    "# def percentile(df_2):\n",
    "#     return np.percentile(df_2, 5)\n",
    "\n",
    "# def summary_stats_exp(df):\n",
    "     \n",
    "#     mean_return = df.mean() * 12   # scaling by 12\n",
    "#     vol = df.std() * np.sqrt(12)  # scaling by sqrt of 12\n",
    "#     sharpe = mean_return / vol   # scaling by 12 ### *np.sqrt(12)\n",
    "#     skewness = df.skew()\n",
    "#     ex_kurtosis = df.kurtosis()\n",
    "#     VaR = df.quantile(0.05)\n",
    "#     CVaR = df[df < df.quantile(0.05)].mean()  #Expected Shortfall\n",
    "#     stats = pd.DataFrame({\n",
    "#         'Avg Return' : mean_return,\n",
    "#         'Avg Volatility' : vol,\n",
    "#         'Sharpe Ratio' : sharpe,\n",
    "#         'Skewness': skewness,\n",
    "#         'Kurtosis': ex_kurtosis,\n",
    "#         'VaR': VaR,\n",
    "#         'CVaR': CVaR\n",
    "#     })\n",
    "    \n",
    "#     return stats\n",
    "\n",
    "# summ_exp = summary_stats_exp(data)\n",
    "\n",
    "# summ_exp\n",
    "\n",
    "## improved method\n",
    "def tail_risk_report(data, q):\n",
    "    df = data.copy()\n",
    "    df.index = data.index.date\n",
    "    report = pd.DataFrame(columns = df.columns)\n",
    "    \n",
    "    report.loc['Skewness'] = df.skew()\n",
    "    report.loc['Excess Kurtosis'] = df.kurtosis()\n",
    "    report.loc['VaR'] = df.quantile(q)\n",
    "    report.loc['Expected Shortfall'] = df[df < df.quantile(q)].mean() #CVaR\n",
    "    \n",
    "    cum_ret = (1 + df).cumprod()\n",
    "    rolling_max = cum_ret.cummax()\n",
    "    drawdown = (cum_ret - rolling_max) / rolling_max\n",
    "    report.loc['Max Drawdown'] = drawdown.min()\n",
    "    report.loc['MDD Start'] = None\n",
    "    report.loc['MDD End'] = drawdown.idxmin()\n",
    "    report.loc['Recovery Date'] = None\n",
    "    \n",
    "    for col in df.columns:\n",
    "        report.loc['MDD Start', col] = (rolling_max.loc[:report.loc['MDD End', col]])[col].idxmax()\n",
    "        recovery_df = (drawdown.loc[report.loc['MDD End', col]:])[col]\n",
    "        # modify the threshold for recovery from 0 to 0.001\n",
    "        try:\n",
    "            report.loc['Recovery Date', col] = recovery_df[recovery_df >= 0].index[0]\n",
    "            report.loc['Recovery period (days)'] = (report.loc['Recovery Date'] - report.loc['MDD Start']).dt.days\n",
    "\n",
    "        except:\n",
    "            report.loc['Recovery Date', col] = None\n",
    "            report.loc['Recovery period (days)'] = None\n",
    "\n",
    "    return round(report,4)\n",
    "tail_risk_report(data, 0.05)"
   ]
  },
  {
   "cell_type": "markdown",
   "id": "c7ae4f95",
   "metadata": {},
   "source": [
    "## 2. (e)"
   ]
  },
  {
   "cell_type": "code",
   "execution_count": 89,
   "id": "3f2be8a1",
   "metadata": {},
   "outputs": [],
   "source": [
    "# def max_drawdown(df):\n",
    "#     cum_returns = (1 + df).cumprod()\n",
    "#     rolling_max = cum_returns.cummax()\n",
    "#     drawdown = (cum_returns - rolling_max) / rolling_max\n",
    "#     min_date = drawdown.idxmin()\n",
    "    \n",
    "#     cum_returns_adj = cum_returns.loc[:min_date]\n",
    "#     cum_returns_previous = cum_returns.loc[:min_date]\n",
    "#     cum_returns_post = cum_returns.loc[min_date:]\n",
    "\n",
    "#     recovery_date = 0\n",
    "#     for i in cum_returns_post.index:\n",
    "#         if (cum_returns_post.loc[i] > cum_returns_previous.max() and recovery_date == 0):\n",
    "#             recovery_date = i\n",
    "\n",
    "#     return drawdown.min(), drawdown.idxmin(), cum_returns_previous.idxmax(), recovery_date"
   ]
  },
  {
   "cell_type": "code",
   "execution_count": 90,
   "id": "2161cbe6",
   "metadata": {},
   "outputs": [],
   "source": [
    "# def draw(df):\n",
    "#     return drawdown[str(df)].min()\n",
    "   "
   ]
  },
  {
   "cell_type": "code",
   "execution_count": 91,
   "id": "f59071f4",
   "metadata": {},
   "outputs": [],
   "source": [
    "# draw_dates = data.agg(max_drawdown, axis = 0)"
   ]
  },
  {
   "cell_type": "code",
   "execution_count": 92,
   "id": "a70b2703",
   "metadata": {},
   "outputs": [
    {
     "data": {
      "text/html": [
       "<div>\n",
       "<style scoped>\n",
       "    .dataframe tbody tr th:only-of-type {\n",
       "        vertical-align: middle;\n",
       "    }\n",
       "\n",
       "    .dataframe tbody tr th {\n",
       "        vertical-align: top;\n",
       "    }\n",
       "\n",
       "    .dataframe thead th {\n",
       "        text-align: right;\n",
       "    }\n",
       "</style>\n",
       "<table border=\"1\" class=\"dataframe\">\n",
       "  <thead>\n",
       "    <tr style=\"text-align: right;\">\n",
       "      <th></th>\n",
       "      <th>HFRIFWI Index</th>\n",
       "      <th>MLEIFCTR Index</th>\n",
       "      <th>MLEIFCTX Index</th>\n",
       "      <th>HDG US Equity</th>\n",
       "      <th>QAI US Equity</th>\n",
       "    </tr>\n",
       "  </thead>\n",
       "  <tbody>\n",
       "    <tr>\n",
       "      <th>Max. Drawdown</th>\n",
       "      <td>-0.115473</td>\n",
       "      <td>-0.0844997</td>\n",
       "      <td>-0.0836731</td>\n",
       "      <td>-0.0882451</td>\n",
       "      <td>-0.0756486</td>\n",
       "    </tr>\n",
       "    <tr>\n",
       "      <th>Date of Max. Drawdown</th>\n",
       "      <td>2020-03-31 00:00:00</td>\n",
       "      <td>2020-03-31 00:00:00</td>\n",
       "      <td>2020-03-31 00:00:00</td>\n",
       "      <td>2020-03-31 00:00:00</td>\n",
       "      <td>2020-03-31 00:00:00</td>\n",
       "    </tr>\n",
       "    <tr>\n",
       "      <th>Date of Previous Peak</th>\n",
       "      <td>2019-12-31 00:00:00</td>\n",
       "      <td>2019-12-31 00:00:00</td>\n",
       "      <td>2019-12-31 00:00:00</td>\n",
       "      <td>2020-01-31 00:00:00</td>\n",
       "      <td>2019-12-31 00:00:00</td>\n",
       "    </tr>\n",
       "    <tr>\n",
       "      <th>Date of Recovery</th>\n",
       "      <td>2020-08-31 00:00:00</td>\n",
       "      <td>2020-11-30 00:00:00</td>\n",
       "      <td>2020-11-30 00:00:00</td>\n",
       "      <td>2020-11-30 00:00:00</td>\n",
       "      <td>2020-07-31 00:00:00</td>\n",
       "    </tr>\n",
       "  </tbody>\n",
       "</table>\n",
       "</div>"
      ],
      "text/plain": [
       "                             HFRIFWI Index       MLEIFCTR Index  \\\n",
       "Max. Drawdown                    -0.115473           -0.0844997   \n",
       "Date of Max. Drawdown  2020-03-31 00:00:00  2020-03-31 00:00:00   \n",
       "Date of Previous Peak  2019-12-31 00:00:00  2019-12-31 00:00:00   \n",
       "Date of Recovery       2020-08-31 00:00:00  2020-11-30 00:00:00   \n",
       "\n",
       "                            MLEIFCTX Index        HDG US Equity  \\\n",
       "Max. Drawdown                   -0.0836731           -0.0882451   \n",
       "Date of Max. Drawdown  2020-03-31 00:00:00  2020-03-31 00:00:00   \n",
       "Date of Previous Peak  2019-12-31 00:00:00  2020-01-31 00:00:00   \n",
       "Date of Recovery       2020-11-30 00:00:00  2020-11-30 00:00:00   \n",
       "\n",
       "                             QAI US Equity  \n",
       "Max. Drawdown                   -0.0756486  \n",
       "Date of Max. Drawdown  2020-03-31 00:00:00  \n",
       "Date of Previous Peak  2019-12-31 00:00:00  \n",
       "Date of Recovery       2020-07-31 00:00:00  "
      ]
     },
     "execution_count": 92,
     "metadata": {},
     "output_type": "execute_result"
    }
   ],
   "source": [
    "# draw_dates.rename(index = {0:'Max. Drawdown', 1:'Date of Max. Drawdown',2:'Date of Previous Peak',3: 'Date of Recovery'}, inplace = True)\n",
    "\n",
    "# draw_dates"
   ]
  },
  {
   "cell_type": "markdown",
   "id": "34526c97",
   "metadata": {},
   "source": [
    "## Problem 3"
   ]
  },
  {
   "cell_type": "code",
   "execution_count": 93,
   "id": "6023cde3",
   "metadata": {},
   "outputs": [],
   "source": [
    "data_merr = pd.read_excel('proshares_analysis_data.xlsx', sheet_name = 'merrill_factors')\n",
    "\n",
    "data_merr.set_index('date', inplace = True)"
   ]
  },
  {
   "cell_type": "code",
   "execution_count": 94,
   "id": "1fc2fa79",
   "metadata": {},
   "outputs": [
    {
     "data": {
      "text/html": [
       "<div>\n",
       "<style scoped>\n",
       "    .dataframe tbody tr th:only-of-type {\n",
       "        vertical-align: middle;\n",
       "    }\n",
       "\n",
       "    .dataframe tbody tr th {\n",
       "        vertical-align: top;\n",
       "    }\n",
       "\n",
       "    .dataframe thead th {\n",
       "        text-align: right;\n",
       "    }\n",
       "</style>\n",
       "<table border=\"1\" class=\"dataframe\">\n",
       "  <thead>\n",
       "    <tr style=\"text-align: right;\">\n",
       "      <th></th>\n",
       "      <th>SPY US Equity</th>\n",
       "      <th>USGG3M Index</th>\n",
       "      <th>EEM US Equity</th>\n",
       "      <th>EFA US Equity</th>\n",
       "      <th>EUO US Equity</th>\n",
       "      <th>IWM US Equity</th>\n",
       "    </tr>\n",
       "    <tr>\n",
       "      <th>date</th>\n",
       "      <th></th>\n",
       "      <th></th>\n",
       "      <th></th>\n",
       "      <th></th>\n",
       "      <th></th>\n",
       "      <th></th>\n",
       "    </tr>\n",
       "  </thead>\n",
       "  <tbody>\n",
       "    <tr>\n",
       "      <th>2011-08-31</th>\n",
       "      <td>-0.054976</td>\n",
       "      <td>0.000009</td>\n",
       "      <td>-0.092549</td>\n",
       "      <td>-0.087549</td>\n",
       "      <td>-0.005889</td>\n",
       "      <td>-0.088913</td>\n",
       "    </tr>\n",
       "    <tr>\n",
       "      <th>2011-09-30</th>\n",
       "      <td>-0.069449</td>\n",
       "      <td>0.000017</td>\n",
       "      <td>-0.179064</td>\n",
       "      <td>-0.108083</td>\n",
       "      <td>0.142180</td>\n",
       "      <td>-0.111541</td>\n",
       "    </tr>\n",
       "    <tr>\n",
       "      <th>2011-10-31</th>\n",
       "      <td>0.109147</td>\n",
       "      <td>-0.000013</td>\n",
       "      <td>0.162986</td>\n",
       "      <td>0.096275</td>\n",
       "      <td>-0.069502</td>\n",
       "      <td>0.151012</td>\n",
       "    </tr>\n",
       "    <tr>\n",
       "      <th>2011-11-30</th>\n",
       "      <td>-0.004064</td>\n",
       "      <td>0.000000</td>\n",
       "      <td>-0.019723</td>\n",
       "      <td>-0.021764</td>\n",
       "      <td>0.054627</td>\n",
       "      <td>-0.003783</td>\n",
       "    </tr>\n",
       "    <tr>\n",
       "      <th>2011-12-31</th>\n",
       "      <td>0.010440</td>\n",
       "      <td>0.000009</td>\n",
       "      <td>-0.043017</td>\n",
       "      <td>-0.022139</td>\n",
       "      <td>0.075581</td>\n",
       "      <td>0.005114</td>\n",
       "    </tr>\n",
       "  </tbody>\n",
       "</table>\n",
       "</div>"
      ],
      "text/plain": [
       "            SPY US Equity  USGG3M Index  EEM US Equity  EFA US Equity  \\\n",
       "date                                                                    \n",
       "2011-08-31      -0.054976      0.000009      -0.092549      -0.087549   \n",
       "2011-09-30      -0.069449      0.000017      -0.179064      -0.108083   \n",
       "2011-10-31       0.109147     -0.000013       0.162986       0.096275   \n",
       "2011-11-30      -0.004064      0.000000      -0.019723      -0.021764   \n",
       "2011-12-31       0.010440      0.000009      -0.043017      -0.022139   \n",
       "\n",
       "            EUO US Equity  IWM US Equity  \n",
       "date                                      \n",
       "2011-08-31      -0.005889      -0.088913  \n",
       "2011-09-30       0.142180      -0.111541  \n",
       "2011-10-31      -0.069502       0.151012  \n",
       "2011-11-30       0.054627      -0.003783  \n",
       "2011-12-31       0.075581       0.005114  "
      ]
     },
     "execution_count": 94,
     "metadata": {},
     "output_type": "execute_result"
    }
   ],
   "source": [
    "data_merr.head()"
   ]
  },
  {
   "cell_type": "code",
   "execution_count": 32,
   "id": "e18a65ed",
   "metadata": {},
   "outputs": [
    {
     "name": "stderr",
     "output_type": "stream",
     "text": [
      "/Users/peterfeng/opt/anaconda3/lib/python3.9/site-packages/statsmodels/tsa/tsatools.py:142: FutureWarning: In a future version of pandas all arguments of concat except for the argument 'objs' will be keyword-only\n",
      "  x = pd.concat(x[::order], 1)\n"
     ]
    },
    {
     "data": {
      "text/html": [
       "<div>\n",
       "<style scoped>\n",
       "    .dataframe tbody tr th:only-of-type {\n",
       "        vertical-align: middle;\n",
       "    }\n",
       "\n",
       "    .dataframe tbody tr th {\n",
       "        vertical-align: top;\n",
       "    }\n",
       "\n",
       "    .dataframe thead th {\n",
       "        text-align: right;\n",
       "    }\n",
       "</style>\n",
       "<table border=\"1\" class=\"dataframe\">\n",
       "  <thead>\n",
       "    <tr style=\"text-align: right;\">\n",
       "      <th></th>\n",
       "      <th>beta</th>\n",
       "      <th>Treynor Ratio</th>\n",
       "      <th>Information Ratio</th>\n",
       "    </tr>\n",
       "  </thead>\n",
       "  <tbody>\n",
       "    <tr>\n",
       "      <th>HFRIFWI Index</th>\n",
       "      <td>0.3943</td>\n",
       "      <td>0.1288</td>\n",
       "      <td>-0.2420</td>\n",
       "    </tr>\n",
       "    <tr>\n",
       "      <th>MLEIFCTR Index</th>\n",
       "      <td>0.3594</td>\n",
       "      <td>0.1080</td>\n",
       "      <td>-0.6153</td>\n",
       "    </tr>\n",
       "    <tr>\n",
       "      <th>MLEIFCTX Index</th>\n",
       "      <td>0.3580</td>\n",
       "      <td>0.1043</td>\n",
       "      <td>-0.6713</td>\n",
       "    </tr>\n",
       "    <tr>\n",
       "      <th>HDG US Equity</th>\n",
       "      <td>0.3692</td>\n",
       "      <td>0.0761</td>\n",
       "      <td>-1.0106</td>\n",
       "    </tr>\n",
       "    <tr>\n",
       "      <th>QAI US Equity</th>\n",
       "      <td>0.2850</td>\n",
       "      <td>0.0894</td>\n",
       "      <td>-0.6873</td>\n",
       "    </tr>\n",
       "  </tbody>\n",
       "</table>\n",
       "</div>"
      ],
      "text/plain": [
       "                  beta  Treynor Ratio  Information Ratio\n",
       "HFRIFWI Index   0.3943         0.1288            -0.2420\n",
       "MLEIFCTR Index  0.3594         0.1080            -0.6153\n",
       "MLEIFCTX Index  0.3580         0.1043            -0.6713\n",
       "HDG US Equity   0.3692         0.0761            -1.0106\n",
       "QAI US Equity   0.2850         0.0894            -0.6873"
      ]
     },
     "execution_count": 32,
     "metadata": {},
     "output_type": "execute_result"
    }
   ],
   "source": [
    "# def reg_stats(df_portfolio,df_factors,portfolio):\n",
    "#     reg_stats = pd.DataFrame()\n",
    "#     beta_result = pd.Series()\n",
    "#     unexplained_vol = pd.Series()\n",
    "#     excess_return = pd.Series()\n",
    " \n",
    "#     factors = df_factors.columns\n",
    "#     for factor in factors:\n",
    "#         rhs = sm.add_constant(df_portfolio[portfolio])\n",
    "#         lhs = df_factors[factor]\n",
    "#         model = sm.OLS(lhs,rhs,missing='drop').fit()\n",
    "#         beta = model.params[portfolio]\n",
    "#         beta_result[factor] = beta\n",
    " \n",
    "#         residual = model.resid\n",
    "#         unexplained_vol[factor] = residual.std()\n",
    "#         excess_return[factor] = model.params['const']\n",
    " \n",
    "#     reg_stats['Market Beta'] = beta_result\n",
    "#     reg_stats['Treynor Ratio'] = df_factors.mean() * 12/reg_stats['Market Beta']\n",
    "#     reg_stats['Information Ratio'] = excess_return/(unexplained_vol*np.sqrt(12))\n",
    "#     return reg_stats\n",
    "\n",
    "\n",
    "def reg_stats(df, annual_fac):\n",
    "    reg_stats = pd.DataFrame(data = None, index = df.columns, columns = ['beta', \n",
    "                                                                         'Treynor Ratio', \n",
    "                                                                         'Information Ratio'])\n",
    "    for col in df.columns:\n",
    "        # Drop the NAs in y\n",
    "        y = df[col].dropna()\n",
    "        # Align the X with y \n",
    "        X = sm.add_constant(factor_data['SPY US Equity'].loc[y.index])\n",
    "        reg = sm.OLS(y, X).fit()\n",
    "        reg_stats.loc[col, 'beta'] = reg.params[1]\n",
    "        reg_stats.loc[col, 'Treynor Ratio'] = (df[col].mean() * annual_fac) / reg.params[1]\n",
    "        reg_stats.loc[col, 'Information Ratio'] = (reg.params[0] / reg.resid.std()) * np.sqrt(annual_fac)\n",
    "\n",
    "    return reg_stats.astype(float).round(4)\n",
    "\n",
    "reg_stats(data,12)"
   ]
  },
  {
   "cell_type": "markdown",
   "id": "6f23c9bf",
   "metadata": {},
   "source": [
    "## Problem 4"
   ]
  },
  {
   "cell_type": "markdown",
   "id": "33c29d03",
   "metadata": {},
   "source": [
    "4. \n",
    "    a. The market beta here indicates the risk of the hedge-fund series related to SPY. The betas for all five hedge-fund series are ranging from 0.28 to nearly 0.4, which means the components in the hedge-fund series are quite different from the components of SPY. \n",
    "\n",
    "    b. The Treynor ratio, pretty similar to the Sharpe ratio, is a return/risk measure that shows the profitability of a portfolio regarding its risk. Higher Treynor ratio means the portfolio is a better investment. By comparing the Treynor ratio of HDG and QAI – 0.076 versus 0.089 – we know QAI performs better.\n",
    "    \n",
    "    c. HDG and ML do not capture the most notable properties of HFRI. HFRI has the highest market beta, which means its risk is more related to SPY. HFRI also has a higher Treynor ratio which means it is more profitable per unit of risk. Also, it has a higher information ratio. Information ratio is a measurement of portfolio returns above the returns of a benchmark. Although the information ratio for HFRI is around -0.02, meaning the portfolio underperforms the market index, it still performs much better than HDG and ML."
   ]
  },
  {
   "cell_type": "markdown",
   "id": "a1d58c85",
   "metadata": {},
   "source": [
    "## Problem 5"
   ]
  },
  {
   "cell_type": "markdown",
   "id": "c84fc788",
   "metadata": {},
   "source": [
    "### 5a."
   ]
  },
  {
   "cell_type": "code",
   "execution_count": 101,
   "id": "b8c0086e",
   "metadata": {},
   "outputs": [
    {
     "data": {
      "text/html": [
       "<div>\n",
       "<style scoped>\n",
       "    .dataframe tbody tr th:only-of-type {\n",
       "        vertical-align: middle;\n",
       "    }\n",
       "\n",
       "    .dataframe tbody tr th {\n",
       "        vertical-align: top;\n",
       "    }\n",
       "\n",
       "    .dataframe thead th {\n",
       "        text-align: right;\n",
       "    }\n",
       "</style>\n",
       "<table border=\"1\" class=\"dataframe\">\n",
       "  <thead>\n",
       "    <tr style=\"text-align: right;\">\n",
       "      <th></th>\n",
       "      <th>HFRIFWI Index</th>\n",
       "      <th>MLEIFCTR Index</th>\n",
       "      <th>MLEIFCTX Index</th>\n",
       "      <th>HDG US Equity</th>\n",
       "      <th>QAI US Equity</th>\n",
       "    </tr>\n",
       "  </thead>\n",
       "  <tbody>\n",
       "    <tr>\n",
       "      <th>HFRIFWI Index</th>\n",
       "      <td>1.000000</td>\n",
       "      <td>0.910392</td>\n",
       "      <td>0.910063</td>\n",
       "      <td>0.897653</td>\n",
       "      <td>0.866714</td>\n",
       "    </tr>\n",
       "    <tr>\n",
       "      <th>MLEIFCTR Index</th>\n",
       "      <td>0.910392</td>\n",
       "      <td>1.000000</td>\n",
       "      <td>0.999939</td>\n",
       "      <td>0.984621</td>\n",
       "      <td>0.864431</td>\n",
       "    </tr>\n",
       "    <tr>\n",
       "      <th>MLEIFCTX Index</th>\n",
       "      <td>0.910063</td>\n",
       "      <td>0.999939</td>\n",
       "      <td>1.000000</td>\n",
       "      <td>0.984471</td>\n",
       "      <td>0.863734</td>\n",
       "    </tr>\n",
       "    <tr>\n",
       "      <th>HDG US Equity</th>\n",
       "      <td>0.897653</td>\n",
       "      <td>0.984621</td>\n",
       "      <td>0.984471</td>\n",
       "      <td>1.000000</td>\n",
       "      <td>0.847597</td>\n",
       "    </tr>\n",
       "    <tr>\n",
       "      <th>QAI US Equity</th>\n",
       "      <td>0.866714</td>\n",
       "      <td>0.864431</td>\n",
       "      <td>0.863734</td>\n",
       "      <td>0.847597</td>\n",
       "      <td>1.000000</td>\n",
       "    </tr>\n",
       "  </tbody>\n",
       "</table>\n",
       "</div>"
      ],
      "text/plain": [
       "                HFRIFWI Index  MLEIFCTR Index  MLEIFCTX Index  HDG US Equity  \\\n",
       "HFRIFWI Index        1.000000        0.910392        0.910063       0.897653   \n",
       "MLEIFCTR Index       0.910392        1.000000        0.999939       0.984621   \n",
       "MLEIFCTX Index       0.910063        0.999939        1.000000       0.984471   \n",
       "HDG US Equity        0.897653        0.984621        0.984471       1.000000   \n",
       "QAI US Equity        0.866714        0.864431        0.863734       0.847597   \n",
       "\n",
       "                QAI US Equity  \n",
       "HFRIFWI Index        0.866714  \n",
       "MLEIFCTR Index       0.864431  \n",
       "MLEIFCTX Index       0.863734  \n",
       "HDG US Equity        0.847597  \n",
       "QAI US Equity        1.000000  "
      ]
     },
     "execution_count": 101,
     "metadata": {},
     "output_type": "execute_result"
    }
   ],
   "source": [
    "corr = data.corr()\n",
    "\n",
    "corr"
   ]
  },
  {
   "cell_type": "code",
   "execution_count": 102,
   "id": "aa399992",
   "metadata": {},
   "outputs": [
    {
     "data": {
      "image/png": "[encoded data removed]",
      "text/plain": [
       "<Figure size 1152x576 with 2 Axes>"
      ]
     },
     "metadata": {
      "needs_background": "light"
     },
     "output_type": "display_data"
    }
   ],
   "source": [
    "hm = sns.heatmap(corr, cbar = True, square = True, vmin = 0, cmap = 'RdBu')\n",
    "\n",
    "hm = hm.set_yticklabels(labels = hm.get_yticklabels(), va = 'center')"
   ]
  },
  {
   "cell_type": "markdown",
   "id": "119357fb",
   "metadata": {},
   "source": [
    "This shows that the various hedge fund indices are very correlated."
   ]
  },
  {
   "cell_type": "markdown",
   "id": "6f31e767",
   "metadata": {},
   "source": [
    "### 5b."
   ]
  },
  {
   "cell_type": "markdown",
   "id": "a6e5323b",
   "metadata": {},
   "source": [
    "### Minimum correlation"
   ]
  },
  {
   "cell_type": "code",
   "execution_count": 103,
   "id": "109aecc1",
   "metadata": {},
   "outputs": [
    {
     "data": {
      "text/plain": [
       "('HDG US Equity', 'QAI US Equity')"
      ]
     },
     "execution_count": 103,
     "metadata": {},
     "output_type": "execute_result"
    }
   ],
   "source": [
    "corr.unstack().idxmin()"
   ]
  },
  {
   "cell_type": "markdown",
   "id": "4e2d7b03",
   "metadata": {},
   "source": [
    "### Maximum correlation"
   ]
  },
  {
   "cell_type": "code",
   "execution_count": 104,
   "id": "910d40c3",
   "metadata": {},
   "outputs": [
    {
     "data": {
      "text/plain": [
       "('MLEIFCTR Index', 'MLEIFCTX Index')"
      ]
     },
     "execution_count": 104,
     "metadata": {},
     "output_type": "execute_result"
    }
   ],
   "source": [
    "no_diag_corr = corr - np.identity(5)\n",
    "\n",
    "no_diag_corr.unstack().idxmax()"
   ]
  },
  {
   "cell_type": "markdown",
   "id": "90684cbb",
   "metadata": {},
   "source": [
    "## Question 6."
   ]
  },
  {
   "cell_type": "code",
   "execution_count": 39,
   "id": "5c5e48cd",
   "metadata": {},
   "outputs": [
    {
     "data": {
      "text/plain": [
       "Index(['SPY US Equity', 'USGG3M Index', 'EEM US Equity', 'EFA US Equity',\n",
       "       'EUO US Equity', 'IWM US Equity'],\n",
       "      dtype='object')"
      ]
     },
     "execution_count": 39,
     "metadata": {},
     "output_type": "execute_result"
    }
   ],
   "source": [
    "factor_data.columns"
   ]
  },
  {
   "cell_type": "code",
   "execution_count": 41,
   "id": "319710a6",
   "metadata": {},
   "outputs": [],
   "source": [
    "#input data/independent\n",
    "x = factor_data[['SPY US Equity', 'USGG3M Index', 'EEM US Equity', 'EFA US Equity',\n",
    "       'EUO US Equity', 'IWM US Equity']]\n",
    "\n",
    "# output/dependent data\n",
    "\n",
    "y = data[['HFRIFWI Index']]"
   ]
  },
  {
   "cell_type": "code",
   "execution_count": 42,
   "id": "342b234a",
   "metadata": {},
   "outputs": [
    {
     "data": {
      "text/html": [
       "<div>\n",
       "<style scoped>\n",
       "    .dataframe tbody tr th:only-of-type {\n",
       "        vertical-align: middle;\n",
       "    }\n",
       "\n",
       "    .dataframe tbody tr th {\n",
       "        vertical-align: top;\n",
       "    }\n",
       "\n",
       "    .dataframe thead th {\n",
       "        text-align: right;\n",
       "    }\n",
       "</style>\n",
       "<table border=\"1\" class=\"dataframe\">\n",
       "  <thead>\n",
       "    <tr style=\"text-align: right;\">\n",
       "      <th></th>\n",
       "      <th>SPY US Equity</th>\n",
       "      <th>USGG3M Index</th>\n",
       "      <th>EEM US Equity</th>\n",
       "      <th>EFA US Equity</th>\n",
       "      <th>EUO US Equity</th>\n",
       "      <th>IWM US Equity</th>\n",
       "    </tr>\n",
       "  </thead>\n",
       "  <tbody>\n",
       "    <tr>\n",
       "      <th>SPY US Equity</th>\n",
       "      <td>1.000000</td>\n",
       "      <td>-0.059214</td>\n",
       "      <td>0.728721</td>\n",
       "      <td>0.861743</td>\n",
       "      <td>-0.335292</td>\n",
       "      <td>0.881245</td>\n",
       "    </tr>\n",
       "    <tr>\n",
       "      <th>USGG3M Index</th>\n",
       "      <td>-0.059214</td>\n",
       "      <td>1.000000</td>\n",
       "      <td>-0.017261</td>\n",
       "      <td>-0.051726</td>\n",
       "      <td>0.034556</td>\n",
       "      <td>-0.084013</td>\n",
       "    </tr>\n",
       "    <tr>\n",
       "      <th>EEM US Equity</th>\n",
       "      <td>0.728721</td>\n",
       "      <td>-0.017261</td>\n",
       "      <td>1.000000</td>\n",
       "      <td>0.841453</td>\n",
       "      <td>-0.568168</td>\n",
       "      <td>0.694629</td>\n",
       "    </tr>\n",
       "    <tr>\n",
       "      <th>EFA US Equity</th>\n",
       "      <td>0.861743</td>\n",
       "      <td>-0.051726</td>\n",
       "      <td>0.841453</td>\n",
       "      <td>1.000000</td>\n",
       "      <td>-0.518697</td>\n",
       "      <td>0.790229</td>\n",
       "    </tr>\n",
       "    <tr>\n",
       "      <th>EUO US Equity</th>\n",
       "      <td>-0.335292</td>\n",
       "      <td>0.034556</td>\n",
       "      <td>-0.568168</td>\n",
       "      <td>-0.518697</td>\n",
       "      <td>1.000000</td>\n",
       "      <td>-0.265076</td>\n",
       "    </tr>\n",
       "    <tr>\n",
       "      <th>IWM US Equity</th>\n",
       "      <td>0.881245</td>\n",
       "      <td>-0.084013</td>\n",
       "      <td>0.694629</td>\n",
       "      <td>0.790229</td>\n",
       "      <td>-0.265076</td>\n",
       "      <td>1.000000</td>\n",
       "    </tr>\n",
       "  </tbody>\n",
       "</table>\n",
       "</div>"
      ],
      "text/plain": [
       "               SPY US Equity  USGG3M Index  EEM US Equity  EFA US Equity  \\\n",
       "SPY US Equity       1.000000     -0.059214       0.728721       0.861743   \n",
       "USGG3M Index       -0.059214      1.000000      -0.017261      -0.051726   \n",
       "EEM US Equity       0.728721     -0.017261       1.000000       0.841453   \n",
       "EFA US Equity       0.861743     -0.051726       0.841453       1.000000   \n",
       "EUO US Equity      -0.335292      0.034556      -0.568168      -0.518697   \n",
       "IWM US Equity       0.881245     -0.084013       0.694629       0.790229   \n",
       "\n",
       "               EUO US Equity  IWM US Equity  \n",
       "SPY US Equity      -0.335292       0.881245  \n",
       "USGG3M Index        0.034556      -0.084013  \n",
       "EEM US Equity      -0.568168       0.694629  \n",
       "EFA US Equity      -0.518697       0.790229  \n",
       "EUO US Equity       1.000000      -0.265076  \n",
       "IWM US Equity      -0.265076       1.000000  "
      ]
     },
     "execution_count": 42,
     "metadata": {},
     "output_type": "execute_result"
    }
   ],
   "source": [
    "x.corr()"
   ]
  },
  {
   "cell_type": "markdown",
   "id": "8f1f5f98",
   "metadata": {},
   "source": [
    "## Part A"
   ]
  },
  {
   "cell_type": "code",
   "execution_count": 67,
   "id": "69a5a4ac",
   "metadata": {},
   "outputs": [
    {
     "name": "stdout",
     "output_type": "stream",
     "text": [
      "                            OLS Regression Results                            \n",
      "==============================================================================\n",
      "Dep. Variable:          HFRIFWI Index   R-squared:                       0.856\n",
      "Model:                            OLS   Adj. R-squared:                  0.848\n",
      "Method:                 Least Squares   F-statistic:                     113.7\n",
      "Date:                Mon, 12 Jun 2023   Prob (F-statistic):           5.84e-46\n",
      "Time:                        11:12:54   Log-Likelihood:                 437.27\n",
      "No. Observations:                 122   AIC:                            -860.5\n",
      "Df Residuals:                     115   BIC:                            -840.9\n",
      "Df Model:                           6                                         \n",
      "Covariance Type:            nonrobust                                         \n",
      "=================================================================================\n",
      "                    coef    std err          t      P>|t|      [0.025      0.975]\n",
      "---------------------------------------------------------------------------------\n",
      "const             0.0011      0.001      1.387      0.168      -0.000       0.003\n",
      "SPY US Equity     0.0720      0.042      1.725      0.087      -0.011       0.155\n",
      "USGG3M Index     -0.4006      0.953     -0.420      0.675      -2.289       1.488\n",
      "EEM US Equity     0.0722      0.023      3.083      0.003       0.026       0.119\n",
      "EFA US Equity     0.1063      0.038      2.768      0.007       0.030       0.182\n",
      "EUO US Equity     0.0224      0.018      1.245      0.216      -0.013       0.058\n",
      "IWM US Equity     0.1309      0.025      5.139      0.000       0.080       0.181\n",
      "==============================================================================\n",
      "Omnibus:                       25.081   Durbin-Watson:                   1.987\n",
      "Prob(Omnibus):                  0.000   Jarque-Bera (JB):               91.558\n",
      "Skew:                          -0.600   Prob(JB):                     1.31e-20\n",
      "Kurtosis:                       7.071   Cond. No.                     1.52e+03\n",
      "==============================================================================\n",
      "\n",
      "Notes:\n",
      "[1] Standard Errors assume that the covariance matrix of the errors is correctly specified.\n",
      "[2] The condition number is large, 1.52e+03. This might indicate that there are\n",
      "strong multicollinearity or other numerical problems.\n"
     ]
    },
    {
     "name": "stderr",
     "output_type": "stream",
     "text": [
      "/Users/peterfeng/opt/anaconda3/lib/python3.9/site-packages/statsmodels/tsa/tsatools.py:142: FutureWarning: In a future version of pandas all arguments of concat except for the argument 'objs' will be keyword-only\n",
      "  x = pd.concat(x[::order], 1)\n"
     ]
    }
   ],
   "source": [
    "# with statsmodels\n",
    "X = sm.add_constant(x) # adding a constant\n",
    " \n",
    "model = sm.OLS(y,X).fit()\n",
    "#predictions = model.predict(x) \n",
    " \n",
    "print_model = model.summary()\n",
    "print(print_model)"
   ]
  },
  {
   "cell_type": "code",
   "execution_count": 44,
   "id": "3a3124b5",
   "metadata": {},
   "outputs": [
    {
     "name": "stdout",
     "output_type": "stream",
     "text": [
      "Intercept: \n",
      " [0.0011467]\n",
      "Coefficients: \n",
      " [[ 0.07202237 -0.40059141  0.0721592   0.10631807  0.02243061  0.13089205]]\n"
     ]
    }
   ],
   "source": [
    "# with sklearn\n",
    "regr = linear_model.LinearRegression()\n",
    "regr.fit(x, y)\n",
    "\n",
    "print('Intercept: \\n', regr.intercept_)\n",
    "print('Coefficients: \\n', regr.coef_)"
   ]
  },
  {
   "cell_type": "code",
   "execution_count": 46,
   "id": "4a6880fd",
   "metadata": {},
   "outputs": [
    {
     "data": {
      "text/html": [
       "<div>\n",
       "<style scoped>\n",
       "    .dataframe tbody tr th:only-of-type {\n",
       "        vertical-align: middle;\n",
       "    }\n",
       "\n",
       "    .dataframe tbody tr th {\n",
       "        vertical-align: top;\n",
       "    }\n",
       "\n",
       "    .dataframe thead th {\n",
       "        text-align: right;\n",
       "    }\n",
       "</style>\n",
       "<table border=\"1\" class=\"dataframe\">\n",
       "  <thead>\n",
       "    <tr style=\"text-align: right;\">\n",
       "      <th></th>\n",
       "      <th>Coefficients</th>\n",
       "    </tr>\n",
       "  </thead>\n",
       "  <tbody>\n",
       "    <tr>\n",
       "      <th>SPY US Equity</th>\n",
       "      <td>0.072022</td>\n",
       "    </tr>\n",
       "    <tr>\n",
       "      <th>USGG3M Index</th>\n",
       "      <td>-0.400591</td>\n",
       "    </tr>\n",
       "    <tr>\n",
       "      <th>EEM US Equity</th>\n",
       "      <td>0.072159</td>\n",
       "    </tr>\n",
       "    <tr>\n",
       "      <th>EFA US Equity</th>\n",
       "      <td>0.106318</td>\n",
       "    </tr>\n",
       "    <tr>\n",
       "      <th>EUO US Equity</th>\n",
       "      <td>0.022431</td>\n",
       "    </tr>\n",
       "    <tr>\n",
       "      <th>IWM US Equity</th>\n",
       "      <td>0.130892</td>\n",
       "    </tr>\n",
       "    <tr>\n",
       "      <th>Intercept</th>\n",
       "      <td>0.001147</td>\n",
       "    </tr>\n",
       "  </tbody>\n",
       "</table>\n",
       "</div>"
      ],
      "text/plain": [
       "               Coefficients\n",
       "SPY US Equity      0.072022\n",
       "USGG3M Index      -0.400591\n",
       "EEM US Equity      0.072159\n",
       "EFA US Equity      0.106318\n",
       "EUO US Equity      0.022431\n",
       "IWM US Equity      0.130892\n",
       "Intercept          0.001147"
      ]
     },
     "execution_count": 46,
     "metadata": {},
     "output_type": "execute_result"
    }
   ],
   "source": [
    "pd.DataFrame({'Coefficients':np.append(regr.coef_[0],regr.intercept_)},index=list(factor_data.columns)+['Intercept'])"
   ]
  },
  {
   "cell_type": "markdown",
   "id": "ec73a089",
   "metadata": {},
   "source": [
    "## Part B"
   ]
  },
  {
   "cell_type": "markdown",
   "id": "b30641e2",
   "metadata": {},
   "source": [
    "* Based on the regression that has been run, most of the betas are realisitic position sizes.\n"
   ]
  },
  {
   "cell_type": "markdown",
   "id": "a3de35d9",
   "metadata": {},
   "source": [
    "## Part C"
   ]
  },
  {
   "cell_type": "code",
   "execution_count": 47,
   "id": "206106ac",
   "metadata": {},
   "outputs": [],
   "source": [
    "from sklearn.metrics import r2_score"
   ]
  },
  {
   "cell_type": "code",
   "execution_count": 48,
   "id": "8b359777",
   "metadata": {},
   "outputs": [],
   "source": [
    "y_pred = regr.predict(x)"
   ]
  },
  {
   "cell_type": "code",
   "execution_count": 49,
   "id": "ae56f9fd",
   "metadata": {},
   "outputs": [
    {
     "name": "stdout",
     "output_type": "stream",
     "text": [
      "The r-squared as a percent is 85.56947723602491\n"
     ]
    }
   ],
   "source": [
    "print(f\"The r-squared as a percent is {r2_score(y, y_pred)*100}\")"
   ]
  },
  {
   "cell_type": "markdown",
   "id": "68c9b861",
   "metadata": {},
   "source": [
    "## Part D"
   ]
  },
  {
   "cell_type": "code",
   "execution_count": 50,
   "id": "63ed63f4",
   "metadata": {},
   "outputs": [
    {
     "data": {
      "text/plain": [
       "0.0234"
      ]
     },
     "execution_count": 50,
     "metadata": {},
     "output_type": "execute_result"
    }
   ],
   "source": [
    "#The Tracking Error\n",
    "round(model.resid.std() * np.sqrt(12),4)"
   ]
  },
  {
   "cell_type": "markdown",
   "id": "9f3d6be0",
   "metadata": {},
   "source": [
    "## Problem 7"
   ]
  },
  {
   "cell_type": "code",
   "execution_count": 124,
   "id": "3173b537",
   "metadata": {},
   "outputs": [],
   "source": [
    "#input data/independent\n",
    "x_7 = data_merr[['SPY US Equity', 'USGG3M Index', 'EEM US Equity', 'EFA US Equity',\n",
    "       'EUO US Equity', 'IWM US Equity']]\n",
    "X_7 = sm.add_constant(data_merr[['SPY US Equity', 'USGG3M Index', 'EEM US Equity', 'EFA US Equity',\n",
    "       'EUO US Equity', 'IWM US Equity']])\n",
    "\n",
    "# output/dependent data\n",
    "\n",
    "y_7 = data['HFRIFWI Index']"
   ]
  },
  {
   "cell_type": "code",
   "execution_count": 125,
   "id": "30a84e94",
   "metadata": {},
   "outputs": [],
   "source": [
    "np.set_printoptions(suppress = True)"
   ]
  },
  {
   "cell_type": "code",
   "execution_count": 129,
   "id": "d0ad568f",
   "metadata": {},
   "outputs": [
    {
     "name": "stdout",
     "output_type": "stream",
     "text": [
      "Mean: -2.4027028598877944 Median: 0.8279672094760194\n"
     ]
    }
   ],
   "source": [
    "r2 = []\n",
    "\n",
    "min_obv = 60\n",
    "\n",
    "for i in range(min_obv, len(y_7)):\n",
    "\n",
    "    err_x, err_null = [], []\n",
    "\n",
    "    ### Data up to t\n",
    "    currX = X_7.iloc[i-60:i]\n",
    "    currY = y_7.iloc[i-60:i]\n",
    "\n",
    "    ### Fit the model\n",
    "    model_7 = sm.OLS(currY, currX, missing='drop').fit()\n",
    "\n",
    "    pred = model_7.predict(X_7.iloc[[i]])[0]\n",
    "\n",
    "    ### Forecast error of the regression\n",
    "    err_x.append(y_7.iat[i] - pred)\n",
    "\n",
    "    ### Null error is the actual value - the mean of previous values\n",
    "    err_null.append(y_7.iat[i] - currY.mean())\n",
    "\n",
    "\n",
    "\n",
    "    ### Calculate out-of-sample r2 using the errors we calculated\n",
    "    r_sqr_oos = 1 - np.square(err_x).sum() / np.square(err_null).sum()\n",
    "    \n",
    "    r2.append(r_sqr_oos)\n",
    "    \n",
    "mean = np.array(r2).mean()\n",
    "median = np.median(r2)\n",
    "\n",
    "print(\"Mean:\", mean, \"Median:\", median)"
   ]
  },
  {
   "cell_type": "code",
   "execution_count": 65,
   "id": "ea08e86a",
   "metadata": {},
   "outputs": [
    {
     "data": {
      "text/html": [
       "<div>\n",
       "<style scoped>\n",
       "    .dataframe tbody tr th:only-of-type {\n",
       "        vertical-align: middle;\n",
       "    }\n",
       "\n",
       "    .dataframe tbody tr th {\n",
       "        vertical-align: top;\n",
       "    }\n",
       "\n",
       "    .dataframe thead th {\n",
       "        text-align: right;\n",
       "    }\n",
       "</style>\n",
       "<table border=\"1\" class=\"dataframe\">\n",
       "  <thead>\n",
       "    <tr style=\"text-align: right;\">\n",
       "      <th></th>\n",
       "      <th>const</th>\n",
       "      <th>SPY US Equity</th>\n",
       "      <th>USGG3M Index</th>\n",
       "      <th>EEM US Equity</th>\n",
       "      <th>EFA US Equity</th>\n",
       "      <th>EUO US Equity</th>\n",
       "      <th>IWM US Equity</th>\n",
       "    </tr>\n",
       "    <tr>\n",
       "      <th>date</th>\n",
       "      <th></th>\n",
       "      <th></th>\n",
       "      <th></th>\n",
       "      <th></th>\n",
       "      <th></th>\n",
       "      <th></th>\n",
       "      <th></th>\n",
       "    </tr>\n",
       "  </thead>\n",
       "  <tbody>\n",
       "    <tr>\n",
       "      <th>2011-08-31</th>\n",
       "      <td>NaN</td>\n",
       "      <td>NaN</td>\n",
       "      <td>NaN</td>\n",
       "      <td>NaN</td>\n",
       "      <td>NaN</td>\n",
       "      <td>NaN</td>\n",
       "      <td>NaN</td>\n",
       "    </tr>\n",
       "    <tr>\n",
       "      <th>2011-09-30</th>\n",
       "      <td>NaN</td>\n",
       "      <td>NaN</td>\n",
       "      <td>NaN</td>\n",
       "      <td>NaN</td>\n",
       "      <td>NaN</td>\n",
       "      <td>NaN</td>\n",
       "      <td>NaN</td>\n",
       "    </tr>\n",
       "    <tr>\n",
       "      <th>2011-10-31</th>\n",
       "      <td>NaN</td>\n",
       "      <td>NaN</td>\n",
       "      <td>NaN</td>\n",
       "      <td>NaN</td>\n",
       "      <td>NaN</td>\n",
       "      <td>NaN</td>\n",
       "      <td>NaN</td>\n",
       "    </tr>\n",
       "    <tr>\n",
       "      <th>2011-11-30</th>\n",
       "      <td>NaN</td>\n",
       "      <td>NaN</td>\n",
       "      <td>NaN</td>\n",
       "      <td>NaN</td>\n",
       "      <td>NaN</td>\n",
       "      <td>NaN</td>\n",
       "      <td>NaN</td>\n",
       "    </tr>\n",
       "    <tr>\n",
       "      <th>2011-12-31</th>\n",
       "      <td>NaN</td>\n",
       "      <td>NaN</td>\n",
       "      <td>NaN</td>\n",
       "      <td>NaN</td>\n",
       "      <td>NaN</td>\n",
       "      <td>NaN</td>\n",
       "      <td>NaN</td>\n",
       "    </tr>\n",
       "    <tr>\n",
       "      <th>...</th>\n",
       "      <td>...</td>\n",
       "      <td>...</td>\n",
       "      <td>...</td>\n",
       "      <td>...</td>\n",
       "      <td>...</td>\n",
       "      <td>...</td>\n",
       "      <td>...</td>\n",
       "    </tr>\n",
       "    <tr>\n",
       "      <th>2021-05-31</th>\n",
       "      <td>0.002788</td>\n",
       "      <td>0.075014</td>\n",
       "      <td>-1.534818</td>\n",
       "      <td>0.104951</td>\n",
       "      <td>0.097579</td>\n",
       "      <td>0.005371</td>\n",
       "      <td>0.147374</td>\n",
       "    </tr>\n",
       "    <tr>\n",
       "      <th>2021-06-30</th>\n",
       "      <td>0.002731</td>\n",
       "      <td>0.073925</td>\n",
       "      <td>-1.480456</td>\n",
       "      <td>0.105029</td>\n",
       "      <td>0.096860</td>\n",
       "      <td>0.003405</td>\n",
       "      <td>0.148293</td>\n",
       "    </tr>\n",
       "    <tr>\n",
       "      <th>2021-07-31</th>\n",
       "      <td>0.002791</td>\n",
       "      <td>0.068513</td>\n",
       "      <td>-1.495962</td>\n",
       "      <td>0.110204</td>\n",
       "      <td>0.094706</td>\n",
       "      <td>0.004556</td>\n",
       "      <td>0.151516</td>\n",
       "    </tr>\n",
       "    <tr>\n",
       "      <th>2021-08-31</th>\n",
       "      <td>0.002740</td>\n",
       "      <td>0.064714</td>\n",
       "      <td>-1.434312</td>\n",
       "      <td>0.109670</td>\n",
       "      <td>0.095753</td>\n",
       "      <td>0.003561</td>\n",
       "      <td>0.153557</td>\n",
       "    </tr>\n",
       "    <tr>\n",
       "      <th>2021-09-30</th>\n",
       "      <td>0.003504</td>\n",
       "      <td>0.044874</td>\n",
       "      <td>-1.879046</td>\n",
       "      <td>0.109874</td>\n",
       "      <td>0.105011</td>\n",
       "      <td>0.010443</td>\n",
       "      <td>0.158179</td>\n",
       "    </tr>\n",
       "  </tbody>\n",
       "</table>\n",
       "<p>122 rows × 7 columns</p>\n",
       "</div>"
      ],
      "text/plain": [
       "               const  SPY US Equity  USGG3M Index  EEM US Equity  \\\n",
       "date                                                               \n",
       "2011-08-31       NaN            NaN           NaN            NaN   \n",
       "2011-09-30       NaN            NaN           NaN            NaN   \n",
       "2011-10-31       NaN            NaN           NaN            NaN   \n",
       "2011-11-30       NaN            NaN           NaN            NaN   \n",
       "2011-12-31       NaN            NaN           NaN            NaN   \n",
       "...              ...            ...           ...            ...   \n",
       "2021-05-31  0.002788       0.075014     -1.534818       0.104951   \n",
       "2021-06-30  0.002731       0.073925     -1.480456       0.105029   \n",
       "2021-07-31  0.002791       0.068513     -1.495962       0.110204   \n",
       "2021-08-31  0.002740       0.064714     -1.434312       0.109670   \n",
       "2021-09-30  0.003504       0.044874     -1.879046       0.109874   \n",
       "\n",
       "            EFA US Equity  EUO US Equity  IWM US Equity  \n",
       "date                                                     \n",
       "2011-08-31            NaN            NaN            NaN  \n",
       "2011-09-30            NaN            NaN            NaN  \n",
       "2011-10-31            NaN            NaN            NaN  \n",
       "2011-11-30            NaN            NaN            NaN  \n",
       "2011-12-31            NaN            NaN            NaN  \n",
       "...                   ...            ...            ...  \n",
       "2021-05-31       0.097579       0.005371       0.147374  \n",
       "2021-06-30       0.096860       0.003405       0.148293  \n",
       "2021-07-31       0.094706       0.004556       0.151516  \n",
       "2021-08-31       0.095753       0.003561       0.153557  \n",
       "2021-09-30       0.105011       0.010443       0.158179  \n",
       "\n",
       "[122 rows x 7 columns]"
      ]
     },
     "execution_count": 65,
     "metadata": {},
     "output_type": "execute_result"
    }
   ],
   "source": [
    "rolling_model = RollingOLS(y,X,window=60)\n",
    "rolling_betas = rolling_model.fit().params.copy()\n",
    "rolling_betas"
   ]
  },
  {
   "cell_type": "code",
   "execution_count": 75,
   "id": "4e9eeafc",
   "metadata": {},
   "outputs": [
    {
     "data": {
      "text/html": [
       "<div>\n",
       "<style scoped>\n",
       "    .dataframe tbody tr th:only-of-type {\n",
       "        vertical-align: middle;\n",
       "    }\n",
       "\n",
       "    .dataframe tbody tr th {\n",
       "        vertical-align: top;\n",
       "    }\n",
       "\n",
       "    .dataframe thead th {\n",
       "        text-align: right;\n",
       "    }\n",
       "</style>\n",
       "<table border=\"1\" class=\"dataframe\">\n",
       "  <thead>\n",
       "    <tr style=\"text-align: right;\">\n",
       "      <th></th>\n",
       "      <th>HFRIFWI Index</th>\n",
       "      <th>Static-IS-Int</th>\n",
       "      <th>Rolling-IS-Int</th>\n",
       "      <th>Rolling-OOS-Int</th>\n",
       "    </tr>\n",
       "    <tr>\n",
       "      <th>date</th>\n",
       "      <th></th>\n",
       "      <th></th>\n",
       "      <th></th>\n",
       "      <th></th>\n",
       "    </tr>\n",
       "  </thead>\n",
       "  <tbody>\n",
       "    <tr>\n",
       "      <th>2011-08-31</th>\n",
       "      <td>-0.032149</td>\n",
       "      <td>-0.030573</td>\n",
       "      <td>NaN</td>\n",
       "      <td>NaN</td>\n",
       "    </tr>\n",
       "    <tr>\n",
       "      <th>2011-09-30</th>\n",
       "      <td>-0.038903</td>\n",
       "      <td>-0.039685</td>\n",
       "      <td>NaN</td>\n",
       "      <td>NaN</td>\n",
       "    </tr>\n",
       "    <tr>\n",
       "      <th>2011-10-31</th>\n",
       "      <td>0.026858</td>\n",
       "      <td>0.049217</td>\n",
       "      <td>NaN</td>\n",
       "      <td>NaN</td>\n",
       "    </tr>\n",
       "    <tr>\n",
       "      <th>2011-11-30</th>\n",
       "      <td>-0.013453</td>\n",
       "      <td>-0.002153</td>\n",
       "      <td>NaN</td>\n",
       "      <td>NaN</td>\n",
       "    </tr>\n",
       "    <tr>\n",
       "      <th>2011-12-31</th>\n",
       "      <td>-0.004479</td>\n",
       "      <td>-0.001198</td>\n",
       "      <td>NaN</td>\n",
       "      <td>NaN</td>\n",
       "    </tr>\n",
       "    <tr>\n",
       "      <th>...</th>\n",
       "      <td>...</td>\n",
       "      <td>...</td>\n",
       "      <td>...</td>\n",
       "      <td>...</td>\n",
       "    </tr>\n",
       "    <tr>\n",
       "      <th>2021-05-31</th>\n",
       "      <td>0.013401</td>\n",
       "      <td>0.006256</td>\n",
       "      <td>0.008660</td>\n",
       "      <td>0.008153</td>\n",
       "    </tr>\n",
       "    <tr>\n",
       "      <th>2021-06-30</th>\n",
       "      <td>0.005424</td>\n",
       "      <td>0.005985</td>\n",
       "      <td>0.007253</td>\n",
       "      <td>0.007416</td>\n",
       "    </tr>\n",
       "    <tr>\n",
       "      <th>2021-07-31</th>\n",
       "      <td>-0.009095</td>\n",
       "      <td>-0.005717</td>\n",
       "      <td>-0.007452</td>\n",
       "      <td>-0.006910</td>\n",
       "    </tr>\n",
       "    <tr>\n",
       "      <th>2021-08-31</th>\n",
       "      <td>0.007628</td>\n",
       "      <td>0.009050</td>\n",
       "      <td>0.011148</td>\n",
       "      <td>0.011268</td>\n",
       "    </tr>\n",
       "    <tr>\n",
       "      <th>2021-09-30</th>\n",
       "      <td>0.000000</td>\n",
       "      <td>-0.011390</td>\n",
       "      <td>-0.010472</td>\n",
       "      <td>-0.011968</td>\n",
       "    </tr>\n",
       "  </tbody>\n",
       "</table>\n",
       "<p>122 rows × 4 columns</p>\n",
       "</div>"
      ],
      "text/plain": [
       "            HFRIFWI Index  Static-IS-Int  Rolling-IS-Int  Rolling-OOS-Int\n",
       "date                                                                     \n",
       "2011-08-31      -0.032149      -0.030573             NaN              NaN\n",
       "2011-09-30      -0.038903      -0.039685             NaN              NaN\n",
       "2011-10-31       0.026858       0.049217             NaN              NaN\n",
       "2011-11-30      -0.013453      -0.002153             NaN              NaN\n",
       "2011-12-31      -0.004479      -0.001198             NaN              NaN\n",
       "...                   ...            ...             ...              ...\n",
       "2021-05-31       0.013401       0.006256        0.008660         0.008153\n",
       "2021-06-30       0.005424       0.005985        0.007253         0.007416\n",
       "2021-07-31      -0.009095      -0.005717       -0.007452        -0.006910\n",
       "2021-08-31       0.007628       0.009050        0.011148         0.011268\n",
       "2021-09-30       0.000000      -0.011390       -0.010472        -0.011968\n",
       "\n",
       "[122 rows x 4 columns]"
      ]
     },
     "execution_count": 75,
     "metadata": {},
     "output_type": "execute_result"
    }
   ],
   "source": [
    "rep_IS = (rolling_betas * X).sum(axis=1,skipna=False)  ## in sample replication ## beta from t1 to t60 replicate value in t60\n",
    "rep_OOS = (rolling_betas.shift() * X).sum(axis=1,skipna=False)  ## out of sample replication ## beta from t1 to t60 replicate value in t61\n",
    "replication = data[['HFRIFWI Index']].copy()\n",
    "replication['Static-IS-Int'] = model.fittedvalues \n",
    "replication['Rolling-IS-Int'] = rep_IS\n",
    "replication['Rolling-OOS-Int'] = rep_OOS\n",
    "replication"
   ]
  },
  {
   "cell_type": "code",
   "execution_count": 76,
   "id": "da3cd4ad",
   "metadata": {},
   "outputs": [
    {
     "data": {
      "text/html": [
       "<div>\n",
       "<style scoped>\n",
       "    .dataframe tbody tr th:only-of-type {\n",
       "        vertical-align: middle;\n",
       "    }\n",
       "\n",
       "    .dataframe tbody tr th {\n",
       "        vertical-align: top;\n",
       "    }\n",
       "\n",
       "    .dataframe thead th {\n",
       "        text-align: right;\n",
       "    }\n",
       "</style>\n",
       "<table border=\"1\" class=\"dataframe\">\n",
       "  <thead>\n",
       "    <tr style=\"text-align: right;\">\n",
       "      <th></th>\n",
       "      <th>HFRIFWI Index</th>\n",
       "      <th>Static-IS-Int</th>\n",
       "      <th>Rolling-IS-Int</th>\n",
       "      <th>Rolling-OOS-Int</th>\n",
       "    </tr>\n",
       "  </thead>\n",
       "  <tbody>\n",
       "    <tr>\n",
       "      <th>HFRIFWI Index</th>\n",
       "      <td>1.000000</td>\n",
       "      <td>0.925038</td>\n",
       "      <td>0.966793</td>\n",
       "      <td>0.944550</td>\n",
       "    </tr>\n",
       "    <tr>\n",
       "      <th>Static-IS-Int</th>\n",
       "      <td>0.925038</td>\n",
       "      <td>1.000000</td>\n",
       "      <td>0.992091</td>\n",
       "      <td>0.994047</td>\n",
       "    </tr>\n",
       "    <tr>\n",
       "      <th>Rolling-IS-Int</th>\n",
       "      <td>0.966793</td>\n",
       "      <td>0.992091</td>\n",
       "      <td>1.000000</td>\n",
       "      <td>0.995595</td>\n",
       "    </tr>\n",
       "    <tr>\n",
       "      <th>Rolling-OOS-Int</th>\n",
       "      <td>0.944550</td>\n",
       "      <td>0.994047</td>\n",
       "      <td>0.995595</td>\n",
       "      <td>1.000000</td>\n",
       "    </tr>\n",
       "  </tbody>\n",
       "</table>\n",
       "</div>"
      ],
      "text/plain": [
       "                 HFRIFWI Index  Static-IS-Int  Rolling-IS-Int  Rolling-OOS-Int\n",
       "HFRIFWI Index         1.000000       0.925038        0.966793         0.944550\n",
       "Static-IS-Int         0.925038       1.000000        0.992091         0.994047\n",
       "Rolling-IS-Int        0.966793       0.992091        1.000000         0.995595\n",
       "Rolling-OOS-Int       0.944550       0.994047        0.995595         1.000000"
      ]
     },
     "execution_count": 76,
     "metadata": {},
     "output_type": "execute_result"
    }
   ],
   "source": [
    "replication.corr()"
   ]
  },
  {
   "cell_type": "code",
   "execution_count": 74,
   "id": "f4ae84d2",
   "metadata": {},
   "outputs": [
    {
     "data": {
      "text/plain": [
       "<AxesSubplot:xlabel='date'>"
      ]
     },
     "execution_count": 74,
     "metadata": {},
     "output_type": "execute_result"
    },
    {
     "data": {
      "image/png": "[encoded data removed]",
      "text/plain": [
       "<Figure size 1152x576 with 1 Axes>"
      ]
     },
     "metadata": {
      "needs_background": "light"
     },
     "output_type": "display_data"
    }
   ],
   "source": [
    "replication[['Rolling-OOS-Int','Rolling-IS-Int','HFRIFWI Index']].plot()"
   ]
  },
  {
   "cell_type": "markdown",
   "id": "eb81548b",
   "metadata": {},
   "source": [
    "The out-of-sample replication performs very well with respect to the target. It has a very high correlation to the HFRI."
   ]
  },
  {
   "cell_type": "markdown",
   "id": "4cd276fd",
   "metadata": {},
   "source": [
    "## Question 8."
   ]
  },
  {
   "cell_type": "markdown",
   "id": "db788719",
   "metadata": {},
   "source": [
    "### 8a."
   ]
  },
  {
   "cell_type": "code",
   "execution_count": 77,
   "id": "8cd5c71b",
   "metadata": {},
   "outputs": [
    {
     "data": {
      "text/plain": [
       "date\n",
       "2011-08-31   -0.032149\n",
       "2011-09-30   -0.038903\n",
       "2011-10-31    0.026858\n",
       "2011-11-30   -0.013453\n",
       "2011-12-31   -0.004479\n",
       "                ...   \n",
       "2021-05-31    0.013401\n",
       "2021-06-30    0.005424\n",
       "2021-07-31   -0.009095\n",
       "2021-08-31    0.007628\n",
       "2021-09-30    0.000000\n",
       "Name: HFRIFWI Index, Length: 122, dtype: float64"
      ]
     },
     "execution_count": 77,
     "metadata": {},
     "output_type": "execute_result"
    }
   ],
   "source": [
    "r_hfri = data['HFRIFWI Index']\n",
    "\n",
    "r_hfri"
   ]
  },
  {
   "cell_type": "code",
   "execution_count": 79,
   "id": "4da97ac3",
   "metadata": {},
   "outputs": [
    {
     "name": "stdout",
     "output_type": "stream",
     "text": [
      "                                 OLS Regression Results                                \n",
      "=======================================================================================\n",
      "Dep. Variable:          HFRIFWI Index   R-squared (uncentered):                   0.861\n",
      "Model:                            OLS   Adj. R-squared (uncentered):              0.854\n",
      "Method:                 Least Squares   F-statistic:                              120.0\n",
      "Date:                Mon, 12 Jun 2023   Prob (F-statistic):                    2.36e-47\n",
      "Time:                        11:39:39   Log-Likelihood:                          436.25\n",
      "No. Observations:                 122   AIC:                                     -860.5\n",
      "Df Residuals:                     116   BIC:                                     -843.7\n",
      "Df Model:                           6                                                  \n",
      "Covariance Type:            nonrobust                                                  \n",
      "=================================================================================\n",
      "                    coef    std err          t      P>|t|      [0.025      0.975]\n",
      "---------------------------------------------------------------------------------\n",
      "SPY US Equity     0.0875      0.040      2.167      0.032       0.008       0.167\n",
      "USGG3M Index      0.3345      0.796      0.420      0.675      -1.241       1.910\n",
      "EEM US Equity     0.0699      0.023      2.983      0.003       0.024       0.116\n",
      "EFA US Equity     0.1015      0.038      2.644      0.009       0.025       0.178\n",
      "EUO US Equity     0.0235      0.018      1.299      0.197      -0.012       0.059\n",
      "IWM US Equity     0.1290      0.026      5.052      0.000       0.078       0.180\n",
      "==============================================================================\n",
      "Omnibus:                       21.956   Durbin-Watson:                   1.951\n",
      "Prob(Omnibus):                  0.000   Jarque-Bera (JB):               78.103\n",
      "Skew:                          -0.496   Prob(JB):                     1.10e-17\n",
      "Kurtosis:                       6.792   Cond. No.                         115.\n",
      "==============================================================================\n",
      "\n",
      "Notes:\n",
      "[1] R² is computed without centering (uncentered) since the model does not contain a constant.\n",
      "[2] Standard Errors assume that the covariance matrix of the errors is correctly specified.\n"
     ]
    }
   ],
   "source": [
    "ols_no_int = sm.OLS(r_hfri, factor_data).fit()\n",
    "print(ols_no_int.summary())"
   ]
  },
  {
   "cell_type": "code",
   "execution_count": 135,
   "id": "65c46890",
   "metadata": {},
   "outputs": [
    {
     "data": {
      "text/plain": [
       "0.050784216013560556"
      ]
     },
     "execution_count": 135,
     "metadata": {},
     "output_type": "execute_result"
    }
   ],
   "source": [
    "r_hfri_ann = r_hfri.mean() * 12\n",
    "\n",
    "r_hfri_ann"
   ]
  },
  {
   "cell_type": "code",
   "execution_count": 136,
   "id": "07449486",
   "metadata": {},
   "outputs": [
    {
     "data": {
      "text/plain": [
       "SPY US Equity    0.087505\n",
       "USGG3M Index     0.334503\n",
       "EEM US Equity    0.069936\n",
       "EFA US Equity    0.101524\n",
       "EUO US Equity    0.023479\n",
       "IWM US Equity    0.128999\n",
       "dtype: float64"
      ]
     },
     "execution_count": 136,
     "metadata": {},
     "output_type": "execute_result"
    }
   ],
   "source": [
    "betas = ols_no_int.params\n",
    "\n",
    "betas"
   ]
  },
  {
   "cell_type": "code",
   "execution_count": 47,
   "id": "a1a1784c",
   "metadata": {},
   "outputs": [
    {
     "data": {
      "text/plain": [
       "const            0.001147\n",
       "SPY US Equity    0.072022\n",
       "USGG3M Index    -0.400591\n",
       "EEM US Equity    0.072159\n",
       "EFA US Equity    0.106318\n",
       "EUO US Equity    0.022431\n",
       "IWM US Equity    0.130892\n",
       "dtype: float64"
      ]
     },
     "execution_count": 47,
     "metadata": {},
     "output_type": "execute_result"
    }
   ],
   "source": [
    "int_betas = model.params\n",
    "\n",
    "int_betas"
   ]
  },
  {
   "cell_type": "markdown",
   "id": "89b78c24",
   "metadata": {},
   "source": [
    "It seems that by and large, they are quite similar except for the USGG3M Index, which swings from a large negative beta to a large positive beta. Most other parameters were relatively consistent with one another."
   ]
  },
  {
   "cell_type": "markdown",
   "id": "16d91a6d",
   "metadata": {},
   "source": [
    "### 8b."
   ]
  },
  {
   "cell_type": "code",
   "execution_count": 137,
   "id": "57041a70",
   "metadata": {},
   "outputs": [
    {
     "data": {
      "text/plain": [
       "date\n",
       "2011-08-31   -0.031777\n",
       "2011-09-30   -0.040618\n",
       "2011-10-31    0.048568\n",
       "2011-11-30   -0.003150\n",
       "2011-12-31   -0.001905\n",
       "                ...   \n",
       "2021-05-31    0.004976\n",
       "2021-06-30    0.005265\n",
       "2021-07-31   -0.006288\n",
       "2021-08-31    0.008250\n",
       "2021-09-30   -0.012900\n",
       "Length: 122, dtype: float64"
      ]
     },
     "execution_count": 137,
     "metadata": {},
     "output_type": "execute_result"
    }
   ],
   "source": [
    "r_hfri_hat = (data_merr @ betas)\n",
    "\n",
    "r_hfri_hat"
   ]
  },
  {
   "cell_type": "code",
   "execution_count": 80,
   "id": "270ba586",
   "metadata": {},
   "outputs": [
    {
     "name": "stdout",
     "output_type": "stream",
     "text": [
      "The mean of the fitted value is 0.0432\n"
     ]
    }
   ],
   "source": [
    "print(\"The mean of the fitted value is\", round(ols_no_int.fittedvalues.mean(),4)*12)"
   ]
  },
  {
   "cell_type": "code",
   "execution_count": 81,
   "id": "1348f94d",
   "metadata": {},
   "outputs": [
    {
     "name": "stdout",
     "output_type": "stream",
     "text": [
      "The mean of the HFRI is 0.0504\n"
     ]
    }
   ],
   "source": [
    "print(\"The mean of the HFRI is\",round(data['HFRIFWI Index'].mean(),4)*12)"
   ]
  },
  {
   "cell_type": "markdown",
   "id": "a580e524",
   "metadata": {},
   "source": [
    "### 8c."
   ]
  },
  {
   "cell_type": "code",
   "execution_count": 83,
   "id": "32bd9405",
   "metadata": {},
   "outputs": [
    {
     "data": {
      "text/html": [
       "<div>\n",
       "<style scoped>\n",
       "    .dataframe tbody tr th:only-of-type {\n",
       "        vertical-align: middle;\n",
       "    }\n",
       "\n",
       "    .dataframe tbody tr th {\n",
       "        vertical-align: top;\n",
       "    }\n",
       "\n",
       "    .dataframe thead th {\n",
       "        text-align: right;\n",
       "    }\n",
       "</style>\n",
       "<table border=\"1\" class=\"dataframe\">\n",
       "  <thead>\n",
       "    <tr style=\"text-align: right;\">\n",
       "      <th></th>\n",
       "      <th>HFRIFWI Index</th>\n",
       "      <th>Static-IS-Int</th>\n",
       "      <th>Rolling-IS-Int</th>\n",
       "      <th>Rolling-OOS-Int</th>\n",
       "      <th>Static-IS-NoInt</th>\n",
       "    </tr>\n",
       "  </thead>\n",
       "  <tbody>\n",
       "    <tr>\n",
       "      <th>HFRIFWI Index</th>\n",
       "      <td>1.000000</td>\n",
       "      <td>0.925038</td>\n",
       "      <td>0.966793</td>\n",
       "      <td>0.944550</td>\n",
       "      <td>0.924517</td>\n",
       "    </tr>\n",
       "    <tr>\n",
       "      <th>Static-IS-Int</th>\n",
       "      <td>0.925038</td>\n",
       "      <td>1.000000</td>\n",
       "      <td>0.992091</td>\n",
       "      <td>0.994047</td>\n",
       "      <td>0.999437</td>\n",
       "    </tr>\n",
       "    <tr>\n",
       "      <th>Rolling-IS-Int</th>\n",
       "      <td>0.966793</td>\n",
       "      <td>0.992091</td>\n",
       "      <td>1.000000</td>\n",
       "      <td>0.995595</td>\n",
       "      <td>0.990893</td>\n",
       "    </tr>\n",
       "    <tr>\n",
       "      <th>Rolling-OOS-Int</th>\n",
       "      <td>0.944550</td>\n",
       "      <td>0.994047</td>\n",
       "      <td>0.995595</td>\n",
       "      <td>1.000000</td>\n",
       "      <td>0.992507</td>\n",
       "    </tr>\n",
       "    <tr>\n",
       "      <th>Static-IS-NoInt</th>\n",
       "      <td>0.924517</td>\n",
       "      <td>0.999437</td>\n",
       "      <td>0.990893</td>\n",
       "      <td>0.992507</td>\n",
       "      <td>1.000000</td>\n",
       "    </tr>\n",
       "  </tbody>\n",
       "</table>\n",
       "</div>"
      ],
      "text/plain": [
       "                 HFRIFWI Index  Static-IS-Int  Rolling-IS-Int  \\\n",
       "HFRIFWI Index         1.000000       0.925038        0.966793   \n",
       "Static-IS-Int         0.925038       1.000000        0.992091   \n",
       "Rolling-IS-Int        0.966793       0.992091        1.000000   \n",
       "Rolling-OOS-Int       0.944550       0.994047        0.995595   \n",
       "Static-IS-NoInt       0.924517       0.999437        0.990893   \n",
       "\n",
       "                 Rolling-OOS-Int  Static-IS-NoInt  \n",
       "HFRIFWI Index           0.944550         0.924517  \n",
       "Static-IS-Int           0.994047         0.999437  \n",
       "Rolling-IS-Int          0.995595         0.990893  \n",
       "Rolling-OOS-Int         1.000000         0.992507  \n",
       "Static-IS-NoInt         0.992507         1.000000  "
      ]
     },
     "execution_count": 83,
     "metadata": {},
     "output_type": "execute_result"
    }
   ],
   "source": [
    "replication['Static-IS-NoInt'] = ols_no_int.fittedvalues\n",
    "replication.corr()"
   ]
  },
  {
   "cell_type": "markdown",
   "id": "dfb8090e",
   "metadata": {},
   "source": []
  },
  {
   "cell_type": "code",
   "execution_count": null,
   "id": "af3a8318",
   "metadata": {},
   "outputs": [],
   "source": []
  }
 ],
 "metadata": {
  "kernelspec": {
   "display_name": "Python 3 (ipykernel)",
   "language": "python",
   "name": "python3"
  },
  "language_info": {
   "codemirror_mode": {
    "name": "ipython",
    "version": 3
   },
   "file_extension": ".py",
   "mimetype": "text/x-python",
   "name": "python",
   "nbconvert_exporter": "python",
   "pygments_lexer": "ipython3",
   "version": "3.9.7"
  }
 },
 "nbformat": 4,
 "nbformat_minor": 5
}
