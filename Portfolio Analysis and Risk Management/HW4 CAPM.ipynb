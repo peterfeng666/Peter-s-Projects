{
 "cells": [
  {
   "cell_type": "markdown",
   "metadata": {},
   "source": [
    "Sources cited:"
   ]
  },
  {
   "cell_type": "code",
   "execution_count": 9,
   "metadata": {},
   "outputs": [
    {
     "data": {
      "text/html": [
       "<div>\n",
       "<style scoped>\n",
       "    .dataframe tbody tr th:only-of-type {\n",
       "        vertical-align: middle;\n",
       "    }\n",
       "\n",
       "    .dataframe tbody tr th {\n",
       "        vertical-align: top;\n",
       "    }\n",
       "\n",
       "    .dataframe thead th {\n",
       "        text-align: right;\n",
       "    }\n",
       "</style>\n",
       "<table border=\"1\" class=\"dataframe\">\n",
       "  <thead>\n",
       "    <tr style=\"text-align: right;\">\n",
       "      <th></th>\n",
       "      <th>Mkt-RF</th>\n",
       "      <th>SMB</th>\n",
       "      <th>HML</th>\n",
       "    </tr>\n",
       "    <tr>\n",
       "      <th>Date</th>\n",
       "      <th></th>\n",
       "      <th></th>\n",
       "      <th></th>\n",
       "    </tr>\n",
       "  </thead>\n",
       "  <tbody>\n",
       "    <tr>\n",
       "      <th>1926-07-31</th>\n",
       "      <td>0.0296</td>\n",
       "      <td>-0.0238</td>\n",
       "      <td>-0.0273</td>\n",
       "    </tr>\n",
       "    <tr>\n",
       "      <th>1926-08-31</th>\n",
       "      <td>0.0264</td>\n",
       "      <td>-0.0147</td>\n",
       "      <td>0.0414</td>\n",
       "    </tr>\n",
       "    <tr>\n",
       "      <th>1926-09-30</th>\n",
       "      <td>0.0036</td>\n",
       "      <td>-0.0139</td>\n",
       "      <td>0.0012</td>\n",
       "    </tr>\n",
       "    <tr>\n",
       "      <th>1926-10-31</th>\n",
       "      <td>-0.0324</td>\n",
       "      <td>-0.0013</td>\n",
       "      <td>0.0065</td>\n",
       "    </tr>\n",
       "    <tr>\n",
       "      <th>1926-11-30</th>\n",
       "      <td>0.0253</td>\n",
       "      <td>-0.0016</td>\n",
       "      <td>-0.0038</td>\n",
       "    </tr>\n",
       "    <tr>\n",
       "      <th>...</th>\n",
       "      <td>...</td>\n",
       "      <td>...</td>\n",
       "      <td>...</td>\n",
       "    </tr>\n",
       "    <tr>\n",
       "      <th>2021-04-30</th>\n",
       "      <td>0.0493</td>\n",
       "      <td>-0.0311</td>\n",
       "      <td>-0.0093</td>\n",
       "    </tr>\n",
       "    <tr>\n",
       "      <th>2021-05-31</th>\n",
       "      <td>0.0029</td>\n",
       "      <td>-0.0028</td>\n",
       "      <td>0.0704</td>\n",
       "    </tr>\n",
       "    <tr>\n",
       "      <th>2021-06-30</th>\n",
       "      <td>0.0279</td>\n",
       "      <td>0.0180</td>\n",
       "      <td>-0.0776</td>\n",
       "    </tr>\n",
       "    <tr>\n",
       "      <th>2021-07-31</th>\n",
       "      <td>0.0119</td>\n",
       "      <td>-0.0396</td>\n",
       "      <td>-0.0175</td>\n",
       "    </tr>\n",
       "    <tr>\n",
       "      <th>2021-08-31</th>\n",
       "      <td>0.0291</td>\n",
       "      <td>-0.0045</td>\n",
       "      <td>-0.0007</td>\n",
       "    </tr>\n",
       "  </tbody>\n",
       "</table>\n",
       "<p>1142 rows × 3 columns</p>\n",
       "</div>"
      ],
      "text/plain": [
       "            Mkt-RF     SMB     HML\n",
       "Date                              \n",
       "1926-07-31  0.0296 -0.0238 -0.0273\n",
       "1926-08-31  0.0264 -0.0147  0.0414\n",
       "1926-09-30  0.0036 -0.0139  0.0012\n",
       "1926-10-31 -0.0324 -0.0013  0.0065\n",
       "1926-11-30  0.0253 -0.0016 -0.0038\n",
       "...            ...     ...     ...\n",
       "2021-04-30  0.0493 -0.0311 -0.0093\n",
       "2021-05-31  0.0029 -0.0028  0.0704\n",
       "2021-06-30  0.0279  0.0180 -0.0776\n",
       "2021-07-31  0.0119 -0.0396 -0.0175\n",
       "2021-08-31  0.0291 -0.0045 -0.0007\n",
       "\n",
       "[1142 rows x 3 columns]"
      ]
     },
     "execution_count": 9,
     "metadata": {},
     "output_type": "execute_result"
    }
   ],
   "source": [
    "# import libraries\n",
    "import pandas as pd\n",
    "import numpy as np\n",
    "import statsmodels.api as sm\n",
    "import matplotlib.pyplot as plt\n",
    "import seaborn as sns\n",
    "import math\n",
    "\n",
    "factors = pd.read_excel(r'/Users/peterfeng/Downloads/积累/Previous Courses Materials/UChicago Past Courses/UChicago 2021 Fall/Portfolio Theory/hw data/dfa_analysis_data.xlsx',sheet_name=1,index_col='Date',parse_dates=['Date'])\n",
    "factors.drop('RF',axis=1,inplace=True)\n",
    "total_returns = pd.read_excel(r'/Users/peterfeng/Downloads/积累/Previous Courses Materials/UChicago Past Courses/UChicago 2021 Fall/Portfolio Theory/hw data/dfa_analysis_data.xlsx',sheet_name=2,index_col='Date',parse_dates=['Date'])\n",
    "factors"
   ]
  },
  {
   "cell_type": "markdown",
   "metadata": {},
   "source": [
    "# 2 The Factors\n"
   ]
  },
  {
   "cell_type": "markdown",
   "metadata": {},
   "source": [
    "DFA believes certain stocks have higher expected excess returns. In addition to the overall market\n",
    "equity premium, DFA believes that there is a premium attached to a “size” and “value” factor. Note\n",
    "that these three factors are already listed as excess returns.1\n",
    "Use the data found in ‘dfa analysis data.xlsx"
   ]
  },
  {
   "cell_type": "markdown",
   "metadata": {},
   "source": [
    "• FACTORS: Monthly excess return data for the overall equity market, ˜r\n",
    "m. The sheet also\n",
    "contains data on two additional factors, SMB and HML, as well as the risk-free rate. You do\n",
    "not need any of these columns for the homework. Just use the MKT column, which is excess\n",
    "market returns. (So no need to subtract the risk-free rate.)\n"
   ]
  },
  {
   "cell_type": "markdown",
   "metadata": {},
   "source": [
    "1. The Factors. Calculate their univariate performance statistics:\n",
    "\n",
    "• mean\n",
    "\n",
    "• volatility\n",
    "\n",
    "• Sharpe\n",
    "\n",
    "• VaR(.05)\n",
    "\n",
    "Report these for the following three subsamples:\n",
    "\n",
    "• Beginning - 1980\n",
    "\n",
    "• 1981 - 2001\n",
    "\n",
    "• 2002 - End"
   ]
  },
  {
   "cell_type": "code",
   "execution_count": 11,
   "metadata": {},
   "outputs": [
    {
     "data": {
      "text/html": [
       "<div>\n",
       "<style scoped>\n",
       "    .dataframe tbody tr th:only-of-type {\n",
       "        vertical-align: middle;\n",
       "    }\n",
       "\n",
       "    .dataframe tbody tr th {\n",
       "        vertical-align: top;\n",
       "    }\n",
       "\n",
       "    .dataframe thead th {\n",
       "        text-align: right;\n",
       "    }\n",
       "</style>\n",
       "<table border=\"1\" class=\"dataframe\">\n",
       "  <thead>\n",
       "    <tr style=\"text-align: right;\">\n",
       "      <th></th>\n",
       "      <th>Mean -1980</th>\n",
       "      <th>Vol -1980</th>\n",
       "      <th>Sharpe -1980</th>\n",
       "      <th>VaR -1980</th>\n",
       "      <th>Mean 1981-2001</th>\n",
       "      <th>Vol 1981-2001</th>\n",
       "      <th>Sharpe 1981-2001</th>\n",
       "      <th>VaR 1981-2001</th>\n",
       "      <th>Mean 2002-End</th>\n",
       "      <th>Vol 2002-End</th>\n",
       "      <th>Sharpe 2002-End</th>\n",
       "      <th>VaR 2002-End</th>\n",
       "    </tr>\n",
       "  </thead>\n",
       "  <tbody>\n",
       "    <tr>\n",
       "      <th>Mkt-RF</th>\n",
       "      <td>0.081138</td>\n",
       "      <td>0.205050</td>\n",
       "      <td>0.395696</td>\n",
       "      <td>-0.290933</td>\n",
       "      <td>0.077257</td>\n",
       "      <td>0.157393</td>\n",
       "      <td>0.490856</td>\n",
       "      <td>-0.223590</td>\n",
       "      <td>0.094714</td>\n",
       "      <td>0.150853</td>\n",
       "      <td>0.627852</td>\n",
       "      <td>-0.267602</td>\n",
       "    </tr>\n",
       "    <tr>\n",
       "      <th>SMB</th>\n",
       "      <td>0.033976</td>\n",
       "      <td>0.114605</td>\n",
       "      <td>0.296464</td>\n",
       "      <td>-0.150463</td>\n",
       "      <td>-0.000543</td>\n",
       "      <td>0.118475</td>\n",
       "      <td>-0.004582</td>\n",
       "      <td>-0.161133</td>\n",
       "      <td>0.023832</td>\n",
       "      <td>0.085545</td>\n",
       "      <td>0.278592</td>\n",
       "      <td>-0.129557</td>\n",
       "    </tr>\n",
       "    <tr>\n",
       "      <th>HML</th>\n",
       "      <td>0.049134</td>\n",
       "      <td>0.133821</td>\n",
       "      <td>0.367162</td>\n",
       "      <td>-0.148645</td>\n",
       "      <td>0.063552</td>\n",
       "      <td>0.111248</td>\n",
       "      <td>0.571268</td>\n",
       "      <td>-0.144799</td>\n",
       "      <td>-0.011715</td>\n",
       "      <td>0.097530</td>\n",
       "      <td>-0.120120</td>\n",
       "      <td>-0.138477</td>\n",
       "    </tr>\n",
       "  </tbody>\n",
       "</table>\n",
       "</div>"
      ],
      "text/plain": [
       "        Mean -1980  Vol -1980  Sharpe -1980  VaR -1980  Mean 1981-2001  \\\n",
       "Mkt-RF    0.081138   0.205050      0.395696  -0.290933        0.077257   \n",
       "SMB       0.033976   0.114605      0.296464  -0.150463       -0.000543   \n",
       "HML       0.049134   0.133821      0.367162  -0.148645        0.063552   \n",
       "\n",
       "        Vol 1981-2001  Sharpe 1981-2001  VaR 1981-2001  Mean 2002-End  \\\n",
       "Mkt-RF       0.157393          0.490856      -0.223590       0.094714   \n",
       "SMB          0.118475         -0.004582      -0.161133       0.023832   \n",
       "HML          0.111248          0.571268      -0.144799      -0.011715   \n",
       "\n",
       "        Vol 2002-End  Sharpe 2002-End  VaR 2002-End  \n",
       "Mkt-RF      0.150853         0.627852     -0.267602  \n",
       "SMB         0.085545         0.278592     -0.129557  \n",
       "HML         0.097530        -0.120120     -0.138477  "
      ]
     },
     "execution_count": 11,
     "metadata": {},
     "output_type": "execute_result"
    }
   ],
   "source": [
    "stats = pd.DataFrame()\n",
    "stats['Mean -1980'] = factors.loc[:'1980'].mean() *12\n",
    "stats['Vol -1980'] = factors.loc[:'1980'].std() *math.sqrt(12)\n",
    "stats['Sharpe -1980'] = stats['Mean -1980'] / stats['Vol -1980']\n",
    "stats['VaR -1980'] = factors.loc[:'1980'].quantile(0.05) *math.sqrt(12)\n",
    "\n",
    "stats['Mean 1981-2001'] = factors.loc['1981':'2001'].mean() *12\n",
    "stats['Vol 1981-2001'] = factors.loc['1981':'2001'].std() *math.sqrt(12)\n",
    "stats['Sharpe 1981-2001'] = stats['Mean 1981-2001'] / stats['Vol 1981-2001']\n",
    "stats['VaR 1981-2001'] = factors.loc['1981':'2001'].quantile(0.05)  *math.sqrt(12)\n",
    "\n",
    "stats['Mean 2002-End'] = factors.loc['2002':].mean() *12\n",
    "\n",
    "stats['Vol 2002-End'] = factors.loc['2002':].std() *math.sqrt(12)\n",
    "stats['Sharpe 2002-End'] = stats['Mean 2002-End'] / stats['Vol 2002-End']\n",
    "stats['VaR 2002-End'] = factors.loc['2002':].quantile(0.05)  *math.sqrt(12)\n",
    "stats"
   ]
  },
  {
   "cell_type": "markdown",
   "metadata": {},
   "source": [
    "2. Based on the factor statistics above, answer the following.\n",
    "\n",
    "(a) Does each factor have a premium (positive expected excess return) in each subsample?"
   ]
  },
  {
   "cell_type": "markdown",
   "metadata": {},
   "source": [
    "Mkt-RF has a positive expected excess return in each subsample. SMB has a positive expected excess return for beginning-1980 and 2002-End, but not during the 1981-2001 period. HML has positive expected excess returns for the two earlier periods, but not the last one."
   ]
  },
  {
   "cell_type": "markdown",
   "metadata": {},
   "source": [
    "(b) Does the premium to the size factor get smaller after 1980?"
   ]
  },
  {
   "cell_type": "markdown",
   "metadata": {},
   "source": [
    "For the 1981-2001 and 2002-End periods, the expected excess return is lower than it was in Beginning-1980"
   ]
  },
  {
   "cell_type": "markdown",
   "metadata": {},
   "source": [
    "(c) Does the premium to the value factor get smaller during the 1990’s?\n"
   ]
  },
  {
   "cell_type": "code",
   "execution_count": 12,
   "metadata": {},
   "outputs": [
    {
     "data": {
      "text/plain": [
       "Mkt-RF    0.12764\n",
       "SMB      -0.01375\n",
       "HML      -0.00108\n",
       "dtype: float64"
      ]
     },
     "execution_count": 12,
     "metadata": {},
     "output_type": "execute_result"
    }
   ],
   "source": [
    "factors.loc['1990':'1999'].mean() *12"
   ]
  },
  {
   "cell_type": "markdown",
   "metadata": {},
   "source": [
    "Yes, the excess returns on HML became negative during the 1990s, whereas it was previously positive."
   ]
  },
  {
   "cell_type": "markdown",
   "metadata": {},
   "source": [
    "(d) How have the factors performed since the time of the case, (2002-present)?"
   ]
  },
  {
   "cell_type": "markdown",
   "metadata": {},
   "source": [
    "SMB and HML have gotten closer to 0, suggesting that the market is now pricing these factors into the pricing, where it wasn't previously. The regular market returns still performs very strongly."
   ]
  },
  {
   "cell_type": "markdown",
   "metadata": {},
   "source": [
    "3. The factors are constructed in such a way as to reduce correlation between them.\n",
    "Report the correlation matrix across the three factors. Does the construction method succeed\n",
    "in keeping correlations small? Does it achieve this in each subsample?"
   ]
  },
  {
   "cell_type": "code",
   "execution_count": 13,
   "metadata": {},
   "outputs": [
    {
     "data": {
      "image/png": "[encoded data removed]",
      "text/plain": [
       "<Figure size 432x288 with 2 Axes>"
      ]
     },
     "metadata": {
      "needs_background": "light"
     },
     "output_type": "display_data"
    }
   ],
   "source": [
    "# full time period\n",
    "overall_correlation = factors.corr()\n",
    "overall_correlation\n",
    "sns.heatmap(factors.corr(),annot=True,cmap='Blues',linewidths=3,linecolor='black')\n",
    "plt.title('Full time period')\n",
    "plt.show()\n"
   ]
  },
  {
   "cell_type": "code",
   "execution_count": 14,
   "metadata": {},
   "outputs": [
    {
     "data": {
      "image/png": "[encoded data removed]",
      "text/plain": [
       "<Figure size 432x288 with 2 Axes>"
      ]
     },
     "metadata": {
      "needs_background": "light"
     },
     "output_type": "display_data"
    }
   ],
   "source": [
    "# Beginning - 1980\n",
    "sns.heatmap(factors.loc[:'1980'].corr(),annot=True,cmap='Blues',linewidths=3,linecolor='black')\n",
    "plt.title('Beginning to 1980')\n",
    "plt.show()"
   ]
  },
  {
   "cell_type": "code",
   "execution_count": 15,
   "metadata": {},
   "outputs": [
    {
     "data": {
      "image/png": "[encoded data removed]",
      "text/plain": [
       "<Figure size 432x288 with 2 Axes>"
      ]
     },
     "metadata": {
      "needs_background": "light"
     },
     "output_type": "display_data"
    }
   ],
   "source": [
    "# 1981-2001\n",
    "sns.heatmap(factors.loc['1981':'2001'].corr(),annot=True,cmap='Blues',linewidths=3,linecolor='black')\n",
    "plt.title('1981-2001')\n",
    "plt.show()"
   ]
  },
  {
   "cell_type": "code",
   "execution_count": 16,
   "metadata": {},
   "outputs": [
    {
     "data": {
      "image/png": "[encoded data removed]",
      "text/plain": [
       "<Figure size 432x288 with 2 Axes>"
      ]
     },
     "metadata": {
      "needs_background": "light"
     },
     "output_type": "display_data"
    }
   ],
   "source": [
    "# 2002-End\n",
    "sns.heatmap(factors.loc['2002':].corr(),annot=True,cmap='Blues',linewidths=3,linecolor='black')\n",
    "plt.title('2002-Present')\n",
    "plt.show()"
   ]
  },
  {
   "cell_type": "markdown",
   "metadata": {},
   "source": [
    "In the 1981-2001 period, the Mkt-RF and the HML had relatively strong correlation of -0.53. HML also had a correlation of -0.45 with SMB.\n",
    "\n",
    "In the Beginning to 1980 period, all the factors had mild correlation with each other.\n",
    "\n",
    "In the overall and latest periods, the correlation levels have been lower in magnitude."
   ]
  },
  {
   "cell_type": "markdown",
   "metadata": {},
   "source": [
    "4. Plot the cumulative returns of the three factors. Create plots for the 1981-2001 subsample as\n",
    "well as the 2002-Present subsample."
   ]
  },
  {
   "cell_type": "code",
   "execution_count": 17,
   "metadata": {},
   "outputs": [
    {
     "data": {
      "text/plain": [
       "Text(0, 0.5, 'Cumulative return')"
      ]
     },
     "execution_count": 17,
     "metadata": {},
     "output_type": "execute_result"
    },
    {
     "data": {
      "image/png": "[encoded data removed]",
      "text/plain": [
       "<Figure size 864x576 with 1 Axes>"
      ]
     },
     "metadata": {
      "needs_background": "light"
     },
     "output_type": "display_data"
    }
   ],
   "source": [
    "cum_returns = (factors + 1).cumprod()\n",
    "cum_returns.plot(figsize=(12,8))\n",
    "plt.title('Full period Cumulative Return')\n",
    "plt.ylabel('Cumulative return')"
   ]
  },
  {
   "cell_type": "code",
   "execution_count": 18,
   "metadata": {},
   "outputs": [
    {
     "data": {
      "text/plain": [
       "Text(0, 0.5, 'Cumulative return')"
      ]
     },
     "execution_count": 18,
     "metadata": {},
     "output_type": "execute_result"
    },
    {
     "data": {
      "image/png": "[encoded data removed]",
      "text/plain": [
       "<Figure size 864x576 with 1 Axes>"
      ]
     },
     "metadata": {
      "needs_background": "light"
     },
     "output_type": "display_data"
    }
   ],
   "source": [
    "cum_returns_1981_2001 = (factors.loc['1981':'2001'] + 1).cumprod()\n",
    "cum_returns_1981_2001.plot(figsize=(12,8))\n",
    "plt.title('1981-2001 Cumulative Returns')\n",
    "plt.ylabel('Cumulative return')"
   ]
  },
  {
   "cell_type": "code",
   "execution_count": 19,
   "metadata": {},
   "outputs": [
    {
     "data": {
      "text/plain": [
       "Text(0, 0.5, 'Cumulative return')"
      ]
     },
     "execution_count": 19,
     "metadata": {},
     "output_type": "execute_result"
    },
    {
     "data": {
      "image/png": "[encoded data removed]",
      "text/plain": [
       "<Figure size 864x576 with 1 Axes>"
      ]
     },
     "metadata": {
      "needs_background": "light"
     },
     "output_type": "display_data"
    }
   ],
   "source": [
    "cum_returns_2002_end = (factors.loc['2002':] + 1).cumprod()\n",
    "cum_returns_2002_end.plot(figsize=(12,8))\n",
    "plt.title('2002-Present Cumulative Returns')\n",
    "plt.ylabel('Cumulative return')"
   ]
  },
  {
   "cell_type": "markdown",
   "metadata": {},
   "source": [
    "5. Does it appear that all three factors were valuable in 1981-2001? And post-2001? Would you\n",
    "advise DFA to continue emphasizing all three factors?\n"
   ]
  },
  {
   "cell_type": "markdown",
   "metadata": {},
   "source": [
    "SMB was not valuable in the 1981-2001 period. HML underperformed post-2001. Market continues to remain strong except for brief periods of financial crisises. In later years, the other factors have become increasingly less valuable compared to the overall market, so they should likely be emphasized less."
   ]
  },
  {
   "cell_type": "markdown",
   "metadata": {},
   "source": [
    "# 3 CAPM"
   ]
  },
  {
   "cell_type": "markdown",
   "metadata": {},
   "source": [
    "DFA believes that premia in stocks and stock portfolios is related to the three factors.\n",
    "Let’s test 25 equity portfolios that span a wide range of size and value measures.2\n",
    "• PORTFOLIOS: Monthly total return data on 25 equity portfolios sorted by their size-value\n",
    "characteristics. Denote these as r\n",
    "i\n",
    ", for n = 1, . . . , 25.\n",
    "• Note that while the factors were given as excess returns, the portfolios are total returns.\n",
    "• For this entire problem, focus on the 1981-Present subsample."
   ]
  },
  {
   "cell_type": "markdown",
   "metadata": {},
   "source": [
    "1. Summary Statistics. For each portfolio,\n",
    "• Use the Risk-Free rate column in the factors tab to convert these total returns to excess\n",
    "returns.\n",
    "• Calculate the (annualized) univariate statistics from 1.1.\n",
    "• Can the difference in mean excess returns of the portfolios be explained by differences in\n",
    "their volatilities? Or by their VaR(.05) statistics?"
   ]
  },
  {
   "cell_type": "code",
   "execution_count": 24,
   "metadata": {},
   "outputs": [
    {
     "data": {
      "text/html": [
       "<div>\n",
       "<style scoped>\n",
       "    .dataframe tbody tr th:only-of-type {\n",
       "        vertical-align: middle;\n",
       "    }\n",
       "\n",
       "    .dataframe tbody tr th {\n",
       "        vertical-align: top;\n",
       "    }\n",
       "\n",
       "    .dataframe thead th {\n",
       "        text-align: right;\n",
       "    }\n",
       "</style>\n",
       "<table border=\"1\" class=\"dataframe\">\n",
       "  <thead>\n",
       "    <tr style=\"text-align: right;\">\n",
       "      <th></th>\n",
       "      <th>SMALL LoBM</th>\n",
       "      <th>ME1 BM2</th>\n",
       "      <th>ME1 BM3</th>\n",
       "      <th>ME1 BM4</th>\n",
       "      <th>SMALL HiBM</th>\n",
       "      <th>ME2 BM1</th>\n",
       "      <th>ME2 BM2</th>\n",
       "      <th>ME2 BM3</th>\n",
       "      <th>ME2 BM4</th>\n",
       "      <th>ME2 BM5</th>\n",
       "      <th>...</th>\n",
       "      <th>ME4 BM1</th>\n",
       "      <th>ME4 BM2</th>\n",
       "      <th>ME4 BM3</th>\n",
       "      <th>ME4 BM4</th>\n",
       "      <th>ME4 BM5</th>\n",
       "      <th>BIG LoBM</th>\n",
       "      <th>ME5 BM2</th>\n",
       "      <th>ME5 BM3</th>\n",
       "      <th>ME5 BM4</th>\n",
       "      <th>BIG HiBM</th>\n",
       "    </tr>\n",
       "    <tr>\n",
       "      <th>Date</th>\n",
       "      <th></th>\n",
       "      <th></th>\n",
       "      <th></th>\n",
       "      <th></th>\n",
       "      <th></th>\n",
       "      <th></th>\n",
       "      <th></th>\n",
       "      <th></th>\n",
       "      <th></th>\n",
       "      <th></th>\n",
       "      <th></th>\n",
       "      <th></th>\n",
       "      <th></th>\n",
       "      <th></th>\n",
       "      <th></th>\n",
       "      <th></th>\n",
       "      <th></th>\n",
       "      <th></th>\n",
       "      <th></th>\n",
       "      <th></th>\n",
       "      <th></th>\n",
       "    </tr>\n",
       "  </thead>\n",
       "  <tbody>\n",
       "    <tr>\n",
       "      <th>1926-07-31</th>\n",
       "      <td>0.035582</td>\n",
       "      <td>-0.006319</td>\n",
       "      <td>-0.021634</td>\n",
       "      <td>0.001330</td>\n",
       "      <td>0.018334</td>\n",
       "      <td>0.009877</td>\n",
       "      <td>0.021992</td>\n",
       "      <td>0.002726</td>\n",
       "      <td>-0.028249</td>\n",
       "      <td>-0.005544</td>\n",
       "      <td>...</td>\n",
       "      <td>0.013693</td>\n",
       "      <td>0.013078</td>\n",
       "      <td>0.012333</td>\n",
       "      <td>0.000527</td>\n",
       "      <td>0.022478</td>\n",
       "      <td>0.032339</td>\n",
       "      <td>0.058702</td>\n",
       "      <td>0.017393</td>\n",
       "      <td>0.028911</td>\n",
       "      <td>0.003423</td>\n",
       "    </tr>\n",
       "    <tr>\n",
       "      <th>1926-08-31</th>\n",
       "      <td>-0.024574</td>\n",
       "      <td>-0.089775</td>\n",
       "      <td>0.021904</td>\n",
       "      <td>0.003586</td>\n",
       "      <td>0.081468</td>\n",
       "      <td>0.021118</td>\n",
       "      <td>-0.014349</td>\n",
       "      <td>0.037584</td>\n",
       "      <td>0.002538</td>\n",
       "      <td>0.059175</td>\n",
       "      <td>...</td>\n",
       "      <td>0.010836</td>\n",
       "      <td>0.036230</td>\n",
       "      <td>0.015967</td>\n",
       "      <td>0.019206</td>\n",
       "      <td>0.050922</td>\n",
       "      <td>0.007624</td>\n",
       "      <td>0.039403</td>\n",
       "      <td>0.017962</td>\n",
       "      <td>0.052349</td>\n",
       "      <td>0.075076</td>\n",
       "    </tr>\n",
       "    <tr>\n",
       "      <th>1926-09-30</th>\n",
       "      <td>-0.064413</td>\n",
       "      <td>-0.005289</td>\n",
       "      <td>-0.064282</td>\n",
       "      <td>-0.018668</td>\n",
       "      <td>0.006349</td>\n",
       "      <td>-0.028840</td>\n",
       "      <td>-0.014918</td>\n",
       "      <td>0.008529</td>\n",
       "      <td>-0.037780</td>\n",
       "      <td>-0.011701</td>\n",
       "      <td>...</td>\n",
       "      <td>0.008623</td>\n",
       "      <td>-0.007550</td>\n",
       "      <td>-0.017221</td>\n",
       "      <td>0.012346</td>\n",
       "      <td>0.006430</td>\n",
       "      <td>-0.015206</td>\n",
       "      <td>0.034238</td>\n",
       "      <td>-0.002100</td>\n",
       "      <td>-0.009787</td>\n",
       "      <td>-0.026584</td>\n",
       "    </tr>\n",
       "    <tr>\n",
       "      <th>1926-10-31</th>\n",
       "      <td>-0.089441</td>\n",
       "      <td>-0.040732</td>\n",
       "      <td>-0.059919</td>\n",
       "      <td>0.053970</td>\n",
       "      <td>-0.028676</td>\n",
       "      <td>-0.031269</td>\n",
       "      <td>-0.035863</td>\n",
       "      <td>-0.053945</td>\n",
       "      <td>-0.083391</td>\n",
       "      <td>-0.016413</td>\n",
       "      <td>...</td>\n",
       "      <td>-0.036561</td>\n",
       "      <td>-0.029759</td>\n",
       "      <td>-0.022369</td>\n",
       "      <td>-0.034251</td>\n",
       "      <td>-0.056725</td>\n",
       "      <td>-0.030613</td>\n",
       "      <td>-0.033271</td>\n",
       "      <td>-0.025849</td>\n",
       "      <td>-0.049919</td>\n",
       "      <td>-0.061329</td>\n",
       "    </tr>\n",
       "    <tr>\n",
       "      <th>1926-11-30</th>\n",
       "      <td>0.031644</td>\n",
       "      <td>0.063376</td>\n",
       "      <td>0.019534</td>\n",
       "      <td>-0.050120</td>\n",
       "      <td>0.002262</td>\n",
       "      <td>0.027933</td>\n",
       "      <td>-0.026790</td>\n",
       "      <td>0.026978</td>\n",
       "      <td>0.048446</td>\n",
       "      <td>0.024192</td>\n",
       "      <td>...</td>\n",
       "      <td>0.031348</td>\n",
       "      <td>0.020787</td>\n",
       "      <td>0.036030</td>\n",
       "      <td>0.046220</td>\n",
       "      <td>0.015113</td>\n",
       "      <td>0.039846</td>\n",
       "      <td>0.022226</td>\n",
       "      <td>0.012017</td>\n",
       "      <td>0.033519</td>\n",
       "      <td>0.022536</td>\n",
       "    </tr>\n",
       "    <tr>\n",
       "      <th>...</th>\n",
       "      <td>...</td>\n",
       "      <td>...</td>\n",
       "      <td>...</td>\n",
       "      <td>...</td>\n",
       "      <td>...</td>\n",
       "      <td>...</td>\n",
       "      <td>...</td>\n",
       "      <td>...</td>\n",
       "      <td>...</td>\n",
       "      <td>...</td>\n",
       "      <td>...</td>\n",
       "      <td>...</td>\n",
       "      <td>...</td>\n",
       "      <td>...</td>\n",
       "      <td>...</td>\n",
       "      <td>...</td>\n",
       "      <td>...</td>\n",
       "      <td>...</td>\n",
       "      <td>...</td>\n",
       "      <td>...</td>\n",
       "      <td>...</td>\n",
       "    </tr>\n",
       "    <tr>\n",
       "      <th>2021-04-30</th>\n",
       "      <td>-0.031918</td>\n",
       "      <td>-0.025146</td>\n",
       "      <td>0.016436</td>\n",
       "      <td>0.010073</td>\n",
       "      <td>-0.009711</td>\n",
       "      <td>0.035662</td>\n",
       "      <td>0.016463</td>\n",
       "      <td>0.022390</td>\n",
       "      <td>0.007952</td>\n",
       "      <td>0.012227</td>\n",
       "      <td>...</td>\n",
       "      <td>0.043807</td>\n",
       "      <td>0.031023</td>\n",
       "      <td>0.059322</td>\n",
       "      <td>0.033530</td>\n",
       "      <td>0.060459</td>\n",
       "      <td>0.058966</td>\n",
       "      <td>0.058241</td>\n",
       "      <td>0.039870</td>\n",
       "      <td>0.047821</td>\n",
       "      <td>0.045701</td>\n",
       "    </tr>\n",
       "    <tr>\n",
       "      <th>2021-05-31</th>\n",
       "      <td>0.014358</td>\n",
       "      <td>0.005285</td>\n",
       "      <td>0.007486</td>\n",
       "      <td>0.023463</td>\n",
       "      <td>0.104483</td>\n",
       "      <td>-0.024340</td>\n",
       "      <td>0.001611</td>\n",
       "      <td>0.005692</td>\n",
       "      <td>0.026063</td>\n",
       "      <td>0.073152</td>\n",
       "      <td>...</td>\n",
       "      <td>-0.019889</td>\n",
       "      <td>0.000367</td>\n",
       "      <td>0.021225</td>\n",
       "      <td>0.037037</td>\n",
       "      <td>0.044815</td>\n",
       "      <td>-0.013830</td>\n",
       "      <td>0.007609</td>\n",
       "      <td>0.033797</td>\n",
       "      <td>0.036626</td>\n",
       "      <td>0.080384</td>\n",
       "    </tr>\n",
       "    <tr>\n",
       "      <th>2021-06-30</th>\n",
       "      <td>0.086902</td>\n",
       "      <td>0.051847</td>\n",
       "      <td>0.010202</td>\n",
       "      <td>-0.004778</td>\n",
       "      <td>0.037169</td>\n",
       "      <td>0.066363</td>\n",
       "      <td>0.035228</td>\n",
       "      <td>0.013767</td>\n",
       "      <td>-0.020188</td>\n",
       "      <td>0.011213</td>\n",
       "      <td>...</td>\n",
       "      <td>0.051402</td>\n",
       "      <td>0.002436</td>\n",
       "      <td>-0.010576</td>\n",
       "      <td>-0.038628</td>\n",
       "      <td>-0.046390</td>\n",
       "      <td>0.057328</td>\n",
       "      <td>0.014829</td>\n",
       "      <td>-0.022818</td>\n",
       "      <td>-0.023452</td>\n",
       "      <td>-0.037225</td>\n",
       "    </tr>\n",
       "    <tr>\n",
       "      <th>2021-07-31</th>\n",
       "      <td>-0.101732</td>\n",
       "      <td>-0.076929</td>\n",
       "      <td>-0.036096</td>\n",
       "      <td>-0.047526</td>\n",
       "      <td>-0.015473</td>\n",
       "      <td>-0.074616</td>\n",
       "      <td>-0.032841</td>\n",
       "      <td>-0.017331</td>\n",
       "      <td>-0.021717</td>\n",
       "      <td>-0.060350</td>\n",
       "      <td>...</td>\n",
       "      <td>-0.007491</td>\n",
       "      <td>0.018909</td>\n",
       "      <td>-0.012862</td>\n",
       "      <td>0.013608</td>\n",
       "      <td>-0.042888</td>\n",
       "      <td>0.033018</td>\n",
       "      <td>0.031933</td>\n",
       "      <td>0.004058</td>\n",
       "      <td>-0.015416</td>\n",
       "      <td>-0.034379</td>\n",
       "    </tr>\n",
       "    <tr>\n",
       "      <th>2021-08-31</th>\n",
       "      <td>0.025426</td>\n",
       "      <td>0.055795</td>\n",
       "      <td>0.040673</td>\n",
       "      <td>0.026149</td>\n",
       "      <td>0.039750</td>\n",
       "      <td>0.019219</td>\n",
       "      <td>0.023608</td>\n",
       "      <td>0.012415</td>\n",
       "      <td>0.015206</td>\n",
       "      <td>0.024336</td>\n",
       "      <td>...</td>\n",
       "      <td>0.032077</td>\n",
       "      <td>0.015669</td>\n",
       "      <td>0.016435</td>\n",
       "      <td>0.032307</td>\n",
       "      <td>0.050117</td>\n",
       "      <td>0.033115</td>\n",
       "      <td>0.041280</td>\n",
       "      <td>0.005564</td>\n",
       "      <td>0.012868</td>\n",
       "      <td>0.043102</td>\n",
       "    </tr>\n",
       "  </tbody>\n",
       "</table>\n",
       "<p>1142 rows × 25 columns</p>\n",
       "</div>"
      ],
      "text/plain": [
       "            SMALL LoBM   ME1 BM2   ME1 BM3   ME1 BM4  SMALL HiBM   ME2 BM1  \\\n",
       "Date                                                                         \n",
       "1926-07-31    0.035582 -0.006319 -0.021634  0.001330    0.018334  0.009877   \n",
       "1926-08-31   -0.024574 -0.089775  0.021904  0.003586    0.081468  0.021118   \n",
       "1926-09-30   -0.064413 -0.005289 -0.064282 -0.018668    0.006349 -0.028840   \n",
       "1926-10-31   -0.089441 -0.040732 -0.059919  0.053970   -0.028676 -0.031269   \n",
       "1926-11-30    0.031644  0.063376  0.019534 -0.050120    0.002262  0.027933   \n",
       "...                ...       ...       ...       ...         ...       ...   \n",
       "2021-04-30   -0.031918 -0.025146  0.016436  0.010073   -0.009711  0.035662   \n",
       "2021-05-31    0.014358  0.005285  0.007486  0.023463    0.104483 -0.024340   \n",
       "2021-06-30    0.086902  0.051847  0.010202 -0.004778    0.037169  0.066363   \n",
       "2021-07-31   -0.101732 -0.076929 -0.036096 -0.047526   -0.015473 -0.074616   \n",
       "2021-08-31    0.025426  0.055795  0.040673  0.026149    0.039750  0.019219   \n",
       "\n",
       "             ME2 BM2   ME2 BM3   ME2 BM4   ME2 BM5  ...   ME4 BM1   ME4 BM2  \\\n",
       "Date                                                ...                       \n",
       "1926-07-31  0.021992  0.002726 -0.028249 -0.005544  ...  0.013693  0.013078   \n",
       "1926-08-31 -0.014349  0.037584  0.002538  0.059175  ...  0.010836  0.036230   \n",
       "1926-09-30 -0.014918  0.008529 -0.037780 -0.011701  ...  0.008623 -0.007550   \n",
       "1926-10-31 -0.035863 -0.053945 -0.083391 -0.016413  ... -0.036561 -0.029759   \n",
       "1926-11-30 -0.026790  0.026978  0.048446  0.024192  ...  0.031348  0.020787   \n",
       "...              ...       ...       ...       ...  ...       ...       ...   \n",
       "2021-04-30  0.016463  0.022390  0.007952  0.012227  ...  0.043807  0.031023   \n",
       "2021-05-31  0.001611  0.005692  0.026063  0.073152  ... -0.019889  0.000367   \n",
       "2021-06-30  0.035228  0.013767 -0.020188  0.011213  ...  0.051402  0.002436   \n",
       "2021-07-31 -0.032841 -0.017331 -0.021717 -0.060350  ... -0.007491  0.018909   \n",
       "2021-08-31  0.023608  0.012415  0.015206  0.024336  ...  0.032077  0.015669   \n",
       "\n",
       "             ME4 BM3   ME4 BM4   ME4 BM5  BIG LoBM   ME5 BM2   ME5 BM3  \\\n",
       "Date                                                                     \n",
       "1926-07-31  0.012333  0.000527  0.022478  0.032339  0.058702  0.017393   \n",
       "1926-08-31  0.015967  0.019206  0.050922  0.007624  0.039403  0.017962   \n",
       "1926-09-30 -0.017221  0.012346  0.006430 -0.015206  0.034238 -0.002100   \n",
       "1926-10-31 -0.022369 -0.034251 -0.056725 -0.030613 -0.033271 -0.025849   \n",
       "1926-11-30  0.036030  0.046220  0.015113  0.039846  0.022226  0.012017   \n",
       "...              ...       ...       ...       ...       ...       ...   \n",
       "2021-04-30  0.059322  0.033530  0.060459  0.058966  0.058241  0.039870   \n",
       "2021-05-31  0.021225  0.037037  0.044815 -0.013830  0.007609  0.033797   \n",
       "2021-06-30 -0.010576 -0.038628 -0.046390  0.057328  0.014829 -0.022818   \n",
       "2021-07-31 -0.012862  0.013608 -0.042888  0.033018  0.031933  0.004058   \n",
       "2021-08-31  0.016435  0.032307  0.050117  0.033115  0.041280  0.005564   \n",
       "\n",
       "             ME5 BM4  BIG HiBM  \n",
       "Date                            \n",
       "1926-07-31  0.028911  0.003423  \n",
       "1926-08-31  0.052349  0.075076  \n",
       "1926-09-30 -0.009787 -0.026584  \n",
       "1926-10-31 -0.049919 -0.061329  \n",
       "1926-11-30  0.033519  0.022536  \n",
       "...              ...       ...  \n",
       "2021-04-30  0.047821  0.045701  \n",
       "2021-05-31  0.036626  0.080384  \n",
       "2021-06-30 -0.023452 -0.037225  \n",
       "2021-07-31 -0.015416 -0.034379  \n",
       "2021-08-31  0.012868  0.043102  \n",
       "\n",
       "[1142 rows x 25 columns]"
      ]
     },
     "execution_count": 24,
     "metadata": {},
     "output_type": "execute_result"
    }
   ],
   "source": [
    "rf = pd.read_excel(r'/Users/peterfeng/Downloads/积累/Previous Courses Materials/UChicago Past Courses/UChicago 2021 Fall/Portfolio Theory/hw data/dfa_analysis_data.xlsx',sheet_name=1,index_col='Date',parse_dates=['Date'])\n",
    "rf = rf[['RF']]\n",
    "rf\n",
    "stock_returns = pd.read_excel(r'/Users/peterfeng/Downloads/积累/Previous Courses Materials/UChicago Past Courses/UChicago 2021 Fall/Portfolio Theory/hw data/dfa_analysis_data.xlsx',sheet_name=2,index_col='Date',parse_dates=['Date'])\n",
    "stock_returns['rf'] = rf\n",
    "for column in stock_returns.columns:\n",
    "    stock_returns[column] = stock_returns[column] - stock_returns['rf']\n",
    "stock_returns.drop('rf',axis=1,inplace=True)\n",
    "stock_returns"
   ]
  },
  {
   "cell_type": "code",
   "execution_count": 25,
   "metadata": {},
   "outputs": [
    {
     "data": {
      "text/html": [
       "<div>\n",
       "<style scoped>\n",
       "    .dataframe tbody tr th:only-of-type {\n",
       "        vertical-align: middle;\n",
       "    }\n",
       "\n",
       "    .dataframe tbody tr th {\n",
       "        vertical-align: top;\n",
       "    }\n",
       "\n",
       "    .dataframe thead th {\n",
       "        text-align: right;\n",
       "    }\n",
       "</style>\n",
       "<table border=\"1\" class=\"dataframe\">\n",
       "  <thead>\n",
       "    <tr style=\"text-align: right;\">\n",
       "      <th></th>\n",
       "      <th>Mean</th>\n",
       "      <th>Vol</th>\n",
       "      <th>Sharpe</th>\n",
       "      <th>VaR</th>\n",
       "    </tr>\n",
       "  </thead>\n",
       "  <tbody>\n",
       "    <tr>\n",
       "      <th>SMALL LoBM</th>\n",
       "      <td>0.022153</td>\n",
       "      <td>0.270822</td>\n",
       "      <td>0.081798</td>\n",
       "      <td>-0.397348</td>\n",
       "    </tr>\n",
       "    <tr>\n",
       "      <th>ME1 BM2</th>\n",
       "      <td>0.106868</td>\n",
       "      <td>0.236815</td>\n",
       "      <td>0.451272</td>\n",
       "      <td>-0.325541</td>\n",
       "    </tr>\n",
       "    <tr>\n",
       "      <th>ME1 BM3</th>\n",
       "      <td>0.099837</td>\n",
       "      <td>0.197447</td>\n",
       "      <td>0.505641</td>\n",
       "      <td>-0.291346</td>\n",
       "    </tr>\n",
       "    <tr>\n",
       "      <th>ME1 BM4</th>\n",
       "      <td>0.124833</td>\n",
       "      <td>0.192335</td>\n",
       "      <td>0.649039</td>\n",
       "      <td>-0.267840</td>\n",
       "    </tr>\n",
       "    <tr>\n",
       "      <th>SMALL HiBM</th>\n",
       "      <td>0.134298</td>\n",
       "      <td>0.208090</td>\n",
       "      <td>0.645387</td>\n",
       "      <td>-0.304225</td>\n",
       "    </tr>\n",
       "    <tr>\n",
       "      <th>ME2 BM1</th>\n",
       "      <td>0.070202</td>\n",
       "      <td>0.243811</td>\n",
       "      <td>0.287936</td>\n",
       "      <td>-0.358867</td>\n",
       "    </tr>\n",
       "    <tr>\n",
       "      <th>ME2 BM2</th>\n",
       "      <td>0.109513</td>\n",
       "      <td>0.201793</td>\n",
       "      <td>0.542697</td>\n",
       "      <td>-0.281725</td>\n",
       "    </tr>\n",
       "    <tr>\n",
       "      <th>ME2 BM3</th>\n",
       "      <td>0.109943</td>\n",
       "      <td>0.182104</td>\n",
       "      <td>0.603739</td>\n",
       "      <td>-0.266167</td>\n",
       "    </tr>\n",
       "    <tr>\n",
       "      <th>ME2 BM4</th>\n",
       "      <td>0.110922</td>\n",
       "      <td>0.179685</td>\n",
       "      <td>0.617314</td>\n",
       "      <td>-0.269148</td>\n",
       "    </tr>\n",
       "    <tr>\n",
       "      <th>ME2 BM5</th>\n",
       "      <td>0.119810</td>\n",
       "      <td>0.212043</td>\n",
       "      <td>0.565026</td>\n",
       "      <td>-0.321392</td>\n",
       "    </tr>\n",
       "    <tr>\n",
       "      <th>ME3 BM1</th>\n",
       "      <td>0.080687</td>\n",
       "      <td>0.224454</td>\n",
       "      <td>0.359482</td>\n",
       "      <td>-0.335367</td>\n",
       "    </tr>\n",
       "    <tr>\n",
       "      <th>ME3 BM2</th>\n",
       "      <td>0.113432</td>\n",
       "      <td>0.186866</td>\n",
       "      <td>0.607022</td>\n",
       "      <td>-0.274676</td>\n",
       "    </tr>\n",
       "    <tr>\n",
       "      <th>ME3 BM3</th>\n",
       "      <td>0.096010</td>\n",
       "      <td>0.169865</td>\n",
       "      <td>0.565213</td>\n",
       "      <td>-0.253318</td>\n",
       "    </tr>\n",
       "    <tr>\n",
       "      <th>ME3 BM4</th>\n",
       "      <td>0.112332</td>\n",
       "      <td>0.176542</td>\n",
       "      <td>0.636291</td>\n",
       "      <td>-0.252239</td>\n",
       "    </tr>\n",
       "    <tr>\n",
       "      <th>ME3 BM5</th>\n",
       "      <td>0.127195</td>\n",
       "      <td>0.198180</td>\n",
       "      <td>0.641815</td>\n",
       "      <td>-0.276526</td>\n",
       "    </tr>\n",
       "    <tr>\n",
       "      <th>ME4 BM1</th>\n",
       "      <td>0.101543</td>\n",
       "      <td>0.202421</td>\n",
       "      <td>0.501644</td>\n",
       "      <td>-0.286842</td>\n",
       "    </tr>\n",
       "    <tr>\n",
       "      <th>ME4 BM2</th>\n",
       "      <td>0.100121</td>\n",
       "      <td>0.175344</td>\n",
       "      <td>0.570996</td>\n",
       "      <td>-0.245327</td>\n",
       "    </tr>\n",
       "    <tr>\n",
       "      <th>ME4 BM3</th>\n",
       "      <td>0.095713</td>\n",
       "      <td>0.173399</td>\n",
       "      <td>0.551983</td>\n",
       "      <td>-0.262130</td>\n",
       "    </tr>\n",
       "    <tr>\n",
       "      <th>ME4 BM4</th>\n",
       "      <td>0.104661</td>\n",
       "      <td>0.173009</td>\n",
       "      <td>0.604946</td>\n",
       "      <td>-0.236255</td>\n",
       "    </tr>\n",
       "    <tr>\n",
       "      <th>ME4 BM5</th>\n",
       "      <td>0.111079</td>\n",
       "      <td>0.196877</td>\n",
       "      <td>0.564205</td>\n",
       "      <td>-0.289869</td>\n",
       "    </tr>\n",
       "    <tr>\n",
       "      <th>BIG LoBM</th>\n",
       "      <td>0.094355</td>\n",
       "      <td>0.160404</td>\n",
       "      <td>0.588229</td>\n",
       "      <td>-0.257983</td>\n",
       "    </tr>\n",
       "    <tr>\n",
       "      <th>ME5 BM2</th>\n",
       "      <td>0.089117</td>\n",
       "      <td>0.154273</td>\n",
       "      <td>0.577660</td>\n",
       "      <td>-0.226523</td>\n",
       "    </tr>\n",
       "    <tr>\n",
       "      <th>ME5 BM3</th>\n",
       "      <td>0.085683</td>\n",
       "      <td>0.152346</td>\n",
       "      <td>0.562424</td>\n",
       "      <td>-0.239611</td>\n",
       "    </tr>\n",
       "    <tr>\n",
       "      <th>ME5 BM4</th>\n",
       "      <td>0.066745</td>\n",
       "      <td>0.169794</td>\n",
       "      <td>0.393094</td>\n",
       "      <td>-0.260641</td>\n",
       "    </tr>\n",
       "    <tr>\n",
       "      <th>BIG HiBM</th>\n",
       "      <td>0.099447</td>\n",
       "      <td>0.205601</td>\n",
       "      <td>0.483690</td>\n",
       "      <td>-0.332894</td>\n",
       "    </tr>\n",
       "  </tbody>\n",
       "</table>\n",
       "</div>"
      ],
      "text/plain": [
       "                Mean       Vol    Sharpe       VaR\n",
       "SMALL LoBM  0.022153  0.270822  0.081798 -0.397348\n",
       "ME1 BM2     0.106868  0.236815  0.451272 -0.325541\n",
       "ME1 BM3     0.099837  0.197447  0.505641 -0.291346\n",
       "ME1 BM4     0.124833  0.192335  0.649039 -0.267840\n",
       "SMALL HiBM  0.134298  0.208090  0.645387 -0.304225\n",
       "ME2 BM1     0.070202  0.243811  0.287936 -0.358867\n",
       "ME2 BM2     0.109513  0.201793  0.542697 -0.281725\n",
       "ME2 BM3     0.109943  0.182104  0.603739 -0.266167\n",
       "ME2 BM4     0.110922  0.179685  0.617314 -0.269148\n",
       "ME2 BM5     0.119810  0.212043  0.565026 -0.321392\n",
       "ME3 BM1     0.080687  0.224454  0.359482 -0.335367\n",
       "ME3 BM2     0.113432  0.186866  0.607022 -0.274676\n",
       "ME3 BM3     0.096010  0.169865  0.565213 -0.253318\n",
       "ME3 BM4     0.112332  0.176542  0.636291 -0.252239\n",
       "ME3 BM5     0.127195  0.198180  0.641815 -0.276526\n",
       "ME4 BM1     0.101543  0.202421  0.501644 -0.286842\n",
       "ME4 BM2     0.100121  0.175344  0.570996 -0.245327\n",
       "ME4 BM3     0.095713  0.173399  0.551983 -0.262130\n",
       "ME4 BM4     0.104661  0.173009  0.604946 -0.236255\n",
       "ME4 BM5     0.111079  0.196877  0.564205 -0.289869\n",
       "BIG LoBM    0.094355  0.160404  0.588229 -0.257983\n",
       "ME5 BM2     0.089117  0.154273  0.577660 -0.226523\n",
       "ME5 BM3     0.085683  0.152346  0.562424 -0.239611\n",
       "ME5 BM4     0.066745  0.169794  0.393094 -0.260641\n",
       "BIG HiBM    0.099447  0.205601  0.483690 -0.332894"
      ]
     },
     "execution_count": 25,
     "metadata": {},
     "output_type": "execute_result"
    }
   ],
   "source": [
    "stock_stats = pd.DataFrame()\n",
    "stock_stats['Mean'] = stock_returns.loc['1981':].mean() *12\n",
    "stock_stats['Vol'] = stock_returns.loc['1981':].std() *math.sqrt(12)\n",
    "stock_stats['Sharpe'] = stock_stats['Mean'] / stock_stats['Vol']\n",
    "stock_stats['VaR'] = stock_returns.loc['1981':].quantile(0.05) *math.sqrt(12)\n",
    "stock_stats"
   ]
  },
  {
   "cell_type": "code",
   "execution_count": 26,
   "metadata": {},
   "outputs": [
    {
     "data": {
      "text/plain": [
       "Text(0, 0.5, 'Excess Return')"
      ]
     },
     "execution_count": 26,
     "metadata": {},
     "output_type": "execute_result"
    },
    {
     "data": {
      "image/png": "[encoded data removed]",
      "text/plain": [
       "<Figure size 720x576 with 1 Axes>"
      ]
     },
     "metadata": {
      "needs_background": "light"
     },
     "output_type": "display_data"
    }
   ],
   "source": [
    "plt.figure(num=1,figsize=(10,8))\n",
    "plt.title('Vol vs Excess Return')\n",
    "plt.grid()\n",
    "plt.scatter(stock_stats['Vol'],stock_stats['Mean'])\n",
    "plt.xlabel('Vol')\n",
    "plt.ylabel('Excess Return')"
   ]
  },
  {
   "cell_type": "code",
   "execution_count": 27,
   "metadata": {},
   "outputs": [
    {
     "data": {
      "text/plain": [
       "Text(0, 0.5, 'Excess Return')"
      ]
     },
     "execution_count": 27,
     "metadata": {},
     "output_type": "execute_result"
    },
    {
     "data": {
      "image/png": "[encoded data removed]",
      "text/plain": [
       "<Figure size 720x576 with 1 Axes>"
      ]
     },
     "metadata": {
      "needs_background": "light"
     },
     "output_type": "display_data"
    }
   ],
   "source": [
    "plt.figure(num=1,figsize=(10,8))\n",
    "plt.grid()\n",
    "plt.title('5% VaR vs Excess Return')\n",
    "plt.scatter(stock_stats['VaR'],stock_stats['Mean'])\n",
    "plt.xlabel('5% VaR')\n",
    "plt.ylabel('Excess Return')"
   ]
  },
  {
   "cell_type": "markdown",
   "metadata": {},
   "source": [
    "The volatilities and VaR values are not sufficient to explain the differences in mean excess return, as shown in the graphs. This supports DFA's notion that market exposure is not sufficient to explain returns, suggesting there are other factors involved, such as size and value."
   ]
  },
  {
   "cell_type": "markdown",
   "metadata": {},
   "source": [
    "## 2. CAPM\n",
    "\n",
    "The Capital Asset Pricing Model (CAPM) asserts that an asset (or portfolio’s) expected excess\n",
    "return is completely a function of its beta to the equity market index (SPY, or in this case,\n",
    "MKT.)\n",
    "Specifically, it asserts that, for any excess return, ˜r\n",
    "i\n",
    ", its mean is proportional to the mean excess\n",
    "return of the market, ˜r\n",
    "m, where the proporitonality is the regression beta of ˜r\n",
    "i on ˜r\n",
    "m.\n",
    "E [˜r\n",
    "i\n",
    "t\n",
    "] = β\n",
    "i,m E [˜r\n",
    "m\n",
    "t\n",
    "] (CAPM)\n",
    "Let’s examine whether that seems plausible."
   ]
  },
  {
   "cell_type": "markdown",
   "metadata": {},
   "source": [
    "a) For each of the n = 25 test portfolios, run the CAPM time-series regression:\n",
    "r˜\n",
    "i\n",
    "t = α\n",
    "i + β\n",
    "i,m r˜\n",
    "m\n",
    "t + \u000f\n",
    "i\n",
    "\n",
    "So you are running 25 separate regressions, each using the T-sized sample of time-series\n",
    "data."
   ]
  },
  {
   "cell_type": "code",
   "execution_count": 28,
   "metadata": {},
   "outputs": [
    {
     "name": "stderr",
     "output_type": "stream",
     "text": [
      "/Users/peterfeng/opt/anaconda3/lib/python3.9/site-packages/statsmodels/tsa/tsatools.py:142: FutureWarning: In a future version of pandas all arguments of concat except for the argument 'objs' will be keyword-only\n",
      "  x = pd.concat(x[::order], 1)\n"
     ]
    },
    {
     "data": {
      "text/html": [
       "<div>\n",
       "<style scoped>\n",
       "    .dataframe tbody tr th:only-of-type {\n",
       "        vertical-align: middle;\n",
       "    }\n",
       "\n",
       "    .dataframe tbody tr th {\n",
       "        vertical-align: top;\n",
       "    }\n",
       "\n",
       "    .dataframe thead th {\n",
       "        text-align: right;\n",
       "    }\n",
       "</style>\n",
       "<table border=\"1\" class=\"dataframe\">\n",
       "  <thead>\n",
       "    <tr style=\"text-align: right;\">\n",
       "      <th></th>\n",
       "      <th>Alpha</th>\n",
       "      <th>Beta</th>\n",
       "    </tr>\n",
       "  </thead>\n",
       "  <tbody>\n",
       "    <tr>\n",
       "      <th>SMALL LoBM</th>\n",
       "      <td>-0.094864</td>\n",
       "      <td>1.365441</td>\n",
       "    </tr>\n",
       "    <tr>\n",
       "      <th>ME1 BM2</th>\n",
       "      <td>0.005837</td>\n",
       "      <td>1.178907</td>\n",
       "    </tr>\n",
       "    <tr>\n",
       "      <th>ME1 BM3</th>\n",
       "      <td>0.009985</td>\n",
       "      <td>1.04846</td>\n",
       "    </tr>\n",
       "    <tr>\n",
       "      <th>ME1 BM4</th>\n",
       "      <td>0.040945</td>\n",
       "      <td>0.978866</td>\n",
       "    </tr>\n",
       "    <tr>\n",
       "      <th>SMALL HiBM</th>\n",
       "      <td>0.04807</td>\n",
       "      <td>1.006173</td>\n",
       "    </tr>\n",
       "    <tr>\n",
       "      <th>ME2 BM1</th>\n",
       "      <td>-0.045439</td>\n",
       "      <td>1.34938</td>\n",
       "    </tr>\n",
       "    <tr>\n",
       "      <th>ME2 BM2</th>\n",
       "      <td>0.012732</td>\n",
       "      <td>1.1293</td>\n",
       "    </tr>\n",
       "    <tr>\n",
       "      <th>ME2 BM3</th>\n",
       "      <td>0.022396</td>\n",
       "      <td>1.021567</td>\n",
       "    </tr>\n",
       "    <tr>\n",
       "      <th>ME2 BM4</th>\n",
       "      <td>0.027336</td>\n",
       "      <td>0.975342</td>\n",
       "    </tr>\n",
       "    <tr>\n",
       "      <th>ME2 BM5</th>\n",
       "      <td>0.023373</td>\n",
       "      <td>1.125291</td>\n",
       "    </tr>\n",
       "    <tr>\n",
       "      <th>ME3 BM1</th>\n",
       "      <td>-0.029165</td>\n",
       "      <td>1.281834</td>\n",
       "    </tr>\n",
       "    <tr>\n",
       "      <th>ME3 BM2</th>\n",
       "      <td>0.019354</td>\n",
       "      <td>1.09777</td>\n",
       "    </tr>\n",
       "    <tr>\n",
       "      <th>ME3 BM3</th>\n",
       "      <td>0.011981</td>\n",
       "      <td>0.98051</td>\n",
       "    </tr>\n",
       "    <tr>\n",
       "      <th>ME3 BM4</th>\n",
       "      <td>0.027951</td>\n",
       "      <td>0.984618</td>\n",
       "    </tr>\n",
       "    <tr>\n",
       "      <th>ME3 BM5</th>\n",
       "      <td>0.037013</td>\n",
       "      <td>1.05231</td>\n",
       "    </tr>\n",
       "    <tr>\n",
       "      <th>ME4 BM1</th>\n",
       "      <td>-0.000944</td>\n",
       "      <td>1.195895</td>\n",
       "    </tr>\n",
       "    <tr>\n",
       "      <th>ME4 BM2</th>\n",
       "      <td>0.009343</td>\n",
       "      <td>1.059261</td>\n",
       "    </tr>\n",
       "    <tr>\n",
       "      <th>ME4 BM3</th>\n",
       "      <td>0.009172</td>\n",
       "      <td>1.009824</td>\n",
       "    </tr>\n",
       "    <tr>\n",
       "      <th>ME4 BM4</th>\n",
       "      <td>0.020721</td>\n",
       "      <td>0.979469</td>\n",
       "    </tr>\n",
       "    <tr>\n",
       "      <th>ME4 BM5</th>\n",
       "      <td>0.019851</td>\n",
       "      <td>1.06452</td>\n",
       "    </tr>\n",
       "    <tr>\n",
       "      <th>BIG LoBM</th>\n",
       "      <td>0.010019</td>\n",
       "      <td>0.984086</td>\n",
       "    </tr>\n",
       "    <tr>\n",
       "      <th>ME5 BM2</th>\n",
       "      <td>0.009051</td>\n",
       "      <td>0.93427</td>\n",
       "    </tr>\n",
       "    <tr>\n",
       "      <th>ME5 BM3</th>\n",
       "      <td>0.010105</td>\n",
       "      <td>0.881904</td>\n",
       "    </tr>\n",
       "    <tr>\n",
       "      <th>ME5 BM4</th>\n",
       "      <td>-0.01113</td>\n",
       "      <td>0.908706</td>\n",
       "    </tr>\n",
       "    <tr>\n",
       "      <th>BIG HiBM</th>\n",
       "      <td>0.01085</td>\n",
       "      <td>1.033814</td>\n",
       "    </tr>\n",
       "  </tbody>\n",
       "</table>\n",
       "</div>"
      ],
      "text/plain": [
       "               Alpha      Beta\n",
       "SMALL LoBM -0.094864  1.365441\n",
       "ME1 BM2     0.005837  1.178907\n",
       "ME1 BM3     0.009985   1.04846\n",
       "ME1 BM4     0.040945  0.978866\n",
       "SMALL HiBM   0.04807  1.006173\n",
       "ME2 BM1    -0.045439   1.34938\n",
       "ME2 BM2     0.012732    1.1293\n",
       "ME2 BM3     0.022396  1.021567\n",
       "ME2 BM4     0.027336  0.975342\n",
       "ME2 BM5     0.023373  1.125291\n",
       "ME3 BM1    -0.029165  1.281834\n",
       "ME3 BM2     0.019354   1.09777\n",
       "ME3 BM3     0.011981   0.98051\n",
       "ME3 BM4     0.027951  0.984618\n",
       "ME3 BM5     0.037013   1.05231\n",
       "ME4 BM1    -0.000944  1.195895\n",
       "ME4 BM2     0.009343  1.059261\n",
       "ME4 BM3     0.009172  1.009824\n",
       "ME4 BM4     0.020721  0.979469\n",
       "ME4 BM5     0.019851   1.06452\n",
       "BIG LoBM    0.010019  0.984086\n",
       "ME5 BM2     0.009051   0.93427\n",
       "ME5 BM3     0.010105  0.881904\n",
       "ME5 BM4     -0.01113  0.908706\n",
       "BIG HiBM     0.01085  1.033814"
      ]
     },
     "execution_count": 28,
     "metadata": {},
     "output_type": "execute_result"
    }
   ],
   "source": [
    "alpha_beta_df = pd.DataFrame(columns=['Alpha','Beta'])\n",
    "\n",
    "for stock in stock_returns.columns:\n",
    "    X = sm.add_constant(factors.loc['1981':]['Mkt-RF'])\n",
    "    Y = stock_returns.loc['1981':][stock]\n",
    "    estimation = sm.OLS(Y,X,missing='drop').fit()\n",
    "#     print(stock)\n",
    "#     print(estimation.params)\n",
    "    alpha_beta_df.loc[stock,'Alpha'] = estimation.params[0] * 12 # annualized\n",
    "    alpha_beta_df.loc[stock,'Beta'] = estimation.params[1]\n",
    "    \n",
    "    \n",
    "#     print(estimation.params)\n",
    "    \n",
    "alpha_beta_df"
   ]
  },
  {
   "cell_type": "markdown",
   "metadata": {},
   "source": [
    "(b) Report the estimated β\n",
    "i,m, Treynor Ratio, α\n",
    "i\n",
    ", and Information Ratio for each of the n\n",
    "regressions.\n"
   ]
  },
  {
   "cell_type": "code",
   "execution_count": 30,
   "metadata": {},
   "outputs": [
    {
     "name": "stderr",
     "output_type": "stream",
     "text": [
      "/Users/peterfeng/opt/anaconda3/lib/python3.9/site-packages/statsmodels/tsa/tsatools.py:142: FutureWarning: In a future version of pandas all arguments of concat except for the argument 'objs' will be keyword-only\n",
      "  x = pd.concat(x[::order], 1)\n"
     ]
    },
    {
     "data": {
      "text/html": [
       "<div>\n",
       "<style scoped>\n",
       "    .dataframe tbody tr th:only-of-type {\n",
       "        vertical-align: middle;\n",
       "    }\n",
       "\n",
       "    .dataframe tbody tr th {\n",
       "        vertical-align: top;\n",
       "    }\n",
       "\n",
       "    .dataframe thead th {\n",
       "        text-align: right;\n",
       "    }\n",
       "</style>\n",
       "<table border=\"1\" class=\"dataframe\">\n",
       "  <thead>\n",
       "    <tr style=\"text-align: right;\">\n",
       "      <th></th>\n",
       "      <th>Alpha</th>\n",
       "      <th>Market Beta</th>\n",
       "      <th>Treynor Ratio</th>\n",
       "      <th>Information Ratio</th>\n",
       "    </tr>\n",
       "  </thead>\n",
       "  <tbody>\n",
       "    <tr>\n",
       "      <th>SMALL LoBM</th>\n",
       "      <td>-0.094864</td>\n",
       "      <td>1.365441</td>\n",
       "      <td>0.016224</td>\n",
       "      <td>-0.556537</td>\n",
       "    </tr>\n",
       "    <tr>\n",
       "      <th>ME1 BM2</th>\n",
       "      <td>0.005837</td>\n",
       "      <td>1.178907</td>\n",
       "      <td>0.090650</td>\n",
       "      <td>0.038430</td>\n",
       "    </tr>\n",
       "    <tr>\n",
       "      <th>ME1 BM3</th>\n",
       "      <td>0.009985</td>\n",
       "      <td>1.048460</td>\n",
       "      <td>0.095223</td>\n",
       "      <td>0.088010</td>\n",
       "    </tr>\n",
       "    <tr>\n",
       "      <th>ME1 BM4</th>\n",
       "      <td>0.040945</td>\n",
       "      <td>0.978866</td>\n",
       "      <td>0.127528</td>\n",
       "      <td>0.343227</td>\n",
       "    </tr>\n",
       "    <tr>\n",
       "      <th>SMALL HiBM</th>\n",
       "      <td>0.048070</td>\n",
       "      <td>1.006173</td>\n",
       "      <td>0.133474</td>\n",
       "      <td>0.346448</td>\n",
       "    </tr>\n",
       "    <tr>\n",
       "      <th>ME2 BM1</th>\n",
       "      <td>-0.045439</td>\n",
       "      <td>1.349380</td>\n",
       "      <td>0.052025</td>\n",
       "      <td>-0.357114</td>\n",
       "    </tr>\n",
       "    <tr>\n",
       "      <th>ME2 BM2</th>\n",
       "      <td>0.012732</td>\n",
       "      <td>1.129300</td>\n",
       "      <td>0.096974</td>\n",
       "      <td>0.124702</td>\n",
       "    </tr>\n",
       "    <tr>\n",
       "      <th>ME2 BM3</th>\n",
       "      <td>0.022396</td>\n",
       "      <td>1.021567</td>\n",
       "      <td>0.107622</td>\n",
       "      <td>0.244783</td>\n",
       "    </tr>\n",
       "    <tr>\n",
       "      <th>ME2 BM4</th>\n",
       "      <td>0.027336</td>\n",
       "      <td>0.975342</td>\n",
       "      <td>0.113726</td>\n",
       "      <td>0.277721</td>\n",
       "    </tr>\n",
       "    <tr>\n",
       "      <th>ME2 BM5</th>\n",
       "      <td>0.023373</td>\n",
       "      <td>1.125291</td>\n",
       "      <td>0.106470</td>\n",
       "      <td>0.191601</td>\n",
       "    </tr>\n",
       "    <tr>\n",
       "      <th>ME3 BM1</th>\n",
       "      <td>-0.029165</td>\n",
       "      <td>1.281834</td>\n",
       "      <td>0.062947</td>\n",
       "      <td>-0.273784</td>\n",
       "    </tr>\n",
       "    <tr>\n",
       "      <th>ME3 BM2</th>\n",
       "      <td>0.019354</td>\n",
       "      <td>1.097770</td>\n",
       "      <td>0.103330</td>\n",
       "      <td>0.244000</td>\n",
       "    </tr>\n",
       "    <tr>\n",
       "      <th>ME3 BM3</th>\n",
       "      <td>0.011981</td>\n",
       "      <td>0.980510</td>\n",
       "      <td>0.097918</td>\n",
       "      <td>0.154470</td>\n",
       "    </tr>\n",
       "    <tr>\n",
       "      <th>ME3 BM4</th>\n",
       "      <td>0.027951</td>\n",
       "      <td>0.984618</td>\n",
       "      <td>0.114087</td>\n",
       "      <td>0.309861</td>\n",
       "    </tr>\n",
       "    <tr>\n",
       "      <th>ME3 BM5</th>\n",
       "      <td>0.037013</td>\n",
       "      <td>1.052310</td>\n",
       "      <td>0.120872</td>\n",
       "      <td>0.325001</td>\n",
       "    </tr>\n",
       "    <tr>\n",
       "      <th>ME4 BM1</th>\n",
       "      <td>-0.000944</td>\n",
       "      <td>1.195895</td>\n",
       "      <td>0.084910</td>\n",
       "      <td>-0.011283</td>\n",
       "    </tr>\n",
       "    <tr>\n",
       "      <th>ME4 BM2</th>\n",
       "      <td>0.009343</td>\n",
       "      <td>1.059261</td>\n",
       "      <td>0.094519</td>\n",
       "      <td>0.146066</td>\n",
       "    </tr>\n",
       "    <tr>\n",
       "      <th>ME4 BM3</th>\n",
       "      <td>0.009172</td>\n",
       "      <td>1.009824</td>\n",
       "      <td>0.094782</td>\n",
       "      <td>0.119994</td>\n",
       "    </tr>\n",
       "    <tr>\n",
       "      <th>ME4 BM4</th>\n",
       "      <td>0.020721</td>\n",
       "      <td>0.979469</td>\n",
       "      <td>0.106855</td>\n",
       "      <td>0.245188</td>\n",
       "    </tr>\n",
       "    <tr>\n",
       "      <th>ME4 BM5</th>\n",
       "      <td>0.019851</td>\n",
       "      <td>1.064520</td>\n",
       "      <td>0.104347</td>\n",
       "      <td>0.182422</td>\n",
       "    </tr>\n",
       "    <tr>\n",
       "      <th>BIG LoBM</th>\n",
       "      <td>0.010019</td>\n",
       "      <td>0.984086</td>\n",
       "      <td>0.095880</td>\n",
       "      <td>0.191954</td>\n",
       "    </tr>\n",
       "    <tr>\n",
       "      <th>ME5 BM2</th>\n",
       "      <td>0.009051</td>\n",
       "      <td>0.934270</td>\n",
       "      <td>0.095387</td>\n",
       "      <td>0.163485</td>\n",
       "    </tr>\n",
       "    <tr>\n",
       "      <th>ME5 BM3</th>\n",
       "      <td>0.010105</td>\n",
       "      <td>0.881904</td>\n",
       "      <td>0.097157</td>\n",
       "      <td>0.146868</td>\n",
       "    </tr>\n",
       "    <tr>\n",
       "      <th>ME5 BM4</th>\n",
       "      <td>-0.011130</td>\n",
       "      <td>0.908706</td>\n",
       "      <td>0.073451</td>\n",
       "      <td>-0.115954</td>\n",
       "    </tr>\n",
       "    <tr>\n",
       "      <th>BIG HiBM</th>\n",
       "      <td>0.010850</td>\n",
       "      <td>1.033814</td>\n",
       "      <td>0.096194</td>\n",
       "      <td>0.083503</td>\n",
       "    </tr>\n",
       "  </tbody>\n",
       "</table>\n",
       "</div>"
      ],
      "text/plain": [
       "               Alpha  Market Beta  Treynor Ratio  Information Ratio\n",
       "SMALL LoBM -0.094864     1.365441       0.016224          -0.556537\n",
       "ME1 BM2     0.005837     1.178907       0.090650           0.038430\n",
       "ME1 BM3     0.009985     1.048460       0.095223           0.088010\n",
       "ME1 BM4     0.040945     0.978866       0.127528           0.343227\n",
       "SMALL HiBM  0.048070     1.006173       0.133474           0.346448\n",
       "ME2 BM1    -0.045439     1.349380       0.052025          -0.357114\n",
       "ME2 BM2     0.012732     1.129300       0.096974           0.124702\n",
       "ME2 BM3     0.022396     1.021567       0.107622           0.244783\n",
       "ME2 BM4     0.027336     0.975342       0.113726           0.277721\n",
       "ME2 BM5     0.023373     1.125291       0.106470           0.191601\n",
       "ME3 BM1    -0.029165     1.281834       0.062947          -0.273784\n",
       "ME3 BM2     0.019354     1.097770       0.103330           0.244000\n",
       "ME3 BM3     0.011981     0.980510       0.097918           0.154470\n",
       "ME3 BM4     0.027951     0.984618       0.114087           0.309861\n",
       "ME3 BM5     0.037013     1.052310       0.120872           0.325001\n",
       "ME4 BM1    -0.000944     1.195895       0.084910          -0.011283\n",
       "ME4 BM2     0.009343     1.059261       0.094519           0.146066\n",
       "ME4 BM3     0.009172     1.009824       0.094782           0.119994\n",
       "ME4 BM4     0.020721     0.979469       0.106855           0.245188\n",
       "ME4 BM5     0.019851     1.064520       0.104347           0.182422\n",
       "BIG LoBM    0.010019     0.984086       0.095880           0.191954\n",
       "ME5 BM2     0.009051     0.934270       0.095387           0.163485\n",
       "ME5 BM3     0.010105     0.881904       0.097157           0.146868\n",
       "ME5 BM4    -0.011130     0.908706       0.073451          -0.115954\n",
       "BIG HiBM    0.010850     1.033814       0.096194           0.083503"
      ]
     },
     "execution_count": 30,
     "metadata": {},
     "output_type": "execute_result"
    }
   ],
   "source": [
    "reg_stats = pd.DataFrame()\n",
    "for stock in stock_returns.columns:\n",
    "    X = sm.add_constant(factors.loc['1981':]['Mkt-RF'])\n",
    "    Y = stock_returns.loc['1981':][stock]\n",
    "    estimation = sm.OLS(Y,X,missing='drop').fit()\n",
    "    reg_stats.loc[stock,'Alpha'] = estimation.params['const'] * 12\n",
    "    reg_stats.loc[stock, 'Market Beta'] = estimation.params['Mkt-RF']\n",
    "    reg_stats.loc[stock, 'Treynor Ratio'] = (Y.mean() / estimation.params['Mkt-RF']) * 12\n",
    "    reg_stats.loc[stock, 'Information Ratio'] = (estimation.params['const'] / estimation.resid.std()) * math.sqrt(12)\n",
    "    \n",
    "reg_stats"
   ]
  },
  {
   "cell_type": "markdown",
   "metadata": {},
   "source": [
    "(c) If (CAPM) were true, what would be true of the Treynor Ratios, alphas, and Information\n",
    "Ratios?"
   ]
  },
  {
   "cell_type": "markdown",
   "metadata": {},
   "source": [
    "If CAPM were true, the alphas and the information ratios would all be zero. The Treynor Ratios would all equal to the mean excess market return.\n",
    "\n"
   ]
  },
  {
   "cell_type": "markdown",
   "metadata": {},
   "source": [
    "## 3. Cross-sectional Estimation\n",
    "Let’s test (CAPM) directly. We already have what we need:"
   ]
  },
  {
   "cell_type": "markdown",
   "metadata": {},
   "source": [
    "• The dependent variable, (y): mean excess returns from each of the n = 25 portfolios.\n",
    "• The regressor, (x): the market beta from each of the n = 25 time-series regressions.\n",
    "Then we can estimate the following equation:"
   ]
  },
  {
   "cell_type": "markdown",
   "metadata": {},
   "source": [
    "• The dependent variable, (y): mean excess returns from each of the n = 25 portfolios.\n",
    "• The regressor, (x): the market beta from each of the n = 25 time-series regressions.\n",
    "Then we can estimate the following equation:"
   ]
  },
  {
   "cell_type": "markdown",
   "metadata": {},
   "source": [
    "(a) Report the R-squared of this regression.\n"
   ]
  },
  {
   "cell_type": "code",
   "execution_count": 54,
   "metadata": {},
   "outputs": [
    {
     "name": "stdout",
     "output_type": "stream",
     "text": [
      "                            OLS Regression Results                            \n",
      "==============================================================================\n",
      "Dep. Variable:                      0   R-squared:                       0.184\n",
      "Model:                            OLS   Adj. R-squared:                  0.149\n",
      "Method:                 Least Squares   F-statistic:                     5.186\n",
      "Date:                Sat, 23 Oct 2021   Prob (F-statistic):             0.0324\n",
      "Time:                        10:26:01   Log-Likelihood:                 62.010\n",
      "No. Observations:                  25   AIC:                            -120.0\n",
      "Df Residuals:                      23   BIC:                            -117.6\n",
      "Df Model:                           1                                         \n",
      "Covariance Type:            nonrobust                                         \n",
      "===============================================================================\n",
      "                  coef    std err          t      P>|t|      [0.025      0.975]\n",
      "-------------------------------------------------------------------------------\n",
      "const           0.1820      0.037      4.987      0.000       0.107       0.258\n",
      "Market Beta    -0.0775      0.034     -2.277      0.032      -0.148      -0.007\n",
      "==============================================================================\n",
      "Omnibus:                        6.106   Durbin-Watson:                   1.363\n",
      "Prob(Omnibus):                  0.047   Jarque-Bera (JB):                4.206\n",
      "Skew:                          -0.945   Prob(JB):                        0.122\n",
      "Kurtosis:                       3.680   Cond. No.                         17.3\n",
      "==============================================================================\n",
      "\n",
      "Warnings:\n",
      "[1] Standard Errors assume that the covariance matrix of the errors is correctly specified.\n",
      "0.18398308768846872\n"
     ]
    }
   ],
   "source": [
    "returns_vector = stock_returns.loc['1981':].mean().to_frame() * 12 # annualized\n",
    "beta_vector = reg_stats[['Market Beta']]\n",
    "returns_vector\n",
    "# beta_vector\n",
    "X = sm.add_constant(beta_vector)\n",
    "Y = returns_vector\n",
    "meta_estimation = sm.OLS(Y,X,missing='drop').fit()\n",
    "print(meta_estimation.summary())\n",
    "print(meta_estimation.rsquared)\n"
   ]
  },
  {
   "cell_type": "code",
   "execution_count": 55,
   "metadata": {},
   "outputs": [
    {
     "name": "stdout",
     "output_type": "stream",
     "text": [
      "R^2 value is 0.18398308768846872\n"
     ]
    }
   ],
   "source": [
    "print(f'R^2 value is {meta_estimation.rsquared}')"
   ]
  },
  {
   "cell_type": "markdown",
   "metadata": {},
   "source": [
    "(b) Report the intercept, η."
   ]
  },
  {
   "cell_type": "code",
   "execution_count": 58,
   "metadata": {},
   "outputs": [
    {
     "name": "stdout",
     "output_type": "stream",
     "text": [
      "Annualized intercept value is 0.18202014149932097\n"
     ]
    }
   ],
   "source": [
    "print(f'Annualized intercept value is {meta_estimation.params[0]}')"
   ]
  },
  {
   "cell_type": "markdown",
   "metadata": {},
   "source": [
    "η = 0.1820 (annualized)"
   ]
  },
  {
   "cell_type": "markdown",
   "metadata": {},
   "source": [
    "(c) Report the regression coefficient, λm.\n"
   ]
  },
  {
   "cell_type": "code",
   "execution_count": 59,
   "metadata": {},
   "outputs": [
    {
     "name": "stdout",
     "output_type": "stream",
     "text": [
      "Annualized regression coefficient value is -0.07751393842321821\n"
     ]
    }
   ],
   "source": [
    "print(f'Annualized regression coefficient value is {meta_estimation.params[1]}')"
   ]
  },
  {
   "cell_type": "markdown",
   "metadata": {},
   "source": [
    " λm = -0.0775 (annualized)"
   ]
  },
  {
   "cell_type": "markdown",
   "metadata": {},
   "source": [
    "What would these three statistics be if (CAPM) were true?\n",
    "\n",
    "CAPM says the market beta is the only risk associated with higher average returns, so if it is true, the r-squared would be 100%, the intercept would be 0."
   ]
  },
  {
   "cell_type": "markdown",
   "metadata": {},
   "source": [
    "4. Broadly speaking, do these results support DFA’s belief in size and value portfolios containing\n",
    "premia unrelated to the CAPM?\n"
   ]
  },
  {
   "cell_type": "markdown",
   "metadata": {},
   "source": [
    "The answer can be yes and no. Our results support DFA's view that risks beyond market beta matter, but there's no enough evidence to show that size and value factors matter.\n",
    "\n"
   ]
  },
  {
   "cell_type": "code",
   "execution_count": null,
   "metadata": {},
   "outputs": [],
   "source": []
  }
 ],
 "metadata": {
  "kernelspec": {
   "display_name": "Python 3 (ipykernel)",
   "language": "python",
   "name": "python3"
  },
  "language_info": {
   "codemirror_mode": {
    "name": "ipython",
    "version": 3
   },
   "file_extension": ".py",
   "mimetype": "text/x-python",
   "name": "python",
   "nbconvert_exporter": "python",
   "pygments_lexer": "ipython3",
   "version": "3.9.7"
  }
 },
 "nbformat": 4,
 "nbformat_minor": 4
}
