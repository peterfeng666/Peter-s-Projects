{
 "cells": [
  {
   "cell_type": "code",
   "execution_count": 5,
   "metadata": {},
   "outputs": [],
   "source": [
    "import numpy as np"
   ]
  },
  {
   "cell_type": "code",
   "execution_count": 6,
   "metadata": {},
   "outputs": [],
   "source": [
    "class Dynamics:\n",
    "    pass"
   ]
  },
  {
   "cell_type": "code",
   "execution_count": 7,
   "metadata": {},
   "outputs": [],
   "source": [
    "hw2dynamics=Dynamics()\n",
    "hw2dynamics.S0 = 100\n",
    "hw2dynamics.r = 0.06\n",
    "hw2dynamics.q = 0.01\n",
    "hw2dynamics.maxvol = 0.6\n",
    "hw2dynamics.localvol = lambda S,t: np.minimum(0.2+5*np.log(S/100)**2+0.1*np.exp(-t), 0.6)\n",
    "\n",
    "# Note that hw2dynamics.localvol is a function \n",
    "# that may be invoked in the usual way, for example:\n",
    "# hw2dynamics.localvol( exchangerate , time )"
   ]
  },
  {
   "cell_type": "code",
   "execution_count": 8,
   "metadata": {},
   "outputs": [],
   "source": [
    "class Contract:\n",
    "    pass"
   ]
  },
  {
   "cell_type": "code",
   "execution_count": 9,
   "metadata": {},
   "outputs": [],
   "source": [
    "hw2contract=Contract()\n",
    "hw2contract.putexpiry = 0.75;\n",
    "hw2contract.putstrike = 95;\n",
    "hw2contract.callexpiry = 0.25;\n",
    "hw2contract.callstrike = 10;"
   ]
  },
  {
   "cell_type": "code",
   "execution_count": 10,
   "metadata": {},
   "outputs": [],
   "source": [
    "class Tree:\n",
    "    pass"
   ]
  },
  {
   "cell_type": "code",
   "execution_count": 11,
   "metadata": {},
   "outputs": [],
   "source": [
    "hw2tree=Tree()\n",
    "hw2tree.N=300  #change if necessary to get $0.01 accuracy, in your judgment"
   ]
  },
  {
   "cell_type": "code",
   "execution_count": 15,
   "metadata": {},
   "outputs": [],
   "source": [
    "# You complete the coding of this function\n",
    "\n",
    "def pricer_compound_localvol_trinom(contract,dynamics,tree):\n",
    "    \n",
    "    put_T, put_K, call_T, call_K = contract.putexpiry, contract.putstrike, contract.callexpiry, contract.callstrike\n",
    "    S0, r, q, maxvol, localvol = dynamics.S0, dynamics.r, dynamics.q, dynamics.maxvol, dynamics.localvol\n",
    "    N = tree.N\n",
    "    \n",
    "    deltat = put_T/N\n",
    "    \n",
    "    avgvol = localvol(S0, 0)\n",
    "    deltax = np.maximum(avgvol*np.sqrt(3*deltat), maxvol*np.sqrt(deltat))\n",
    "    \n",
    "    S=S0*np.exp(np.linspace(N, -N, num=2*N+1, endpoint=True)*deltax)\n",
    "    \n",
    "    put_price = np.maximum(put_K-S,0) #Expiry time put prices\n",
    "    \n",
    "    for t in np.linspace(N-1, 0, num=N, endpoint=True)*deltat: ## induct backward\n",
    "        S = S[1:-1]\n",
    "        sigma = localvol(S,t) ## sigma is changing, so nu, pu, pd, pm are changing\n",
    "        \n",
    "        nu = r-q-sigma**2/2\n",
    "        Pu = ((sigma**2*deltat+nu**2*deltat**2)/deltax**2+nu*deltat/deltax)/2\n",
    "        Pd = ((sigma**2*deltat+nu**2*deltat**2)/deltax**2-nu*deltat/deltax)/2\n",
    "        Pm = 1 - (sigma**2*deltat+nu**2*deltat**2)/(deltax**2)\n",
    "        \n",
    "        put_price = np.maximum(put_K-S, np.exp(-r*deltat)*(Pu*put_price[:-2]+Pm*put_price[1:-1]+Pd*put_price[2:]))\n",
    "        \n",
    "        if abs(t-call_T) < 1e-12: #Expiry time call prices. When t = 0.25\n",
    "            call_price = np.maximum(put_price-call_K, 0)   \n",
    "        \n",
    "        if t-(call_T-deltat) < 1e-12: #Before expiry\n",
    "            call_price = np.exp(-r*deltat)*(Pu*call_price[:-2]+Pm*call_price[1:-1]+Pd*call_price[2:])\n",
    "            \n",
    "    price_of_put =  put_price[0] #write code to compute this\n",
    "    \n",
    "    price_of_call_on_put = call_price[0] #write code to compute this\n",
    "    \n",
    "    return (price_of_put, price_of_call_on_put)"
   ]
  },
  {
   "cell_type": "code",
   "execution_count": 16,
   "metadata": {},
   "outputs": [
    {
     "name": "stdout",
     "output_type": "stream",
     "text": [
      "Answer Part (a) = 7.00588559542397\n",
      "Answer Part (b) = 1.5937352664489162\n"
     ]
    }
   ],
   "source": [
    "(answer_part_a, answer_part_b) = pricer_compound_localvol_trinom(hw2contract,hw2dynamics,hw2tree)\n",
    "\n",
    "print(f'Answer Part (a) = {answer_part_a}')\n",
    "print(f'Answer Part (b) = {answer_part_b}')"
   ]
  },
  {
   "cell_type": "code",
   "execution_count": 17,
   "metadata": {},
   "outputs": [],
   "source": [
    "## 2a"
   ]
  },
  {
   "cell_type": "markdown",
   "metadata": {},
   "source": [
    "The exact formula for the Black-Scholes delta of a vanilla call is\n",
    "\n",
    "\\begin{equation}\n",
    "\\Delta = N(d_1),\n",
    "\\end{equation}\n",
    "\n",
    "where\n",
    "\n",
    "\\begin{equation}\n",
    "d_1 = \\frac{\\log(S / K) + (r + \\frac{\\sigma^2}{2}) (T - t)}{\\sigma \\sqrt{T - t}}.\n",
    "\\end{equation}\n",
    "\n",
    "Plugging in $S = K$ and $t = 0$ yields\n",
    "\n",
    "\\begin{align}\n",
    "d_1 &= \\frac{(r + \\frac{\\sigma^2}{2}) T}{\\sigma \\sqrt{T}}\\\\\n",
    "&= \\frac{(r + \\frac{\\sigma^2}{2}) \\sqrt{T}}{\\sigma}.\n",
    "\\end{align}\n",
    "\n",
    "Now, for $x \\approx 0$, to first order,\n",
    "\n",
    "\\begin{equation}\n",
    "N(x) \\approx N(0) + N'(0) \\cdot x.\n",
    "\\end{equation}\n",
    "\n",
    "We know that $N(0) = 0.5$ and $N'(x) = \\frac{1}{\\sqrt{2 \\pi}} \\exp(\\frac{-x^2}{2})$, so $N'(0) = \\frac{1}{\\sqrt{2\\pi}} \\approx 0.4$. Thus,\n",
    "\n",
    "\\begin{align}\n",
    "\\Delta &\\approx 0.5 + \\frac{(r + \\frac{\\sigma^2}{2}) \\sqrt{T}}{\\sigma \\sqrt{2 \\pi}}\\\\\n",
    "&\\approx 0.5 + 0.4 \\cdot \\frac{(r + \\frac{\\sigma^2}{2}) \\sqrt{T}}{\\sigma}.\n",
    "\\end{align}\n",
    "\n",
    "Plugging in $\\sigma = 0.2$, $T = 0.25$, and $r = 0.01$ yields\n",
    "\n",
    "\\begin{align}\n",
    "\\Delta &\\approx 0.5 + 0.4 \\cdot \\frac{(r + \\frac{\\sigma^2}{2}) \\sqrt{T}}{\\sigma}\\\\\n",
    "&\\approx 0.5 + 0.4 \\cdot \\frac{(0.01 + \\frac{0.2^2}{2}) \\sqrt{0.25}}{0.2}\\\\\n",
    "&\\approx 0.5 + 0.4 \\cdot \\frac{(0.01 + 0.02) 0.5}{0.2}\\\\\n",
    "&\\approx 0.5 + 0.4 \\cdot \\frac{0.03 \\cdot 0.5}{0.2}\\\\\n",
    "&\\approx 0.5 + 0.4 \\cdot \\frac{0.015}{0.2}\\\\\n",
    "&\\approx 0.5 + 0.4 \\cdot 0.075\\\\\n",
    "&\\approx 0.5 + 0.03\\\\\n",
    "&\\approx 0.53.\n",
    "\\end{align}"
   ]
  },
  {
   "cell_type": "code",
   "execution_count": 18,
   "metadata": {},
   "outputs": [],
   "source": [
    "## 2b"
   ]
  },
  {
   "cell_type": "markdown",
   "metadata": {},
   "source": [
    "Let $\\Delta_\\$$ and $\\Gamma_\\$$ denote the dollar delta and dollar gamma, respectively.\n",
    "\n",
    "We are given $S_0 = 4$, $\\Delta_\\$ = 3$, $\\Gamma_\\$ = 0.02$, and $C(S_0) = 5$.\n",
    "\n",
    "We find that\n",
    "\n",
    "\\begin{align}\n",
    "\\Delta_\\$ = 3 &\\implies S_0 \\Delta = 3\\\\\n",
    "&\\implies 4 \\Delta = 3\\\\\n",
    "&\\implies \\Delta = \\frac{3}{4}\n",
    "\\end{align}\n",
    "\n",
    "and\n",
    "\n",
    "\\begin{align}\n",
    "\\Gamma_\\$ = 0.02 &\\implies \\frac{1}{100} S_0^2 \\Gamma = 0.02\\\\\n",
    "&\\implies S_0^2 \\Gamma = 2\\\\\n",
    "&\\implies 4^2 \\Gamma = 2\\\\\n",
    "&\\implies 16 \\Gamma = 2\\\\\n",
    "&\\implies \\Gamma = \\frac{1}{8}.\n",
    "\\end{align}\n",
    "\n",
    "Now, for $S \\approx S_0$, to second order, we have\n",
    "\n",
    "\\begin{align}\n",
    "C(S) &\\approx C(S_0) + \\Delta (S - S_0) + \\frac{\\Gamma}{2} (S - S_0)^2\\\\\n",
    "&\\approx 5 + \\frac{3}{4} (S - 4) + \\frac{1}{16} (S - 4)^2.\n",
    "\\end{align}\n",
    "\n",
    "For $S = 3.6$, we have\n",
    "\n",
    "\\begin{align}\n",
    "C(3.6) &\\approx 5 + \\frac{3}{4} (3.6 - 4) + \\frac{1}{16} (3.6 - 4)^2\\\\\n",
    "&\\approx 5 + \\frac{3}{4} (-0.4) + \\frac{1}{16} (-0.4)^2\\\\\n",
    "&\\approx 5 - 0.3 + \\frac{1}{16} \\cdot 0.16\\\\\n",
    "&\\approx 5 - 0.3 + 0.01\\\\\n",
    "&\\approx 4.71.\n",
    "\\end{align}"
   ]
  },
  {
   "cell_type": "code",
   "execution_count": null,
   "metadata": {},
   "outputs": [],
   "source": []
  }
 ],
 "metadata": {
  "anaconda-cloud": {},
  "kernelspec": {
   "display_name": "Python 3 (ipykernel)",
   "language": "python",
   "name": "python3"
  },
  "language_info": {
   "codemirror_mode": {
    "name": "ipython",
    "version": 3
   },
   "file_extension": ".py",
   "mimetype": "text/x-python",
   "name": "python",
   "nbconvert_exporter": "python",
   "pygments_lexer": "ipython3",
   "version": "3.9.7"
  }
 },
 "nbformat": 4,
 "nbformat_minor": 4
}
