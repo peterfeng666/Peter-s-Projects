{
 "cells": [
  {
   "cell_type": "code",
   "execution_count": 1,
   "metadata": {},
   "outputs": [],
   "source": [
    "import numpy as np"
   ]
  },
  {
   "cell_type": "code",
   "execution_count": 2,
   "metadata": {},
   "outputs": [],
   "source": [
    "class Dynamics:\n",
    "    pass"
   ]
  },
  {
   "cell_type": "code",
   "execution_count": 3,
   "metadata": {},
   "outputs": [],
   "source": [
    "hw5dynamics=Dynamics()\n",
    "hw5dynamics.kappa = 0.472\n",
    "hw5dynamics.alpha = 4.4\n",
    "hw5dynamics.sigma = 0.368\n",
    "hw5dynamics.S0 = 106.9\n",
    "hw5dynamics.r = 0.05"
   ]
  },
  {
   "cell_type": "code",
   "execution_count": 4,
   "metadata": {},
   "outputs": [],
   "source": [
    "class Contract:\n",
    "    pass"
   ]
  },
  {
   "cell_type": "code",
   "execution_count": 5,
   "metadata": {},
   "outputs": [],
   "source": [
    "hw5contract=Contract()\n",
    "hw5contract.K1 = 103.2\n",
    "hw5contract.T1 = 0.5\n",
    "hw5contract.T2 = 0.75"
   ]
  },
  {
   "cell_type": "code",
   "execution_count": 8,
   "metadata": {},
   "outputs": [],
   "source": [
    "class MC:\n",
    "    pass"
   ]
  },
  {
   "cell_type": "code",
   "execution_count": 9,
   "metadata": {},
   "outputs": [],
   "source": [
    "hw5MC=MC()\n",
    "hw5MC.N = 100   # Number of timesteps on each path\n",
    "hw5MC.M = 100000  # Number of paths.  Change this if necessary.\n",
    "hw5MC.epsilon = 0.01  # For the dC/dS calculation\n",
    "hw5MC.seed = 0  # Seeding the random number generator with a specified number helps make the calculations reproducible"
   ]
  },
  {
   "cell_type": "code",
   "execution_count": 25,
   "metadata": {},
   "outputs": [],
   "source": [
    "def pricer_oilcall_OU_MC(contract,dynamics,MC):\n",
    "    \n",
    "    K1,T1,T2 = contract.K1,contract.T1,contract.T2\n",
    "    kappa,alpha,sigma,S0,r = dynamics.kappa,dynamics.alpha,dynamics.sigma,dynamics.S0,dynamics.r\n",
    "    N,M,epsilon = MC.N,MC.M,MC.epsilon\n",
    "\n",
    "    np.random.seed(MC.seed)  #seed the random number generator\n",
    "    \n",
    "    deltat = T1/N\n",
    "    t = np.linspace(0,T1,num=N+1)\n",
    "    S0_delta = S0+epsilon\n",
    "    \n",
    "    def path(S0,dWt):\n",
    "        X0 = np.log(S0)\n",
    "        Xt = [X0]\n",
    "        for i in range(N):\n",
    "            currX = Xt[i] + kappa*(alpha-Xt[i])*deltat+sigma*dWt[i] ## simulate the path from X0 to Xt, using Euler Method\n",
    "            Xt.append(currX)\n",
    "        Ft = np.exp(np.exp(-kappa*(T2-t))*Xt + alpha*(1-np.exp(-kappa*(T2-t))) + (sigma**2)/(4*kappa)*(1-np.exp(-2*kappa*(T2-t))))\n",
    "        callpayoff = np.exp(-r*T1)*np.maximum(Ft[-1]-K1,0) ## get the payoff at expiry time T\n",
    "        return callpayoff\n",
    "    \n",
    "    payoffs1 = []\n",
    "    payoffs2 = []\n",
    "    for _ in range(M):\n",
    "        dWt = np.sqrt(deltat)*np.random.normal(0,1,size=N)\n",
    "        payoff1 = path(S0,dWt)\n",
    "        payoff2 = path(S0_delta,dWt)\n",
    "        payoffs1.append(payoff1)  ## get M amount of payoff\n",
    "        payoffs2.append(payoff2)\n",
    "    \n",
    "    call_price = np.average(payoffs1)  ## average will be the final payoff\n",
    "    standard_error = np.std(payoffs1)/np.sqrt(M)\n",
    "    call_delta = (np.average(payoffs2)-call_price)/epsilon\n",
    "    return (call_price,standard_error,call_delta)\n",
    "\n",
    "        "
   ]
  },
  {
   "cell_type": "code",
   "execution_count": 26,
   "metadata": {},
   "outputs": [],
   "source": [
    "(call_price, standard_error, call_delta) = pricer_oilcall_OU_MC(hw5contract,hw5dynamics,hw5MC)"
   ]
  },
  {
   "cell_type": "code",
   "execution_count": 27,
   "metadata": {},
   "outputs": [
    {
     "name": "stdout",
     "output_type": "stream",
     "text": [
      "7.821380965248459 0.04194572483525262 0.34443701918993597\n"
     ]
    }
   ],
   "source": [
    "print(call_price, standard_error, call_delta)"
   ]
  },
  {
   "cell_type": "code",
   "execution_count": 19,
   "metadata": {},
   "outputs": [
    {
     "data": {
      "text/plain": [
       "0.6465109164314246"
      ]
     },
     "execution_count": 19,
     "metadata": {},
     "output_type": "execute_result"
    }
   ],
   "source": [
    "#### 1e\n",
    "\n",
    "S0 = hw5dynamics.S0\n",
    "r = hw5dynamics.r\n",
    "T2 = hw5contract.T2\n",
    "kappa = hw5dynamics.kappa\n",
    "alpha = hw5dynamics.alpha\n",
    "sigma = hw5dynamics.sigma\n",
    "\n",
    "S0**(-1+np.exp(-kappa*T2))*np.exp(-r*T2-kappa*T2+(1-np.exp(-kappa*T2))*alpha+sigma**2/(4*kappa)*(1-np.exp(-2*kappa*T2)))"
   ]
  },
  {
   "cell_type": "code",
   "execution_count": 20,
   "metadata": {},
   "outputs": [
    {
     "data": {
      "text/plain": [
       "0.5327628821662294"
      ]
     },
     "execution_count": 20,
     "metadata": {},
     "output_type": "execute_result"
    }
   ],
   "source": [
    "#### 1f\n",
    "\n",
    "\n",
    "call_delta/(S0**(-1+np.exp(-kappa*T2))*np.exp(-r*T2-kappa*T2+(1-np.exp(-kappa*T2))*alpha+sigma**2/(4*kappa)*(1-np.exp(-2*kappa*T2))))"
   ]
  },
  {
   "cell_type": "code",
   "execution_count": 21,
   "metadata": {},
   "outputs": [
    {
     "data": {
      "text/plain": [
       "3988.3850598670606"
      ]
     },
     "execution_count": 21,
     "metadata": {},
     "output_type": "execute_result"
    }
   ],
   "source": [
    "#### 1g\n",
    "\n",
    "K1 = hw5contract.K1\n",
    "T1 = hw5contract.T1\n",
    "\n",
    "disc = np.exp(-kappa*T2)\n",
    "F0 = np.exp(disc*(np.log(S0))+(1-disc)*alpha+sigma**2/(4*kappa)*(1-disc**2))\n",
    "f0 = (F0-K1)*np.exp(-r*T2)\n",
    "v0 = 4000*f0+1000*call_price*np.exp(-r*(T2-T1))\n",
    "v0"
   ]
  },
  {
   "cell_type": "code",
   "execution_count": null,
   "metadata": {},
   "outputs": [],
   "source": []
  },
  {
   "cell_type": "code",
   "execution_count": null,
   "metadata": {},
   "outputs": [],
   "source": []
  }
 ],
 "metadata": {
  "anaconda-cloud": {},
  "kernelspec": {
   "display_name": "Python 3 (ipykernel)",
   "language": "python",
   "name": "python3"
  },
  "language_info": {
   "codemirror_mode": {
    "name": "ipython",
    "version": 3
   },
   "file_extension": ".py",
   "mimetype": "text/x-python",
   "name": "python",
   "nbconvert_exporter": "python",
   "pygments_lexer": "ipython3",
   "version": "3.9.7"
  }
 },
 "nbformat": 4,
 "nbformat_minor": 2
}
