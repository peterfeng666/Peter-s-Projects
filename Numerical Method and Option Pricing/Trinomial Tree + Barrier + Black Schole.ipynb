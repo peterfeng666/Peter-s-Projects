{
 "cells": [
  {
   "cell_type": "code",
   "execution_count": 1,
   "metadata": {},
   "outputs": [],
   "source": [
    "import numpy as np\n",
    "from scipy.stats import norm\n",
    "from scipy.optimize import bisect, brentq"
   ]
  },
  {
   "cell_type": "markdown",
   "metadata": {},
   "source": [
    "# Problem 1"
   ]
  },
  {
   "cell_type": "code",
   "execution_count": 37,
   "metadata": {},
   "outputs": [],
   "source": [
    "#Will use Python's objects just to store variables, without defining any methods.\n",
    "#(Alternatively, storing a collection of named attributes could be done \n",
    "#without introducing classes/objects, for instance by using Python's dictionary structures.\n",
    "#Decided to use classes/objects here, in order to facilitate possible future usage of OOP, if desired.)\n",
    "\n",
    "class Contract:\n",
    "    pass"
   ]
  },
  {
   "cell_type": "code",
   "execution_count": 38,
   "metadata": {},
   "outputs": [],
   "source": [
    "hw1contract=Contract()\n",
    "hw1contract.K = 95\n",
    "hw1contract.T = 0.25\n",
    "hw1contract.H = 114\n",
    "hw1contract.observationinterval = 0.02"
   ]
  },
  {
   "cell_type": "code",
   "execution_count": 39,
   "metadata": {},
   "outputs": [],
   "source": [
    "class Dynamics:\n",
    "    pass"
   ]
  },
  {
   "cell_type": "code",
   "execution_count": 40,
   "metadata": {},
   "outputs": [],
   "source": [
    "hw1dynamics=Dynamics()\n",
    "hw1dynamics.S0 = 100\n",
    "hw1dynamics.sigma = 0.4\n",
    "hw1dynamics.r = 0"
   ]
  },
  {
   "cell_type": "code",
   "execution_count": 41,
   "metadata": {},
   "outputs": [],
   "source": [
    "class Tree:\n",
    "    pass"
   ]
  },
  {
   "cell_type": "code",
   "execution_count": 42,
   "metadata": {},
   "outputs": [],
   "source": [
    "hw1tree=Tree()\n",
    "hw1tree.N=20000"
   ]
  },
  {
   "cell_type": "code",
   "execution_count": 77,
   "metadata": {},
   "outputs": [],
   "source": [
    "def barrier_trinom_pricer(dynamics, contract, tree):\n",
    "    \n",
    "    S0, sigma, r = dynamics.S0, dynamics.sigma, dynamics.r\n",
    "    K, T, H, interval  = contract.K, contract.T, contract.H, contract.observationinterval\n",
    "    N = tree.N\n",
    "\n",
    "    deltat =  T/N#Fill this in with a scalar.\n",
    "    if H!=0:\n",
    "        j_star = round((np.log(H)-np.log(S0))/(sigma*np.sqrt(3*deltat))-0.5)  #Fill this in with a scalar.\n",
    "        deltax = (np.log(H)-np.log(S0))/(j_star+0.5)\n",
    "    else:\n",
    "        deltax = sigma * np.sqrt(3*deltat) ## use this to verify without barrier, or else log(H) will make nonsense\n",
    "        \n",
    "    S=S0*np.exp(np.linspace(N, -N, num=2*N+1, endpoint=True)*deltax)  \n",
    "    #Here I decided to make the SMALLER indexes in this array correspond to HIGHER S\n",
    "    if abs(interval/deltat-round(interval/deltat)) > 1e-12:\n",
    "        raise ValueError(\"This value of N fails to place the observation dates in the tree.\")\n",
    "\n",
    "    nu = r-sigma**2/2       # complete this \n",
    "    Pu = 0.5*((sigma**2*deltat+(nu*deltat)**2)/(deltax**2)+(nu*deltat/deltax))       # complete this\n",
    "    Pd = 0.5*((sigma**2*deltat+(nu*deltat)**2)/(deltax**2)-(nu*deltat/deltax))       # complete this\n",
    "    Pm = 1-(sigma**2*deltat+(nu*deltat)**2)/(deltax**2)       # complete this\n",
    "        \n",
    "    optionprice = np.maximum(K-S,0)   #an array of time-T option prices.\n",
    "    #Next, induct backwards to time 0, updating the optionprice array \n",
    "    #Hint: if x is an array, then what are x[2:] and x[1:-1] and x[:-2]\n",
    "    observations = [interval*(1+i) for i in range(int(T/interval))]\n",
    "    for t in np.linspace(N-1, 0, num=N, endpoint=True)*deltat:\n",
    "        # insert lines of code here if needed\n",
    "        up_state = (optionprice*Pu)[:-2]\n",
    "        mid_state = (optionprice*Pm)[1:-1]\n",
    "        down_state = (optionprice*Pd)[2:]\n",
    "        S = S[1:-1]\n",
    "        optionprice = np.exp(-r*deltat)*(up_state+mid_state+down_state)   #complete this\n",
    "\n",
    "        for check in observations:\n",
    "            if abs(check-t)<1e-10:\n",
    "                if H>0:\n",
    "                    optionprice = np.where(S<H,optionprice,0)  ## override for barrier case. checked at evert 0.02 interval\n",
    "                    print(optionprice)\n",
    "    return optionprice[0]   \n",
    "    #The [0] is assuming that we are shrinking the optionprice array in each iteration of the loop,\n",
    "    #until finally there is only 1 element in the array.\n",
    "    #If instead you are keeping unchanged the size of the optionprice array in each iteration, \n",
    "    #then you need to change the [0] to a different index.\n",
    "\n"
   ]
  },
  {
   "cell_type": "code",
   "execution_count": 78,
   "metadata": {},
   "outputs": [
    {
     "data": {
      "text/plain": [
       "5.519478970919443"
      ]
     },
     "execution_count": 78,
     "metadata": {},
     "output_type": "execute_result"
    }
   ],
   "source": [
    "knock_out_P0 = barrier_trinom_pricer(hw1dynamics, hw1contract, hw1tree)\n",
    "knock_out_P0"
   ]
  },
  {
   "cell_type": "markdown",
   "metadata": {},
   "source": [
    "# Problem 1 - Verify"
   ]
  },
  {
   "cell_type": "code",
   "execution_count": 65,
   "metadata": {},
   "outputs": [],
   "source": [
    "def BScallPrice(sigma,S,rGrow,r,K,T):\n",
    "    F=S*np.exp(rGrow*T)\n",
    "    sd = sigma*np.sqrt(T)\n",
    "    d1 = np.log(F/K)/sd+sd/2\n",
    "    d2 = d1-sd\n",
    "    return np.exp(-r*T)*(F*norm.cdf(d1)-K*norm.cdf(d2))"
   ]
  },
  {
   "cell_type": "code",
   "execution_count": 66,
   "metadata": {},
   "outputs": [],
   "source": [
    "def BSputPrice(sigma,S,rGrow,r,K,T):\n",
    "    call = BScallPrice(sigma,S,rGrow,r,K,T)\n",
    "    F = S - K*np.exp(-rGrow*T)\n",
    "    return call - F"
   ]
  },
  {
   "cell_type": "code",
   "execution_count": 67,
   "metadata": {},
   "outputs": [
    {
     "name": "stdout",
     "output_type": "stream",
     "text": [
      "BS-put has the price as 5.519541\n"
     ]
    }
   ],
   "source": [
    "BSput = BSputPrice(0.4,100,0,0,95,0.25)\n",
    "print(\"BS-put has the price as {:4f}\".format(BSput))"
   ]
  },
  {
   "cell_type": "code",
   "execution_count": 68,
   "metadata": {},
   "outputs": [
    {
     "name": "stdout",
     "output_type": "stream",
     "text": [
      "Trenomial Tree-put has the price at time-0 as 5.519479\n"
     ]
    }
   ],
   "source": [
    "hw1contract.H = 0  ## assuem no barrier\n",
    "Treeput = barrier_trinom_pricer(hw1dynamics, hw1contract, hw1tree)\n",
    "print(\"Trenomial Tree-put has the price at time-0 as {:4f}\".format(Treeput))"
   ]
  },
  {
   "cell_type": "markdown",
   "metadata": {},
   "source": [
    "# Problem 1 - b"
   ]
  },
  {
   "cell_type": "markdown",
   "metadata": {},
   "source": [
    "since {1 knock-out-put, 1 knock_in_put} can perfectly replicate a vanilla put with the same parameters, we can caluclate the knoco-in-put by no-arbitrage rule at T0."
   ]
  },
  {
   "cell_type": "code",
   "execution_count": 79,
   "metadata": {},
   "outputs": [
    {
     "data": {
      "text/plain": [
       "6.209275753210619e-05"
      ]
     },
     "execution_count": 79,
     "metadata": {},
     "output_type": "execute_result"
    }
   ],
   "source": [
    "knock_in_P0=BSput-knock_out_P0\n",
    "knock_in_P0"
   ]
  },
  {
   "cell_type": "markdown",
   "metadata": {},
   "source": [
    "# Problem 1 - c1"
   ]
  },
  {
   "cell_type": "markdown",
   "metadata": {},
   "source": [
    "If monitored continuously, more points in up scenarios could become zero, which decrease the price"
   ]
  },
  {
   "cell_type": "markdown",
   "metadata": {},
   "source": [
    "# Problem 2 - a"
   ]
  },
  {
   "cell_type": "code",
   "execution_count": 84,
   "metadata": {},
   "outputs": [],
   "source": [
    "def IVofCall(C,S,rGrow,r,K,T):\n",
    "    F=S*np.exp(rGrow*T)\n",
    "    lowerbound = np.max([0,(F-K)*np.exp(-r*T)])\n",
    "    if C<lowerbound:\n",
    "        return np.nan\n",
    "    if C==lowerbound:\n",
    "        return 0\n",
    "    if C>=F*np.exp(-r*T):\n",
    "        return np.nan \n",
    "    hi=0.2\n",
    "    while BScallPrice(hi,S,rGrow,r,K,T)>C:\n",
    "        hi=hi/2\n",
    "    while BScallPrice(hi,S,rGrow,r,K,T)<C:\n",
    "        hi=hi*2\n",
    "    lo=hi/2\n",
    "    # We have calculated \"lo\" and \"hi\" which bound the implied volatility from below and above. \n",
    "    # In other words, the implied volatility is somewhere in the interval [lo,hi].\n",
    "    # Then, to calculate the implied volatility within that interval, \n",
    "    # for purposes of this homework, you may either (A) write your own bisection algorithm, \n",
    "    # or (B) use scipy.optimize.bisect or (C) use scipy.optimize.brentq\n",
    "    # You will need to provide lo and hi to those solvers.\n",
    "    # There are other solvers that do not require you to bound the solution \n",
    "    # from below and above (for instance, scipy.optimize.fsolve is a useful solver).  \n",
    "    # However, if you are able to bound the solution (of a single-variable problem), \n",
    "    # then bisection or Brent will be more reliable.\n",
    "    \n",
    "    def f(x):\n",
    "        return BScallPrice(x,S,rGrow,r,K,T)-C\n",
    "    \n",
    "    impliedVolatility = brentq(f,a=0.01,b=0.99)     # you fill this in, using bisect or brentq imported from scipy.optimize,\n",
    "                             # or by writing your own bisection algorithm.\n",
    "    return impliedVolatility"
   ]
  },
  {
   "cell_type": "code",
   "execution_count": 88,
   "metadata": {},
   "outputs": [
    {
     "data": {
      "text/plain": [
       "0.40013278092106896"
      ]
     },
     "execution_count": 88,
     "metadata": {},
     "output_type": "execute_result"
    }
   ],
   "source": [
    "vol1 = IVofCall(11.25,100,0,0,100,0.5)\n",
    "vol1"
   ]
  },
  {
   "cell_type": "code",
   "execution_count": 90,
   "metadata": {},
   "outputs": [
    {
     "data": {
      "text/plain": [
       "0.30193843099358947"
      ]
     },
     "execution_count": 90,
     "metadata": {},
     "output_type": "execute_result"
    }
   ],
   "source": [
    "vol2=IVofCall(12,100,0,0,100,1)\n",
    "vol2"
   ]
  },
  {
   "cell_type": "markdown",
   "metadata": {},
   "source": [
    "# Problem 2 - b"
   ]
  },
  {
   "cell_type": "code",
   "execution_count": 91,
   "metadata": {},
   "outputs": [
    {
     "data": {
      "text/plain": [
       "12.0815332862499"
      ]
     },
     "execution_count": 91,
     "metadata": {},
     "output_type": "execute_result"
    }
   ],
   "source": [
    "vol3 = 0.5*(vol1+vol2)\n",
    "call3 = BScallPrice(vol3,100,0,0,100,0.75)\n",
    "call3"
   ]
  },
  {
   "cell_type": "markdown",
   "metadata": {},
   "source": [
    "# Problem 2 - b"
   ]
  },
  {
   "cell_type": "code",
   "execution_count": null,
   "metadata": {},
   "outputs": [],
   "source": [
    "call3 should have a lower price due to the convexity in volatility -- its price should be somewhere between 11.25 and 12.\n",
    "Thus we can (-C0.7)"
   ]
  }
 ],
 "metadata": {
  "anaconda-cloud": {},
  "kernelspec": {
   "display_name": "Python 3 (ipykernel)",
   "language": "python",
   "name": "python3"
  },
  "language_info": {
   "codemirror_mode": {
    "name": "ipython",
    "version": 3
   },
   "file_extension": ".py",
   "mimetype": "text/x-python",
   "name": "python",
   "nbconvert_exporter": "python",
   "pygments_lexer": "ipython3",
   "version": "3.9.7"
  }
 },
 "nbformat": 4,
 "nbformat_minor": 2
}
